{
 "cells": [
  {
   "cell_type": "markdown",
   "metadata": {},
   "source": [
    "# OOPs - Object-Oriented Programming System\n",
    "OOPs (Object-Oriented Programming System) in Python refers to a programming paradigm that uses objects and classes as the core concepts to organize and structure code.<br>\n",
    "It is a way of designing software by breaking down problems into smaller, manageable parts using objects.<br>\n",
    "OOPs has six main components\n",
    "- class\n",
    "- objects\n",
    "- inheritance\n",
    "- abstraction\n",
    "- polymorphism\n",
    "- Encapsulation"
   ]
  },
  {
   "cell_type": "markdown",
   "metadata": {},
   "source": [
    "# Class and Objects\n",
    "## Class\n",
    "In Python every thing is an object. To create objects we required some Model or Plan or Blue print, which is nothing but class.<br>\n",
    "We can write a class to represent properties (attributes) and actions (behaviour) of object.<br>\n",
    "Hence class contains variables and methods:\n",
    "- Properties can be represented by variables\n",
    "- Actions can be represented by Methods.\n",
    "\n",
    "We can define a class by using `class` keyword.<br>\n",
    "The name of class is generally written in PascalCase  -->  ClassName --> capitalizing the first letter of each word.\n",
    "\n",
    "Syntax:\n",
    "```python\n",
    "class ClassName:\n",
    "     ''' documentation string '''\n",
    "     variables and methods\n",
    "```\n",
    "Documentation string represents description of the class. Within the class doc string is always optional. We can get doc string by using the following 2 ways.\n",
    "``` python\n",
    "1. print(classname.__doc__)\n",
    "2. help(classname)\n",
    "```"
   ]
  },
  {
   "cell_type": "code",
   "execution_count": 3,
   "metadata": {},
   "outputs": [
    {
     "name": "stdout",
     "output_type": "stream",
     "text": [
      "This is student class with required data\n",
      "--------------------------------------------------\n",
      "Help on class Student in module __main__:\n",
      "\n",
      "class Student(builtins.object)\n",
      " |  This is student class with required data\n",
      " |  \n",
      " |  Data descriptors defined here:\n",
      " |  \n",
      " |  __dict__\n",
      " |      dictionary for instance variables\n",
      " |  \n",
      " |  __weakref__\n",
      " |      list of weak references to the object\n",
      "\n"
     ]
    }
   ],
   "source": [
    "class Student:   # defining the class\n",
    "    '''This is student class with required data'''\n",
    "    \n",
    "print(Student.__doc__)\n",
    "print(\"-\" * 50)\n",
    "help(Student) "
   ]
  },
  {
   "cell_type": "code",
   "execution_count": 8,
   "metadata": {
    "colab": {
     "base_uri": "https://localhost:8080/"
    },
    "executionInfo": {
     "elapsed": 397,
     "status": "ok",
     "timestamp": 1685441773369,
     "user": {
      "displayName": "Hrutik Nawade",
      "userId": "03506609053451396862"
     },
     "user_tz": -330
    },
    "id": "E2MZ8AVt4MFY",
    "outputId": "62beaeea-bf3f-4e00-d6f3-0f88dc314952"
   },
   "outputs": [
    {
     "name": "stdout",
     "output_type": "stream",
     "text": [
      "Hrutik 12\n"
     ]
    }
   ],
   "source": [
    "# basic class that prints name and roll number\n",
    "\n",
    "class student():\n",
    "      name = 'Hrutik'\n",
    "      no = 12\n",
    "      print(name,no)\n",
    "    \n",
    "tg=student()"
   ]
  },
  {
   "cell_type": "code",
   "execution_count": 9,
   "metadata": {},
   "outputs": [],
   "source": [
    "class Dog:\n",
    "    def __init__(self, name, breed):  \n",
    "        self.name = name      # Attribute: Every dog will have a name\n",
    "        self.breed = breed    # Attribute: Every dog will have a breed\n",
    "\n",
    "    def bark(self):    \n",
    "        return f\"{self.name} says woof!\"  # Method: Every dog can bark"
   ]
  },
  {
   "cell_type": "markdown",
   "metadata": {},
   "source": [
    "## Object\n",
    "An instance of a class.<br>\n",
    "Pysical existence of a class is nothing but object. We can create any number of objects for a class.<br>\n",
    "When a class is defined, no memory is allocated until an object of that class is created.<br>\n",
    "\n",
    "```python\n",
    "Syntax to create object:\n",
    "        referencevariable = classname()\n",
    "        \n",
    "Example:   \n",
    "        s = Student()\n",
    "```"
   ]
  },
  {
   "cell_type": "code",
   "execution_count": 12,
   "metadata": {},
   "outputs": [
    {
     "name": "stdout",
     "output_type": "stream",
     "text": [
      "Buddy says woof!\n",
      "Lucy says woof!\n"
     ]
    }
   ],
   "source": [
    "# objects dog1 and dog2 created for above class\n",
    "dog1 = Dog(\"Buddy\", \"Golden Retriever\")\n",
    "dog2 = Dog(\"Lucy\", \"Poodle\")\n",
    "\n",
    "print(dog1.bark())      # accessing class methods\n",
    "print(dog2.bark()) "
   ]
  },
  {
   "cell_type": "markdown",
   "metadata": {},
   "source": [
    "## Constructor\n",
    "- The objcet’s constructor method is named `__init__(self)`\n",
    "- The primary duty of the constructor is to set the state of the object’s attributes (instance variables-s)\n",
    "- Calling an object’s constructor (via the class name)  s a signal to the interpreter to create (instantiate) a new object of the data type of the.\n",
    "- Constructor is a special method in python.\n",
    "- The main purpose of constructor is to declare and initialize instance variables\n",
    "- Constructors may have default parameters\n",
    "- Constructor will be executed automatically at the time of object creation.\n",
    "- Per object constructor will be exeucted only one.\n",
    "- Constructor can take atleast one argument(atleast self)\n",
    "- Constructor is optional and if we are not providing any constructor then python will provide default constructor.\n"
   ]
  },
  {
   "cell_type": "code",
   "execution_count": 1,
   "metadata": {},
   "outputs": [
    {
     "name": "stdout",
     "output_type": "stream",
     "text": [
      "Constructor exeuction...\n",
      "Constructor exeuction...\n",
      "Constructor exeuction...\n",
      "Method execution...\n"
     ]
    }
   ],
   "source": [
    "# program to demonstrate that the constructor will executed only once for a object, at its creation\n",
    "# whenever we create an object constructor will automatically executed\n",
    "class Test:\n",
    "    def __init__(self):\n",
    "        print(\"Constructor exeuction...\") \n",
    "    def m1(self):\n",
    "        print(\"Method execution...\")\n",
    "\n",
    "t1 = Test()\n",
    "t2 = Test()\n",
    "t3 = Test()\n",
    "t1.m1() "
   ]
  },
  {
   "cell_type": "markdown",
   "metadata": {},
   "source": [
    "### self parameter\n",
    "When you define a class in Python and include a constructor method `__init__`, the `self` parameter is always the first parameter of the method.<br>\n",
    "This parameter allows you to refer to instance variables and methods within the class.<br>\n",
    "Although self is not a keyword in Python, it is a strong convention that you should follow."
   ]
  },
  {
   "cell_type": "code",
   "execution_count": null,
   "metadata": {},
   "outputs": [],
   "source": [
    "class Car:\n",
    "    def __init__(self, make, model, year):\n",
    "        self.make = make  # Assigns the make parameter to the instance variable\n",
    "        self.model = model  # Assigns the model parameter to the instance variable\n",
    "        self.year = year  # Assigns the year parameter to the instance variable\n",
    "\n",
    "    def display_info(self):\n",
    "        print(f\"{self.year} {self.make} {self.model}\")\n",
    "\n",
    "# Creating an instance of the Car class\n",
    "my_car = Car(\"Toyota\", \"Corolla\", 2020)\n",
    "\n",
    "# Accessing instance variables through the display_info method\n",
    "my_car.display_info()  # Output: 2020 Toyota Corolla\n"
   ]
  },
  {
   "cell_type": "code",
   "execution_count": null,
   "metadata": {
    "colab": {
     "base_uri": "https://localhost:8080/"
    },
    "executionInfo": {
     "elapsed": 446,
     "status": "ok",
     "timestamp": 1685441719028,
     "user": {
      "displayName": "Hrutik Nawade",
      "userId": "03506609053451396862"
     },
     "user_tz": -330
    },
    "id": "a8n3_VTeaRfX",
    "outputId": "97a178b4-833e-4e63-bfd1-2c5bb59afac8"
   },
   "outputs": [
    {
     "name": "stdout",
     "output_type": "stream",
     "text": [
      "The terrorist Mojo has 50 health.\n"
     ]
    }
   ],
   "source": [
    "class player():\n",
    "    def __init__(self, name, health, inventory):  # constructor method\n",
    "        self.name = name\n",
    "        self.health = health\n",
    "        self.inventory = inventory\n",
    "\n",
    "\n",
    "# Create the player object for the terrorist.\n",
    "t1 = player('Mojo', 50, {})\n",
    "print('The terrorist %s has %s health.' % (t1.name, t1.health))"
   ]
  },
  {
   "cell_type": "code",
   "execution_count": 6,
   "metadata": {
    "id": "mJOnd52pGRqH"
   },
   "outputs": [
    {
     "name": "stdout",
     "output_type": "stream",
     "text": [
      "Hrutik India\n"
     ]
    },
    {
     "data": {
      "text/plain": [
       "'I am Hrutik and I am from India'"
      ]
     },
     "execution_count": 6,
     "metadata": {},
     "output_type": "execute_result"
    }
   ],
   "source": [
    "class IntroOfStudent():\n",
    "  def __init__(self, name_of_student, country_of_student):\n",
    "    self.name = name_of_student\n",
    "    self.country = country_of_student\n",
    "    print(self.name,self.country)\n",
    "\n",
    "  def intro(self):\n",
    "    return 'I am ' + self.name + ' and I am from ' + self.country\n",
    "\n",
    "s1 = IntroOfStudent('Hrutik', 'India')\n",
    "s1.intro()  # accessing method of a class using its object"
   ]
  },
  {
   "cell_type": "code",
   "execution_count": 7,
   "metadata": {
    "colab": {
     "base_uri": "https://localhost:8080/"
    },
    "executionInfo": {
     "elapsed": 5,
     "status": "ok",
     "timestamp": 1685441555368,
     "user": {
      "displayName": "Hrutik Nawade",
      "userId": "03506609053451396862"
     },
     "user_tz": -330
    },
    "id": "vz5WZIg_GSn4",
    "outputId": "7cd8b1cd-8b9a-469b-b709-d860decb4150"
   },
   "outputs": [
    {
     "name": "stdout",
     "output_type": "stream",
     "text": [
      "<__main__.IntroOfStudent object at 0x000001AEF6E9B5D0>\n"
     ]
    }
   ],
   "source": [
    "print(s1)    # s1 is an object"
   ]
  },
  {
   "cell_type": "code",
   "execution_count": 12,
   "metadata": {
    "colab": {
     "base_uri": "https://localhost:8080/",
     "height": 36
    },
    "executionInfo": {
     "elapsed": 7,
     "status": "ok",
     "timestamp": 1685441606398,
     "user": {
      "displayName": "Hrutik Nawade",
      "userId": "03506609053451396862"
     },
     "user_tz": -330
    },
    "id": "Xz03b-8EGShi",
    "outputId": "219f0c28-d15d-43fc-e8a9-a742bce6f830"
   },
   "outputs": [
    {
     "name": "stdout",
     "output_type": "stream",
     "text": [
      "India\n",
      "Hrutik\n"
     ]
    }
   ],
   "source": [
    "print(s1.country)  # accessing class attributes\n",
    "print(s1.name)"
   ]
  },
  {
   "cell_type": "code",
   "execution_count": null,
   "metadata": {
    "colab": {
     "base_uri": "https://localhost:8080/",
     "height": 36
    },
    "executionInfo": {
     "elapsed": 8,
     "status": "ok",
     "timestamp": 1685441614061,
     "user": {
      "displayName": "Hrutik Nawade",
      "userId": "03506609053451396862"
     },
     "user_tz": -330
    },
    "id": "fELJCLANGSej",
    "outputId": "9f84140d-9e1f-4f94-9a6c-21c4dca6957c"
   },
   "outputs": [],
   "source": []
  },
  {
   "cell_type": "code",
   "execution_count": 14,
   "metadata": {
    "id": "6cFfoyKUGSZC"
   },
   "outputs": [
    {
     "data": {
      "text/plain": [
       "50"
      ]
     },
     "execution_count": 14,
     "metadata": {},
     "output_type": "execute_result"
    }
   ],
   "source": [
    "class AreaOfRectangle():\n",
    "  def __init__(self, base_value, height_value):\n",
    "    self.base = base_value\n",
    "    self.height = height_value\n",
    "\n",
    "  def area(self):\n",
    "    return self.height * self.base\n",
    "\n",
    "rect = AreaOfRectangle(5, 10)\n",
    "rect.area()"
   ]
  },
  {
   "cell_type": "code",
   "execution_count": null,
   "metadata": {
    "id": "q3SumXm5V_NW"
   },
   "outputs": [],
   "source": []
  },
  {
   "cell_type": "code",
   "execution_count": 16,
   "metadata": {
    "id": "Z8QMSwXhWHli"
   },
   "outputs": [
    {
     "name": "stdout",
     "output_type": "stream",
     "text": [
      "this is constructor\n",
      "78.5\n",
      "5\n"
     ]
    }
   ],
   "source": [
    "class AreaOfCircle():\n",
    "  def __init__(self):\n",
    "    print('this is constructor')\n",
    "\n",
    "  def area(self, radius_value):\n",
    "    self.radius = radius_value\n",
    "    return 3.14 * self.radius**2\n",
    "\n",
    "c1 = AreaOfCircle()\n",
    "print(c1.area(5))\n",
    "print(c1.radius)"
   ]
  },
  {
   "cell_type": "markdown",
   "metadata": {
    "id": "JGI0VVsQYFtw"
   },
   "source": [
    "## Variables\n",
    "Inside Python class 3 types of variables are allowed.\r\n",
    "1. Instance Variables (Object Level Variables)\r\n",
    "2. Static Variables (Class Level Variables)\r\n",
    "3. Local variables (Method Level Variabls)\r"
   ]
  },
  {
   "cell_type": "markdown",
   "metadata": {},
   "source": [
    "### Instance Variables\n",
    "If the value of a variable is varied from object to object, then such type of variables are called instance variables.<br>\n",
    "For every object a separate copy of instance variables will be created.<br>\n",
    "Where we can declare Instance variables:\n",
    "1. Inside Constructor by using self variable\n",
    "2. Inside Instance Method by using self variable\n",
    "3. Outside of the class by using object reference variable"
   ]
  },
  {
   "cell_type": "markdown",
   "metadata": {},
   "source": [
    "#### Declare instance variables"
   ]
  },
  {
   "cell_type": "markdown",
   "metadata": {},
   "source": [
    "##### 1. Inside Constructor by using self variable\n",
    "We can declare instance variables inside a constructor by using self keyword. Once we creates\r\n",
    "object, automatically these variables will be added to the object.\r"
   ]
  },
  {
   "cell_type": "code",
   "execution_count": 19,
   "metadata": {},
   "outputs": [
    {
     "name": "stdout",
     "output_type": "stream",
     "text": [
      "{'emp_id': 100, 'emp_name': 'Hrutik', 'emp_salary': 10000}\n"
     ]
    }
   ],
   "source": [
    "class Employee:\n",
    "    def __init__(self):\n",
    "        self.emp_id = 100\n",
    "        self.emp_name = 'Hrutik'\n",
    "        self.emp_salary = 10000\n",
    "    \n",
    "e=Employee() \n",
    "print(e.__dict__)"
   ]
  },
  {
   "cell_type": "markdown",
   "metadata": {},
   "source": [
    "##### 2. Inside Instance Method by using self variable:\n",
    "We can also declare instance variables inside instance method by using self variable.<br>\n",
    "If any instance variable declared inside instance method, that instance variable will be added once we\n",
    "call that method."
   ]
  },
  {
   "cell_type": "code",
   "execution_count": 21,
   "metadata": {},
   "outputs": [
    {
     "name": "stdout",
     "output_type": "stream",
     "text": [
      "{'a': 10, 'b': 20}\n",
      "{'a': 10, 'b': 20, 'c': 30}\n"
     ]
    }
   ],
   "source": [
    "class Test:\n",
    "    def __init__(self):\n",
    "        self.a=10\n",
    "        self.b=20\n",
    "        \n",
    "    def m1(self):\n",
    "        self.c=30    # adds instance variable when we call that method\n",
    "        \n",
    "t = Test()\n",
    "print(t.__dict__) \n",
    "t.m1()               # method called\n",
    "print(t.__dict__)    # instance variable declared"
   ]
  },
  {
   "cell_type": "markdown",
   "metadata": {},
   "source": [
    "##### 3. Outside of the class by using object reference variable:\n",
    "We can also add instance variables outside of a class to a particular object.\n"
   ]
  },
  {
   "cell_type": "code",
   "execution_count": 23,
   "metadata": {},
   "outputs": [
    {
     "name": "stdout",
     "output_type": "stream",
     "text": [
      "{'a': 10, 'b': 20}\n",
      "{'a': 10, 'b': 20, 'c': 30}\n",
      "{'a': 10, 'b': 20, 'c': 30, 'd': 40}\n"
     ]
    }
   ],
   "source": [
    "class Test:\n",
    "    def __init__(self):\n",
    "        self.a=10    # inside constructor object\n",
    "        self.b=20   \n",
    "        \n",
    "    def m1(self):\n",
    "        self.c=30    # inside instance method\n",
    "        \n",
    "t = Test()\n",
    "print(t.__dict__)  \n",
    "t.m1()     \n",
    "print(t.__dict__)  \n",
    "t.d = 40               # outside of the class by using object reference variable\n",
    "print(t.__dict__)  "
   ]
  },
  {
   "cell_type": "markdown",
   "metadata": {},
   "source": [
    "#### Access Instance variables:\n",
    "We can access instance variables with in the class by using self variable and outside of the class by using object reference."
   ]
  },
  {
   "cell_type": "code",
   "execution_count": 25,
   "metadata": {},
   "outputs": [
    {
     "name": "stdout",
     "output_type": "stream",
     "text": [
      "10\n",
      "20\n",
      "10 20\n"
     ]
    }
   ],
   "source": [
    "class Test:\n",
    "    def __init__(self):\n",
    "        self.a=10\n",
    "        self.b=20\n",
    "        \n",
    "    def display(self):    # inside class using self variable\n",
    "        print(self.a)\n",
    "        print(self.b)\n",
    "        \n",
    "t = Test()\n",
    "t.display()\n",
    "print(t.a,t.b)     # outside the class by using object reference"
   ]
  },
  {
   "cell_type": "markdown",
   "metadata": {},
   "source": [
    "#### Delete instance variable from the object:\n",
    "1. Within a class we can delete instance variable as follows\n",
    "```python\n",
    "     del self.variableName\n",
    "```\n",
    "2. From outside of class we can delete instance variables as follows\n",
    "```python\n",
    "     del objectreference.variableName\n",
    "```"
   ]
  },
  {
   "cell_type": "code",
   "execution_count": 27,
   "metadata": {},
   "outputs": [
    {
     "name": "stdout",
     "output_type": "stream",
     "text": [
      "{'a': 10, 'b': 20, 'c': 30, 'd': 40}\n",
      "{'a': 10, 'b': 20, 'c': 30}\n",
      "{'a': 10, 'b': 20}\n"
     ]
    }
   ],
   "source": [
    "class Test:\n",
    "    def __init__(self):\n",
    "        self.a=10\n",
    "        self.b=20\n",
    "        self.c=30\n",
    "        self.d=40\n",
    "        \n",
    "    def m1(self):    \n",
    "        del self.d     # deletes inside the class\n",
    "        \n",
    "t = Test()\n",
    "print(t.__dict__) \n",
    "t.m1()\n",
    "print(t.__dict__)\n",
    "del t.c                # deletes outside the class\n",
    "print(t.__dict__)"
   ]
  },
  {
   "cell_type": "markdown",
   "metadata": {},
   "source": [
    "#### Modifying instance variables\n",
    "The instance variables which are deleted from one object,will not be deleted from other objects.<br>\n",
    "it is different for each object"
   ]
  },
  {
   "cell_type": "code",
   "execution_count": 28,
   "metadata": {
    "scrolled": true
   },
   "outputs": [
    {
     "name": "stdout",
     "output_type": "stream",
     "text": [
      "{'b': 20, 'c': 30, 'd': 40}\n",
      "{'a': 10, 'b': 20, 'c': 30, 'd': 40}\n"
     ]
    }
   ],
   "source": [
    "class Test:\n",
    "    def __init__(self):\n",
    "        self.a=10\n",
    "        self.b=20\n",
    "        self.c=30\n",
    "        self.d=40\n",
    "\n",
    "t1 = Test()\n",
    "t2 = Test()\n",
    "del t1.a       # deletes variable for t1 object\n",
    "print(t1.__dict__)\n",
    "print(t2.__dict__) "
   ]
  },
  {
   "cell_type": "markdown",
   "metadata": {},
   "source": [
    "If we change the values of instance variables of one object then those changes won't be reflected to the remaining objects, because for every object we are separate copy of instance variables are available."
   ]
  },
  {
   "cell_type": "code",
   "execution_count": 31,
   "metadata": {},
   "outputs": [
    {
     "name": "stdout",
     "output_type": "stream",
     "text": [
      "t1: 888 999\n",
      "t2: 10 20\n"
     ]
    }
   ],
   "source": [
    "class Test:\n",
    "    def __init__(self):\n",
    "        self.a=10\n",
    "        self.b=20\n",
    "\n",
    "t1 = Test()\n",
    "t1.a = 888        # changing values of instance varibles for one object \n",
    "t1.b = 999        \n",
    "t2 = Test()\n",
    "\n",
    "print('t1:',t1.a,t1.b) \n",
    "print('t2:',t2.a,t2.b)   # won't be reflected to the remaining objects"
   ]
  },
  {
   "cell_type": "markdown",
   "metadata": {},
   "source": [
    "### Static variables / Class variable\n",
    "If the value of a variable is not varied from object to object, such type of variables we have to declare with in the class directly but outside of methods. Such type of variables are called Static variables.<br>\n",
    "For total class only one copy of static variable will be created and shared by all objects of that class.<br>\n",
    "We can access static variables either by class name or by object reference.<br>\n",
    "But recommended to use class name.\n",
    "\n",
    "#### Instance Variable vs Static Variable:\n",
    "In the case of instance variables for every object a seperate copy will be created,but in the case of static variables for total class only one copy will be created and shared by every object of that class."
   ]
  },
  {
   "cell_type": "code",
   "execution_count": 34,
   "metadata": {},
   "outputs": [
    {
     "name": "stdout",
     "output_type": "stream",
     "text": [
      "t1: 10 20\n",
      "t2: 10 20\n",
      "t1: 888 999\n",
      "t2: 888 20\n"
     ]
    }
   ],
   "source": [
    "class Test:\n",
    "    \n",
    "    x = 10    # static variable\n",
    "    \n",
    "    def __init__(self):\n",
    "        self.y = 20\n",
    "        \n",
    "t1 = Test()\n",
    "t2 = Test()\n",
    "print('t1:',t1.x,t1.y)\n",
    "print('t2:',t2.x,t2.y)\n",
    " \n",
    "Test.x = 888     # changing value for one object will be reflected in other\n",
    "t1.y = 999       # changing value for one object won't be reflected in other\n",
    "print('t1:',t1.x,t1.y)\n",
    "print('t2:',t2.x,t2.y) "
   ]
  },
  {
   "cell_type": "markdown",
   "metadata": {},
   "source": [
    "#### Declare static variables:\n",
    "Various places to declare static variables\n",
    "##### 1. In general we can declare within the class directly but from out side of any method"
   ]
  },
  {
   "cell_type": "code",
   "execution_count": 3,
   "metadata": {},
   "outputs": [
    {
     "name": "stdout",
     "output_type": "stream",
     "text": [
      "{'__module__': '__main__', 'a': 10, '__init__': <function Test.__init__ at 0x0000019DC4BC99E0>, '__dict__': <attribute '__dict__' of 'Test' objects>, '__weakref__': <attribute '__weakref__' of 'Test' objects>, '__doc__': None}\n",
      "declare static variable inside the class without using any method\n",
      "10\n"
     ]
    }
   ],
   "source": [
    "class Test:\n",
    "\n",
    "    a=10     # declare static variable inside the class outside of any method\n",
    "    \n",
    "    def __init__(self):\n",
    "        print('declare static variable inside the class without using any method')\n",
    "        \n",
    "print(Test.__dict__)   # defines dictionary of class object with all variables and methods\n",
    "t=Test()\n",
    "print(t.a)"
   ]
  },
  {
   "cell_type": "markdown",
   "metadata": {},
   "source": [
    "##### 2. Inside constructor by using class name"
   ]
  },
  {
   "cell_type": "code",
   "execution_count": 5,
   "metadata": {},
   "outputs": [
    {
     "name": "stdout",
     "output_type": "stream",
     "text": [
      "declare static variable inside constructor method\n",
      "20\n",
      "{'__module__': '__main__', '__init__': <function Test.__init__ at 0x0000019DC4BC9440>, '__dict__': <attribute '__dict__' of 'Test' objects>, '__weakref__': <attribute '__weakref__' of 'Test' objects>, '__doc__': None, 'b': 20}\n"
     ]
    }
   ],
   "source": [
    "class Test:\n",
    "    \n",
    "    def __init__(self):\n",
    "        print('declare static variable inside constructor method')       \n",
    "        Test.b = 20     # inside constructor using class name\n",
    "  \n",
    "\n",
    "t=Test()\n",
    "print(t.b)\n",
    "print(Test.__dict__)"
   ]
  },
  {
   "cell_type": "markdown",
   "metadata": {},
   "source": [
    "##### 3. Inside instance method by using class name"
   ]
  },
  {
   "cell_type": "code",
   "execution_count": 20,
   "metadata": {},
   "outputs": [
    {
     "name": "stdout",
     "output_type": "stream",
     "text": [
      "declare static variable inside instance method\n",
      "30\n",
      "{'__module__': '__main__', '__init__': <function Test.__init__ at 0x0000019DC58EC220>, 'm1': <function Test.m1 at 0x0000019DC58ED620>, '__dict__': <attribute '__dict__' of 'Test' objects>, '__weakref__': <attribute '__weakref__' of 'Test' objects>, '__doc__': None, 'c': 30}\n"
     ]
    }
   ],
   "source": [
    "# the attribute is written in m1 method \n",
    "# so run m1 method to define it\n",
    "    \n",
    "class Test:\n",
    "    \n",
    "    def __init__(self):\n",
    "        print('declare static variable inside instance method')       \n",
    "        \n",
    "    def m1(self):\n",
    "        Test.c = 30     # inside instance method using class name\n",
    "  \n",
    "\n",
    "t=Test()\n",
    "t.m1()\n",
    "print(t.c)\n",
    "print(Test.__dict__)"
   ]
  },
  {
   "cell_type": "markdown",
   "metadata": {},
   "source": [
    "##### 4. Inside classmethod by using either class name or cls variable"
   ]
  },
  {
   "cell_type": "code",
   "execution_count": 21,
   "metadata": {},
   "outputs": [
    {
     "name": "stdout",
     "output_type": "stream",
     "text": [
      "declare static variable inside classmethod\n",
      "40\n",
      "400\n",
      "{'__module__': '__main__', '__init__': <function Test.__init__ at 0x0000019DC58EDBC0>, 'm2': <classmethod(<function Test.m2 at 0x0000019DC58EC0E0>)>, '__dict__': <attribute '__dict__' of 'Test' objects>, '__weakref__': <attribute '__weakref__' of 'Test' objects>, '__doc__': None, 'd1': 40, 'd2': 400}\n"
     ]
    }
   ],
   "source": [
    "class Test:\n",
    "    \n",
    "    def __init__(self):\n",
    "        print('declare static variable inside classmethod')       \n",
    "\n",
    "    @classmethod   # classmethod is a method that automatically runs for a class\n",
    "    def m2(cls):\n",
    "        cls.d1 = 40  # Inside classmethod by using either class name or cls variable\n",
    "        Test.d2 = 45   # inside instance method using class name\n",
    "        \n",
    "t=Test()\n",
    "Test.m2()\n",
    "print(t.d1)\n",
    "print(t.d2)\n",
    "print(Test.__dict__)"
   ]
  },
  {
   "cell_type": "markdown",
   "metadata": {},
   "source": [
    "##### 5. Inside static method by using class name"
   ]
  },
  {
   "cell_type": "code",
   "execution_count": 27,
   "metadata": {},
   "outputs": [
    {
     "name": "stdout",
     "output_type": "stream",
     "text": [
      "declare static variable inside classmethod\n",
      "50\n",
      "{'__module__': '__main__', '__init__': <function Test.__init__ at 0x0000019DC58EC720>, 'm3': <staticmethod(<function Test.m3 at 0x0000019DC58EE520>)>, '__dict__': <attribute '__dict__' of 'Test' objects>, '__weakref__': <attribute '__weakref__' of 'Test' objects>, '__doc__': None, 'e': 50}\n"
     ]
    }
   ],
   "source": [
    "class Test:\n",
    "    \n",
    "    def __init__(self):\n",
    "        print('declare static variable inside classmethod')       \n",
    "        \n",
    "    @staticmethod\n",
    "    def m3():\n",
    "        Test.e=50   # defines inside static method\n",
    "        \n",
    "t=Test()\n",
    "Test.m3()\n",
    "print(Test.e)\n",
    "print(Test.__dict__) "
   ]
  },
  {
   "cell_type": "markdown",
   "metadata": {},
   "source": [
    "##### 6. From outside the class using class object"
   ]
  },
  {
   "cell_type": "code",
   "execution_count": 30,
   "metadata": {},
   "outputs": [
    {
     "name": "stdout",
     "output_type": "stream",
     "text": [
      "declare static variable inside classmethod\n",
      "60\n",
      "{'__module__': '__main__', '__init__': <function Test.__init__ at 0x0000019DC58EF6A0>, '__dict__': <attribute '__dict__' of 'Test' objects>, '__weakref__': <attribute '__weakref__' of 'Test' objects>, '__doc__': None, 'f': 60}\n"
     ]
    }
   ],
   "source": [
    "class Test:\n",
    "    \n",
    "    def __init__(self):\n",
    "        print('declare static variable inside classmethod')       \n",
    "        \n",
    "t=Test()\n",
    "Test.f=60\n",
    "print(t.f)   # From outside the class using class object\n",
    "print(Test.__dict__) "
   ]
  },
  {
   "cell_type": "markdown",
   "metadata": {},
   "source": [
    "##### Combined all steps above"
   ]
  },
  {
   "cell_type": "code",
   "execution_count": 31,
   "metadata": {},
   "outputs": [
    {
     "name": "stdout",
     "output_type": "stream",
     "text": [
      "{'__module__': '__main__', 'a': 10, '__init__': <function Test.__init__ at 0x0000019DC5B09D00>, 'm1': <function Test.m1 at 0x0000019DC5B09760>, 'm2': <classmethod(<function Test.m2 at 0x0000019DC5B09620>)>, 'm3': <staticmethod(<function Test.m3 at 0x0000019DC5B09580>)>, '__dict__': <attribute '__dict__' of 'Test' objects>, '__weakref__': <attribute '__weakref__' of 'Test' objects>, '__doc__': None, 'b': 20, 'c': 30, 'd1': 40, 'd2': 45, 'e': 50, 'f': 60}\n"
     ]
    }
   ],
   "source": [
    "class Test:\n",
    "\n",
    "    a=10     # declare static variable inside the class outside of any method\n",
    "    \n",
    "    def __init__(self):\n",
    "        Test.b=20     # inside constructor using class name\n",
    "        \n",
    "    def m1(self):\n",
    "        Test.c=30     # inside instance method using class name\n",
    "        \n",
    "    @classmethod\n",
    "    def m2(cls):\n",
    "        cls.d1 = 40   # Inside classmethod by using either class name or cls variable\n",
    "        Test.d2 = 45  # inside instance method using class name\n",
    "        \n",
    "    @staticmethod\n",
    "    def m3():\n",
    "        Test.e=50     # defines inside static method\n",
    "        \n",
    "\n",
    "t=Test()\n",
    "t.m1()\n",
    "Test.m2()\n",
    "Test.m3()\n",
    "\n",
    "Test.f=60             # From outside the class using class object\n",
    "\n",
    "print(Test.__dict__) "
   ]
  },
  {
   "cell_type": "markdown",
   "metadata": {},
   "source": [
    "#### How to access static variables:\n",
    "1. `inside constructor` by using either self or classname\n",
    "2. `inside instance method` by using either self or classname\n",
    "3. `inside class method` by using either cls variable or classname\n",
    "4. `inside static method` by using classname\n",
    "5. `From outside of class` by using either object reference or classnmae"
   ]
  },
  {
   "cell_type": "code",
   "execution_count": 40,
   "metadata": {},
   "outputs": [
    {
     "name": "stdout",
     "output_type": "stream",
     "text": [
      "10\n",
      "10\n",
      "10\n",
      "10\n",
      "10\n",
      "10\n",
      "10\n",
      "10\n",
      "10\n"
     ]
    }
   ],
   "source": [
    "class Test:\n",
    "    \n",
    "    a=10\n",
    "    \n",
    "    def __init__(self):\n",
    "        print(self.a)\n",
    "        print(Test.a)\n",
    "        \n",
    "    def m1(self):\n",
    "        print(self.a) \n",
    "        print(Test.a)\n",
    "        \n",
    "    @classmethod\n",
    "    def m2(cls):\n",
    "        print(cls.a)\n",
    "        # print(self.a)    # we cannot use self inside classmethod\n",
    "        print(Test.a)\n",
    "        \n",
    "    @staticmethod\n",
    "    def m3():\n",
    "        # print(cls.a)    # we cannot use cls inside staticmethod\n",
    "        # print(self.a)   # we cannot use self inside staticmethod\n",
    "        print(Test.a)\n",
    "        \n",
    "t=Test()\n",
    "print(Test.a)\n",
    "print(t.a)\n",
    "t.m1()\n",
    "t.m2()\n",
    "t.m3() "
   ]
  },
  {
   "cell_type": "markdown",
   "metadata": {},
   "source": [
    "#### Modifying static variable:\n",
    "Anywhere either with in the class or outside of class we can modify by using classname."
   ]
  },
  {
   "cell_type": "code",
   "execution_count": 49,
   "metadata": {},
   "outputs": [
    {
     "name": "stdout",
     "output_type": "stream",
     "text": [
      "777\n",
      "555\n",
      "888\n",
      "111\n",
      "999\n"
     ]
    }
   ],
   "source": [
    "class Test:\n",
    "    \n",
    "    a = 777\n",
    "    \n",
    "    @classmethod\n",
    "    def m1(cls):\n",
    "        Test.a = 888    # inside class method using class name\n",
    "        print(Test.a)\n",
    "        cls.a = 111     # using cls variable\n",
    "\n",
    "    @staticmethod\n",
    "    def m2():\n",
    "        Test.a = 999\n",
    "        \n",
    "print(Test.a)\n",
    "Test.a = 555    # outside of a class\n",
    "print(Test.a) \n",
    "Test.m1()\n",
    "print(Test.a)\n",
    "Test.m2()\n",
    "print(Test.a) "
   ]
  },
  {
   "cell_type": "markdown",
   "metadata": {},
   "source": [
    "If we change the value of static variable by using either self or object reference variable, then the value of static variable won't be changed, it just creates a new instance variable with that name will be added to that particular object."
   ]
  },
  {
   "cell_type": "code",
   "execution_count": 4,
   "metadata": {},
   "outputs": [
    {
     "name": "stdout",
     "output_type": "stream",
     "text": [
      "10\n",
      "888\n"
     ]
    }
   ],
   "source": [
    "class Test:\n",
    "\n",
    "    a=10    # static variable\n",
    "    \n",
    "    def m1(self):\n",
    "        self.a=888   # modifying static variable creates new instance\n",
    "        \n",
    "t1=Test()\n",
    "t1.m1()\n",
    "print(Test.a)\n",
    "print(t1.a) "
   ]
  },
  {
   "cell_type": "code",
   "execution_count": 4,
   "metadata": {},
   "outputs": [
    {
     "name": "stdout",
     "output_type": "stream",
     "text": [
      "t1: 10 20\n",
      "t2: 10 20\n",
      "t1: 888 999\n",
      "t2: 10 20\n"
     ]
    },
    {
     "ename": "AttributeError",
     "evalue": "type object 'Test' has no attribute 'y'",
     "output_type": "error",
     "traceback": [
      "\u001b[1;31m---------------------------------------------------------------------------\u001b[0m",
      "\u001b[1;31mAttributeError\u001b[0m                            Traceback (most recent call last)",
      "Cell \u001b[1;32mIn[4], line 17\u001b[0m\n\u001b[0;32m     15\u001b[0m \u001b[38;5;28mprint\u001b[39m(\u001b[38;5;124m'\u001b[39m\u001b[38;5;124mt1:\u001b[39m\u001b[38;5;124m'\u001b[39m,t1\u001b[38;5;241m.\u001b[39mx,t1\u001b[38;5;241m.\u001b[39my)\n\u001b[0;32m     16\u001b[0m \u001b[38;5;28mprint\u001b[39m(\u001b[38;5;124m'\u001b[39m\u001b[38;5;124mt2:\u001b[39m\u001b[38;5;124m'\u001b[39m,t2\u001b[38;5;241m.\u001b[39mx,t2\u001b[38;5;241m.\u001b[39my) \n\u001b[1;32m---> 17\u001b[0m \u001b[38;5;28mprint\u001b[39m(Test\u001b[38;5;241m.\u001b[39mx, Test\u001b[38;5;241m.\u001b[39my)\n",
      "\u001b[1;31mAttributeError\u001b[0m: type object 'Test' has no attribute 'y'"
     ]
    }
   ],
   "source": [
    "class Test:\n",
    "\n",
    "    x=10\n",
    "    \n",
    "    def __init__(self):\n",
    "        self.y=20\n",
    "        \n",
    "t1=Test()\n",
    "t2=Test()\n",
    "print('t1:',t1.x,t1.y)\n",
    "print('t2:',t2.x,t2.y)\n",
    "\n",
    "t1.x=888     # changing value for that object\n",
    "t1.y=999\n",
    "print('t1:',t1.x,t1.y)\n",
    "print('t2:',t2.x,t2.y) \n",
    "print(Test.x, Test.y)"
   ]
  },
  {
   "cell_type": "markdown",
   "metadata": {},
   "source": [
    "#### Delete static variables \n",
    "We can delete static variables from anywhere by using the following syntax\n",
    "```python\n",
    "    del classname.variablename\n",
    "```\n",
    "But inside classmethod we can also use `cls` variable\n",
    "```python\n",
    "    del cls.variablename\n",
    "```"
   ]
  },
  {
   "cell_type": "code",
   "execution_count": 7,
   "metadata": {},
   "outputs": [
    {
     "name": "stdout",
     "output_type": "stream",
     "text": [
      "{'__module__': '__main__', 'm1': <classmethod(<function Test.m1 at 0x00000227231CFCE0>)>, '__dict__': <attribute '__dict__' of 'Test' objects>, '__weakref__': <attribute '__weakref__' of 'Test' objects>, '__doc__': None}\n"
     ]
    }
   ],
   "source": [
    "class Test:\n",
    "    \n",
    "    a=10\n",
    "    \n",
    "    @classmethod\n",
    "    def m1(cls):\n",
    "        del cls.a   # deleting using cls variable\n",
    "        \n",
    "# Test.m1()   # this method called to delete using cls variable\n",
    "\n",
    "del Test.a    # deletes static variable\n",
    "\n",
    "print(Test.__dict__) "
   ]
  },
  {
   "cell_type": "markdown",
   "metadata": {},
   "source": [
    "By using object reference variable/self we can read static variables, but we cannot modify or delete.<br>\n",
    "If we are trying to modify, then a new instance variable will be added to that particular object.<br>\n",
    "If we are trying to delete it then we will get error."
   ]
  },
  {
   "cell_type": "code",
   "execution_count": 8,
   "metadata": {},
   "outputs": [
    {
     "ename": "AttributeError",
     "evalue": "'Test' object has no attribute 'a'",
     "output_type": "error",
     "traceback": [
      "\u001b[1;31m---------------------------------------------------------------------------\u001b[0m",
      "\u001b[1;31mAttributeError\u001b[0m                            Traceback (most recent call last)",
      "Cell \u001b[1;32mIn[8], line 5\u001b[0m\n\u001b[0;32m      2\u001b[0m     a\u001b[38;5;241m=\u001b[39m\u001b[38;5;241m10\u001b[39m\n\u001b[0;32m      4\u001b[0m t1 \u001b[38;5;241m=\u001b[39m Test()\n\u001b[1;32m----> 5\u001b[0m \u001b[38;5;28;01mdel\u001b[39;00m t1\u001b[38;5;241m.\u001b[39ma\n",
      "\u001b[1;31mAttributeError\u001b[0m: 'Test' object has no attribute 'a'"
     ]
    }
   ],
   "source": [
    "class Test:\n",
    "    a=10\n",
    "    \n",
    "t1 = Test()\n",
    "del t1.a "
   ]
  },
  {
   "cell_type": "markdown",
   "metadata": {},
   "source": [
    "### Local variables\n",
    "Sometimes to meet temporary requirements of programmer,we can declare variables inside a method directly,such type of variables are called local variable or temporary variables.<br>\n",
    "Local variables will be created at the time of method execution and destroyed once method completes.<br>\n",
    "Local variables of a method cannot be accessed from outside of method and if we try to access it will give error"
   ]
  },
  {
   "cell_type": "code",
   "execution_count": 10,
   "metadata": {},
   "outputs": [
    {
     "name": "stdout",
     "output_type": "stream",
     "text": [
      "1000\n",
      "2000\n"
     ]
    }
   ],
   "source": [
    "class Test:\n",
    "\n",
    "    def m1(self):\n",
    "        a=1000    # defining local variable inside methods\n",
    "        print(a)  # accessing lacal variable in same method\n",
    "    \n",
    "    def m2(self):\n",
    "        b=2000    # defining local variable inside methods\n",
    "        print(b)  # accessing lacal variable in same method\n",
    "        \n",
    "t=Test()\n",
    "t.m1()\n",
    "t.m2()"
   ]
  },
  {
   "cell_type": "code",
   "execution_count": 12,
   "metadata": {},
   "outputs": [
    {
     "name": "stdout",
     "output_type": "stream",
     "text": [
      "1000\n"
     ]
    },
    {
     "ename": "NameError",
     "evalue": "name 'a' is not defined",
     "output_type": "error",
     "traceback": [
      "\u001b[1;31m---------------------------------------------------------------------------\u001b[0m",
      "\u001b[1;31mNameError\u001b[0m                                 Traceback (most recent call last)",
      "Cell \u001b[1;32mIn[12], line 14\u001b[0m\n\u001b[0;32m     12\u001b[0m t\u001b[38;5;241m=\u001b[39mTest()\n\u001b[0;32m     13\u001b[0m t\u001b[38;5;241m.\u001b[39mm1()\n\u001b[1;32m---> 14\u001b[0m t\u001b[38;5;241m.\u001b[39mm2() \n\u001b[0;32m     15\u001b[0m t\u001b[38;5;241m.\u001b[39ma\n",
      "Cell \u001b[1;32mIn[12], line 9\u001b[0m, in \u001b[0;36mTest.m2\u001b[1;34m(self)\u001b[0m\n\u001b[0;32m      7\u001b[0m \u001b[38;5;28;01mdef\u001b[39;00m \u001b[38;5;21mm2\u001b[39m(\u001b[38;5;28mself\u001b[39m):\n\u001b[0;32m      8\u001b[0m     b\u001b[38;5;241m=\u001b[39m\u001b[38;5;241m2000\u001b[39m\n\u001b[1;32m----> 9\u001b[0m     \u001b[38;5;28mprint\u001b[39m(a) \u001b[38;5;66;03m#NameError: name 'a' is not defined\u001b[39;00m\n\u001b[0;32m     10\u001b[0m     \u001b[38;5;28mprint\u001b[39m(b)\n",
      "\u001b[1;31mNameError\u001b[0m: name 'a' is not defined"
     ]
    }
   ],
   "source": [
    "class Test:\n",
    "    \n",
    "    def m1(self):\n",
    "        a=1000\n",
    "        print(a)\n",
    "\n",
    "    def m2(self):\n",
    "        b=2000\n",
    "        print(a)    # try to access local varible which is not in given method will give error\n",
    "                    # NameError : name 'a' is not defined\n",
    "        print(b)\n",
    "        \n",
    "t=Test()\n",
    "t.m1()\n",
    "t.m2() \n",
    "t.a    # accessing lacal variable"
   ]
  },
  {
   "cell_type": "markdown",
   "metadata": {},
   "source": [
    "## Methods \n",
    "Types of Methods:<br>\n",
    "Inside Python classes just like different variables, there are 3 types of methods are allowed \n",
    "1. Instance Methods\n",
    "2. Class Methods\n",
    "3. Static Methods"
   ]
  },
  {
   "cell_type": "markdown",
   "metadata": {},
   "source": [
    "### Instance Methods\n",
    "Inside method implementation if we are using instance variables then such type of methods are called instance methods.<br>\n",
    "Inside instance method declaration,we have to pass `self` variable.\n",
    "```python\n",
    "     def m1(self):\n",
    "```\n",
    "By using self variable inside method we can able to access instance variables.<br>\n",
    "Within the class we can call instance method by using self variable and from outside of the class we can call by using object reference."
   ]
  },
  {
   "cell_type": "code",
   "execution_count": 1,
   "metadata": {},
   "outputs": [
    {
     "name": "stdin",
     "output_type": "stream",
     "text": [
      "Enter number of students: 2\n",
      "Enter Name: Hrutik\n",
      "Enter Marks: 76\n"
     ]
    },
    {
     "name": "stdout",
     "output_type": "stream",
     "text": [
      "Hi Hrutik\n",
      "Your Marks are: 76\n",
      "You got First Grade\n",
      "\n"
     ]
    },
    {
     "name": "stdin",
     "output_type": "stream",
     "text": [
      "Enter Name: Om\n",
      "Enter Marks: 89\n"
     ]
    },
    {
     "name": "stdout",
     "output_type": "stream",
     "text": [
      "Hi Om\n",
      "Your Marks are: 89\n",
      "You got First Grade\n",
      "\n"
     ]
    }
   ],
   "source": [
    "# basic program that gives grades to students based on their marks\n",
    "\n",
    "class Student:\n",
    "    \n",
    "    def __init__(self,name,marks):   \n",
    "        self.name = name\n",
    "        self.marks = marks\n",
    "        \n",
    "    def display(self):   # instance methods defined using self keyword\n",
    "        print('Hi',self.name)\n",
    "        print('Your Marks are:',self.marks)\n",
    "        \n",
    "    def grade(self):   # instance methods defined using self keyword\n",
    "        if self.marks >= 60:\n",
    "            print('You got First Grade')\n",
    "        elif self.marks >= 50:\n",
    "            print('Yout got Second Grade')\n",
    "        elif self.marks >= 35:\n",
    "            print('You got Third Grade')\n",
    "        else:\n",
    "            print('You are Failed')\n",
    "            \n",
    "n=int(input('Enter number of students:'))\n",
    "for i in range(n):\n",
    "    name = input('Enter Name:')\n",
    "    marks = int(input('Enter Marks:'))\n",
    "    s = Student(name,marks)\n",
    "    s.display()\n",
    "    s.grade()\n",
    "    print()"
   ]
  },
  {
   "cell_type": "markdown",
   "metadata": {},
   "source": [
    "#### Setter and Getter Methods\n",
    "We can set and get the values of instance variables by using getter and setter methods.<br>\n",
    "This are not any special methods, these methods are just like normal methods<br>\n",
    "instead they are given name based on their function they used for.\n",
    "\n",
    "\n",
    "##### Setter Method:\n",
    "setter3 methods can be used to set values to the instance variables. setter methods also known as mutator methods.<br>\n",
    "Syntax:\n",
    "```python\n",
    "    def setVariable(self,variable):\n",
    "        self.variable=variable\n",
    "```\n",
    "\n",
    "##### Getter Method:\n",
    "Getter methods can be used to get values of the instance variables. Getter methods also known as accessor methods.<br>\n",
    "Syntax:\n",
    "```python\n",
    "    def getVariable(self):\n",
    "        return self.variable\n",
    "```"
   ]
  },
  {
   "cell_type": "code",
   "execution_count": 2,
   "metadata": {},
   "outputs": [
    {
     "name": "stdin",
     "output_type": "stream",
     "text": [
      "Enter number of students: 2\n",
      "Enter Name: Hrutik\n",
      "Enter Marks: 78\n"
     ]
    },
    {
     "name": "stdout",
     "output_type": "stream",
     "text": [
      "Hi Hrutik\n",
      "Your Marks are: 78\n",
      "\n"
     ]
    },
    {
     "name": "stdin",
     "output_type": "stream",
     "text": [
      "Enter Name: Om\n",
      "Enter Marks: 98\n"
     ]
    },
    {
     "name": "stdout",
     "output_type": "stream",
     "text": [
      "Hi Om\n",
      "Your Marks are: 98\n",
      "\n"
     ]
    }
   ],
   "source": [
    "class Student:\n",
    "    \n",
    "    def setName(self,name):   # set the value to instance variable\n",
    "        self.name=name\n",
    "        \n",
    "    def getName(self):        # get the value from instance variable\n",
    "        return self.name\n",
    "        \n",
    "    def setMarks(self,marks): # set the value to instance variable\n",
    "        self.marks=marks\n",
    "        \n",
    "    def getMarks(self):       # get the value from instance variable\n",
    "        return self.marks\n",
    "        \n",
    "n=int(input('Enter number of students:'))\n",
    "for i in range(n):\n",
    "    s=Student()\n",
    "    name=input('Enter Name:')\n",
    "    s.setName(name)\n",
    "    marks=int(input('Enter Marks:'))\n",
    "    s.setMarks(marks)\n",
    "    print('Hi',s.getName())\n",
    "    print('Your Marks are:',s.getMarks())\n",
    "    print() "
   ]
  },
  {
   "cell_type": "markdown",
   "metadata": {},
   "source": [
    "### Class Methods\n",
    "Inside method implementation if we are using only class variables (static variables), then such type of methods we should declare as class method.<br>\n",
    "We can declare class method explicitly by using @classmethod decorator.<br>\n",
    "For class method we should provide `cls` variable at the time of declaration We can call `@classmethod` by using classname or object reference variable."
   ]
  },
  {
   "cell_type": "code",
   "execution_count": 1,
   "metadata": {},
   "outputs": [
    {
     "name": "stdout",
     "output_type": "stream",
     "text": [
      "Dog walks with 4 legs...\n",
      "Cat walks with 4 legs...\n"
     ]
    }
   ],
   "source": [
    "class Animal:\n",
    "    \n",
    "    legs=4\n",
    "    \n",
    "    @classmethod\n",
    "    def walk(cls,name):\n",
    "        print('{} walks with {} legs...'.format(name,cls.legs))\n",
    "        \n",
    "Animal.walk('Dog')\n",
    "Animal.walk('Cat')"
   ]
  },
  {
   "cell_type": "code",
   "execution_count": 3,
   "metadata": {},
   "outputs": [
    {
     "name": "stdout",
     "output_type": "stream",
     "text": [
      "The number of objects created for test class is: 2\n",
      "The number of objects created for test class is: 5\n"
     ]
    }
   ],
   "source": [
    "# program to track the number of objects created for a class:\n",
    "\n",
    "class Test:\n",
    "    \n",
    "    count=0\n",
    "    def __init__(self):\n",
    "        Test.count =Test.count+1\n",
    "        \n",
    "    @classmethod\n",
    "    def noOfObjects(cls):\n",
    "        print('The number of objects created for test class is:',cls.count)\n",
    "        \n",
    "t1=Test()     # First object\n",
    "t2=Test()     # Second object\n",
    "Test.noOfObjects()\n",
    "t3=Test()     # Third object\n",
    "t4=Test()     # Fourth object\n",
    "t5=Test()     # Fifth object\n",
    "Test.noOfObjects() "
   ]
  },
  {
   "cell_type": "markdown",
   "metadata": {},
   "source": [
    "### Static Methods\n",
    "In general these methods are general utility methods.<br>\n",
    "Inside these methods we won't use any instance or class variables.<br>\n",
    "Here we won't provide self or cls arguments at the time of declaration.<br>\n",
    "We can declare static method explicitly by using `@staticmethod` decorator<br>\n",
    "We can access static methods by using classname or object reference"
   ]
  },
  {
   "cell_type": "code",
   "execution_count": 12,
   "metadata": {},
   "outputs": [
    {
     "name": "stdout",
     "output_type": "stream",
     "text": [
      "The Sum: 30\n",
      "The Product: 200\n",
      "The average: 15.0\n"
     ]
    }
   ],
   "source": [
    "class Math:\n",
    "    \n",
    "    @staticmethod\n",
    "    def add(x,y): \n",
    "        print('The Sum:',x+y)\n",
    "        \n",
    "    @staticmethod\n",
    "    def product(x,y):\n",
    "        print('The Product:',x*y)\n",
    "        \n",
    "    @staticmethod\n",
    "    def average(x,y):\n",
    "        print('The average:',(x+y)/2)\n",
    "        \n",
    "Math.add(10,20)\n",
    "Math.product(10,20)\n",
    "Math.average(10,20)"
   ]
  },
  {
   "cell_type": "markdown",
   "metadata": {},
   "source": [
    "Note: In general we can use only instance and static methods.Inside static method we can access class level variables by using class name.<br>\n",
    "class methods are most rarely used methods in python."
   ]
  },
  {
   "cell_type": "markdown",
   "metadata": {},
   "source": [
    "Sometimes we can declare a class inside another class, such type of classes are called inner classes.<br>\n",
    "Without existing one type of object if there is no chance of existing another type of object,then we should go for inner classes.<br>\n",
    "Example: Without existing Car object there is no chance of existing Engine object. Hence Engine class should be part of Car class.\n",
    "```python\n",
    "class Car:\n",
    "     .....\n",
    "     class Engine:\n",
    "          ......\n",
    "```\n",
    "Example: Without existing university object there is no chance of existing Department object\n",
    "```python\n",
    "class University:\n",
    "     .....\n",
    "     class Department:\n",
    "          ......\n",
    "```\n",
    "Without existing Human there is no chance of existing Head. Hence Head should be part of Human.\n",
    "```python\n",
    "class Human:\n",
    "     class Head:\n",
    "``` \n",
    "Note: Without existing outer class object there is no chance of existing inner class object. Hence inner class object is always associated with outer class object."
   ]
  },
  {
   "cell_type": "markdown",
   "metadata": {},
   "source": [
    "## Inner classes / Nested Classes"
   ]
  },
  {
   "cell_type": "code",
   "execution_count": 20,
   "metadata": {},
   "outputs": [
    {
     "name": "stdout",
     "output_type": "stream",
     "text": [
      "outer class object creation\n",
      "inner class object creation\n",
      "inner class method\n"
     ]
    }
   ],
   "source": [
    "class Outer:    # outer class\n",
    "    \n",
    "    def __init__(self):\n",
    "        print(\"outer class object creation\")\n",
    "            \n",
    "    class Inner:    # outer class\n",
    "        \n",
    "        def __init__(self):\n",
    "            print(\"inner class object creation\")\n",
    "            \n",
    "        def m1(self):\n",
    "            print(\"inner class method\")\n",
    "        \n",
    "o = Outer()\n",
    "i = o.Inner()\n",
    "i.m1() "
   ]
  },
  {
   "cell_type": "code",
   "execution_count": 27,
   "metadata": {},
   "outputs": [
    {
     "name": "stdout",
     "output_type": "stream",
     "text": [
      "Name: Hrutik\n",
      "Dob=15/8/1947\n"
     ]
    }
   ],
   "source": [
    "class Person:\n",
    "    \n",
    "    def __init__(self):\n",
    "        self.name='Hrutik'\n",
    "        self.db=self.Dob()\n",
    "        \n",
    "    def display(self):\n",
    "        print('Name:',self.name)\n",
    "        \n",
    "    class Dob:\n",
    "        \n",
    "        def __init__(self):\n",
    "            self.dd = 15\n",
    "            self.mm = 8\n",
    "            self.yy = 1947\n",
    "            \n",
    "        def display(self):\n",
    "            print('Dob={}/{}/{}'.format(self.dd,self.mm,self.yy))\n",
    "            \n",
    "p = Person()\n",
    "p.display()\n",
    "x = p.db\n",
    "x.display() "
   ]
  },
  {
   "cell_type": "markdown",
   "metadata": {},
   "source": [
    "Inside a class we can declare any number of inner classes."
   ]
  },
  {
   "cell_type": "code",
   "execution_count": 28,
   "metadata": {},
   "outputs": [
    {
     "name": "stdout",
     "output_type": "stream",
     "text": [
      "Hello.. Sunny\n",
      "Talking...\n",
      "Thinking...\n"
     ]
    }
   ],
   "source": [
    "class Human:\n",
    "    \n",
    "    def __init__(self): \n",
    "        self.name = 'Sunny'\n",
    "        self.head = self.Head()\n",
    "        self.brain = self.Brain()\n",
    "        \n",
    "    def display(self):\n",
    "        print(\"Hello..\",self.name)\n",
    "        \n",
    "    class Head:\n",
    "        def talk(self):\n",
    "            print('Talking...')\n",
    "            \n",
    "    class Brain:\n",
    "        def think(self):\n",
    "            print('Thinking...')\n",
    "            \n",
    "h = Human()\n",
    "h.display()\n",
    "h.head.talk()\n",
    "h.brain.think()"
   ]
  },
  {
   "cell_type": "markdown",
   "metadata": {},
   "source": [
    "## Class Examples"
   ]
  },
  {
   "cell_type": "markdown",
   "metadata": {},
   "source": [
    "### Circle Class"
   ]
  },
  {
   "cell_type": "code",
   "execution_count": 22,
   "metadata": {
    "id": "RaO1zEritYFz"
   },
   "outputs": [
    {
     "data": {
      "text/plain": [
       "8"
      ]
     },
     "execution_count": 22,
     "metadata": {},
     "output_type": "execute_result"
    }
   ],
   "source": [
    "class Circle:\n",
    "  def __init__(self, radius_val = 1):   # assigning default value to the attribute\n",
    "    self.radius = radius_val\n",
    "\n",
    "  def area(self):\n",
    "    return 3.14 * self.radius**2\n",
    "\n",
    "  def circumference(self):\n",
    "    return 3.14 * self.radius * 2\n",
    "\n",
    "c = Circle()\n",
    "c.radius\n",
    "c.area()\n",
    "my_circle = Circle(8)\n",
    "my_circle.radius"
   ]
  },
  {
   "cell_type": "code",
   "execution_count": null,
   "metadata": {
    "id": "P3jLyQwUvAh1"
   },
   "outputs": [],
   "source": [
    "class Circle:\n",
    "\n",
    "  pi = 3.14                   # class attribute\n",
    "\n",
    "  def __init__(self, radius_val = 1):\n",
    "    self.radius = radius_val    # instance/object attribute\n",
    "\n",
    "  def area(self):\n",
    "    return self.pi*self.radius**2\n",
    "\n",
    "  def circumference(self):\n",
    "    return self.pi * self.radius * 2\n",
    "\n",
    "c = Circle(20)\n",
    "print(c.radius)\n",
    "print(c.area())\n",
    "print(c.pi)"
   ]
  },
  {
   "cell_type": "code",
   "execution_count": null,
   "metadata": {
    "id": "VDKrKvt4vAUC"
   },
   "outputs": [],
   "source": [
    "class Circle:\n",
    "\n",
    "  pi = 3.14                   # class attribute\n",
    "\n",
    "  def __init__(self, radius_val = 1):\n",
    "    self.radius = radius_val    # instance/object attribute\n",
    "\n",
    "  def area(self):\n",
    "    return pi * self.radius**2    # way of accessing class attribute\n",
    "\n",
    "  def circumference(self):\n",
    "    return self.pi * self.radius * 2  # another way of accessing class attribute\n",
    "                                      # but its not recommended to use using self\n",
    "c = Circle()\n",
    "# print(c.pi)\n",
    "c.circumference()"
   ]
  },
  {
   "cell_type": "markdown",
   "metadata": {
    "id": "0bPWSywzvAOg"
   },
   "source": [
    "#### Defining the attribute without writing the attribute in init method\n"
   ]
  },
  {
   "cell_type": "code",
   "execution_count": 11,
   "metadata": {
    "id": "Jl4hEPrGvAMQ"
   },
   "outputs": [
    {
     "data": {
      "text/plain": [
       "78.5"
      ]
     },
     "execution_count": 11,
     "metadata": {},
     "output_type": "execute_result"
    }
   ],
   "source": [
    "# Suppose you have written a software and after few years,\n",
    "# if you want to add/remove any feature in a function,\n",
    "# then you can update it without writing that attribute in init method.\n",
    "# If you add feature in init method then you will have to update all the objects\n",
    "# wherever that class is used otherwise it will fetch error that feature is not defined.\n",
    "# This makes OOPs very powerful.\n",
    "\n",
    "class Circle:\n",
    "\n",
    "  pi = 3.14                   # class attribute\n",
    "\n",
    "  def __init__(self):\n",
    "    pass \n",
    "\n",
    "  def area(self, radius_val):\n",
    "    self.radius = radius_val    # instance/object attribute\n",
    "    self.area = Circle.pi * self.radius**2   \n",
    "    return self.area\n",
    "      \n",
    "c = Circle()\n",
    "c.area(5)"
   ]
  },
  {
   "cell_type": "markdown",
   "metadata": {},
   "source": [
    "#### Passing members of one class to another class:\n",
    "We can access members of one class inside another class.\n"
   ]
  },
  {
   "cell_type": "code",
   "execution_count": 23,
   "metadata": {},
   "outputs": [
    {
     "name": "stdout",
     "output_type": "stream",
     "text": [
      "3.142857142857143 5\n"
     ]
    },
    {
     "data": {
      "text/plain": [
       "31.428571428571427"
      ]
     },
     "execution_count": 23,
     "metadata": {},
     "output_type": "execute_result"
    }
   ],
   "source": [
    "class Circle():\n",
    "\n",
    "  def area(pi, radius):\n",
    "    return pi * radius**2   \n",
    "\n",
    "  def circumference(self, pi, radius):\n",
    "    return pi * radius * 2  \n",
    "\n",
    "\n",
    "class Parameters:\n",
    "\n",
    "  pi = 22/7\n",
    "\n",
    "  def __init__(self, radius_val = 1):\n",
    "    self.radius = radius_val    \n",
    "\n",
    "p = Parameters(5)\n",
    "c = Circle()\n",
    "print(p.pi, p.radius)\n",
    "c.circumference(p.pi, p.radius)"
   ]
  },
  {
   "cell_type": "markdown",
   "metadata": {},
   "source": [
    "### ATM Class\n",
    "defines working of ATM machine"
   ]
  },
  {
   "cell_type": "code",
   "execution_count": 1,
   "metadata": {},
   "outputs": [],
   "source": [
    "class Atm:\n",
    "\n",
    "  # constructor\n",
    "  def __init__(self):\n",
    "    print(id(self))\n",
    "    self.pin = ''   # set pin to blank\n",
    "    self.balance = 0\n",
    "    self.menu()     # we can call any method inside any method() method\n",
    "\n",
    "  def menu(self):\n",
    "    user_input = input(\"\"\"\n",
    "    Hi how can I help you?\n",
    "    1. Press 1 to create pin\n",
    "    2. Press 2 to change pin\n",
    "    3. Press 3 to check balance\n",
    "    4. Press 4 to withdraw\n",
    "    5. Anything else to exit\n",
    "    \"\"\")\n",
    "\n",
    "    if user_input == '1':\n",
    "      self.create_pin()\n",
    "    elif user_input == '2':\n",
    "      self.change_pin()\n",
    "    elif user_input == '3':\n",
    "      self.check_balance()\n",
    "    elif user_input == '4':\n",
    "      self.withdraw()\n",
    "    else:\n",
    "      exit()\n",
    "\n",
    "  def create_pin(self):\n",
    "    user_pin = input('enter your pin')\n",
    "    self.pin = user_pin\n",
    "\n",
    "    user_balance = int(input('enter balance'))\n",
    "    self.balance = user_balance\n",
    "\n",
    "    print('pin created successfully')\n",
    "    self.menu()\n",
    "\n",
    "  def change_pin(self):\n",
    "    old_pin = input('enter old pin')\n",
    "\n",
    "    if old_pin == self.pin:\n",
    "      new_pin = input('enter new pin')\n",
    "      self.pin = new_pin\n",
    "      print('pin change successful')\n",
    "      self.menu()\n",
    "    else:\n",
    "      print('nai karne de sakta re baba')\n",
    "      self.menu()\n",
    "\n",
    "  def check_balance(self):\n",
    "    user_pin = input('enter your pin')\n",
    "    if user_pin == self.pin:\n",
    "      print('your balance is ',self.balance)\n",
    "    else:\n",
    "      print('chal nikal yahan se')\n",
    "    self.menu()\n",
    "\n",
    "  def withdraw(self):\n",
    "    user_pin = input('enter the pin')\n",
    "    if user_pin == self.pin:\n",
    "      # allow to withdraw\n",
    "      amount = int(input('enter the amount'))\n",
    "      if amount <= self.balance:\n",
    "        self.balance = self.balance - amount\n",
    "        print('withdrawl successful. Your balance is',self.balance)\n",
    "      else:\n",
    "        print(\"You don't have sufficient balance\")\n",
    "    else:\n",
    "      print('You have entered incorrect PIN.')\n",
    "    self.menu()"
   ]
  },
  {
   "cell_type": "code",
   "execution_count": 3,
   "metadata": {
    "id": "LOegf9jK_6xL"
   },
   "outputs": [
    {
     "name": "stdout",
     "output_type": "stream",
     "text": [
      "1175554110672\n"
     ]
    },
    {
     "name": "stdin",
     "output_type": "stream",
     "text": [
      "\n",
      "    Hi how can I help you?\n",
      "    1. Press 1 to create pin\n",
      "    2. Press 2 to change pin\n",
      "    3. Press 3 to check balance\n",
      "    4. Press 4 to withdraw\n",
      "    5. Anything else to exit\n",
      "     5\n"
     ]
    }
   ],
   "source": [
    "obj1 = Atm()"
   ]
  },
  {
   "cell_type": "code",
   "execution_count": 2,
   "metadata": {},
   "outputs": [
    {
     "ename": "NameError",
     "evalue": "name 'obj1' is not defined",
     "output_type": "error",
     "traceback": [
      "\u001b[1;31m---------------------------------------------------------------------------\u001b[0m",
      "\u001b[1;31mNameError\u001b[0m                                 Traceback (most recent call last)",
      "Cell \u001b[1;32mIn[2], line 1\u001b[0m\n\u001b[1;32m----> 1\u001b[0m \u001b[38;5;28mid\u001b[39m(obj1)\n",
      "\u001b[1;31mNameError\u001b[0m: name 'obj1' is not defined"
     ]
    }
   ],
   "source": [
    "id(obj1)"
   ]
  },
  {
   "cell_type": "markdown",
   "metadata": {},
   "source": [
    "# Class Relationships\n",
    "- Aggregation\n",
    "- Inheritance"
   ]
  },
  {
   "cell_type": "markdown",
   "metadata": {},
   "source": [
    "## Aggregation\n",
    "Aggregation is a `\"has-a\"` relationship where one class contains a reference to one or more objects of another class. The contained object can exist independently of the container object.<br>\n",
    "Type of Relationship: \"has-a\" (e.g., a Car has-a Engine).<br>\n",
    "Purpose: It models relationships where one object is made up of one or more objects but those objects can exist independently.<br>\n",
    "Nature of Dependency: Weak dependency, meaning the contained objects are not tightly bound to the containing object."
   ]
  },
  {
   "cell_type": "code",
   "execution_count": 1,
   "metadata": {},
   "outputs": [
    {
     "name": "stdout",
     "output_type": "stream",
     "text": [
      "The car has an engine with 200 horsepower.\n"
     ]
    }
   ],
   "source": [
    "# Class representing an Engine\n",
    "class Engine:\n",
    "    def __init__(self, horsepower):\n",
    "        self.horsepower = horsepower\n",
    "\n",
    "# Class representing a Car that has an Engine\n",
    "class Car:\n",
    "    def __init__(self, engine):\n",
    "        self.engine = engine  # Car \"has-a\" Engine\n",
    "\n",
    "    def display_engine_info(self):\n",
    "        print(f\"The car has an engine with {self.engine.horsepower} horsepower.\")\n",
    "\n",
    "# Using aggregation\n",
    "engine = Engine(200)\n",
    "car = Car(engine)\n",
    "car.display_engine_info()  "
   ]
  },
  {
   "cell_type": "code",
   "execution_count": 11,
   "metadata": {},
   "outputs": [
    {
     "name": "stdout",
     "output_type": "stream",
     "text": [
      "('Pune', 'Maharashtra', 400001)\n",
      "('Mumbai', 'Maharashtra', 448401)\n",
      "('Nagpur', 'Maharashtra', 435839)\n"
     ]
    },
    {
     "data": {
      "text/plain": [
       "('pune', 'maharashtra', 445001)"
      ]
     },
     "execution_count": 11,
     "metadata": {},
     "output_type": "execute_result"
    }
   ],
   "source": [
    "class Customer:\n",
    "\n",
    "  def __init__(self, name, gender, address):\n",
    "\n",
    "    self.name = name\n",
    "    self.address = address\n",
    "    self.gender = gender\n",
    "\n",
    "  def print_address(self):\n",
    "    return (self.address.get_city(), self.address.state, self.address.pin)\n",
    "\n",
    "  def edit_profile(self, new_name, new_city, new_pin, new_state):\n",
    "    self.name = new_name\n",
    "    self.address.edit_address(new_city, new_pin, new_state)\n",
    "\n",
    "\n",
    "class Address:\n",
    "\n",
    "  def __init__(self, city, pin, state):\n",
    "    self.__city = city\n",
    "    self.pin = pin\n",
    "    self.state = state\n",
    "\n",
    "  def get_city(self):\n",
    "    return self.__city\n",
    "\n",
    "  def edit_address(self, new_city, new_pin, new_state):\n",
    "    self.__city = new_city\n",
    "    self.pin = new_pin\n",
    "    self.state = new_state\n",
    "\n",
    "add1 = Address('Pune', 400001, 'Maharashtra')\n",
    "cust1 = Customer('Hrutik', 'male', add1)\n",
    "\n",
    "add2 = Address('Mumbai', 448401, 'Maharashtra')\n",
    "cust2 = Customer('Om', 'male', add2)\n",
    "\n",
    "add3 = Address('Nagpur', 435839, 'Maharashtra')\n",
    "cust3 = Customer('Shiv', 'male', add3)\n",
    "\n",
    "print(cust1.print_address())\n",
    "print(cust2.print_address())\n",
    "print(cust3.print_address())\n",
    "\n",
    "cust2.edit_profile('om', 'pune', 445001, 'maharashtra')\n",
    "cust2.print_address()"
   ]
  },
  {
   "cell_type": "code",
   "execution_count": 4,
   "metadata": {},
   "outputs": [
    {
     "name": "stdout",
     "output_type": "stream",
     "text": [
      "pune maharashtra 445001\n"
     ]
    }
   ],
   "source": [
    "print(*cust.print_address())"
   ]
  },
  {
   "cell_type": "markdown",
   "metadata": {
    "id": "UwRGMOToAfwA"
   },
   "source": [
    "## Inheritance\n",
    "Inheritance is a \"is-a\" relationship where one class (subclass or derived class) inherits properties and behaviors (fields and methods) from another class (superclass or base class). The subclass can also extend or modify the behavior of the superclass.<br>\n",
    "Type of Relationship: \"is-a\" (e.g., a Dog is-a Animal).<br>\n",
    "Purpose: It allows for extending or reusing code by inheriting fields and methods from the parent class.<br>\n",
    "Nature of Dependency: Strong dependency, as the subclass is strongly linked to the superclass. A change in the superclass can impact the subclass."
   ]
  },
  {
   "cell_type": "code",
   "execution_count": 20,
   "metadata": {
    "id": "KlCBNZHEMGKr"
   },
   "outputs": [
    {
     "name": "stdout",
     "output_type": "stream",
     "text": [
      "hrutik\n",
      "enroll into course\n"
     ]
    }
   ],
   "source": [
    "class User:    # parent class\n",
    "\n",
    "  def __init__(self, name, gender):\n",
    "    self.name = name\n",
    "    self.gender = gender\n",
    "\n",
    "  def login(self):\n",
    "    print('login')\n",
    "\n",
    "class Student(User):    # child class\n",
    "\n",
    "  def enroll(self):\n",
    "    print('enroll into course')\n",
    "\n",
    "\n",
    "s = Student('Hrutik', 'male')   # passing arguments to child class without calling parent class\n",
    "\n",
    "print(u.name)\n",
    "s.enroll()"
   ]
  },
  {
   "cell_type": "code",
   "execution_count": null,
   "metadata": {},
   "outputs": [],
   "source": [
    "class User:\n",
    "\n",
    "  def __init__(self):\n",
    "    self.name = 'hrutik'\n",
    "    self.gender = 'male'\n",
    "\n",
    "  def login(self):\n",
    "    print('login')\n",
    "\n",
    "class Student(User):\n",
    "\n",
    "  def __init__(self):   # if child class has its own init method then it will not go for parents init method\n",
    "    self.rollno = 100\n",
    "\n",
    "  def enroll(self):\n",
    "    print('enroll into course')\n",
    "\n",
    "u = User()\n",
    "s = Student()\n",
    "\n",
    "\n",
    "print(u.name)\n",
    "# print(s.name)      # in childs init method there is no attribute name hence it will give error\n",
    "# print(s.gender)    # and the same for gender\n",
    "print(s.enroll())\n",
    "# print(u.enroll())   # parent class cannot access childs methods. returns error or give none as output\n",
    "print(s.rollno)"
   ]
  },
  {
   "cell_type": "markdown",
   "metadata": {},
   "source": [
    "### Single Inheritance\n",
    "In single inheritance, a class inherits from only one superclass. This is the simplest form of inheritance."
   ]
  },
  {
   "cell_type": "code",
   "execution_count": 13,
   "metadata": {
    "id": "ji4Pxnj8AfFe"
   },
   "outputs": [
    {
     "name": "stdout",
     "output_type": "stream",
     "text": [
      "This is parent class\n",
      "100\n",
      "125\n",
      "25\n"
     ]
    }
   ],
   "source": [
    "class ArithmeticOperation():  # parent class\n",
    "\n",
    "  def __init__(self):\n",
    "    print('This is parent class')\n",
    "\n",
    "  def square(self, num_val):\n",
    "    self.num = num_val\n",
    "    return self.num ** 2\n",
    "\n",
    "\n",
    "class Cube(ArithmeticOperation):   # child class containing name of paernt class\n",
    "                                   # indicates it is inherited\n",
    "  def __init__(self, num_val):\n",
    "    self.num = num_val\n",
    "\n",
    "  def cube(self):\n",
    "    return self.num**3\n",
    "\n",
    "\n",
    "test = ArithmeticOperation()\n",
    "print(test.square(10))\n",
    "c = Cube(5)\n",
    "print(c.cube())\n",
    "print(c.square(5))   # using child class object accessed method of parent class"
   ]
  },
  {
   "cell_type": "code",
   "execution_count": 11,
   "metadata": {
    "id": "1uL1dgbbBy3P"
   },
   "outputs": [
    {
     "name": "stdout",
     "output_type": "stream",
     "text": [
      "Car class is created\n",
      "Doors closed\n",
      "This is Ferrari car.\n",
      "Doors opened vertically\n",
      "This is falcon car.\n"
     ]
    }
   ],
   "source": [
    "# there is a example of car class and a subclass of Tesla\n",
    "\n",
    "class Car():\n",
    "  def __init__(self):\n",
    "    print('Car class is created')\n",
    "\n",
    "  def close_doors(self):\n",
    "    return 'Doors closed'\n",
    "\n",
    "  def display(self, brand):\n",
    "    self.brand = brand\n",
    "    return 'This is ' + self.brand +' car.'\n",
    "\n",
    "\n",
    "class Tesla(Car):\n",
    "\n",
    "  def __init__(self):\n",
    "    pass\n",
    "\n",
    "  def open_doors(self):\n",
    "    return 'Doors opened vertically'\n",
    "\n",
    "  def close_doors(self):\n",
    "    return 'Doors closed vertically'\n",
    "\n",
    "\n",
    "c = Car()\n",
    "print(c.close_doors())\n",
    "print(c.display('Ferrari'))\n",
    "\n",
    "t = Tesla()\n",
    "print(t.open_doors())\n",
    "print(t.display('falcon'))   # method of parent class called inside derived class"
   ]
  },
  {
   "cell_type": "code",
   "execution_count": 12,
   "metadata": {},
   "outputs": [
    {
     "name": "stdout",
     "output_type": "stream",
     "text": [
      "Buddy barks.\n"
     ]
    }
   ],
   "source": [
    "# Parent class\n",
    "class Animal:\n",
    "    def __init__(self, name):\n",
    "        self.name = name\n",
    "\n",
    "    def speak(self):\n",
    "        print(f\"{self.name} makes a sound.\")\n",
    "\n",
    "# Child class inheriting from Animal\n",
    "class Dog(Animal):\n",
    "    def speak(self):\n",
    "        print(f\"{self.name} barks.\")\n",
    "\n",
    "# Using single inheritance\n",
    "dog = Dog(\"Buddy\")\n",
    "dog.speak() "
   ]
  },
  {
   "cell_type": "code",
   "execution_count": null,
   "metadata": {},
   "outputs": [],
   "source": []
  },
  {
   "cell_type": "markdown",
   "metadata": {},
   "source": [
    "### Multilevel Inheritance\n",
    "In multilevel inheritance, a class derives from a class that is already derived from another class. This forms a chain of inheritance."
   ]
  },
  {
   "cell_type": "code",
   "execution_count": 12,
   "metadata": {},
   "outputs": [
    {
     "name": "stdout",
     "output_type": "stream",
     "text": [
      "Charlie barks.\n",
      "Charlie plays with a ball.\n"
     ]
    }
   ],
   "source": [
    "# Grandparent class\n",
    "class Animal:\n",
    "    def __init__(self, name):\n",
    "        self.name = name\n",
    "\n",
    "    def speak(self):\n",
    "        print(f\"{self.name} makes a sound.\")\n",
    "\n",
    "# Parent class inheriting from Animal\n",
    "class Dog(Animal):\n",
    "    def speak(self):\n",
    "        print(f\"{self.name} barks.\")\n",
    "\n",
    "# Child class inheriting from Dog\n",
    "class Puppy(Dog):\n",
    "    def play(self):\n",
    "        print(f\"{self.name} plays with a ball.\")\n",
    "\n",
    "# Using multilevel inheritance\n",
    "puppy = Puppy(\"Charlie\")\n",
    "puppy.speak() \n",
    "puppy.play() "
   ]
  },
  {
   "cell_type": "code",
   "execution_count": 13,
   "metadata": {},
   "outputs": [
    {
     "name": "stdout",
     "output_type": "stream",
     "text": [
      "Inside phone constructor\n",
      "Buying a phone\n",
      "Product customer review\n"
     ]
    }
   ],
   "source": [
    "# another example of multilevel inheritance\n",
    "class Product:\n",
    "    def review(self):\n",
    "        print (\"Product customer review\")\n",
    "\n",
    "class Phone(Product):\n",
    "    def __init__(self, price, brand, camera):\n",
    "        print (\"Inside phone constructor\")\n",
    "        self.__price = price\n",
    "        self.brand = brand\n",
    "        self.camera = camera\n",
    "\n",
    "    def buy(self):\n",
    "        print (\"Buying a phone\")\n",
    "\n",
    "class SmartPhone(Phone):\n",
    "    pass\n",
    "\n",
    "s=SmartPhone(20000, \"Apple\", 12)\n",
    "s.buy()\n",
    "s.review()"
   ]
  },
  {
   "cell_type": "code",
   "execution_count": 14,
   "metadata": {},
   "outputs": [
    {
     "name": "stdout",
     "output_type": "stream",
     "text": [
      "70\n"
     ]
    }
   ],
   "source": [
    "class A:\n",
    "\n",
    "    def m1(self):\n",
    "        return 20\n",
    "\n",
    "class B(A):\n",
    "\n",
    "    def m1(self):\n",
    "        return 30\n",
    "\n",
    "    def m2(self):\n",
    "        return 40\n",
    "\n",
    "class C(B):\n",
    "\n",
    "    def m2(self):\n",
    "        return 20\n",
    "obj1 = A()\n",
    "obj2 = B()\n",
    "obj3 = C()\n",
    "print(obj1.m1() + obj3.m1()+ obj3.m2())"
   ]
  },
  {
   "cell_type": "markdown",
   "metadata": {},
   "source": [
    "### Hierarchical Inheritance\n",
    "In hierarchical inheritance, multiple classes inherit from a single superclass. This allows multiple subclasses to share common behaviors from the parent class while adding their specific behaviors."
   ]
  },
  {
   "cell_type": "code",
   "execution_count": 15,
   "metadata": {},
   "outputs": [
    {
     "name": "stdout",
     "output_type": "stream",
     "text": [
      "Buddy barks.\n",
      "Whiskers meows.\n"
     ]
    }
   ],
   "source": [
    "# Parent class\n",
    "class Animal:\n",
    "    def __init__(self, name):\n",
    "        self.name = name\n",
    "\n",
    "    def speak(self):\n",
    "        print(f\"{self.name} makes a sound.\")\n",
    "\n",
    "# Child class inheriting from Animal\n",
    "class Dog(Animal):\n",
    "    def speak(self):\n",
    "        print(f\"{self.name} barks.\")\n",
    "\n",
    "# Another child class inheriting from Animal\n",
    "class Cat(Animal):\n",
    "    def speak(self):\n",
    "        print(f\"{self.name} meows.\")\n",
    "\n",
    "# Using hierarchical inheritance\n",
    "dog = Dog(\"Buddy\")\n",
    "dog.speak()  \n",
    "\n",
    "cat = Cat(\"Whiskers\")\n",
    "cat.speak()  "
   ]
  },
  {
   "cell_type": "code",
   "execution_count": 18,
   "metadata": {},
   "outputs": [
    {
     "name": "stdout",
     "output_type": "stream",
     "text": [
      "Inside phone constructor\n",
      "Buying a phone\n",
      "This is a Smartphone\n",
      "Inside phone constructor\n",
      "Buying a phone\n"
     ]
    },
    {
     "ename": "AttributeError",
     "evalue": "'NoneType' object has no attribute 'buy'",
     "output_type": "error",
     "traceback": [
      "\u001b[1;31m---------------------------------------------------------------------------\u001b[0m",
      "\u001b[1;31mAttributeError\u001b[0m                            Traceback (most recent call last)",
      "Cell \u001b[1;32mIn[18], line 24\u001b[0m\n\u001b[0;32m     22\u001b[0m s\u001b[38;5;241m.\u001b[39minfo()\n\u001b[0;32m     23\u001b[0m f \u001b[38;5;241m=\u001b[39m FeaturePhone(\u001b[38;5;241m10\u001b[39m,\u001b[38;5;124m\"\u001b[39m\u001b[38;5;124mLava\u001b[39m\u001b[38;5;124m\"\u001b[39m,\u001b[38;5;124m\"\u001b[39m\u001b[38;5;124m1px\u001b[39m\u001b[38;5;124m\"\u001b[39m)\u001b[38;5;241m.\u001b[39mbuy()\n\u001b[1;32m---> 24\u001b[0m f\u001b[38;5;241m.\u001b[39mbuy()\n\u001b[0;32m     25\u001b[0m f\u001b[38;5;241m.\u001b[39minfo()\n",
      "\u001b[1;31mAttributeError\u001b[0m: 'NoneType' object has no attribute 'buy'"
     ]
    }
   ],
   "source": [
    "# Hierarchical\n",
    "class Phone:\n",
    "    def __init__(self, price, brand, camera):\n",
    "        print (\"Inside phone constructor\")\n",
    "        self.__price = price\n",
    "        self.brand = brand\n",
    "        self.camera = camera\n",
    "\n",
    "    def buy(self):\n",
    "        print (\"Buying a phone\")\n",
    "\n",
    "class SmartPhone(Phone):\n",
    "    def info(self):\n",
    "        print (\"This is a Smartphone\")\n",
    "        \n",
    "class FeaturePhone(Phone):\n",
    "    def info(self):\n",
    "        print (\"This is a Featurephone\")\n",
    "\n",
    "s = SmartPhone(1000,\"Apple\",\"13px\")\n",
    "s.buy()\n",
    "s.info()\n",
    "f = FeaturePhone(10,\"Lava\",\"1px\").buy()\n",
    "f.buy()\n",
    "f.info()"
   ]
  },
  {
   "cell_type": "markdown",
   "metadata": {
    "id": "y6THFlbrNYqV"
   },
   "source": [
    "### Multiple Inheritance\n",
    "In multiple inheritance, a class can inherit from more than one superclass. This allows a class to inherit features from multiple parent classes."
   ]
  },
  {
   "cell_type": "code",
   "execution_count": 19,
   "metadata": {},
   "outputs": [
    {
     "name": "stdout",
     "output_type": "stream",
     "text": [
      "Buddy barks.\n",
      "The owner is Alice.\n"
     ]
    }
   ],
   "source": [
    "# Parent class 1\n",
    "class Animal:\n",
    "    def __init__(self, name):\n",
    "        self.name = name\n",
    "\n",
    "    def speak(self):\n",
    "        print(f\"{self.name} makes a sound.\")\n",
    "\n",
    "# Parent class 2\n",
    "class Pet:\n",
    "    def __init__(self, owner):\n",
    "        self.owner = owner\n",
    "\n",
    "    def show_owner(self):\n",
    "        print(f\"The owner is {self.owner}.\")\n",
    "\n",
    "# Child class inheriting from both Animal and Pet\n",
    "class Dog(Animal, Pet):\n",
    "    def __init__(self, name, owner):\n",
    "        Animal.__init__(self, name)\n",
    "        Pet.__init__(self, owner)\n",
    "\n",
    "    def speak(self):\n",
    "        print(f\"{self.name} barks.\")\n",
    "\n",
    "# Using multiple inheritance\n",
    "dog = Dog(\"Buddy\", \"Alice\")\n",
    "dog.speak()         \n",
    "dog.show_owner()    "
   ]
  },
  {
   "cell_type": "markdown",
   "metadata": {},
   "source": [
    "Multiple inheritance can sometimes lead to issues, especially if the same method exists in both parent classes. This is where the Diamond Problem occurs. To avoid this, Python uses Method Resolution Order (MRO)"
   ]
  },
  {
   "cell_type": "code",
   "execution_count": 20,
   "metadata": {},
   "outputs": [
    {
     "name": "stdout",
     "output_type": "stream",
     "text": [
      "Inside product constructor\n",
      "Buying a phone\n",
      "Customer review\n"
     ]
    }
   ],
   "source": [
    "# Multiple\n",
    "class Phone:\n",
    "    def __init__(self, price, brand, camera):\n",
    "        print (\"Inside phone constructor\")\n",
    "        self.__price = price\n",
    "        self.brand = brand\n",
    "        self.camera = camera\n",
    "\n",
    "    def buy(self):\n",
    "        print (\"Buying a phone\")\n",
    "\n",
    "class Product:\n",
    "    def __init__(self, price, brand, camera):\n",
    "        print (\"Inside product constructor\")\n",
    "        self.__price = price\n",
    "        self.brand = brand\n",
    "        self.camera = camera\n",
    "\n",
    "    def review(self):\n",
    "        print (\"Customer review\")\n",
    "\n",
    "# if two classes have same method then..\n",
    "# The class which is referenced first whose method is being used\n",
    "# The class Product appears at first position those constructor is being used\n",
    "class SmartPhone(Product, Phone): \n",
    "    pass\n",
    "\n",
    "s=SmartPhone(20000, \"Apple\", 12)\n",
    "s.buy()\n",
    "s.review()"
   ]
  },
  {
   "cell_type": "code",
   "execution_count": null,
   "metadata": {},
   "outputs": [],
   "source": [
    "class A:\n",
    "    def method(self):\n",
    "        print(\"Method in A\")\n",
    "\n",
    "class B(A):\n",
    "    def method(self):\n",
    "        print(\"Method in B\")\n",
    "\n",
    "class C(A):\n",
    "    def method(self):\n",
    "        print(\"Method in C\")\n",
    "\n",
    "# Child class inheriting from both B and C\n",
    "class D(B, C):\n",
    "    pass\n",
    "\n",
    "# Using multiple inheritance\n",
    "d = D()\n",
    "d.method() "
   ]
  },
  {
   "cell_type": "markdown",
   "metadata": {},
   "source": [
    "### Hybrid Inheritance\n",
    "Hybrid inheritance is a combination of two or more types of inheritance (single, multilevel, hierarchical, or multiple). It depends on the system's design and can combine inheritance strategies as needed."
   ]
  },
  {
   "cell_type": "code",
   "execution_count": 21,
   "metadata": {},
   "outputs": [
    {
     "name": "stdout",
     "output_type": "stream",
     "text": [
      "Charlie barks.\n",
      "Charlie plays with a ball.\n",
      "Whiskers meows.\n"
     ]
    }
   ],
   "source": [
    "# Parent class\n",
    "class Animal:\n",
    "    def __init__(self, name):\n",
    "        self.name = name\n",
    "\n",
    "    def speak(self):\n",
    "        print(f\"{self.name} makes a sound.\")\n",
    "\n",
    "# Child class inheriting from Animal (Hierarchical Inheritance)\n",
    "class Dog(Animal):\n",
    "    def speak(self):\n",
    "        print(f\"{self.name} barks.\")\n",
    "\n",
    "# Another child class inheriting from Animal (Hierarchical Inheritance)\n",
    "class Cat(Animal):\n",
    "    def speak(self):\n",
    "        print(f\"{self.name} meows.\")\n",
    "\n",
    "# Grandchild class inheriting from Dog (Multilevel Inheritance)\n",
    "class Puppy(Dog):\n",
    "    def play(self):\n",
    "        print(f\"{self.name} plays with a ball.\")\n",
    "\n",
    "# Using hybrid inheritance\n",
    "puppy = Puppy(\"Charlie\")\n",
    "puppy.speak() \n",
    "puppy.play()  \n",
    "\n",
    "cat = Cat(\"Whiskers\")\n",
    "cat.speak()"
   ]
  },
  {
   "cell_type": "code",
   "execution_count": null,
   "metadata": {},
   "outputs": [],
   "source": []
  },
  {
   "cell_type": "markdown",
   "metadata": {
    "id": "paQHyMPndUze"
   },
   "source": [
    "### super() \n",
    "\n",
    "The super() method in Python is used to give access to methods and properties of a parent or superclass from within a child or subclass. It allows the subclass to call methods or access attributes from the superclass without needing to explicitly refer to the parent class by name.\n",
    "\n",
    "**Purpose of super()**\n",
    "- Access Parent Class Methods: You can use super() to call methods defined in a superclass in the context of the subclass.\n",
    "- Avoid Repetition: It allows you to reuse code from the parent class, avoiding the need to rewrite common functionalities.\n",
    "- Enable Multiple Inheritance: super() plays a key role in resolving the Method Resolution Order (MRO) in multiple inheritance, making sure the correct parent method is called according to the class hierarchy."
   ]
  },
  {
   "cell_type": "code",
   "execution_count": 22,
   "metadata": {
    "id": "QC3gjqondUxI"
   },
   "outputs": [
    {
     "data": {
      "text/plain": [
       "10"
      ]
     },
     "execution_count": 22,
     "metadata": {},
     "output_type": "execute_result"
    }
   ],
   "source": [
    "class Base():\n",
    "\n",
    "  def __init__(self, a, b):\n",
    "    self.a = a\n",
    "    self.b = b\n",
    "\n",
    "  def add(self):\n",
    "    return self.a + self.b\n",
    "\n",
    "\n",
    "class Child(Base):\n",
    "    \n",
    "  # accessing parent's constructor using super keyword\n",
    "  def __init__(self, a, b, c, d):\n",
    "    super().__init__(a, b)      # here a and b attributes defined in parent class init method\n",
    "    self.c = c\n",
    "    self.d = d\n",
    "\n",
    "  def sum_no(self):\n",
    "    return self.a + self.b + self.c + self.d\n",
    "\n",
    "\n",
    "c = Child(1, 2, 3, 4)\n",
    "c.sum_no()"
   ]
  },
  {
   "cell_type": "code",
   "execution_count": 24,
   "metadata": {
    "id": "GloFIxCtjkhf"
   },
   "outputs": [
    {
     "name": "stdout",
     "output_type": "stream",
     "text": [
      "11\n",
      "1\n"
     ]
    }
   ],
   "source": [
    "class Child(Base):\n",
    "\n",
    "  def __init__(self, c, d):\n",
    "    self.c = c\n",
    "    self.d = d\n",
    "\n",
    "  # accessing parent's methods using super keyword\n",
    "  def sum_no(self):\n",
    "    super().__init__(1, 3)\n",
    "    return super().add() + self.c + self.d\n",
    "\n",
    "\n",
    "c = Child(2,5)\n",
    "print(c.sum_no())\n",
    "print(c.a)    # if without using super keyword we tried to use this attribute then we will got error"
   ]
  },
  {
   "cell_type": "code",
   "execution_count": 25,
   "metadata": {
    "id": "gmal7tGvoY_w"
   },
   "outputs": [
    {
     "data": {
      "text/plain": [
       "17"
      ]
     },
     "execution_count": 25,
     "metadata": {},
     "output_type": "execute_result"
    }
   ],
   "source": [
    "class Child(Base):\n",
    "\n",
    "  def __init__(self, c, d):\n",
    "    self.c = c\n",
    "    self.d = d\n",
    "\n",
    "\n",
    "  def sum_no(self, a, b):\n",
    "    super().__init__(a, b)\n",
    "    return super().add() + self.c + self.d\n",
    "\n",
    "c  = Child(4, 3)  # passing values to childs attributes\n",
    "c.sum_no(5,5)     # passing values to parents attributes\n",
    "                  # by calling its constructor in childs method"
   ]
  },
  {
   "cell_type": "code",
   "execution_count": 26,
   "metadata": {
    "id": "vcqA4umGrwbb"
   },
   "outputs": [
    {
     "name": "stdout",
     "output_type": "stream",
     "text": [
      "7\n",
      "56\n"
     ]
    },
    {
     "data": {
      "text/plain": [
       "11"
      ]
     },
     "execution_count": 26,
     "metadata": {},
     "output_type": "execute_result"
    }
   ],
   "source": [
    "class Base1():\n",
    "  def __init__(self):\n",
    "    pass\n",
    "\n",
    "  def add(self, a, b):\n",
    "    self.a = a\n",
    "    self.b = b\n",
    "    print(self.a + self.b)\n",
    "\n",
    "\n",
    "class Base2():\n",
    "  def __init__(self):\n",
    "    pass\n",
    "\n",
    "  def multiply(self, x, y):\n",
    "    self.x = x\n",
    "    self.y = y\n",
    "    print(self.x * self.y)\n",
    "\n",
    "\n",
    "class Child(Base1, Base2):\n",
    "  def __init__(self, c, d):\n",
    "    self.c = c\n",
    "    self.d = d\n",
    "\n",
    "  def sum_no(self, a, b, x, y):\n",
    "    super().add(a, b)\n",
    "    super().multiply(x, y)\n",
    "    return self.c + self.d\n",
    "\n",
    "c = Child(5, 6)\n",
    "c.sum_no(3, 4, 7, 8)"
   ]
  },
  {
   "cell_type": "code",
   "execution_count": 29,
   "metadata": {
    "id": "GKiRSUEcvkrJ"
   },
   "outputs": [
    {
     "name": "stdout",
     "output_type": "stream",
     "text": [
      "20\n",
      "20\n"
     ]
    },
    {
     "data": {
      "text/plain": [
       "9"
      ]
     },
     "execution_count": 29,
     "metadata": {},
     "output_type": "execute_result"
    }
   ],
   "source": [
    "# when two base classes have same method name with different functionalities then first base class is given preference\n",
    "\n",
    "class Base1():\n",
    "  def __init__(self):\n",
    "    pass\n",
    "\n",
    "  def operate(self, a, b):\n",
    "    self.a = a\n",
    "    self.b = b\n",
    "    print(self.a + self.b)\n",
    "\n",
    "\n",
    "class Base2():\n",
    "  def __init__(self):\n",
    "    pass\n",
    "\n",
    "  def operate(self, x, y):\n",
    "    self.x = x\n",
    "    self.y = y\n",
    "    print(self.x * self.y)\n",
    "\n",
    "# here Base2 is written first so its methods will have first preference\n",
    "class Child(Base2, Base1): \n",
    "  def __init__(self, c, d):\n",
    "    self.c = c\n",
    "    self.d = d\n",
    "\n",
    "  def sum_no(self, a, b, x, y):\n",
    "    super().operate(a, b)\n",
    "    super().operate(x, y)\n",
    "    return self.c + self.d\n",
    "\n",
    "\n",
    "c = Child(4, 5)\n",
    "c.sum_no(4, 5, 4, 5)"
   ]
  },
  {
   "cell_type": "markdown",
   "metadata": {},
   "source": [
    "#### Uses of `super()`\n",
    "##### 1. Reusing Parent Class Initialization `__init__()`\n",
    "When a subclass extends the behavior of the parent class's constructor `__init__()`, `super()` can be used to call the parent's constructor and avoid rewriting the common initialization logic."
   ]
  },
  {
   "cell_type": "code",
   "execution_count": null,
   "metadata": {},
   "outputs": [],
   "source": [
    "class Vehicle:\n",
    "    def __init__(self, make, model):\n",
    "        self.make = make\n",
    "        self.model = model\n",
    "\n",
    "class Car(Vehicle):\n",
    "    def __init__(self, make, model, year):\n",
    "        # Reuse the parent class's __init__ method\n",
    "        super().__init__(make, model)\n",
    "        self.year = year\n",
    "\n",
    "car = Car(\"Toyota\", \"Corolla\", 2022)\n",
    "print(car.make, car.model, car.year)  # Output: Toyota Corolla 2022\n"
   ]
  },
  {
   "cell_type": "markdown",
   "metadata": {},
   "source": [
    "##### 2. Calling Parent Methods in Overridden Methods\n",
    "When you override a method in a subclass but still want to keep some behavior from the parent class's method, you can use super() to call the parent method inside the overridden method."
   ]
  },
  {
   "cell_type": "code",
   "execution_count": null,
   "metadata": {},
   "outputs": [],
   "source": [
    "class Employee:\n",
    "    def work(self):\n",
    "        return \"Employee works.\"\n",
    "\n",
    "class Manager(Employee):\n",
    "    def work(self):\n",
    "        return f\"{super().work()} Manager oversees.\"\n",
    "\n",
    "manager = Manager()\n",
    "print(manager.work())  # Output: Employee works. Manager oversees.\n"
   ]
  },
  {
   "cell_type": "markdown",
   "metadata": {
    "id": "Vc4kVRU0yvym"
   },
   "source": [
    "##### 3. Working with Multiple Inheritance\n",
    "In multiple inheritance, super() is especially useful to ensure that the method resolution follows the correct order according to the Method Resolution Order (MRO), avoiding potential problems like the Diamond Problem."
   ]
  },
  {
   "cell_type": "code",
   "execution_count": 30,
   "metadata": {
    "id": "Z6knwCGa0VhE"
   },
   "outputs": [
    {
     "name": "stdout",
     "output_type": "stream",
     "text": [
      "Method in D\n",
      "Method in B\n",
      "Method in C\n",
      "Method in A\n"
     ]
    }
   ],
   "source": [
    "class A:\n",
    "    def method(self):\n",
    "        print(\"Method in A\")\n",
    "\n",
    "class B(A):\n",
    "    def method(self):\n",
    "        print(\"Method in B\")\n",
    "        super().method()\n",
    "\n",
    "class C(A):\n",
    "    def method(self):\n",
    "        print(\"Method in C\")\n",
    "        super().method()\n",
    "\n",
    "class D(B, C):\n",
    "    def method(self):\n",
    "        print(\"Method in D\")\n",
    "        super().method()\n",
    "\n",
    "d = D()\n",
    "d.method()"
   ]
  },
  {
   "cell_type": "markdown",
   "metadata": {},
   "source": [
    "here in the above problem you can see that by calling `super.method()` once in class D also called the methods from both of its parents class. The reason behind this is python uses/follows MRO and it will execute methods from all classes according to MRO:\n",
    "\n",
    "**Method Resolution Order (MRO)**<br>\n",
    "Python uses the C3 linearization algorithm to determine the MRO, ensuring a consistent and predictable order for method lookups in multiple inheritance scenarios.\n",
    "\n",
    "To see the MRO of class D, you can use the `mro()` method or the `__mro__` attribute:"
   ]
  },
  {
   "cell_type": "code",
   "execution_count": 33,
   "metadata": {},
   "outputs": [
    {
     "name": "stdout",
     "output_type": "stream",
     "text": [
      "[<class '__main__.D'>, <class '__main__.B'>, <class '__main__.C'>, <class '__main__.A'>, <class 'object'>]\n",
      "(<class '__main__.D'>, <class '__main__.B'>, <class '__main__.C'>, <class '__main__.A'>, <class 'object'>)\n"
     ]
    }
   ],
   "source": [
    "print(D.mro())\n",
    "print(D.__mro__)"
   ]
  },
  {
   "cell_type": "markdown",
   "metadata": {},
   "source": [
    "So, from the above list we can say that it will execute the method from `Class D` then from `Class B` then from `Class C` and then `Class A`"
   ]
  },
  {
   "cell_type": "markdown",
   "metadata": {
    "id": "-DccXBIjYfGT"
   },
   "source": [
    "# Polymorphism\n",
    "Polymorphism is one of the core concepts of Object-Oriented Programming (OOP) that refers to the ability of different classes to provide different implementations of the same method. In simple terms, polymorphism means \"many forms\", allowing objects of different types to be treated in a unified way."
   ]
  },
  {
   "cell_type": "code",
   "execution_count": 34,
   "metadata": {
    "id": "Bnu4IK_uYfDx"
   },
   "outputs": [],
   "source": [
    "# In the examples given below we can see that the same method length acts \n",
    "# differently for Book class and Movie class\n",
    "# That's what Polymorphism is same method is in many forms\n",
    "\n",
    "class Book():\n",
    "  def __init__(self, name, pages):\n",
    "    self.name = name\n",
    "    self.pages = pages\n",
    "\n",
    "  def length(self):\n",
    "    return 'The book ' + self.name + ' is of ' + str(self.pages) + ' pages long.'\n",
    "\n",
    "my_book = Book('python', 300)\n",
    "my_book.length()"
   ]
  },
  {
   "cell_type": "code",
   "execution_count": 35,
   "metadata": {
    "id": "Y_vj9x4enrJR"
   },
   "outputs": [
    {
     "data": {
      "text/plain": [
       "'The movie The Imitation Game is of 2 hours long.'"
      ]
     },
     "execution_count": 35,
     "metadata": {},
     "output_type": "execute_result"
    }
   ],
   "source": [
    "class Movie():\n",
    "  def __init__(self, name, duration):\n",
    "    self.name = name\n",
    "    self.duration = duration\n",
    "\n",
    "  def length(self):\n",
    "    return 'The movie ' + self.name + ' is of ' + str(self.duration) + ' hours long.'\n",
    "\n",
    "my_movie = Movie('The Imitation Game', 2)\n",
    "my_movie.length()"
   ]
  },
  {
   "cell_type": "markdown",
   "metadata": {},
   "source": [
    "In Python, polymorphism can be achieved through:\n",
    "- `Operator Overloading` (defining custom behavior for operators like +, -, etc.).\n",
    "- `Method Overriding` (inherited methods from a parent class behave differently in child classes).\n",
    "- `Method Overloading` (though Python doesn’t natively support this, similar behavior can be achieved).\n",
    "- `Duck Typing` (a concept specific to Python and some other dynamic languages, where the actual type of an object doesn’t matter, only its behavior does).\n",
    "\n",
    "Polymorphism helps in writing more generic and flexible code, making it a powerful tool in software development."
   ]
  },
  {
   "cell_type": "markdown",
   "metadata": {
    "id": "CeiGzKDP2msn"
   },
   "source": [
    "## Operator Overloading\n",
    "Operator overloading allows you to define custom behavior for Python’s built-in operators like `+`, `-`, `*`, etc. This is a form of polymorphism where the behavior of an operator depends on the types of operands."
   ]
  },
  {
   "cell_type": "code",
   "execution_count": 41,
   "metadata": {
    "colab": {
     "base_uri": "https://localhost:8080/"
    },
    "executionInfo": {
     "elapsed": 3,
     "status": "ok",
     "timestamp": 1685613334943,
     "user": {
      "displayName": "Hrutik Nawade",
      "userId": "03506609053451396862"
     },
     "user_tz": -330
    },
    "id": "-hJI9OCrYfy1",
    "outputId": "885de556-3cea-414d-feac-f3108f1baade"
   },
   "outputs": [
    {
     "name": "stdout",
     "output_type": "stream",
     "text": [
      "5\n",
      "23\n",
      "[1, 2]\n"
     ]
    }
   ],
   "source": [
    "# '+' operator behaves differently for integer , string and list\n",
    "\n",
    "print(2 + 3)\n",
    "print('2' + '3')\n",
    "print([1] + [2])"
   ]
  },
  {
   "cell_type": "code",
   "execution_count": 45,
   "metadata": {
    "colab": {
     "base_uri": "https://localhost:8080/",
     "height": 36
    },
    "executionInfo": {
     "elapsed": 7,
     "status": "ok",
     "timestamp": 1685613343002,
     "user": {
      "displayName": "Hrutik Nawade",
      "userId": "03506609053451396862"
     },
     "user_tz": -330
    },
    "id": "DFUYY3FQYfvf",
    "outputId": "31aa64a9-95c3-474a-f502-cb21b9172c5b"
   },
   "outputs": [
    {
     "name": "stdout",
     "output_type": "stream",
     "text": [
      "6\n",
      "222\n",
      "[1, 1, 1, 1, 1, 1]\n"
     ]
    }
   ],
   "source": [
    "# '*' operator behaves differently for integer , string and list\n",
    "\n",
    "print(2 * 3)    # * is used to multiplication with integers \n",
    "print('2' * 3)   # while with other datatypes it used for replication\n",
    "print([1] * 6)"
   ]
  },
  {
   "cell_type": "code",
   "execution_count": 52,
   "metadata": {
    "colab": {
     "base_uri": "https://localhost:8080/"
    },
    "executionInfo": {
     "elapsed": 8,
     "status": "ok",
     "timestamp": 1685705887255,
     "user": {
      "displayName": "Hrutik Nawade",
      "userId": "03506609053451396862"
     },
     "user_tz": -330
    },
    "id": "c8fuBKyjYfr7",
    "outputId": "1cc212d7-6e5c-421c-ead0-bbb48fcba22b"
   },
   "outputs": [
    {
     "ename": "TypeError",
     "evalue": "unsupported operand type(s) for +: 'Book' and 'Book'",
     "output_type": "error",
     "traceback": [
      "\u001b[1;31m---------------------------------------------------------------------------\u001b[0m",
      "\u001b[1;31mTypeError\u001b[0m                                 Traceback (most recent call last)",
      "Cell \u001b[1;32mIn[52], line 10\u001b[0m\n\u001b[0;32m      8\u001b[0m b1 \u001b[38;5;241m=\u001b[39m Book(\u001b[38;5;241m100\u001b[39m)\n\u001b[0;32m      9\u001b[0m b2 \u001b[38;5;241m=\u001b[39m Book(\u001b[38;5;241m200\u001b[39m)\n\u001b[1;32m---> 10\u001b[0m \u001b[38;5;28mprint\u001b[39m(b1 \u001b[38;5;241m+\u001b[39m b2)\n",
      "\u001b[1;31mTypeError\u001b[0m: unsupported operand type(s) for +: 'Book' and 'Book'"
     ]
    }
   ],
   "source": [
    "# Ecample of operator overloading\n",
    "\n",
    "class Book:\n",
    "    \n",
    "    def __init__(self,pages):\n",
    "        self.pages=pages\n",
    "        \n",
    "b1 = Book(100)\n",
    "b2 = Book(200)\n",
    "print(b1 + b2) "
   ]
  },
  {
   "cell_type": "markdown",
   "metadata": {},
   "source": [
    "We can overload + operator to work with Book objects also. i.e Python supports Operator Overloading.\n",
    "\n",
    "For every operator Magic Methods are available. To overload any operator we have to override that Method in our class.<br>\n",
    "Internally `+` operator is implemented by using `__add__()` method.This method is called magic method for + operator. We have to override this method in our class. "
   ]
  },
  {
   "cell_type": "code",
   "execution_count": 53,
   "metadata": {},
   "outputs": [
    {
     "name": "stdout",
     "output_type": "stream",
     "text": [
      "The Total Number of Pages: 300\n"
     ]
    }
   ],
   "source": [
    "class Book:\n",
    "    \n",
    "    def __init__(self,pages):\n",
    "        self.pages=pages\n",
    "        \n",
    "    def __add__(self,other):\n",
    "        return self.pages+other.pages\n",
    "        \n",
    "b1=Book(100)\n",
    "b2=Book(200)\n",
    "print('The Total Number of Pages:',b1+b2) "
   ]
  },
  {
   "cell_type": "markdown",
   "metadata": {},
   "source": [
    "### Magic methods or dunder methods\n",
    "The problem with using OOP's is we cannot use built-in functions over user defined objects for no more longer.<br>\n",
    "In order to make Python’s built-in functions to work for user-defined class objects we need to make use of magic methods or dunder methods.\n",
    "\n",
    "- `+` ---> `__add__()`\n",
    "- `-` ---> `__sub__()`\n",
    "- `*` ---> `__mul__()`\n",
    "- `/` ---> `__div__()`\n",
    "- `//` ---> `__floordiv__()`\n",
    "- `%`---> `__mod__()`\n",
    "- `**` ---> `__pow__()`\n",
    "- `+=` ---> `__iadd__()`\n",
    "- `-=` ---> `__isub__()`\n",
    "- `*=` ---> `__imul__()`\n",
    "- `/=` ---> `__idiv__()`\n",
    "- `//=` ---> `__ifloordiv__()`\n",
    "- `%=` ---> `__imod__()`\n",
    "- `**=` ---> `__ipow__()`\n",
    "- `<`---> `__lt__()`\n",
    "- `<=` ---> `__le__()`\n",
    "- `>`---> `__gt__()`\n",
    "- `>=` ---> `__ge__()`\n",
    "- `==` ---> `__eq__()`\n",
    "- `!=` ---> `__ne__()`\n",
    "- `in` ---> `__contains__()`\n"
   ]
  },
  {
   "cell_type": "code",
   "execution_count": 65,
   "metadata": {},
   "outputs": [
    {
     "name": "stdout",
     "output_type": "stream",
     "text": [
      "10 > 20 =  False\n",
      "s1 > s2 = False\n",
      "s1 < s2 = True\n",
      "s1 <= s2 = True\n",
      "s1 >= s2 = False\n"
     ]
    }
   ],
   "source": [
    "class Student:\n",
    "    \n",
    "    def __init__(self,name,marks):\n",
    "        self.name = name\n",
    "        self.marks = marks\n",
    "        \n",
    "    def __gt__(self,other):\n",
    "        return self.marks > other.marks\n",
    "        \n",
    "    def __le__(self,other):\n",
    "        return self.marks <= other.marks\n",
    "\n",
    "\n",
    "print(\"10 > 20 = \",10 > 20)\n",
    "s1 = Student(\"Hrutik\",100)\n",
    "s2 = Student(\"Om\",200)\n",
    "print(\"s1 > s2 =\", s1 > s2)\n",
    "print(\"s1 < s2 =\", s1 < s2)\n",
    "print(\"s1 <= s2 =\", s1 <= s2)\n",
    "print(\"s1 >= s2 =\", s1 >= s2)"
   ]
  },
  {
   "cell_type": "code",
   "execution_count": 63,
   "metadata": {
    "id": "edSR4_LvYfI-"
   },
   "outputs": [
    {
     "name": "stdout",
     "output_type": "stream",
     "text": [
      "This Month Salary: 12500\n"
     ]
    }
   ],
   "source": [
    "# Program to overload multiplication operator to work on Employee objects:\n",
    "\n",
    "class Employee:\n",
    "\n",
    "    def __init__(self,name,salary):\n",
    "        self.name = name\n",
    "        self.salary = salary\n",
    "        \n",
    "    def __mul__(self,other):\n",
    "        return self.salary * other.days\n",
    "\n",
    "\n",
    "class TimeSheet:\n",
    "    \n",
    "    def __init__(self,name,days):\n",
    "        self.name = name\n",
    "        self.days = days\n",
    "\n",
    "\n",
    "e = Employee('Hrutik', 500)\n",
    "t = TimeSheet('Hrutik', 25)\n",
    "print('This Month Salary:',e * t) "
   ]
  },
  {
   "cell_type": "code",
   "execution_count": 64,
   "metadata": {},
   "outputs": [
    {
     "name": "stdout",
     "output_type": "stream",
     "text": [
      "Point(6, 8)\n"
     ]
    }
   ],
   "source": [
    "# program to get distance between two points\n",
    "\n",
    "class Point:\n",
    "    def __init__(self, x, y):\n",
    "        self.x = x\n",
    "        self.y = y\n",
    "\n",
    "    # Overloading the + operator\n",
    "    def __add__(self, other):\n",
    "        return Point(self.x + other.x, self.y + other.y)\n",
    "\n",
    "    def __str__(self):\n",
    "        return f\"Point({self.x}, {self.y})\"\n",
    "\n",
    "p1 = Point(2, 3)\n",
    "p2 = Point(4, 5)\n",
    "\n",
    "# Adding two Point objects using the + operator\n",
    "p3 = p1 + p2\n",
    "print(p3)  # Output: Point(6, 8)\n"
   ]
  },
  {
   "cell_type": "code",
   "execution_count": 12,
   "metadata": {
    "colab": {
     "base_uri": "https://localhost:8080/"
    },
    "executionInfo": {
     "elapsed": 9,
     "status": "ok",
     "timestamp": 1685775990205,
     "user": {
      "displayName": "Hrutik Nawade",
      "userId": "03506609053451396862"
     },
     "user_tz": -330
    },
    "id": "LfdcmfJ3Dg4D",
    "outputId": "0bdef72f-e80c-48cc-86f5-0e887ab0b138"
   },
   "outputs": [
    {
     "name": "stdout",
     "output_type": "stream",
     "text": [
      "<__main__.test object at 0x000001AFCCF2B950>\n"
     ]
    },
    {
     "ename": "TypeError",
     "evalue": "object of type 'test' has no len()",
     "output_type": "error",
     "traceback": [
      "\u001b[1;31m---------------------------------------------------------------------------\u001b[0m",
      "\u001b[1;31mTypeError\u001b[0m                                 Traceback (most recent call last)",
      "Cell \u001b[1;32mIn[12], line 8\u001b[0m\n\u001b[0;32m      5\u001b[0m t \u001b[38;5;241m=\u001b[39m test(\u001b[38;5;241m2\u001b[39m)\n\u001b[0;32m      6\u001b[0m \u001b[38;5;28mprint\u001b[39m(t)          \u001b[38;5;66;03m# it gives memory location where object is stored\u001b[39;00m\n\u001b[1;32m----> 8\u001b[0m \u001b[38;5;28mlen\u001b[39m(t)\n",
      "\u001b[1;31mTypeError\u001b[0m: object of type 'test' has no len()"
     ]
    }
   ],
   "source": [
    "class test():\n",
    "  def __init__(self, a):\n",
    "    self.a = a\n",
    "\n",
    "t = test(2)\n",
    "print(t)          # it gives memory location where object is stored\n",
    "\n",
    "len(t)      # we cannot use built-in functions over user defined objects\n",
    "            # in order to make Python’s built-in functions to work for user-defined class objects we need to make use of magic methods."
   ]
  },
  {
   "cell_type": "code",
   "execution_count": 14,
   "metadata": {
    "colab": {
     "base_uri": "https://localhost:8080/",
     "height": 36
    },
    "executionInfo": {
     "elapsed": 7,
     "status": "ok",
     "timestamp": 1685776139214,
     "user": {
      "displayName": "Hrutik Nawade",
      "userId": "03506609053451396862"
     },
     "user_tz": -330
    },
    "id": "T_5SB_mSDgzJ",
    "outputId": "022e850e-c3fa-4197-ea0d-f31afa3308a5"
   },
   "outputs": [
    {
     "data": {
      "text/plain": [
       "'<__main__.test object at 0x000001AFCCF2B950>'"
      ]
     },
     "execution_count": 14,
     "metadata": {},
     "output_type": "execute_result"
    }
   ],
   "source": [
    "str(t)   # it won't return any object unless defined inside class"
   ]
  },
  {
   "cell_type": "code",
   "execution_count": 15,
   "metadata": {
    "id": "-q80MYu1G0jL"
   },
   "outputs": [
    {
     "data": {
      "text/plain": [
       "'5'"
      ]
     },
     "execution_count": 15,
     "metadata": {},
     "output_type": "execute_result"
    }
   ],
   "source": [
    "# __str__()   # the magic methods can be used in two ways\n",
    "\n",
    "str(5)         # ca be used as function and\n",
    "(5).__str__()  # a magic method itself"
   ]
  },
  {
   "cell_type": "code",
   "execution_count": 17,
   "metadata": {
    "id": "GsvNRBWWG0bG"
   },
   "outputs": [
    {
     "data": {
      "text/plain": [
       "'5'"
      ]
     },
     "execution_count": 17,
     "metadata": {},
     "output_type": "execute_result"
    }
   ],
   "source": [
    "class test():\n",
    "  def __init__(self, a):\n",
    "    self.a = a\n",
    "  def __str__(self):    # defined inside class\n",
    "    return str(self.a)\n",
    "\n",
    "\n",
    "t = test(5)\n",
    "str(t)"
   ]
  },
  {
   "cell_type": "code",
   "execution_count": 19,
   "metadata": {
    "id": "pij0U7gbSBeY"
   },
   "outputs": [
    {
     "data": {
      "text/plain": [
       "(True, True, False)"
      ]
     },
     "execution_count": 19,
     "metadata": {},
     "output_type": "execute_result"
    }
   ],
   "source": [
    "# __lt__(), __ge__(), __ne__()\n",
    "\n",
    "class test():\n",
    "  def __init__(self, a):\n",
    "    self.a = a\n",
    "  def __lt__(self, other_object):\n",
    "    return self.a <= other_object.a\n",
    "  def __ge__(self, other_object):\n",
    "    return self.a >= other_object.a\n",
    "  def __ne__(self, other_object):\n",
    "    return self.a != other_object.a\n",
    "\n",
    "\n",
    "m = test(5)\n",
    "n = test(2)\n",
    "m >= n , m != n, m<n"
   ]
  },
  {
   "cell_type": "code",
   "execution_count": 31,
   "metadata": {
    "id": "IALP2rqnSBHw"
   },
   "outputs": [
    {
     "name": "stdout",
     "output_type": "stream",
     "text": [
      "True False\n"
     ]
    },
    {
     "data": {
      "text/plain": [
       "(True, False)"
      ]
     },
     "execution_count": 31,
     "metadata": {},
     "output_type": "execute_result"
    }
   ],
   "source": [
    "# __contains__()\n",
    "\n",
    "print(5 in [1, 2, 3, 4, 5], 5 in (1, 2, 3, 4))\n",
    "([1, 2, 3, 4, 5]).__contains__(5), ((1,2,3,4)).__contains__(5)"
   ]
  },
  {
   "cell_type": "code",
   "execution_count": 22,
   "metadata": {
    "id": "F2r88KPMYxWg"
   },
   "outputs": [
    {
     "data": {
      "text/plain": [
       "(True, True)"
      ]
     },
     "execution_count": 22,
     "metadata": {},
     "output_type": "execute_result"
    }
   ],
   "source": [
    "class test():\n",
    "  def __init__(self, a):\n",
    "    self.a = a\n",
    "  def __contains__(self, value):\n",
    "    return value in self.a\n",
    "\n",
    "\n",
    "x = test([1, 2, 3, 4, 5])\n",
    "y = test((1, 2, 3, 5))\n",
    "\n",
    "5 in x, 5 in y"
   ]
  },
  {
   "cell_type": "code",
   "execution_count": 23,
   "metadata": {
    "colab": {
     "base_uri": "https://localhost:8080/"
    },
    "executionInfo": {
     "elapsed": 415,
     "status": "ok",
     "timestamp": 1685785816807,
     "user": {
      "displayName": "Hrutik Nawade",
      "userId": "03506609053451396862"
     },
     "user_tz": -330
    },
    "id": "DA2W-iNTqcnq",
    "outputId": "bced57b5-0a82-49f5-aca6-086e9a0fa6d3"
   },
   "outputs": [
    {
     "data": {
      "text/plain": [
       "[4, 64, 74, 6]"
      ]
     },
     "execution_count": 23,
     "metadata": {},
     "output_type": "execute_result"
    }
   ],
   "source": [
    "('python', 13, True, [4,64,74,6]).__getitem__(3)"
   ]
  },
  {
   "cell_type": "code",
   "execution_count": 24,
   "metadata": {
    "id": "6W1LH58ckuNf"
   },
   "outputs": [
    {
     "data": {
      "text/plain": [
       "5"
      ]
     },
     "execution_count": 24,
     "metadata": {},
     "output_type": "execute_result"
    }
   ],
   "source": [
    "class test():\n",
    "  def __init__(self, a):\n",
    "    self.a = a\n",
    "  def __len__(self):\n",
    "    return len(self.a)\n",
    "  def __getitem__(self, index):\n",
    "    return self.a[index]\n",
    "\n",
    "\n",
    "t = test([3, 3,2,52 ,3])\n",
    "len(t)"
   ]
  },
  {
   "cell_type": "code",
   "execution_count": 29,
   "metadata": {
    "id": "QfsIg_nApEPe"
   },
   "outputs": [
    {
     "data": {
      "text/plain": [
       "'the __call__() method is called'"
      ]
     },
     "execution_count": 29,
     "metadata": {},
     "output_type": "execute_result"
    }
   ],
   "source": [
    "# __call__()\n",
    "\n",
    "class test:\n",
    "\n",
    "  def __call__(self):\n",
    "    return 'the __call__() method is called'\n",
    "\n",
    "\n",
    "t = test()\n",
    "t()"
   ]
  },
  {
   "cell_type": "markdown",
   "metadata": {
    "id": "8HacuUXe2mny",
    "jp-MarkdownHeadingCollapsed": true
   },
   "source": [
    "## Method overloading\n",
    "**Compile-Time Polymorphism**<br>\n",
    "Python `does not support method overloading natively` (where methods in a class have the same name but different parameters). However, we can simulate it using default arguments or by using *args and **kwargs to accept a variable number of arguments."
   ]
  },
  {
   "cell_type": "code",
   "execution_count": 71,
   "metadata": {
    "id": "IUf8IVVR--gM"
   },
   "outputs": [
    {
     "data": {
      "text/plain": [
       "12"
      ]
     },
     "execution_count": 71,
     "metadata": {},
     "output_type": "execute_result"
    }
   ],
   "source": [
    "# Python by default does not support Method Overloading since two methods cannot have the same name in Python.\n",
    "# and if we create two methods with same name then it considers the last occurence of it\n",
    "\n",
    "class test():\n",
    "\n",
    "  def add(self, a, b):    # method with 2 arguments\n",
    "    self.a = a\n",
    "    self.b = b\n",
    "    return self.a + self.b\n",
    "\n",
    "  def add(self, a, b, c):    # method with 3 arguments\n",
    "    self.a = a\n",
    "    self.b = b\n",
    "    self.c = c\n",
    "    return self.a + self.b + self.c\n",
    "\n",
    "t = test()\n",
    "t.add(3, 5, 4)  # here it is considering the add method with 3 arguments\n",
    "# t.add(3, 5)   # here this method with 2 argument will give error"
   ]
  },
  {
   "cell_type": "markdown",
   "metadata": {},
   "source": [
    "#### How we can handle overloaded method requirements in Python:\n",
    "Most of the times, if method with variable number of arguments required then we can handle with default arguments or with variable number of argument methods."
   ]
  },
  {
   "cell_type": "code",
   "execution_count": 75,
   "metadata": {},
   "outputs": [
    {
     "name": "stdout",
     "output_type": "stream",
     "text": [
      "The Sum of 2 Numbers: 30\n",
      "The Sum of 3 Numbers: 60\n",
      "Please provide 2 or 3 arguments\n"
     ]
    }
   ],
   "source": [
    "# for limited number of arguments\n",
    "\n",
    "class Test:\n",
    "    \n",
    "    def sum(self,a=None,b=None,c=None):\n",
    "        \n",
    "        if a!=None and b!= None and c!= None:\n",
    "            print('The Sum of 3 Numbers:',a+b+c)\n",
    "            \n",
    "        elif a!=None and b!= None:\n",
    "            print('The Sum of 2 Numbers:',a+b)\n",
    "            \n",
    "        else:\n",
    "            print('Please provide 2 or 3 arguments')\n",
    "\n",
    "t = Test()\n",
    "t.sum(10,20)\n",
    "t.sum(10,20,30)\n",
    "t.sum(10)"
   ]
  },
  {
   "cell_type": "code",
   "execution_count": 79,
   "metadata": {},
   "outputs": [
    {
     "name": "stdout",
     "output_type": "stream",
     "text": [
      "The Sum: 30\n",
      "The Sum: 60\n",
      "The Sum: 10\n",
      "The Sum: 0\n"
     ]
    }
   ],
   "source": [
    "# for unlimited arguments\n",
    "\n",
    "class Test:\n",
    "    \n",
    "    def sum(self,*a):\n",
    "        total = 0\n",
    "        for x in a:\n",
    "            total = total + x\n",
    "        print('The Sum:', total)\n",
    "        \n",
    "t = Test()\n",
    "t.sum(10, 20)\n",
    "t.sum(10, 20, 30)\n",
    "t.sum(10)\n",
    "t.sum() "
   ]
  },
  {
   "cell_type": "code",
   "execution_count": null,
   "metadata": {},
   "outputs": [],
   "source": []
  },
  {
   "cell_type": "markdown",
   "metadata": {
    "id": "YrnUziPj2mZY",
    "jp-MarkdownHeadingCollapsed": true
   },
   "source": [
    "## Method Overriding\n",
    "**Run-Time Polymorphism**<br>\n",
    "Method overriding occurs when a subclass provides a specific implementation of a method that is already defined in its superclass. This is an example of run-time polymorphism because the method to be executed is determined at runtime.\n",
    "\n",
    "What ever members available in the parent class are bydefault available to the child class through\n",
    "inheritance. If the child class not satisfied with parent class implementation then child class is\n",
    "allowed to redefine that method in the child class based on its requirement. This concept is called\n",
    "overriding.\n",
    "\n",
    "Overriding concept applicable for both methods and constructors."
   ]
  },
  {
   "cell_type": "code",
   "execution_count": 82,
   "metadata": {},
   "outputs": [
    {
     "name": "stdout",
     "output_type": "stream",
     "text": [
      "Gold + Land + Cash + Power\n",
      "Katrina Kaif\n"
     ]
    }
   ],
   "source": [
    "class P:\n",
    "    \n",
    "    def property(self):\n",
    "        print('Gold + Land + Cash + Power')\n",
    "    \n",
    "    def marry(self):       # here this method is overridden by childs method\n",
    "        print('Appalamma')\n",
    "    \n",
    "class C(P):\n",
    "    \n",
    "    def marry(self):\n",
    "        print('Katrina Kaif')\n",
    "        \n",
    "c = C()\n",
    "c.property()\n",
    "c.marry()"
   ]
  },
  {
   "cell_type": "code",
   "execution_count": null,
   "metadata": {},
   "outputs": [],
   "source": []
  },
  {
   "cell_type": "code",
   "execution_count": 84,
   "metadata": {},
   "outputs": [
    {
     "name": "stdout",
     "output_type": "stream",
     "text": [
      "Gold + Land + Cash + Power\n",
      "Appalamma\n",
      "Katrina Kaif\n"
     ]
    }
   ],
   "source": [
    "class P:\n",
    "    \n",
    "    def property(self):\n",
    "        print('Gold + Land + Cash + Power')\n",
    "        \n",
    "    def marry(self):\n",
    "        print('Appalamma')\n",
    "        \n",
    "class C(P):\n",
    "    \n",
    "    def marry(self):\n",
    "        super().marry()   # uses parents method using super()\n",
    "        print('Katrina Kaif')\n",
    "        \n",
    "c = C()\n",
    "c.property()\n",
    "c.marry() "
   ]
  },
  {
   "cell_type": "code",
   "execution_count": null,
   "metadata": {
    "colab": {
     "base_uri": "https://localhost:8080/",
     "height": 36
    },
    "executionInfo": {
     "elapsed": 8,
     "status": "ok",
     "timestamp": 1685775508208,
     "user": {
      "displayName": "Hrutik Nawade",
      "userId": "03506609053451396862"
     },
     "user_tz": -330
    },
    "id": "Ow1vzfh92mT1",
    "outputId": "20a42254-b771-4546-df78-193ce8ec72a4"
   },
   "outputs": [
    {
     "data": {
      "application/vnd.google.colaboratory.intrinsic+json": {
       "type": "string"
      },
      "text/plain": [
       "'This is parent class'"
      ]
     },
     "execution_count": 12,
     "metadata": {},
     "output_type": "execute_result"
    }
   ],
   "source": [
    "class Parent():\n",
    "  def info(self):\n",
    "    return 'This is parent class'\n",
    "\n",
    "class Child(Parent):\n",
    "  pass\n",
    "  # def info(self):\n",
    "    # return 'This is child class'\n",
    "\n",
    "c = Child()\n",
    "c.info()"
   ]
  },
  {
   "cell_type": "markdown",
   "metadata": {
    "id": "JC1lLTyY2mQq"
   },
   "source": [
    "In Python we cannot specify the type explicitly. Based on provided value at runtime the type will be considered automatically. Hence Python is considered as Dynamically Typed Programming Language.\n",
    "```python\n",
    "def f1(obj):\n",
    "    obj.talk()\n",
    "```\n",
    "What is the type of obj? We cannot decide at the beginning. At runtime we can pass any type of value. Then how it automatically decide the type of it.<br>\n",
    "At runtime if *'it walks like a duck and talks like a duck, it must be duck'*.<br>\n",
    "Python follows this principle. This is called Duck Typing Philosophy of Python."
   ]
  },
  {
   "cell_type": "code",
   "execution_count": 87,
   "metadata": {},
   "outputs": [
    {
     "name": "stdout",
     "output_type": "stream",
     "text": [
      "Quack.. Quack..\n",
      "Moew Moew ..\n",
      "Bow Bow..\n",
      "Myaah Myaah ..\n"
     ]
    }
   ],
   "source": [
    "class Duck:\n",
    "    def talk(self):\n",
    "        print('Quack.. Quack..')\n",
    "        \n",
    "class Dog:\n",
    "    def talk(self):\n",
    "        print('Bow Bow..')\n",
    "        \n",
    "class Cat:\n",
    "    def talk(self):\n",
    "        print('Moew Moew ..')\n",
    "        \n",
    "class Goat:\n",
    "    def talk(self):\n",
    "        print('Myaah Myaah ..')\n",
    "        \n",
    "def f1(obj):\n",
    "    obj.talk()\n",
    "    \n",
    "l= [Duck(), Cat(), Dog(), Goat()]\n",
    "for obj in l:\n",
    "    f1(obj) "
   ]
  },
  {
   "cell_type": "code",
   "execution_count": 89,
   "metadata": {},
   "outputs": [
    {
     "name": "stdout",
     "output_type": "stream",
     "text": [
      "Quack.. Quack..\n"
     ]
    },
    {
     "ename": "AttributeError",
     "evalue": "'Dog' object has no attribute 'talk'",
     "output_type": "error",
     "traceback": [
      "\u001b[1;31m---------------------------------------------------------------------------\u001b[0m",
      "\u001b[1;31mAttributeError\u001b[0m                            Traceback (most recent call last)",
      "Cell \u001b[1;32mIn[89], line 17\u001b[0m\n\u001b[0;32m     15\u001b[0m f1(d) \n\u001b[0;32m     16\u001b[0m d \u001b[38;5;241m=\u001b[39m Dog()\n\u001b[1;32m---> 17\u001b[0m f1(d)\n",
      "Cell \u001b[1;32mIn[89], line 12\u001b[0m, in \u001b[0;36mf1\u001b[1;34m(obj)\u001b[0m\n\u001b[0;32m     11\u001b[0m \u001b[38;5;28;01mdef\u001b[39;00m \u001b[38;5;21mf1\u001b[39m(obj):\n\u001b[1;32m---> 12\u001b[0m     obj\u001b[38;5;241m.\u001b[39mtalk()\n",
      "\u001b[1;31mAttributeError\u001b[0m: 'Dog' object has no attribute 'talk'"
     ]
    }
   ],
   "source": [
    "# The problem in this approach is if obj does not contain talk() method then we will get AttributeError\n",
    "\n",
    "class Duck:\n",
    "    def talk(self):\n",
    "        print('Quack.. Quack..')\n",
    "        \n",
    "class Dog:\n",
    "    def bark(self):\n",
    "        print('Bow Bow..')\n",
    "        \n",
    "def f1(obj):\n",
    "    obj.talk()\n",
    "    \n",
    "d = Duck()\n",
    "f1(d) \n",
    "d = Dog()\n",
    "f1(d) "
   ]
  },
  {
   "cell_type": "code",
   "execution_count": 92,
   "metadata": {},
   "outputs": [
    {
     "name": "stdout",
     "output_type": "stream",
     "text": [
      "Quack.. Quack..\n",
      "Hello Hi...\n",
      "Bow Bow..\n"
     ]
    }
   ],
   "source": [
    "class Duck:\n",
    "    def talk(self):\n",
    "        print('Quack.. Quack..')\n",
    "        \n",
    "class Human:\n",
    "    def talk(self):\n",
    "        print('Hello Hi...')\n",
    "    \n",
    "class Dog:\n",
    "    def bark(self):\n",
    "        print('Bow Bow..')\n",
    "        \n",
    "def f1(obj):\n",
    "    # Return whether the object has an attribute with the given name.\n",
    "    # if has returns true\n",
    "    if hasattr(obj,'talk'):\n",
    "        obj.talk()\n",
    "    elif hasattr(obj,'bark'):\n",
    "        obj.bark()\n",
    "        \n",
    "d = Duck()\n",
    "f1(d)\n",
    "h = Human()\n",
    "f1(h)\n",
    "d = Dog()\n",
    "f1(d)"
   ]
  },
  {
   "cell_type": "code",
   "execution_count": 86,
   "metadata": {},
   "outputs": [
    {
     "name": "stdout",
     "output_type": "stream",
     "text": [
      "Bird is flying.\n",
      "Airplane is flying.\n"
     ]
    },
    {
     "ename": "AttributeError",
     "evalue": "'Fish' object has no attribute 'fly'",
     "output_type": "error",
     "traceback": [
      "\u001b[1;31m---------------------------------------------------------------------------\u001b[0m",
      "\u001b[1;31mAttributeError\u001b[0m                            Traceback (most recent call last)",
      "Cell \u001b[1;32mIn[86], line 23\u001b[0m\n\u001b[0;32m     20\u001b[0m make_it_fly(bird)  \n\u001b[0;32m     21\u001b[0m make_it_fly(plane) \n\u001b[1;32m---> 23\u001b[0m make_it_fly(Fish())\n",
      "Cell \u001b[1;32mIn[86], line 15\u001b[0m, in \u001b[0;36mmake_it_fly\u001b[1;34m(entity)\u001b[0m\n\u001b[0;32m     14\u001b[0m \u001b[38;5;28;01mdef\u001b[39;00m \u001b[38;5;21mmake_it_fly\u001b[39m(entity):\n\u001b[1;32m---> 15\u001b[0m     \u001b[38;5;28mprint\u001b[39m(entity\u001b[38;5;241m.\u001b[39mfly())\n",
      "\u001b[1;31mAttributeError\u001b[0m: 'Fish' object has no attribute 'fly'"
     ]
    }
   ],
   "source": [
    "class Bird:\n",
    "    def fly(self):\n",
    "        return \"Bird is flying.\"\n",
    "\n",
    "class Airplane:\n",
    "    def fly(self):\n",
    "        return \"Airplane is flying.\"\n",
    "\n",
    "class Fish:\n",
    "    def swim(self):\n",
    "        return \"Fish is swimming.\"\n",
    "\n",
    "# Function that works on objects that have a fly() method\n",
    "def make_it_fly(entity):\n",
    "    print(entity.fly())\n",
    "\n",
    "bird = Bird()\n",
    "plane = Airplane()\n",
    "\n",
    "make_it_fly(bird)  \n",
    "make_it_fly(plane)\n",
    "# make_it_fly(Fish())"
   ]
  },
  {
   "cell_type": "code",
   "execution_count": null,
   "metadata": {},
   "outputs": [],
   "source": []
  },
  {
   "cell_type": "markdown",
   "metadata": {
    "id": "TW8atxkq0xPS"
   },
   "source": [
    "# Encapsulation\n",
    "Encapsulation is one of the fundamental concepts of object-oriented programming (OOP). It refers to the bundling of data (variables) and methods (functions) that operate on that data into a single unit, usually a class. Encapsulation also restricts direct access to some of the object's components, which is a means of preventing accidental or unauthorized modification of data.\n",
    "\n",
    "In Python, encapsulation is implemented through access modifiers: \n",
    "- public\n",
    "- protected\n",
    "- private<br>\n",
    "\n",
    "attributes and methods."
   ]
  },
  {
   "cell_type": "code",
   "execution_count": 32,
   "metadata": {
    "id": "elBRGwL10xL6"
   },
   "outputs": [
    {
     "data": {
      "text/plain": [
       "'This is my ferrari'"
      ]
     },
     "execution_count": 32,
     "metadata": {},
     "output_type": "execute_result"
    }
   ],
   "source": [
    "# Here class car wraps or encapsulates data stored in a variable my_car and method info()\n",
    "\n",
    "class Car():\n",
    "\n",
    "  my_car = 'ferrari'\n",
    "\n",
    "  def __init__(self):\n",
    "    pass\n",
    "\n",
    "  def info(self):\n",
    "    return 'This is my ' + self.my_car\n",
    "\n",
    "\n",
    "ferrari = Car()\n",
    "ferrari.info()"
   ]
  },
  {
   "cell_type": "markdown",
   "metadata": {
    "colab": {
     "base_uri": "https://localhost:8080/",
     "height": 36
    },
    "executionInfo": {
     "elapsed": 11,
     "status": "ok",
     "timestamp": 1685689945745,
     "user": {
      "displayName": "Hrutik Nawade",
      "userId": "03506609053451396862"
     },
     "user_tz": -330
    },
    "id": "Iprjxvcl0xFn",
    "outputId": "02750240-aaf0-4844-cb1b-fc44a7fa255f"
   },
   "source": [
    "#### Bundling Data and Methods Together:\n",
    "Encapsulation allows the creation of classes that bundle both the data and methods operating on that data into one unit.<br>\n",
    "For example, consider a class Car:<br>\n",
    "Here, the attributes make and model and the method display_info() are bundled together in the class Car."
   ]
  },
  {
   "cell_type": "code",
   "execution_count": 35,
   "metadata": {
    "id": "GclRMSqS80iZ"
   },
   "outputs": [
    {
     "name": "stdout",
     "output_type": "stream",
     "text": [
      "Toyota\n",
      "Car: Toyota Fortuner\n"
     ]
    }
   ],
   "source": [
    "class Car:\n",
    "    def __init__(self, make, model):\n",
    "        self.make = make  # public attribute\n",
    "        self.model = model  # public attribute\n",
    "\n",
    "    def display_info(self):\n",
    "        print(f\"Car: {self.make} {self.model}\")\n",
    "\n",
    "\n",
    "car = Car(\"Toyota\", \"Fortuner\")\n",
    "print(car.make)  \n",
    "car.display_info() "
   ]
  },
  {
   "cell_type": "markdown",
   "metadata": {
    "id": "pGGklC6R9Xga"
   },
   "source": [
    "## Pubic, Protected and Private Attributes and Methods"
   ]
  },
  {
   "cell_type": "markdown",
   "metadata": {},
   "source": [
    "### Public Members\n",
    "In Python, by default, all attributes and methods are public, meaning they can be accessed from outside the class."
   ]
  },
  {
   "cell_type": "code",
   "execution_count": 36,
   "metadata": {},
   "outputs": [
    {
     "name": "stdout",
     "output_type": "stream",
     "text": [
      "Toyota\n",
      "Car: Toyota Camry\n"
     ]
    }
   ],
   "source": [
    "car = Car(\"Toyota\", \"Camry\")\n",
    "print(car.make)  \n",
    "car.display_info()  "
   ]
  },
  {
   "cell_type": "markdown",
   "metadata": {},
   "source": [
    "### Protected Members\n",
    "Python also supports protected attributes and methods, which can be indicated by a single underscore (_). <br>\n",
    "This is a convention, not a strict rule. <br>\n",
    "Protected members are intended to be accessed only within the class and its subclasses, but they can still be accessed outside the class (though it’s not advised)."
   ]
  },
  {
   "cell_type": "code",
   "execution_count": 39,
   "metadata": {},
   "outputs": [
    {
     "name": "stdout",
     "output_type": "stream",
     "text": [
      "Toyota\n"
     ]
    }
   ],
   "source": [
    "class Car:\n",
    "    def __init__(self, make, model):\n",
    "        self._make = make  # Protected attribute\n",
    "\n",
    "    def display_info(self):\n",
    "        print(f\"Car: {self._make}\")\n",
    "\n",
    "car = Car(\"Toyota\", \"Camry\")\n",
    "print(car._make)  # Although possible, this access is discouraged"
   ]
  },
  {
   "cell_type": "code",
   "execution_count": 43,
   "metadata": {},
   "outputs": [
    {
     "name": "stdout",
     "output_type": "stream",
     "text": [
      "Suresh\n",
      "Ramesh\n"
     ]
    }
   ],
   "source": [
    "class Person():\n",
    "\n",
    "  _country = 'India'        # protected class attribute\n",
    "\n",
    "  def __init__(self, name_of_student):\n",
    "    self._name = name_of_student\n",
    "\n",
    "\n",
    "p1 = Person('Suresh')\n",
    "print(p1._name)          # accessing protected attribute\n",
    "p1._name = 'Ramesh'      # modifying protected attribute\n",
    "print(p1._name)          # Although possible but not advised/recommended"
   ]
  },
  {
   "cell_type": "markdown",
   "metadata": {},
   "source": [
    "### Private Members\n",
    "Python allows us to define private members by using double underscores before the attribute or method name. These members cannot be accessed or modified directly from outside the class, providing controlled access to critical parts of the class."
   ]
  },
  {
   "cell_type": "code",
   "execution_count": 37,
   "metadata": {},
   "outputs": [],
   "source": [
    "class Car:\n",
    "    def __init__(self, make, model):\n",
    "        self.__make = make  # Private attribute\n",
    "        self.__model = model  # Private attribute\n",
    "\n",
    "    def display_info(self):\n",
    "        print(f\"Car: {self.__make} {self.__model}\")"
   ]
  },
  {
   "cell_type": "code",
   "execution_count": 38,
   "metadata": {},
   "outputs": [
    {
     "ename": "AttributeError",
     "evalue": "'Car' object has no attribute '__make'",
     "output_type": "error",
     "traceback": [
      "\u001b[1;31m---------------------------------------------------------------------------\u001b[0m",
      "\u001b[1;31mAttributeError\u001b[0m                            Traceback (most recent call last)",
      "Cell \u001b[1;32mIn[38], line 2\u001b[0m\n\u001b[0;32m      1\u001b[0m car \u001b[38;5;241m=\u001b[39m Car(\u001b[38;5;124m\"\u001b[39m\u001b[38;5;124mToyota\u001b[39m\u001b[38;5;124m\"\u001b[39m, \u001b[38;5;124m\"\u001b[39m\u001b[38;5;124mCamry\u001b[39m\u001b[38;5;124m\"\u001b[39m)\n\u001b[1;32m----> 2\u001b[0m \u001b[38;5;28mprint\u001b[39m(car\u001b[38;5;241m.\u001b[39m__make)\n",
      "\u001b[1;31mAttributeError\u001b[0m: 'Car' object has no attribute '__make'"
     ]
    }
   ],
   "source": [
    "car = Car(\"Toyota\", \"Camry\")\n",
    "print(car.__make)  # This will raise an AttributeError"
   ]
  },
  {
   "cell_type": "code",
   "execution_count": 55,
   "metadata": {
    "id": "hW7kX-B19XK0"
   },
   "outputs": [
    {
     "data": {
      "text/plain": [
       "'10'"
      ]
     },
     "execution_count": 55,
     "metadata": {},
     "output_type": "execute_result"
    }
   ],
   "source": [
    "# have a look for  person class containing public and private members\n",
    "\n",
    "class Person():\n",
    "\n",
    "  phone_no = '23453452344'    # public class attributes\n",
    "  __country = 'India'         # private class attributes\n",
    "\n",
    "  def __init__(self, age, name):\n",
    "    self.age = age              # Public instsance attribute\n",
    "    self.__name = name          # private instance attribute\n",
    "\n",
    "  def general_info(self):       # public method\n",
    "    return 'My number is ' + self.phone_no + ' and I am from ' + self.age\n",
    "\n",
    "  def __residence(self):        # private method\n",
    "    return 'My name is ' + self.__name + ' and I am from ' + self.__country\n",
    "\n",
    "\n",
    "p1 = Person('10', 'Ramesh')\n",
    "p1.age                # accessing public instance attribute"
   ]
  },
  {
   "cell_type": "code",
   "execution_count": 57,
   "metadata": {},
   "outputs": [
    {
     "ename": "AttributeError",
     "evalue": "'Person' object has no attribute '__residence'",
     "output_type": "error",
     "traceback": [
      "\u001b[1;31m---------------------------------------------------------------------------\u001b[0m",
      "\u001b[1;31mAttributeError\u001b[0m                            Traceback (most recent call last)",
      "Cell \u001b[1;32mIn[57], line 1\u001b[0m\n\u001b[1;32m----> 1\u001b[0m p1\u001b[38;5;241m.\u001b[39m__residence()\n",
      "\u001b[1;31mAttributeError\u001b[0m: 'Person' object has no attribute '__residence'"
     ]
    }
   ],
   "source": [
    "p1.__residence()    # we cannot access private members"
   ]
  },
  {
   "cell_type": "markdown",
   "metadata": {},
   "source": [
    "Although we can access them with the help of name mangling but its not recommended\n",
    "\n",
    "#### Name Mangling\n",
    "Python internally performs a process called name mangling to avoid accidental access to private variables. It changes the name of the private variables to include the class name. So, if you really need to access private members (though not recommended), you can use this name-mangled form:\r\n"
   ]
  },
  {
   "cell_type": "code",
   "execution_count": 64,
   "metadata": {
    "colab": {
     "base_uri": "https://localhost:8080/",
     "height": 36
    },
    "executionInfo": {
     "elapsed": 5,
     "status": "ok",
     "timestamp": 1685693648704,
     "user": {
      "displayName": "Hrutik Nawade",
      "userId": "03506609053451396862"
     },
     "user_tz": -330
    },
    "id": "P55erid1FHzm",
    "outputId": "9c9b47c0-6371-4c67-ff9a-43b4f941e3de"
   },
   "outputs": [
    {
     "name": "stdout",
     "output_type": "stream",
     "text": [
      "Japan\n",
      "Ramesh\n"
     ]
    },
    {
     "data": {
      "text/plain": [
       "'My name is Ramesh and I am from Japan'"
      ]
     },
     "execution_count": 64,
     "metadata": {},
     "output_type": "execute_result"
    }
   ],
   "source": [
    "# accessing private attribute using name mangling\n",
    "print(p1._Person__country)    \n",
    "print(p1._Person__name)\n",
    "p1._Person__residence()"
   ]
  },
  {
   "cell_type": "code",
   "execution_count": 65,
   "metadata": {
    "id": "d908ETgmKSVN"
   },
   "outputs": [
    {
     "data": {
      "text/plain": [
       "'Japan'"
      ]
     },
     "execution_count": 65,
     "metadata": {},
     "output_type": "execute_result"
    }
   ],
   "source": [
    "# modifying private members\n",
    "\n",
    "p1._Person__country = 'Japan'\n",
    "p1._Person__country"
   ]
  },
  {
   "cell_type": "code",
   "execution_count": 66,
   "metadata": {
    "id": "vT49n-mlLyot"
   },
   "outputs": [
    {
     "data": {
      "text/plain": [
       "'India'"
      ]
     },
     "execution_count": 66,
     "metadata": {},
     "output_type": "execute_result"
    }
   ],
   "source": [
    "p2 = Person(34, 'Hrutik')\n",
    "p2._Person__country"
   ]
  },
  {
   "cell_type": "markdown",
   "metadata": {},
   "source": [
    "If Name mangling is not recommended then how to deal with private members <br>\n",
    "The solution to this is Getters and Setters Methods\n",
    "\n",
    "#### Getters and Setters\n",
    "Encapsulation also encourages the use of getter and setter methods to control access to private attributes. This allows for validation and fine-tuned control over how attributes are accessed or modified."
   ]
  },
  {
   "cell_type": "code",
   "execution_count": 68,
   "metadata": {},
   "outputs": [
    {
     "name": "stdout",
     "output_type": "stream",
     "text": [
      "Toyota\n",
      "Honda\n"
     ]
    }
   ],
   "source": [
    "class Car:\n",
    "    def __init__(self, make, model):\n",
    "        self.__make = make  # Private attribute\n",
    "        self.__model = model  # Private attribute\n",
    "\n",
    "    def get_make(self):\n",
    "        return self.__make  # Getter\n",
    "\n",
    "    def set_make(self, make):\n",
    "        if make.isalpha():  # Simple validation check\n",
    "            self.__make = make  # Setter\n",
    "        else:\n",
    "            print(\"Invalid make\")\n",
    "\n",
    "\n",
    "car = Car(\"Toyota\", \"Camry\")\n",
    "print(car.get_make())  # Accessing using getter\n",
    "car.set_make(\"Honda\")  # Modifying using setter with validation \n",
    "print(car.get_make())"
   ]
  },
  {
   "cell_type": "markdown",
   "metadata": {
    "id": "r5SvDcYVPq8k"
   },
   "source": [
    "#### Property decorator\n",
    "The @property decorator in Python is a powerful feature for encapsulation. It allows you to define methods that can be accessed like attributes, making it easier to control access to class attributes without the need for explicit getter and setter methods.<br>\n",
    "This improves the readability and maintainability of the code while keeping the benefits of encapsulation, such as validation and controlled access to data.\n",
    "\n",
    "Without the @property decorator, we would typically use getter and setter methods to access or modify private attributes.<br>\n",
    "The `@property` decorator allows you to convert a method into an attribute-style access. This reduces the need to explicitly call getter and setter methods, providing a cleaner and more Pythonic way to manage attributes.\n",
    "\n",
    "##### Getter using property decorator\n",
    "The `@property` decorator makes the method name() behave like an attribute. Now you can access Person.name directly, even though it's a method."
   ]
  },
  {
   "cell_type": "code",
   "execution_count": 72,
   "metadata": {
    "id": "AyLyQrnwQhIp"
   },
   "outputs": [
    {
     "data": {
      "text/plain": [
       "'ramesh method'"
      ]
     },
     "execution_count": 72,
     "metadata": {},
     "output_type": "execute_result"
    }
   ],
   "source": [
    "class Person():\n",
    "\n",
    "  __country = 'India'        # Private class attribute\n",
    "\n",
    "  def __init__(self, name_of_student):\n",
    "    self.__name = name_of_student      # Private instance attribute\n",
    "\n",
    "  @property\n",
    "  def name(self):              # this now acts as an attribute or getter method\n",
    "    return self.__name + ' method'\n",
    "\n",
    "\n",
    "p1 = Person('ramesh')\n",
    "p1.name      # we can access private attribute"
   ]
  },
  {
   "cell_type": "markdown",
   "metadata": {
    "id": "GMYEdnL1R_eA"
   },
   "source": [
    "##### setter using property decorator\n",
    "The `@name.setter` decorator allows the make method to act as a setter.<br> \n",
    "You can assign a new value to Person.name, and it will invoke the validation logic in the setter."
   ]
  },
  {
   "cell_type": "code",
   "execution_count": 75,
   "metadata": {
    "id": "E6owEqWfVPBm"
   },
   "outputs": [],
   "source": [
    "class Person():\n",
    "\n",
    "  _country = 'India'        # protected class attribute\n",
    "\n",
    "  def __init__(self, name_of_student):\n",
    "    self._name = name_of_student      # Protected instance attribute\n",
    "\n",
    "  @property\n",
    "  def name(self):\n",
    "    return self._name + ' method'\n",
    "\n",
    "  @name.setter        # property - name.setter decorator\n",
    "  def name(self, new_name):\n",
    "    self._name = new_name\n"
   ]
  },
  {
   "cell_type": "code",
   "execution_count": 76,
   "metadata": {},
   "outputs": [
    {
     "name": "stdout",
     "output_type": "stream",
     "text": [
      "Toyota\n",
      "Honda\n"
     ]
    }
   ],
   "source": [
    "# Getter and Setter using @property decorator for car class\n",
    "\n",
    "class Car:\n",
    "    def __init__(self, make, model):\n",
    "        self.__make = make  # Private attribute\n",
    "        self.__model = model\n",
    "\n",
    "    @property\n",
    "    def make(self):\n",
    "        return self.__make  # Now acts as a getter method\n",
    "\n",
    "    @make.setter\n",
    "    def make(self, make):\n",
    "        if make.isalpha():  # Validation logic inside the setter\n",
    "            self.__make = make\n",
    "        else:\n",
    "            print(\"Invalid make\")\n",
    "\n",
    "car = Car(\"Toyota\", \"Camry\")\n",
    "print(car.make)  # Accessing the private attribute using the property\n",
    "\n",
    "car.make = \"Honda\"  # Modifying the private attribute using the setter\n",
    "print(car.make)"
   ]
  },
  {
   "cell_type": "code",
   "execution_count": null,
   "metadata": {
    "id": "EhynAKoFumMs"
   },
   "outputs": [],
   "source": [
    "# 1"
   ]
  },
  {
   "cell_type": "code",
   "execution_count": null,
   "metadata": {
    "id": "kjLShgybBQvY"
   },
   "outputs": [],
   "source": [
    "class Display_Info():\n",
    "\n",
    "  def __init__(self, name, age, hobby, fav_colour):\n",
    "    self.name = name\n",
    "    self.age = age\n",
    "    self.hobby = hobby\n",
    "    self.fav_colour = fav_colour\n",
    "    print('Object created successfully.')\n",
    "\n",
    "  def display(self):\n",
    "    print('Name of Person : ', self.name)\n",
    "    print('Age of Person : ', self.age)\n",
    "    print('Hobby of Person : ', self.hobby)\n",
    "    print('Favourite colour of Person : ', self.fav_colour)\n"
   ]
  },
  {
   "cell_type": "code",
   "execution_count": null,
   "metadata": {
    "colab": {
     "base_uri": "https://localhost:8080/"
    },
    "executionInfo": {
     "elapsed": 390,
     "status": "ok",
     "timestamp": 1685792700966,
     "user": {
      "displayName": "Hrutik Nawade",
      "userId": "03506609053451396862"
     },
     "user_tz": -330
    },
    "id": "fwbNyJHeExgW",
    "outputId": "a98a31ff-a7f0-457e-af7e-835e827a0217"
   },
   "outputs": [
    {
     "name": "stdout",
     "output_type": "stream",
     "text": [
      "Object created successfully.\n",
      "Name of Person :  Ai Adventures\n",
      "Age of Person :  35\n",
      "Hobby of Person :  Drawing\n",
      "Favourite colour of Person :  Red\n"
     ]
    }
   ],
   "source": [
    "di1 = Display_Info('Ai Adventures',35,'Drawing','Red')\n",
    "di1.display()"
   ]
  },
  {
   "cell_type": "code",
   "execution_count": null,
   "metadata": {
    "id": "nJEk82fNDufx"
   },
   "outputs": [],
   "source": [
    "# 2"
   ]
  },
  {
   "cell_type": "code",
   "execution_count": null,
   "metadata": {
    "id": "wJjSz0w6DzQf"
   },
   "outputs": [],
   "source": [
    "class Circle():\n",
    "\n",
    "  def __init__(self, radius):\n",
    "    self.radius = radius\n",
    "\n",
    "  def area(self):\n",
    "    return 'Area of the Circle : ' + str(3.14 * self.radius ** 2)\n",
    "\n",
    "  def perimeter(self):\n",
    "    return 'Perimeter of the Circle : ' + str(3.14 * 2 * self.radius)\n"
   ]
  },
  {
   "cell_type": "code",
   "execution_count": null,
   "metadata": {
    "colab": {
     "base_uri": "https://localhost:8080/",
     "height": 36
    },
    "executionInfo": {
     "elapsed": 9,
     "status": "ok",
     "timestamp": 1685792818655,
     "user": {
      "displayName": "Hrutik Nawade",
      "userId": "03506609053451396862"
     },
     "user_tz": -330
    },
    "id": "BOaBXjvmEcG3",
    "outputId": "0bf4605c-dfed-41f6-9aa0-5a4c1cce136f"
   },
   "outputs": [
    {
     "data": {
      "application/vnd.google.colaboratory.intrinsic+json": {
       "type": "string"
      },
      "text/plain": [
       "'Area of the Circle : 200.96'"
      ]
     },
     "execution_count": 218,
     "metadata": {},
     "output_type": "execute_result"
    }
   ],
   "source": [
    "c1 = Circle(8)\n",
    "c1.area()"
   ]
  },
  {
   "cell_type": "code",
   "execution_count": null,
   "metadata": {
    "colab": {
     "base_uri": "https://localhost:8080/",
     "height": 36
    },
    "executionInfo": {
     "elapsed": 7,
     "status": "ok",
     "timestamp": 1685792819091,
     "user": {
      "displayName": "Hrutik Nawade",
      "userId": "03506609053451396862"
     },
     "user_tz": -330
    },
    "id": "E0Wh62ZME5f0",
    "outputId": "17068890-a274-4601-8127-a9a5c4ff3609"
   },
   "outputs": [
    {
     "data": {
      "application/vnd.google.colaboratory.intrinsic+json": {
       "type": "string"
      },
      "text/plain": [
       "'Perimeter of the Circle : 106.76'"
      ]
     },
     "execution_count": 219,
     "metadata": {},
     "output_type": "execute_result"
    }
   ],
   "source": [
    "c2 = Circle(17)\n",
    "c2.perimeter()"
   ]
  },
  {
   "cell_type": "code",
   "execution_count": null,
   "metadata": {
    "id": "SnrEOh5fE6rh"
   },
   "outputs": [],
   "source": [
    "# 3"
   ]
  },
  {
   "cell_type": "code",
   "execution_count": null,
   "metadata": {
    "id": "DchIMO5iFtOQ"
   },
   "outputs": [],
   "source": [
    "class marks_calculation():\n",
    "\n",
    "  subjects = ['English','Geometry','History','Science','Geography']\n",
    "  marks = {}\n",
    "\n",
    "  def percentage(self):\n",
    "    for i in self.subjects:\n",
    "      user_input = int(input(f'Enter the marks for {i} out of 100 : '))\n",
    "      self.marks[i] = user_input\n",
    "\n",
    "    print('Percentage : ' + str(sum(self.marks.values())/len(self.marks)))\n"
   ]
  },
  {
   "cell_type": "code",
   "execution_count": null,
   "metadata": {
    "id": "EgJKA98PJEDb"
   },
   "outputs": [],
   "source": [
    "m1 = marks_calculation()"
   ]
  },
  {
   "cell_type": "code",
   "execution_count": null,
   "metadata": {
    "colab": {
     "base_uri": "https://localhost:8080/"
    },
    "executionInfo": {
     "elapsed": 10956,
     "status": "ok",
     "timestamp": 1685793876233,
     "user": {
      "displayName": "Hrutik Nawade",
      "userId": "03506609053451396862"
     },
     "user_tz": -330
    },
    "id": "1daKfDV5GYoS",
    "outputId": "0a4c7db8-bb96-42e9-c403-322b601d5ef7"
   },
   "outputs": [
    {
     "name": "stdout",
     "output_type": "stream",
     "text": [
      "Enter the marks for English out of 100 : 90\n",
      "Enter the marks for Geometry out of 100 : 80\n",
      "Enter the marks for History out of 100 : 70\n",
      "Enter the marks for Science out of 100 : 60\n",
      "Enter the marks for Geography out of 100 : 50\n",
      "Percentage : 70.0\n"
     ]
    }
   ],
   "source": [
    "m1.percentage()"
   ]
  },
  {
   "cell_type": "code",
   "execution_count": null,
   "metadata": {
    "colab": {
     "base_uri": "https://localhost:8080/"
    },
    "executionInfo": {
     "elapsed": 396,
     "status": "ok",
     "timestamp": 1685793890534,
     "user": {
      "displayName": "Hrutik Nawade",
      "userId": "03506609053451396862"
     },
     "user_tz": -330
    },
    "id": "sv-r31A9G3-l",
    "outputId": "6e89abfe-63f8-4953-ce1a-efe5fd046f7e"
   },
   "outputs": [
    {
     "data": {
      "text/plain": [
       "{'English': 90, 'Geometry': 80, 'History': 70, 'Science': 60, 'Geography': 50}"
      ]
     },
     "execution_count": 242,
     "metadata": {},
     "output_type": "execute_result"
    }
   ],
   "source": [
    "m1.marks"
   ]
  },
  {
   "cell_type": "code",
   "execution_count": null,
   "metadata": {
    "id": "dYQog-BtJUN7"
   },
   "outputs": [],
   "source": [
    "# 4"
   ]
  },
  {
   "cell_type": "code",
   "execution_count": null,
   "metadata": {
    "id": "JU09Xnq9OLju"
   },
   "outputs": [],
   "source": [
    "class BankAccount():\n",
    "\n",
    "  def __init__(self, balance):\n",
    "\n",
    "    self.balance = balance\n",
    "    self.min_balance = 1000\n",
    "    self.menu()\n",
    "\n",
    "\n",
    "  def withdraw(self):\n",
    "\n",
    "    amount = int(input('Enter amount you want to withdraw : '))\n",
    "    if self.balance - amount>=self.min_balance:\n",
    "      self.balance -= amount\n",
    "      print('Withdrawal successful!')\n",
    "      print('New account balance : ' + u\"\\u20B9\" + ' ' + str(self.balance))\n",
    "    else:\n",
    "      print('Withdrawl denied! Cannot let balance cross the min_balance limit!')\n",
    "      print('Account balance if this withdrawl is allowed : ' + u\"\\u20B9\" + ' ' + str(self.balance-amount))\n",
    "\n",
    "\n",
    "  def deposit(self):\n",
    "\n",
    "    amount = int(input('Enter amount you want to deposit : '))\n",
    "    self.balance += amount\n",
    "    print('New account balance : ' + u\"\\u20B9\" + ' ' + str(self.balance))\n",
    "\n",
    "\n",
    "  def menu(self):\n",
    "\n",
    "    print('Welcome to bank')\n",
    "    while True:\n",
    "      print('''\n",
    "        Press 1 for balance inquiry\n",
    "        Press 2 for withdrawl\n",
    "        Press 3 for deposit\n",
    "        Press 4 for exit\n",
    "        ''')\n",
    "      user_input = int(input('Enter your input : '))\n",
    "\n",
    "      if user_input == 1:\n",
    "        print('Your Account balance is :', u\"\\u20B9\", self.balance)\n",
    "      elif user_input == 2:\n",
    "        self.withdraw()\n",
    "      elif user_input == 3:\n",
    "        self.deposit()\n",
    "      elif user_input == 4:\n",
    "        print('Visit again..!!')\n",
    "        break\n",
    "      else:\n",
    "        print('Please select correct option')\n"
   ]
  },
  {
   "cell_type": "code",
   "execution_count": null,
   "metadata": {
    "colab": {
     "base_uri": "https://localhost:8080/"
    },
    "executionInfo": {
     "elapsed": 7709,
     "status": "ok",
     "timestamp": 1685865569026,
     "user": {
      "displayName": "Hrutik Nawade",
      "userId": "03506609053451396862"
     },
     "user_tz": -330
    },
    "id": "E5P7ih-aQs1t",
    "outputId": "32e61d26-5ee0-402c-dd2a-a42505a2edce"
   },
   "outputs": [
    {
     "name": "stdout",
     "output_type": "stream",
     "text": [
      "Welcome to bank\n",
      "\n",
      "        Press 1 for balance inquiry\n",
      "        Press 2 for withdrawl\n",
      "        Press 3 for deposit\n",
      "        Press 4 for exit\n",
      "        \n",
      "Enter your input : 4\n"
     ]
    }
   ],
   "source": [
    "b1 = BankAccount(3000)"
   ]
  },
  {
   "cell_type": "code",
   "execution_count": null,
   "metadata": {
    "colab": {
     "base_uri": "https://localhost:8080/"
    },
    "executionInfo": {
     "elapsed": 658,
     "status": "ok",
     "timestamp": 1685863641977,
     "user": {
      "displayName": "Hrutik Nawade",
      "userId": "03506609053451396862"
     },
     "user_tz": -330
    },
    "id": "GTDjqpvoQz_m",
    "outputId": "e1b0ac50-1a1d-4c31-d850-9a8e57220f7e"
   },
   "outputs": [
    {
     "name": "stdout",
     "output_type": "stream",
     "text": [
      "Withdrawal successful!\n",
      "New account balance : ₹ 1000\n"
     ]
    }
   ],
   "source": [
    "b1.withdraw(2000)"
   ]
  },
  {
   "cell_type": "code",
   "execution_count": null,
   "metadata": {
    "colab": {
     "base_uri": "https://localhost:8080/"
    },
    "executionInfo": {
     "elapsed": 8,
     "status": "ok",
     "timestamp": 1685863656582,
     "user": {
      "displayName": "Hrutik Nawade",
      "userId": "03506609053451396862"
     },
     "user_tz": -330
    },
    "id": "0BTi7D7XQ9SJ",
    "outputId": "584750cf-ab1d-4391-d865-4c273cdcf95b"
   },
   "outputs": [
    {
     "name": "stdout",
     "output_type": "stream",
     "text": [
      "Withdrawl denied! Cannot let balance cross the min_balance limit!\n",
      "Account balance if this withdrawl is allowed : ₹ 1000\n"
     ]
    }
   ],
   "source": [
    "b1.withdraw(500)"
   ]
  },
  {
   "cell_type": "code",
   "execution_count": null,
   "metadata": {
    "colab": {
     "base_uri": "https://localhost:8080/"
    },
    "executionInfo": {
     "elapsed": 563,
     "status": "ok",
     "timestamp": 1685863724012,
     "user": {
      "displayName": "Hrutik Nawade",
      "userId": "03506609053451396862"
     },
     "user_tz": -330
    },
    "id": "jDi2iQzuTec5",
    "outputId": "2fb39978-270a-40bf-9650-ddccd056940e"
   },
   "outputs": [
    {
     "name": "stdout",
     "output_type": "stream",
     "text": [
      "New account balance : ₹ 2000\n"
     ]
    }
   ],
   "source": [
    "b1.deposit(1000)"
   ]
  },
  {
   "cell_type": "code",
   "execution_count": null,
   "metadata": {
    "id": "k52d_Cq-Tu1o"
   },
   "outputs": [],
   "source": [
    "# 5"
   ]
  },
  {
   "cell_type": "code",
   "execution_count": null,
   "metadata": {
    "id": "kU2_GyGsbIOI"
   },
   "outputs": [],
   "source": [
    "class Point():\n",
    "\n",
    "  def __init__(self, x, y):\n",
    "    self.x = x\n",
    "    self.y = y\n",
    "    print(f'Point ({self.x},{self.y}) created successfully.')\n",
    "\n",
    "\n",
    "  def __add__(self, other):\n",
    "    return (self.x + other.x , self.y + other.y)\n",
    "\n",
    "  def __sub__(self, other):\n",
    "    return (self.x - other.x , self.y - other.y)\n",
    "\n",
    "  def __mul__(self, other):\n",
    "    return (self.x * other.x + self.y * other.y)\n",
    "\n",
    "  def __truediv__(self, other):\n",
    "    return (self.x / other.x , self.y / other.y)\n",
    "\n",
    "  def length(self):\n",
    "    return ((self.x)**2 + (self.y)**2)\n",
    "\n",
    "  def __lt__(self, other):\n",
    "    return (self.length() < other.length())\n",
    "\n",
    "  def __le__(self, other):\n",
    "    return (self.length() <= other.length())\n",
    "\n",
    "  def __gt__(self, other):\n",
    "    return (self.length() > other.length())\n",
    "\n",
    "  def __ge__(self, other):\n",
    "    return (self.length() >= other.length())\n",
    "\n",
    "  def __eq__(self, other):\n",
    "    return (self.length() == other.length())"
   ]
  },
  {
   "cell_type": "code",
   "execution_count": null,
   "metadata": {
    "colab": {
     "base_uri": "https://localhost:8080/"
    },
    "executionInfo": {
     "elapsed": 10,
     "status": "ok",
     "timestamp": 1685869090245,
     "user": {
      "displayName": "Hrutik Nawade",
      "userId": "03506609053451396862"
     },
     "user_tz": -330
    },
    "id": "mh3zNgBsgOrt",
    "outputId": "a8bbc724-4af9-4cc0-bf36-f24b19e34291"
   },
   "outputs": [
    {
     "name": "stdout",
     "output_type": "stream",
     "text": [
      "Point (10,5) created successfully.\n",
      "Point (5,10) created successfully.\n"
     ]
    }
   ],
   "source": [
    "p1 = Point(10, 5)\n",
    "p2 = Point(5, 10)"
   ]
  },
  {
   "cell_type": "code",
   "execution_count": null,
   "metadata": {
    "colab": {
     "base_uri": "https://localhost:8080/"
    },
    "executionInfo": {
     "elapsed": 5,
     "status": "ok",
     "timestamp": 1685869090725,
     "user": {
      "displayName": "Hrutik Nawade",
      "userId": "03506609053451396862"
     },
     "user_tz": -330
    },
    "id": "oiCg_-_cmWSf",
    "outputId": "fec565ed-802f-42ef-fc1b-f85f93155012"
   },
   "outputs": [
    {
     "data": {
      "text/plain": [
       "125"
      ]
     },
     "execution_count": 34,
     "metadata": {},
     "output_type": "execute_result"
    }
   ],
   "source": [
    "p1.length()"
   ]
  },
  {
   "cell_type": "code",
   "execution_count": null,
   "metadata": {
    "colab": {
     "base_uri": "https://localhost:8080/"
    },
    "executionInfo": {
     "elapsed": 3,
     "status": "ok",
     "timestamp": 1685869091126,
     "user": {
      "displayName": "Hrutik Nawade",
      "userId": "03506609053451396862"
     },
     "user_tz": -330
    },
    "id": "v1mvd5OCgXBj",
    "outputId": "9dc6ddb9-b890-4c5c-a8f9-b4929c2d3204"
   },
   "outputs": [
    {
     "name": "stdout",
     "output_type": "stream",
     "text": [
      "(15, 15)\n",
      "(5, -5)\n",
      "100\n",
      "(2.0, 0.5)\n",
      "False\n",
      "True\n",
      "False\n",
      "True\n",
      "True\n"
     ]
    }
   ],
   "source": [
    "print(p1 + p2)\n",
    "print(p1 - p2)\n",
    "print(p1 * p2)\n",
    "print(p1 / p2)\n",
    "print(p1 > p2)\n",
    "print(p1 >= p2)\n",
    "print(p1 < p2)\n",
    "print(p1 <= p2)\n",
    "print(p1 == p2)"
   ]
  },
  {
   "cell_type": "code",
   "execution_count": null,
   "metadata": {
    "id": "YkuEsI2TgdJK"
   },
   "outputs": [],
   "source": [
    "# 6\n"
   ]
  },
  {
   "cell_type": "code",
   "execution_count": null,
   "metadata": {
    "id": "5bwhqKSuox6_"
   },
   "outputs": [],
   "source": [
    "class Course():\n",
    "\n",
    "  def __init__(self, course = 'Machine Learning'):\n",
    "    self.course = course\n",
    "\n",
    "  def average_score(self):\n",
    "    marks = list(input('Enter the marks scored out of 10 : ').split())\n",
    "    print(f'Average Score of AiAdventures in Machine Learning course :', sum(map(int, marks))/len(marks))\n",
    "\n",
    "\n",
    "class Student(Course):\n",
    "\n",
    "  def __init__(self, name, age):\n",
    "    self.name = name\n",
    "    self.age = age\n",
    "\n",
    "  def display_info(self):\n",
    "    print(f'{self.name}, age {self.age}, has enrolled in Machine Learning course.!')\n",
    "    self.average_score()\n"
   ]
  },
  {
   "cell_type": "code",
   "execution_count": null,
   "metadata": {
    "colab": {
     "base_uri": "https://localhost:8080/"
    },
    "executionInfo": {
     "elapsed": 19579,
     "status": "ok",
     "timestamp": 1685871150411,
     "user": {
      "displayName": "Hrutik Nawade",
      "userId": "03506609053451396862"
     },
     "user_tz": -330
    },
    "id": "SJYFsY1WqNSw",
    "outputId": "562e5a0c-1250-4dc7-8c89-eeb4544bf2ec"
   },
   "outputs": [
    {
     "name": "stdout",
     "output_type": "stream",
     "text": [
      "Aiadventures, age 35, has enrolled in Machine Learning course.!\n",
      "Enter the marks scored out of 10 : 9 8 7 6 5 \n",
      "Average Score of AiAdventures in Machine Learning course : 7.0\n"
     ]
    }
   ],
   "source": [
    "s1 = Student('Aiadventures',35)\n",
    "s1.display_info()"
   ]
  },
  {
   "cell_type": "code",
   "execution_count": null,
   "metadata": {
    "id": "HfRdKl4FtP6I"
   },
   "outputs": [],
   "source": [
    "# 7"
   ]
  },
  {
   "cell_type": "code",
   "execution_count": null,
   "metadata": {
    "id": "_tzg0VStwQZL"
   },
   "outputs": [],
   "source": [
    "import random\n",
    "\n",
    "class Team_Performance:\n",
    "\n",
    "  def play(self):\n",
    "\n",
    "    self.team = {}\n",
    "    self.runs = []\n",
    "    self.wickets = 0\n",
    "\n",
    "    for i in range(6):\n",
    "      while True:\n",
    "        rand_no = random.randint(0, 6)\n",
    "        if rand_no == 5:\n",
    "          continue\n",
    "        break\n",
    "      if rand_no == 0:\n",
    "        self.wickets += 1\n",
    "      self.runs.append(rand_no)\n",
    "      self.team['B' + str(i+1)] = rand_no\n",
    "    return self.team, sum(self.runs), self.wickets\n",
    "\n",
    "\n",
    "\n",
    "class Superover(Team_Performance):\n",
    "\n",
    "  def __init__(self, team1, team2):\n",
    "\n",
    "    self.team1 = team1\n",
    "    self.team2 = team2\n",
    "    print(f\"Let's begin the Superover between {self.team1} and {self.team2} !\")\n",
    "\n",
    "\n",
    "  def begin(self):\n",
    "\n",
    "    team_d1 , score1, wickets1 = self.play()\n",
    "    team_d2 , score2, wickets2 = self.play()\n",
    "    print(f'Performance of {self.team1} :', team_d1)\n",
    "    print(f'Performance of {self.team2} :', team_d2)\n",
    "    print(f'Scorecard of {self.team1} : {score1} / {wickets1}')\n",
    "    print(f'Scorecard of {self.team2} : {score2} / {wickets2}')\n",
    "\n",
    "    if score1>score2:\n",
    "      print(f'{self.team1} wins by {score1 - score2} runs!')\n",
    "    elif score2>score1:\n",
    "      print(f'{self.team2} wins by {score2 - score1} runs!')\n",
    "    else:\n",
    "      print(\"It's a Draw!\")"
   ]
  },
  {
   "cell_type": "code",
   "execution_count": null,
   "metadata": {
    "colab": {
     "base_uri": "https://localhost:8080/"
    },
    "executionInfo": {
     "elapsed": 5,
     "status": "ok",
     "timestamp": 1685876912645,
     "user": {
      "displayName": "Hrutik Nawade",
      "userId": "03506609053451396862"
     },
     "user_tz": -330
    },
    "id": "8Q8GdIkd85Nr",
    "outputId": "d2d6b196-0814-4af1-9cc3-0b541402c18f"
   },
   "outputs": [
    {
     "name": "stdout",
     "output_type": "stream",
     "text": [
      "Let's begin the Superover between A and B !\n"
     ]
    }
   ],
   "source": [
    "match = Superover('A', 'B')"
   ]
  },
  {
   "cell_type": "code",
   "execution_count": null,
   "metadata": {
    "colab": {
     "base_uri": "https://localhost:8080/"
    },
    "executionInfo": {
     "elapsed": 431,
     "status": "ok",
     "timestamp": 1685876924857,
     "user": {
      "displayName": "Hrutik Nawade",
      "userId": "03506609053451396862"
     },
     "user_tz": -330
    },
    "id": "ka-jIkK-_Dr6",
    "outputId": "0e9e8f8b-4f37-45c5-a74b-920dbaaa0f29"
   },
   "outputs": [
    {
     "name": "stdout",
     "output_type": "stream",
     "text": [
      "Performance of A : {'B1': 6, 'B2': 3, 'B3': 4, 'B4': 4, 'B5': 2, 'B6': 3}\n",
      "Performance of B : {'B1': 3, 'B2': 4, 'B3': 6, 'B4': 2, 'B5': 1, 'B6': 6}\n",
      "Scorecard of A : 22 / 0\n",
      "Scorecard of B : 22 / 0\n",
      "It's a Draw!\n"
     ]
    }
   ],
   "source": [
    "match.begin()"
   ]
  },
  {
   "cell_type": "code",
   "execution_count": null,
   "metadata": {
    "id": "JPyW8-ysGzVn"
   },
   "outputs": [],
   "source": [
    "# 8"
   ]
  },
  {
   "cell_type": "code",
   "execution_count": null,
   "metadata": {
    "colab": {
     "base_uri": "https://localhost:8080/"
    },
    "executionInfo": {
     "elapsed": 669,
     "status": "ok",
     "timestamp": 1687602844249,
     "user": {
      "displayName": "Hrutik Nawade",
      "userId": "03506609053451396862"
     },
     "user_tz": -330
    },
    "id": "msk1uMyuGyJ1",
    "outputId": "5cc05c15-7b05-4bcb-df3d-d7a4b0cf4bd8"
   },
   "outputs": [
    {
     "name": "stdout",
     "output_type": "stream",
     "text": [
      "7\n",
      "1\n",
      "3\n",
      "0\n",
      "3\n",
      "8\n",
      "9\n",
      "7\n",
      "9\n",
      "2\n",
      "10\n",
      "6\n",
      "0\n",
      "3\n",
      "3\n",
      "7\n",
      "4\n",
      "9\n",
      "10\n",
      "8\n",
      "9\n",
      "4\n",
      "2\n",
      "2\n",
      "3\n",
      "7\n",
      "3\n",
      "7\n",
      "10\n",
      "1\n",
      "its a draw!\n",
      "Amrut steps : 15\n",
      "roadmap of Amrut :  {2: 'Jump', 2.5: 'Walk', 4.5: 'Jump', 5.5: 'Run', 7.5: 'Jump', 8.5: 'Run', 9.0: 'Walk', 11.0: 'Jump', 11.5: 'Walk', 13.5: 'Jump', 14.5: 'Run', 15.5: 'Run', 16.5: 'Run', 18.5: 'Jump', 20.5: 'Jump'}\n",
      "Hrutik steps : 15\n",
      "roadmap of Hrutik :  {2: 'Jump', 3: 'Run', 3.5: 'Walk', 4.5: 'Run', 5.5: 'Run', 6.0: 'Walk', 7.0: 'Run', 9.0: 'Jump', 11.0: 'Jump', 13.0: 'Jump', 15.0: 'Jump', 17.0: 'Jump', 19.0: 'Jump', 20.0: 'Run', 20.5: 'Walk'}\n"
     ]
    }
   ],
   "source": [
    "from random import randint\n",
    "\n",
    "class Player():\n",
    "\n",
    "  number_of_steps = 0\n",
    "\n",
    "  def __init__(self, name, distance = 0):\n",
    "    self.name = name\n",
    "    self.distance = distance\n",
    "\n",
    "  def walk(self):\n",
    "    self.distance += 0.5\n",
    "    return self.distance\n",
    "\n",
    "  def run(self):\n",
    "    self.distance += 1\n",
    "    return self.distance\n",
    "\n",
    "  def jump(self):\n",
    "    self.distance += 2\n",
    "    return self.distance\n",
    "\n",
    "\n",
    "class Race():\n",
    "\n",
    "  def number_generator(self):\n",
    "    return randint(0, 10)\n",
    "\n",
    "  def start(self, player1, player2):\n",
    "\n",
    "    for player in (player1, player2):\n",
    "      player.dict_player = {}\n",
    "      while True:\n",
    "        number = self.number_generator()\n",
    "        print(number)\n",
    "        if self.isPrime(number):\n",
    "          player.number_of_steps += 1\n",
    "          player.dict_player[player.jump()] = 'Jump'\n",
    "        elif self.isEven(number):\n",
    "          player.number_of_steps += 1\n",
    "          player.dict_player[player.run()] = 'Run'\n",
    "        elif not self.isEven(number):\n",
    "          player.number_of_steps += 1\n",
    "          player.dict_player[player.walk()] = 'Walk'\n",
    "\n",
    "        if player.distance > 20:\n",
    "          break\n",
    "\n",
    "    # winning condition\n",
    "    if player1.number_of_steps < player2.number_of_steps:\n",
    "      print(f'{player1.name} won the race with {player1.number_of_steps} steps!')\n",
    "      print(f'roadmap of {player1.name} : ',player1.dict_player)\n",
    "      print(f'{player2.name} lost the race with {player2.number_of_steps} steps!')\n",
    "      print(f'roadmap of {player2.name} : ',player2.dict_player)\n",
    "\n",
    "    elif player1.number_of_steps > player2.number_of_steps:\n",
    "      print(f'{player2.name} won the race with {player2.number_of_steps} steps!')\n",
    "      print(f'roadmap of {player2.name} : ',player2.dict_player)\n",
    "      print(f'{player1.name} lost the race with {player1.number_of_steps} steps!')\n",
    "      print(f'roadmap of {player1.name} : ',player1.dict_player)\n",
    "\n",
    "    else:\n",
    "      print('its a draw!')\n",
    "      print(f'{player1.name} steps : {player1.number_of_steps}')\n",
    "      print(f'roadmap of {player1.name} : ',player1.dict_player)\n",
    "      print(f'{player2.name} steps : {player2.number_of_steps}')\n",
    "      print(f'roadmap of {player2.name} : ',player2.dict_player)\n",
    "\n",
    "\n",
    "  def isPrime(self, number):\n",
    "    if number > 1:\n",
    "      for i in range(2, int(number/2+1)):\n",
    "        if number%i == 0:\n",
    "          res = False\n",
    "          break\n",
    "      else:\n",
    "        res = True\n",
    "    else:\n",
    "      res = False\n",
    "    return res\n",
    "\n",
    "  def isEven(self, number):\n",
    "    return True if number%2 == 0 else False\n",
    "\n",
    "\n",
    "p1=Player(\"Amrut\")\n",
    "p2=Player(\"Hrutik\")\n",
    "r = Race()\n",
    "r.start(p1,p2)"
   ]
  },
  {
   "cell_type": "code",
   "execution_count": null,
   "metadata": {
    "id": "F_TDghIMzYPg"
   },
   "outputs": [],
   "source": []
  },
  {
   "cell_type": "markdown",
   "metadata": {},
   "source": [
    "# Abstraction\n",
    "Abstraction is one of the key principles of Object-Oriented Programming (OOP). It refers to hiding the internal implementation details of a system and exposing only the essential features or behaviors. In simpler terms, abstraction focuses on \"what\" an object can do rather than \"how\" it does it.\n",
    "\n",
    "By abstracting complex systems into simpler interfaces, abstraction allows developers to work with objects at a high level without worrying about the low-level operations or the internal workings. This reduces complexity and increases code reusability, maintainability, and scalability.\n",
    "\n",
    "In Python, abstraction is achieved using abstract classes and interfaces. Abstract classes are classes that cannot be instantiated directly and are intended to be subclassed. They define methods that must be implemented by their subclasses.\n",
    "\n",
    "Python provides the abc (Abstract Base Class) module for creating abstract classes.\n",
    "\n",
    "To define an abstract class in Python, we use the `ABC` class from the abc module and decorate abstract methods with `@abstractmethod`."
   ]
  },
  {
   "cell_type": "code",
   "execution_count": 84,
   "metadata": {},
   "outputs": [],
   "source": [
    "from abc import ABC, abstractmethod\n",
    "\n",
    "class Vehicle(ABC):\n",
    "    @abstractmethod\n",
    "    def start_engine(self):\n",
    "        pass  # Abstract method with no implementation\n",
    "    \n",
    "    @abstractmethod\n",
    "    def stop_engine(self):\n",
    "        pass\n",
    "\n",
    "    def display_info(self):\n",
    "        print(\"This is a vehicle.\")  # Concrete method with implementation"
   ]
  },
  {
   "cell_type": "markdown",
   "metadata": {},
   "source": [
    "#### Implementing Abstract Methods\n",
    "When you create a subclass of an abstract class, you are required to implement all abstract methods in that subclass. If you fail to implement any abstract method, Python will raise an error."
   ]
  },
  {
   "cell_type": "code",
   "execution_count": 85,
   "metadata": {},
   "outputs": [
    {
     "name": "stdout",
     "output_type": "stream",
     "text": [
      "Car engine started.\n",
      "Car engine stopped.\n",
      "This is a vehicle.\n"
     ]
    }
   ],
   "source": [
    "class Car(Vehicle):\n",
    "    def start_engine(self):\n",
    "        print(\"Car engine started.\")\n",
    "    \n",
    "    def stop_engine(self):\n",
    "        print(\"Car engine stopped.\")\n",
    "\n",
    "car = Car()\n",
    "car.start_engine()  # Outputs: Car engine started.\n",
    "car.stop_engine()   # Outputs: Car engine stopped.\n",
    "car.display_info()  # Outputs: This is a vehicle."
   ]
  },
  {
   "cell_type": "code",
   "execution_count": 86,
   "metadata": {},
   "outputs": [
    {
     "ename": "TypeError",
     "evalue": "Can't instantiate abstract class Car with abstract method stop_engine",
     "output_type": "error",
     "traceback": [
      "\u001b[1;31m---------------------------------------------------------------------------\u001b[0m",
      "\u001b[1;31mTypeError\u001b[0m                                 Traceback (most recent call last)",
      "Cell \u001b[1;32mIn[86], line 8\u001b[0m\n\u001b[0;32m      3\u001b[0m         \u001b[38;5;28mprint\u001b[39m(\u001b[38;5;124m\"\u001b[39m\u001b[38;5;124mCar engine started.\u001b[39m\u001b[38;5;124m\"\u001b[39m)\n\u001b[0;32m      5\u001b[0m \u001b[38;5;66;03m# here we have not added stop_engine() method,\u001b[39;00m\n\u001b[0;32m      6\u001b[0m \u001b[38;5;66;03m# that will not instantiate abstract class without required methods\u001b[39;00m\n\u001b[1;32m----> 8\u001b[0m car \u001b[38;5;241m=\u001b[39m Car()\n\u001b[0;32m      9\u001b[0m car\u001b[38;5;241m.\u001b[39mstart_engine()  \u001b[38;5;66;03m# Outputs: Car engine started.\u001b[39;00m\n\u001b[0;32m     10\u001b[0m car\u001b[38;5;241m.\u001b[39mstop_engine()   \u001b[38;5;66;03m# Outputs: Car engine stopped.\u001b[39;00m\n",
      "\u001b[1;31mTypeError\u001b[0m: Can't instantiate abstract class Car with abstract method stop_engine"
     ]
    }
   ],
   "source": [
    "class Car(Vehicle):\n",
    "    def start_engine(self):\n",
    "        print(\"Car engine started.\")\n",
    "    \n",
    "# here we have not added stop_engine() method,\n",
    "# that will not instantiate abstract class without required methods\n",
    "\n",
    "car = Car()\n",
    "car.start_engine()  # Outputs: Car engine started.\n",
    "car.stop_engine()   # Outputs: Car engine stopped.\n",
    "car.display_info()  # Outputs: This is a vehicle."
   ]
  },
  {
   "cell_type": "markdown",
   "metadata": {},
   "source": [
    "#### Abstract Classes and Partial Abstraction\n",
    "An abstract class can also contain `concrete methods` (methods with implementations). This allows partial abstraction, where some methods are fully defined in the abstract class, and others must be implemented by subclasses."
   ]
  },
  {
   "cell_type": "code",
   "execution_count": 102,
   "metadata": {},
   "outputs": [
    {
     "name": "stdout",
     "output_type": "stream",
     "text": [
      "This is a shape\n",
      "25\n",
      "20\n"
     ]
    }
   ],
   "source": [
    "from abc import ABC, abstractmethod\n",
    "\n",
    "class Shape(ABC):\n",
    "    @abstractmethod\n",
    "    def area(self):\n",
    "        pass\n",
    "    \n",
    "    @abstractmethod\n",
    "    def perimeter(self):\n",
    "        pass\n",
    "    \n",
    "    def description(self):\n",
    "        return \"This is a shape\"  # Concrete method\n",
    "\n",
    "\n",
    "class Square(Shape):\n",
    "\n",
    "    def __init__(self, side):\n",
    "        self.side = side\n",
    "\n",
    "    def area(self):\n",
    "        return self.side ** 2\n",
    "    \n",
    "    def perimeter(self):\n",
    "        return self.side * 4\n",
    "        \n",
    "s = Square(5)\n",
    "\n",
    "print(s.description())   # concrete method\n",
    "# this method can't be called without creating abstract class's subclass\n",
    "\n",
    "print(s.area())\n",
    "print(s.perimeter())"
   ]
  },
  {
   "cell_type": "code",
   "execution_count": 104,
   "metadata": {},
   "outputs": [
    {
     "name": "stdout",
     "output_type": "stream",
     "text": [
      "Deposited 1000 to savings account\n",
      "Withdrew 500 from savings account\n",
      "Balance: 500\n"
     ]
    }
   ],
   "source": [
    "# real world example of Abstraction using Banking system\n",
    "\n",
    "from abc import ABC, abstractmethod\n",
    "\n",
    "# This class ensures that whenever a bank account opened\n",
    "# this will have deposit, withdraw and get_balance() methods\n",
    "# without this account cant be opened\n",
    "class BankAccount(ABC):\n",
    "    @abstractmethod\n",
    "    def deposit(self, amount):\n",
    "        pass\n",
    "    \n",
    "    @abstractmethod\n",
    "    def withdraw(self, amount):\n",
    "        pass\n",
    "    \n",
    "    @abstractmethod\n",
    "    def get_balance(self):\n",
    "        pass\n",
    "\n",
    "class SavingsAccount(BankAccount):\n",
    "    def __init__(self):\n",
    "        self.balance = 0\n",
    "\n",
    "    def deposit(self, amount):\n",
    "        self.balance += amount\n",
    "        print(f\"Deposited {amount} to savings account\")\n",
    "\n",
    "    def withdraw(self, amount):\n",
    "        if self.balance >= amount:\n",
    "            self.balance -= amount\n",
    "            print(f\"Withdrew {amount} from savings account\")\n",
    "        else:\n",
    "            print(\"Insufficient funds\")\n",
    "\n",
    "    def get_balance(self):\n",
    "        return self.balance\n",
    "\n",
    "# Using the abstraction\n",
    "account = SavingsAccount()\n",
    "account.deposit(1000)\n",
    "account.withdraw(500)\n",
    "print(f\"Balance: {account.get_balance()}\")"
   ]
  },
  {
   "cell_type": "markdown",
   "metadata": {},
   "source": [
    "# Encapsulation vs Abstraction\n",
    "Though they are related, encapsulation and abstraction serve different purposes:\n",
    "\n",
    "**`Encapsulation`** is about hiding the internal details (data and methods) of a class.<br>\n",
    "**`Abstraction`** is about hiding the complexity by only exposing the necessary functionality to the user.\n",
    "\n",
    "In encapsulation, you can hide both the implementation and data, while in abstraction, you usually hide only the implementation but not the necessary methods."
   ]
  }
 ],
 "metadata": {
  "colab": {
   "authorship_tag": "ABX9TyNtCYRXfYV2gIiH10oOM4bn",
   "provenance": []
  },
  "kernelspec": {
   "display_name": "Python 3 (ipykernel)",
   "language": "python",
   "name": "python3"
  },
  "language_info": {
   "codemirror_mode": {
    "name": "ipython",
    "version": 3
   },
   "file_extension": ".py",
   "mimetype": "text/x-python",
   "name": "python",
   "nbconvert_exporter": "python",
   "pygments_lexer": "ipython3",
   "version": "3.11.7"
  }
 },
 "nbformat": 4,
 "nbformat_minor": 4
}
