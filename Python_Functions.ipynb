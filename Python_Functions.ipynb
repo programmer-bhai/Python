{
 "cells": [
  {
   "cell_type": "markdown",
   "metadata": {
    "id": "ANR1KMg8Vovy"
   },
   "source": [
    "# Function \n",
    "If a group of statements is repeatedly required then it is not recommended to write these statements everytime seperately.We have to define these statements as a single unit and we can call that unit any number of times based on our requirement without rewriting. This unit is nothing but function.\n",
    "\n",
    "The main advantage of functions is code Reusability.\n",
    "\n",
    "functions are known as methods,procedures,subroutines etc\n",
    "\n",
    "Python supports 2 types of functions\n",
    "1. Built in Functions\n",
    "2. User Defined Functions\n",
    "\n",
    "   \n",
    "### Built in Functions:\n",
    "The functions which are coming along with Python software automatically,are called built in functions or pre defined functions<br>\n",
    "Eg:\n",
    "- id()\n",
    "- type()\n",
    "- input()\n",
    "- eval()"
   ]
  },
  {
   "cell_type": "markdown",
   "metadata": {},
   "source": [
    "### User Defined Functions:\n",
    "The functions which are developed by programmer explicitly according to business requirements to minimize code reusability, are called user defined functions.\n",
    "\n",
    "Note: While creating functions we can use 2 keywords\n",
    "1. def (mandatory)    --> defines function\n",
    "2. return (optional)  --> returns function results"
   ]
  },
  {
   "cell_type": "code",
   "execution_count": 1,
   "metadata": {
    "id": "Wk2m6I53sPVt"
   },
   "outputs": [],
   "source": [
    "def demo():   # demo function without return keyword\n",
    "  print(\"Hello \")\n",
    "  print(\"jdcygsdhc\")"
   ]
  },
  {
   "cell_type": "code",
   "execution_count": 2,
   "metadata": {},
   "outputs": [
    {
     "name": "stdout",
     "output_type": "stream",
     "text": [
      "Hello \n",
      "jdcygsdhc\n"
     ]
    }
   ],
   "source": [
    "demo()  # way to call a function"
   ]
  },
  {
   "cell_type": "code",
   "execution_count": 3,
   "metadata": {
    "colab": {
     "base_uri": "https://localhost:8080/"
    },
    "executionInfo": {
     "elapsed": 4,
     "status": "ok",
     "timestamp": 1679210513127,
     "user": {
      "displayName": "Hrutik Nawade",
      "userId": "03506609053451396862"
     },
     "user_tz": -330
    },
    "id": "XWdAwv6lsZXQ",
    "outputId": "34ed9723-e141-4a82-804c-c30722a1c408"
   },
   "outputs": [
    {
     "name": "stdout",
     "output_type": "stream",
     "text": [
      "Hello \n",
      "jdcygsdhc\n",
      "None\n"
     ]
    }
   ],
   "source": [
    "x = demo()   # another way to call function\n",
    "print(x)  "
   ]
  },
  {
   "cell_type": "markdown",
   "metadata": {},
   "source": [
    "### return statement\n",
    "Function can take input values as parameters and executes business logic, and returns output to the caller with return statement.\n",
    "\n",
    "whatever the function returns we get, by assigning the function to a variable."
   ]
  },
  {
   "cell_type": "code",
   "execution_count": 4,
   "metadata": {},
   "outputs": [
    {
     "name": "stdout",
     "output_type": "stream",
     "text": [
      "\n",
      "None\n"
     ]
    }
   ],
   "source": [
    "# by default the print() function returns none \n",
    "\n",
    "a = print()\n",
    "print(a)"
   ]
  },
  {
   "cell_type": "code",
   "execution_count": 5,
   "metadata": {},
   "outputs": [
    {
     "name": "stdout",
     "output_type": "stream",
     "text": [
      "4\n",
      "16\n"
     ]
    }
   ],
   "source": [
    "def square_value(num):\n",
    "    \"\"\"This function returns the square\n",
    "    value of the entered number\"\"\"\n",
    "    return num**2\n",
    "  \n",
    "  \n",
    "print(square_value(2))\n",
    "print(square_value(-4))"
   ]
  },
  {
   "cell_type": "code",
   "execution_count": 6,
   "metadata": {},
   "outputs": [
    {
     "data": {
      "text/plain": [
       "3"
      ]
     },
     "execution_count": 6,
     "metadata": {},
     "output_type": "execute_result"
    }
   ],
   "source": [
    "# function with return keyword\n",
    "def demo1():\n",
    "  return 1+2 \n",
    "demo1()"
   ]
  },
  {
   "cell_type": "markdown",
   "metadata": {},
   "source": [
    "# Parameters & Arguments\n",
    "\n",
    "## Parameters\n",
    "A variable in the function definition that acts as a placeholder for the type and name of the value that will be passed into the function.\n",
    "\n",
    "Parameters are inputs to the function. If a function contains parameters,then at the time of calling, compulsory we should provide values otherwise, we will get error."
   ]
  },
  {
   "cell_type": "code",
   "execution_count": 7,
   "metadata": {},
   "outputs": [
    {
     "name": "stdout",
     "output_type": "stream",
     "text": [
      "Hello Hrutik  Good Morning\n",
      "Hello Om  Good Morning\n"
     ]
    }
   ],
   "source": [
    "def wish(name):    # this function has one parameter\n",
    "    print(\"Hello\",name,\" Good Morning\")\n",
    "    \n",
    "wish(\"Hrutik\")   # calling func\n",
    "wish(\"Om\")     "
   ]
  },
  {
   "cell_type": "code",
   "execution_count": 8,
   "metadata": {},
   "outputs": [
    {
     "ename": "TypeError",
     "evalue": "wish() missing 1 required positional argument: 'name'",
     "output_type": "error",
     "traceback": [
      "\u001b[1;31m---------------------------------------------------------------------------\u001b[0m",
      "\u001b[1;31mTypeError\u001b[0m                                 Traceback (most recent call last)",
      "Cell \u001b[1;32mIn[8], line 2\u001b[0m\n\u001b[0;32m      1\u001b[0m \u001b[38;5;66;03m# if we don't pass values to it, we'll get error\u001b[39;00m\n\u001b[1;32m----> 2\u001b[0m wish()\n",
      "\u001b[1;31mTypeError\u001b[0m: wish() missing 1 required positional argument: 'name'"
     ]
    }
   ],
   "source": [
    "# if we don't pass values to it, we'll get error\n",
    "wish()"
   ]
  },
  {
   "cell_type": "code",
   "execution_count": null,
   "metadata": {
    "id": "DmcjrTWyscuL"
   },
   "outputs": [],
   "source": [
    "def demo2(x, y):\n",
    "  return (x+y)\n",
    "demo2(4,5)"
   ]
  },
  {
   "cell_type": "code",
   "execution_count": 9,
   "metadata": {
    "colab": {
     "base_uri": "https://localhost:8080/"
    },
    "executionInfo": {
     "elapsed": 2,
     "status": "ok",
     "timestamp": 1679210084349,
     "user": {
      "displayName": "Hrutik Nawade",
      "userId": "03506609053451396862"
     },
     "user_tz": -330
    },
    "id": "WMxiqAtws5PX",
    "outputId": "205d438e-7fa3-4dce-9567-ee0dd5ad54c0"
   },
   "outputs": [
    {
     "ename": "NameError",
     "evalue": "name 'demo2' is not defined",
     "output_type": "error",
     "traceback": [
      "\u001b[1;31m---------------------------------------------------------------------------\u001b[0m",
      "\u001b[1;31mNameError\u001b[0m                                 Traceback (most recent call last)",
      "Cell \u001b[1;32mIn[9], line 1\u001b[0m\n\u001b[1;32m----> 1\u001b[0m c \u001b[38;5;241m=\u001b[39m demo2(\u001b[38;5;241m34\u001b[39m,\u001b[38;5;241m12\u001b[39m)  \u001b[38;5;66;03m# the above function takes \u001b[39;00m\n\u001b[0;32m      2\u001b[0m \u001b[38;5;28mprint\u001b[39m(c)\n",
      "\u001b[1;31mNameError\u001b[0m: name 'demo2' is not defined"
     ]
    }
   ],
   "source": [
    "c = demo2(34,12)  # the above function takes \n",
    "print(c)"
   ]
  },
  {
   "cell_type": "code",
   "execution_count": 10,
   "metadata": {},
   "outputs": [
    {
     "name": "stdout",
     "output_type": "stream",
     "text": [
      "The Sum is : 150\n",
      "The Subtraction is : 50\n"
     ]
    }
   ],
   "source": [
    "# return multiple values from function \n",
    "\n",
    "def sum_sub(a,b):  # this function perfrom addition and subtraction\n",
    "    sum=a+b\n",
    "    sub=a-b\n",
    "    return sum,sub\n",
    "    \n",
    "x, y = sum_sub(100,50)\n",
    "print(\"The Sum is :\",x)\n",
    "print(\"The Subtraction is :\",y) "
   ]
  },
  {
   "cell_type": "markdown",
   "metadata": {},
   "source": [
    "## Arguments\n",
    "The actual value that is passed into a function when it is called.\n",
    "\n",
    "When a method is invoked/called, the arguments used must match the declaration's parameters in datatype and order.\n",
    "\n",
    "There are 4 types are actual arguments are allowed in Python.\n",
    "1. positional arguments\n",
    "2. keyword arguments\n",
    "3. default arguments\n",
    "4. Variable length arguments"
   ]
  },
  {
   "cell_type": "markdown",
   "metadata": {
    "id": "Knm14iQdYkr3"
   },
   "source": [
    "### Positional arguments\n",
    "These are the arguments passed to function in correct positional order.\n",
    "\n",
    "If the order of these arguments changes then result of the function gets affected.\n",
    "\n",
    "The number of arguments and position of arguments must be matched. If we change the order then result may be changed.\n",
    "\n",
    "If we change the number of arguments then we will get error."
   ]
  },
  {
   "cell_type": "code",
   "execution_count": 11,
   "metadata": {},
   "outputs": [
    {
     "name": "stdout",
     "output_type": "stream",
     "text": [
      "if the position remains same\n",
      "100\n",
      "\n",
      "if the position changes the result affected\n",
      "-100\n"
     ]
    }
   ],
   "source": [
    "def sub(bigger_num,smaller_num):\n",
    " print(bigger_num - smaller_num)\n",
    "\n",
    "print('if the position remains same')\n",
    "sub(200,100)\n",
    "\n",
    "print('\\nif the position changes the result affected')\n",
    "sub(100,200)\n"
   ]
  },
  {
   "cell_type": "code",
   "execution_count": 12,
   "metadata": {
    "colab": {
     "base_uri": "https://localhost:8080/"
    },
    "executionInfo": {
     "elapsed": 411,
     "status": "ok",
     "timestamp": 1679741519200,
     "user": {
      "displayName": "Hrutik Nawade",
      "userId": "03506609053451396862"
     },
     "user_tz": -330
    },
    "id": "gyU8E7VXZMbZ",
    "outputId": "622be7d8-7d21-43be-fbbf-6ef42064d690"
   },
   "outputs": [
    {
     "name": "stdout",
     "output_type": "stream",
     "text": [
      "Case-1:\n",
      "Hi, I am Hrutik\n",
      "My age is  23\n",
      "\n",
      "Case-2:\n",
      "Hi, I am 23\n",
      "My age is  Hrutik\n"
     ]
    }
   ],
   "source": [
    "def nameAge(name, age):\n",
    "    print(\"Hi, I am\", name)\n",
    "    print(\"My age is \", age)\n",
    "  \n",
    "  \n",
    "# You will get correct output because \n",
    "# argument is given in order\n",
    "print(\"Case-1:\")\n",
    "nameAge(\"Hrutik\", 23)\n",
    "\n",
    "# You will get incorrect output because\n",
    "# argument is not in order\n",
    "print(\"\\nCase-2:\")\n",
    "nameAge(23, \"Hrutik\")"
   ]
  },
  {
   "cell_type": "markdown",
   "metadata": {
    "id": "5pxEf76nYiFj"
   },
   "source": [
    "### Keyword arguments\n",
    "We can pass argument values by keyword i.e by parameter name.\r\n",
    "\n",
    "Using this way, doesn't matter if position changes, because we are assigning the correct value to correct argument.\n",
    "\n",
    "Here the order of arguments is not important but number of arguments must be matched.\r"
   ]
  },
  {
   "cell_type": "code",
   "execution_count": 13,
   "metadata": {},
   "outputs": [
    {
     "name": "stdout",
     "output_type": "stream",
     "text": [
      "Hello Hrutik Good Morning\n",
      "Hello Hrutik Good Morning\n"
     ]
    }
   ],
   "source": [
    "def wish(name,msg):\n",
    "    print(\"Hello\",name,msg)\n",
    "\n",
    "# doesn't matter if position changes\n",
    "wish(name=\"Hrutik\", msg=\"Good Morning\")\n",
    "wish(msg=\"Good Morning\", name=\"Hrutik\") "
   ]
  },
  {
   "cell_type": "code",
   "execution_count": 14,
   "metadata": {
    "colab": {
     "base_uri": "https://localhost:8080/"
    },
    "executionInfo": {
     "elapsed": 395,
     "status": "ok",
     "timestamp": 1679741390363,
     "user": {
      "displayName": "Hrutik Nawade",
      "userId": "03506609053451396862"
     },
     "user_tz": -330
    },
    "id": "gC1U71wKYkUX",
    "outputId": "30200d45-875c-4f57-d4d6-6cf6b6358d58"
   },
   "outputs": [
    {
     "name": "stdout",
     "output_type": "stream",
     "text": [
      "Geeks Practice\n",
      "Geeks Practice\n"
     ]
    }
   ],
   "source": [
    "def student(firstname, lastname):\n",
    "    print(firstname, lastname)\n",
    "  \n",
    "# Keyword arguments\n",
    "student(firstname='Geeks', lastname='Practice')\n",
    "student(lastname='Practice', firstname='Geeks')"
   ]
  },
  {
   "cell_type": "markdown",
   "metadata": {},
   "source": [
    "We can use both positional and keyword arguments simultaneously. But first we have to take positional arguments and then keyword arguments,otherwise we will get syntaxerror.\n",
    "\n",
    "because in python ***positional argument follows keyword argument***"
   ]
  },
  {
   "cell_type": "code",
   "execution_count": 15,
   "metadata": {},
   "outputs": [
    {
     "name": "stdout",
     "output_type": "stream",
     "text": [
      "Hello Hrutik GoodMorning\n"
     ]
    }
   ],
   "source": [
    "def wish(name,msg):\n",
    "    print(\"Hello\",name,msg)\n",
    "    \n",
    "wish(\"Hrutik\",\"GoodMorning\")"
   ]
  },
  {
   "cell_type": "code",
   "execution_count": 16,
   "metadata": {},
   "outputs": [
    {
     "name": "stdout",
     "output_type": "stream",
     "text": [
      "Hello Hrutik GoodMorning\n"
     ]
    }
   ],
   "source": [
    "wish(\"Hrutik\",msg=\"GoodMorning\")"
   ]
  },
  {
   "cell_type": "code",
   "execution_count": 17,
   "metadata": {},
   "outputs": [
    {
     "ename": "SyntaxError",
     "evalue": "positional argument follows keyword argument (2410063882.py, line 4)",
     "output_type": "error",
     "traceback": [
      "\u001b[1;36m  Cell \u001b[1;32mIn[17], line 4\u001b[1;36m\u001b[0m\n\u001b[1;33m    wish(name=\"Hrutik\",\"GoodMorning\")\u001b[0m\n\u001b[1;37m                                    ^\u001b[0m\n\u001b[1;31mSyntaxError\u001b[0m\u001b[1;31m:\u001b[0m positional argument follows keyword argument\n"
     ]
    }
   ],
   "source": [
    "# here first we used keyword argument then positional\n",
    "# hence we will get error here\n",
    "\n",
    "wish(name=\"Hrutik\",\"GoodMorning\") "
   ]
  },
  {
   "cell_type": "markdown",
   "metadata": {
    "id": "jzcyi4V_WTYk"
   },
   "source": [
    "### Default arguments\n",
    "Sometimes we can provide default values for our positional arguments. \n",
    "\n",
    "In that case if we don't provide arguments during function call then also we will not get error. the default values we passed during declaration will be considered."
   ]
  },
  {
   "cell_type": "code",
   "execution_count": 18,
   "metadata": {},
   "outputs": [
    {
     "name": "stdout",
     "output_type": "stream",
     "text": [
      "Hello Hrutik Good Morning\n"
     ]
    }
   ],
   "source": [
    "def wish(name = 'Hrutik',msg = 'Good Morning'):\n",
    "    print(\"Hello\",name,msg)\n",
    "\n",
    "wish()"
   ]
  },
  {
   "cell_type": "markdown",
   "metadata": {},
   "source": [
    "Whenever providing default arguments while defining a function take note that non-default arguments follows default arguments. If first we give default argument then we gave non-default argument then it will gives an error.\n",
    "\n",
    "Just like while calling function we first call positional arguments then keywords arguments.<br>\n",
    "here also the same first write non-default arguments like positional arguments then define default arguments"
   ]
  },
  {
   "cell_type": "code",
   "execution_count": 19,
   "metadata": {
    "scrolled": true
   },
   "outputs": [],
   "source": [
    "def wish(name=\"Guest\",msg=\"Good Morning\"): # both default argument\n",
    "    pass\n",
    "    \n",
    "def wish(name,msg=\"Good Morning\"):   # non-default argument follows default argument\n",
    "    pass"
   ]
  },
  {
   "cell_type": "code",
   "execution_count": 20,
   "metadata": {},
   "outputs": [
    {
     "ename": "SyntaxError",
     "evalue": "non-default argument follows default argument (1746819698.py, line 4)",
     "output_type": "error",
     "traceback": [
      "\u001b[1;36m  Cell \u001b[1;32mIn[20], line 4\u001b[1;36m\u001b[0m\n\u001b[1;33m    def wish(name=\"Guest\",msg):\u001b[0m\n\u001b[1;37m                          ^\u001b[0m\n\u001b[1;31mSyntaxError\u001b[0m\u001b[1;31m:\u001b[0m non-default argument follows default argument\n"
     ]
    }
   ],
   "source": [
    "# After default arguments we should not take non default arguments\n",
    "# this will give error\n",
    "\n",
    "def wish(name=\"Guest\",msg): \n",
    "    pass"
   ]
  },
  {
   "cell_type": "code",
   "execution_count": 21,
   "metadata": {
    "id": "DmYgI8FytBL6"
   },
   "outputs": [
    {
     "name": "stdout",
     "output_type": "stream",
     "text": [
      "2 8 10 18 28 46 74 "
     ]
    }
   ],
   "source": [
    "def fibonacci(N, a=0, b=1):\n",
    "    i = 0\n",
    "    while i < N:\n",
    "        a, b = b, a + b\n",
    "        print(a, end=' ')\n",
    "        i = i+1\n",
    "\n",
    "fibonacci(7,6 ,2)"
   ]
  },
  {
   "cell_type": "markdown",
   "metadata": {},
   "source": [
    "### Arbitrary keyword arguments / Variable length arguments\n",
    "Sometimes we can pass variable number of arguments to our function,such type of arguments are called variable length arguments.<br>\n",
    "We can declare a variable length argument with `*` symbol as follows\n",
    "\n",
    "#### *args\n",
    "`def f1(*args):`\n",
    "We can call this function by passing any number of arguments including zero number.<br>\n",
    "Internally all these values represented in the form of tuple."
   ]
  },
  {
   "cell_type": "code",
   "execution_count": 22,
   "metadata": {},
   "outputs": [
    {
     "name": "stdout",
     "output_type": "stream",
     "text": [
      "The Sum = 0\n",
      "The Sum = 10\n",
      "The Sum = 30\n",
      "The Sum = 100\n"
     ]
    }
   ],
   "source": [
    "# function with variable length arguments can be used to perform this kind of task\n",
    "def sum(*n):\n",
    "    total=0\n",
    "    for n1 in n:\n",
    "        total=total+n1\n",
    "    print(\"The Sum =\",total)\n",
    "\n",
    "sum()\n",
    "sum(10)\n",
    "sum(10,20)\n",
    "sum(10,20,30,40) "
   ]
  },
  {
   "cell_type": "code",
   "execution_count": 23,
   "metadata": {
    "colab": {
     "base_uri": "https://localhost:8080/"
    },
    "executionInfo": {
     "elapsed": 3,
     "status": "ok",
     "timestamp": 1679741633753,
     "user": {
      "displayName": "Hrutik Nawade",
      "userId": "03506609053451396862"
     },
     "user_tz": -330
    },
    "id": "yllQ5BISZmn_",
    "outputId": "5ddf5153-d3d0-46a4-f203-2b520371a640"
   },
   "outputs": [
    {
     "name": "stdout",
     "output_type": "stream",
     "text": [
      "Hello\n",
      "Welcome\n",
      "to\n",
      "GeeksforGeeks\n"
     ]
    }
   ],
   "source": [
    "# Python program to illustrate\n",
    "# *args for variable number of arguments\n",
    "\n",
    "def myFun(*argv):\n",
    "    for arg in argv:\n",
    "        print(arg)\n",
    "  \n",
    "  \n",
    "myFun('Hello', 'Welcome', 'to', 'GeeksforGeeks')"
   ]
  },
  {
   "cell_type": "markdown",
   "metadata": {},
   "source": [
    "#### **kwargs\n",
    "We can declare key word variable length arguments also.<br>\n",
    "For this we have to use `**`.\n",
    "\n",
    "`def(**kwargs):`<br>\n",
    "We can call this function by passing any number of arguments including zero number.<br>\n",
    "Internally all these values represented in the form of tuple."
   ]
  },
  {
   "cell_type": "code",
   "execution_count": 24,
   "metadata": {},
   "outputs": [
    {
     "name": "stdout",
     "output_type": "stream",
     "text": [
      "n1 = 10\n",
      "n2 = 20\n",
      "n3 = 30\n",
      "--------------------------------------------------\n",
      "rno = 100\n",
      "name = Hrutik\n",
      "marks = 70\n",
      "subject = Python\n"
     ]
    }
   ],
   "source": [
    "def display(**kwargs):\n",
    "    for k,v in kwargs.items():\n",
    "        print(k,\"=\",v)\n",
    "\n",
    "display(n1=10,n2=20,n3=30)\n",
    "print(\"-\" * 50)\n",
    "display(rno=100, name=\"Hrutik\", marks=70, subject=\"Python\") "
   ]
  },
  {
   "cell_type": "code",
   "execution_count": 25,
   "metadata": {
    "colab": {
     "base_uri": "https://localhost:8080/"
    },
    "executionInfo": {
     "elapsed": 2,
     "status": "ok",
     "timestamp": 1679741657302,
     "user": {
      "displayName": "Hrutik Nawade",
      "userId": "03506609053451396862"
     },
     "user_tz": -330
    },
    "id": "okyjQ9JtZ05P",
    "outputId": "f242dc19-a2a8-44a0-b23e-6cd30238e448"
   },
   "outputs": [
    {
     "name": "stdout",
     "output_type": "stream",
     "text": [
      "first == Geeks\n",
      "mid == for\n",
      "last == Geeks\n"
     ]
    }
   ],
   "source": [
    "# Python program to illustrate\n",
    "# *kwargs for variable number of keyword arguments\n",
    "  \n",
    "def myFun(**kwargs):\n",
    "    for key, value in kwargs.items():\n",
    "        print(\"%s == %s\" % (key, value))\n",
    "  \n",
    "  \n",
    "# Driver code\n",
    "myFun(first='Geeks', mid='for', last='Geeks')"
   ]
  },
  {
   "cell_type": "code",
   "execution_count": 26,
   "metadata": {
    "colab": {
     "base_uri": "https://localhost:8080/"
    },
    "executionInfo": {
     "elapsed": 588,
     "status": "ok",
     "timestamp": 1679750285259,
     "user": {
      "displayName": "Hrutik Nawade",
      "userId": "03506609053451396862"
     },
     "user_tz": -330
    },
    "id": "jAweLE8n1tXH",
    "outputId": "1f7c3d9d-0cdd-41f9-e221-3a4b4663522d"
   },
   "outputs": [
    {
     "name": "stdout",
     "output_type": "stream",
     "text": [
      "args:  ('geeks', 'for', 'geeks')\n",
      "<class 'tuple'>\n",
      "kwargs:  {'first': 'Geeks', 'mid': 'for', 'last': 'Geeks'}\n",
      "<class 'dict'>\n"
     ]
    }
   ],
   "source": [
    "def myFun(*args, **kwargs):\n",
    "    print(\"args: \", args)\n",
    "    print(type(args))\n",
    "    print(\"kwargs: \", kwargs)\n",
    "    print(type(kwargs))\n",
    " \n",
    "# Now we can use both *args ,**kwargs\n",
    "# to pass arguments to this function :\n",
    "myFun('geeks', 'for', 'geeks', first=\"Geeks\", mid=\"for\", last=\"Geeks\")"
   ]
  },
  {
   "cell_type": "markdown",
   "metadata": {
    "id": "Fh5pM9aBapvK"
   },
   "source": [
    "ng."
   ]
  },
  {
   "cell_type": "markdown",
   "metadata": {},
   "source": [
    "# Docstring\n",
    "Python documentation strings (or docstrings) provide a convenient way of associating documentation with Python modules, functions, classes, and methods.<br>\n",
    "the docstring should describe what the function does, not how.<br>\n",
    "comment for a function which describes its work\n",
    "\n",
    "### Declaring Docstrings:\n",
    "The docstrings are declared using `''' triple single quotes '''` or `\"\"\" triple double quotes \"\"\"` just below the class, method, or function declaration. All functions should have a docstring to get information about that function."
   ]
  },
  {
   "cell_type": "code",
   "execution_count": 27,
   "metadata": {
    "colab": {
     "base_uri": "https://localhost:8080/"
    },
    "executionInfo": {
     "elapsed": 5,
     "status": "ok",
     "timestamp": 1679741988684,
     "user": {
      "displayName": "Hrutik Nawade",
      "userId": "03506609053451396862"
     },
     "user_tz": -330
    },
    "id": "ZmVpbASpawAp",
    "outputId": "e395ca1b-a2e8-45dd-aed3-f81c4a9c4996"
   },
   "outputs": [
    {
     "name": "stdout",
     "output_type": "stream",
     "text": [
      "odd\n"
     ]
    }
   ],
   "source": [
    "# A simple Python function to check whether x is even or odd\n",
    "  \n",
    "def evenOdd(x):\n",
    "    \"\"\"Function to check if the number is even or odd\"\"\"   # writes docstring\n",
    "      \n",
    "    if (x % 2 == 0):\n",
    "        print(\"even\")\n",
    "    else:\n",
    "        print(\"odd\")\n",
    "  \n",
    "  \n",
    "# Driver code to call the function\n",
    "evenOdd(39)"
   ]
  },
  {
   "cell_type": "markdown",
   "metadata": {},
   "source": [
    "### Accessing Docstrings:\n",
    "The docstrings can be accessed using the `__doc__` method of the object or using the help function. The below examples demonstrate how to declare and access a docstring."
   ]
  },
  {
   "cell_type": "code",
   "execution_count": 28,
   "metadata": {},
   "outputs": [
    {
     "name": "stdout",
     "output_type": "stream",
     "text": [
      "Function to check if the number is even or odd\n"
     ]
    }
   ],
   "source": [
    "print(evenOdd.__doc__)"
   ]
  },
  {
   "cell_type": "markdown",
   "metadata": {
    "id": "QWXoXvT2ayQQ"
   },
   "source": [
    "# Nested functions\n",
    "We can declare a function inside another function, such type of functions are called Nested \n",
    "functions."
   ]
  },
  {
   "cell_type": "code",
   "execution_count": 29,
   "metadata": {},
   "outputs": [
    {
     "name": "stdout",
     "output_type": "stream",
     "text": [
      "outer function started\n",
      "outer function calling inner function\n",
      "inner function execution\n"
     ]
    }
   ],
   "source": [
    "def outer():\n",
    "    print(\"outer function started\")\n",
    "    def inner():\n",
    "        print(\"inner function execution\")\n",
    "    print(\"outer function calling inner function\")\n",
    "    inner()\n",
    "outer()"
   ]
  },
  {
   "cell_type": "code",
   "execution_count": 30,
   "metadata": {},
   "outputs": [
    {
     "name": "stdout",
     "output_type": "stream",
     "text": [
      "outer function started\n",
      "outer function calling inner function\n",
      "inner function execution\n"
     ]
    },
    {
     "ename": "NameError",
     "evalue": "name 'inner' is not defined",
     "output_type": "error",
     "traceback": [
      "\u001b[1;31m---------------------------------------------------------------------------\u001b[0m",
      "\u001b[1;31mNameError\u001b[0m                                 Traceback (most recent call last)",
      "Cell \u001b[1;32mIn[30], line 9\u001b[0m\n\u001b[0;32m      6\u001b[0m     inner()\n\u001b[0;32m      7\u001b[0m outer()\n\u001b[1;32m----> 9\u001b[0m inner()\n",
      "\u001b[1;31mNameError\u001b[0m: name 'inner' is not defined"
     ]
    }
   ],
   "source": [
    "def outer():\n",
    "    print(\"outer function started\")\n",
    "    def inner():\n",
    "        print(\"inner function execution\")\n",
    "    print(\"outer function calling inner function\")\n",
    "    inner()\n",
    "outer()\n",
    "\n",
    "inner()  # nested function can't be called outside gives error"
   ]
  },
  {
   "cell_type": "code",
   "execution_count": 31,
   "metadata": {},
   "outputs": [
    {
     "name": "stdout",
     "output_type": "stream",
     "text": [
      "outer function started\n",
      "inner function execution\n",
      "outer function returning inner function\n"
     ]
    }
   ],
   "source": [
    "def outer():\n",
    "    print(\"outer function started\")\n",
    "    \n",
    "    def inner():\n",
    "        print(\"inner function execution\") \n",
    "        print(\"outer function returning inner function\")\n",
    "    return inner  # a function can return a function, call a function in return statement.\n",
    "    \n",
    "f1=outer()\n",
    "f1()"
   ]
  },
  {
   "cell_type": "markdown",
   "metadata": {},
   "source": [
    "## Recursion in Python\n",
    "The term Recursion can be defined as the process of defining something in terms of itself. In simple words, it is a process in which a function calls itself directly or indirectly. \n",
    "\n",
    "```python\n",
    "def func():  <---\n",
    "                |\n",
    "                | (recursive call)\n",
    "                |\n",
    "    func()-------\n",
    "```\n",
    "\n",
    "The main advantages of recursive functions are:\n",
    "- We can reduce length of the code and improves readability\n",
    "- We can solve complex problems very easily.\n",
    "- A complicated function can be split down into smaller sub-problems utilizing recursion.<br>\n",
    "- Sequence creation is simpler through recursion than utilizing any nested iteration."
   ]
  },
  {
   "cell_type": "code",
   "execution_count": 33,
   "metadata": {},
   "outputs": [
    {
     "name": "stdout",
     "output_type": "stream",
     "text": [
      "This is recursive function\n"
     ]
    }
   ],
   "source": [
    "def func():\n",
    "    print('This is recursive function')\n",
    "    # func()   # uncomment to make it recursive\n",
    "\n",
    "func()"
   ]
  },
  {
   "cell_type": "code",
   "execution_count": 34,
   "metadata": {},
   "outputs": [
    {
     "name": "stdout",
     "output_type": "stream",
     "text": [
      "inside function f at start\n",
      "inside function g\n",
      "inside function f at end\n"
     ]
    }
   ],
   "source": [
    "# take care of function calling while using nested functions \n",
    "# if we call main function inside nested and nested inside main \n",
    "# it creates a loop that never ends\n",
    "\n",
    "def f():\n",
    "    print('inside function f at start')\n",
    "    \n",
    "    def g():    # defines a function inside another function\n",
    "        print('inside function g')  \n",
    "        # f() # uncomment this line to run\n",
    "    g()\n",
    "    \n",
    "    print('inside function f at end')\n",
    "\n",
    "f()"
   ]
  },
  {
   "cell_type": "code",
   "execution_count": 35,
   "metadata": {},
   "outputs": [
    {
     "data": {
      "text/plain": [
       "6"
      ]
     },
     "execution_count": 35,
     "metadata": {},
     "output_type": "execute_result"
    }
   ],
   "source": [
    "# use of recursion for calculating factorial\n",
    "\n",
    "def factorial(n):\n",
    "    if n <= 1 :\n",
    "        return 1\n",
    "    else:\n",
    "        return n * factorial(n-1)\n",
    "\n",
    "factorial(3)"
   ]
  },
  {
   "cell_type": "markdown",
   "metadata": {},
   "source": [
    "execution of above code\n",
    "```python\n",
    "factorial(3) = 3 * factorial(2)\n",
    "             = 3 * 2 * factorial(1)\n",
    "             = 3 * 2 * 1 * factorial(0)\n",
    "             = 3 * 2 * 1 * 1\n",
    "             = 6"
   ]
  },
  {
   "cell_type": "markdown",
   "metadata": {
    "id": "KyqTDOgNbuav"
   },
   "source": [
    "## Variables scope in python\n",
    "Variable scope in Python refers to the region of the code where a variable is accessible. Python has different types of variable scopes.\n",
    "\n",
    "This term is also called `namespace`. A namespace is a space that holds names(identifiers).Programmatically speaking, namespaces are dictionary of identifiers(keys) and their objects(values).\n",
    "\n",
    "1. Local Scope\n",
    "2. Enclosing Scope\n",
    "3. Global Scope\n",
    "4. Built-in Scope"
   ]
  },
  {
   "cell_type": "markdown",
   "metadata": {},
   "source": [
    "### Scope\n",
    "\n",
    "A scope is a textual region of a Python program where a namespace is directly accessible.\n",
    "\n",
    "The interpreter searches for a name from the inside out, looking in the local, enclosing, global, and finally the built-in scope. If the interpreter doesn’t find the name in any of these locations, then Python raises a NameError exception."
   ]
  },
  {
   "cell_type": "markdown",
   "metadata": {},
   "source": [
    "### Local Scope\n",
    "Definition: A variable declared inside a function is local to that function.<br>\n",
    "Accessibility: The variable can only be accessed within the function where it's declared."
   ]
  },
  {
   "cell_type": "code",
   "execution_count": 36,
   "metadata": {},
   "outputs": [
    {
     "name": "stdout",
     "output_type": "stream",
     "text": [
      "10\n",
      "150\n"
     ]
    }
   ],
   "source": [
    "def my_function():\n",
    "    x = 10  # Local variable\n",
    "    print(x)\n",
    "\n",
    "my_function()  \n",
    "print(x)  # Error: x is not defined outside the function"
   ]
  },
  {
   "cell_type": "code",
   "execution_count": 37,
   "metadata": {},
   "outputs": [
    {
     "name": "stdout",
     "output_type": "stream",
     "text": [
      "10\n",
      "None\n"
     ]
    }
   ],
   "source": [
    "def f1():\n",
    "    a=10    \n",
    "    print(a) # valid --> defines inside the function\n",
    "    \n",
    "def f2():\n",
    "    print(a) #invalid --> no variable defines in a function and not globally.\n",
    "\n",
    "f1()\n",
    "f2() "
   ]
  },
  {
   "cell_type": "markdown",
   "metadata": {},
   "source": [
    "### Global Scope\n",
    "Definition: A variable declared outside any function is global.<br>\n",
    "Accessibility: The variable can be accessed from any part of the code, unless defined inside the function itself"
   ]
  },
  {
   "cell_type": "code",
   "execution_count": 38,
   "metadata": {},
   "outputs": [
    {
     "name": "stdout",
     "output_type": "stream",
     "text": [
      "10\n",
      "10\n"
     ]
    }
   ],
   "source": [
    "x = 10  # Global variable\n",
    "\n",
    "def my_function():\n",
    "    print(x)  # Accesses the global variable\n",
    "\n",
    "my_function() \n",
    "print(x)  "
   ]
  },
  {
   "cell_type": "code",
   "execution_count": 39,
   "metadata": {},
   "outputs": [
    {
     "name": "stdout",
     "output_type": "stream",
     "text": [
      "10\n",
      "10\n"
     ]
    }
   ],
   "source": [
    "a=10 # global variable\n",
    "def f1():\n",
    "    print(a)\n",
    "     \n",
    "def f2():\n",
    "    print(a)\n",
    "    \n",
    "f1()\n",
    "f2() "
   ]
  },
  {
   "cell_type": "code",
   "execution_count": 40,
   "metadata": {},
   "outputs": [
    {
     "name": "stdout",
     "output_type": "stream",
     "text": [
      "20\n",
      "10\n"
     ]
    }
   ],
   "source": [
    "# when variable with same name defined inside function\n",
    "# then it won't consider global variable anymore\n",
    "\n",
    "x = 10  # Global variable\n",
    "\n",
    "def my_function():\n",
    "    x = 20    # defines local variable\n",
    "    print(x)  # Accesses the local variable\n",
    "\n",
    "my_function() \n",
    "print(x) "
   ]
  },
  {
   "cell_type": "code",
   "execution_count": 41,
   "metadata": {},
   "outputs": [
    {
     "ename": "UnboundLocalError",
     "evalue": "cannot access local variable 'x' where it is not associated with a value",
     "output_type": "error",
     "traceback": [
      "\u001b[1;31m---------------------------------------------------------------------------\u001b[0m",
      "\u001b[1;31mUnboundLocalError\u001b[0m                         Traceback (most recent call last)",
      "Cell \u001b[1;32mIn[41], line 11\u001b[0m\n\u001b[0;32m      7\u001b[0m     \u001b[38;5;28mprint\u001b[39m(x)  \u001b[38;5;66;03m# Accesses the local variable\u001b[39;00m\n\u001b[0;32m      8\u001b[0m     x \u001b[38;5;241m=\u001b[39m \u001b[38;5;241m20\u001b[39m    \u001b[38;5;66;03m# defines local variable \u001b[39;00m\n\u001b[1;32m---> 11\u001b[0m my_function() \n\u001b[0;32m     12\u001b[0m \u001b[38;5;28mprint\u001b[39m(x)\n",
      "Cell \u001b[1;32mIn[41], line 7\u001b[0m, in \u001b[0;36mmy_function\u001b[1;34m()\u001b[0m\n\u001b[0;32m      6\u001b[0m \u001b[38;5;28;01mdef\u001b[39;00m \u001b[38;5;21mmy_function\u001b[39m():\n\u001b[1;32m----> 7\u001b[0m     \u001b[38;5;28mprint\u001b[39m(x)  \u001b[38;5;66;03m# Accesses the local variable\u001b[39;00m\n\u001b[0;32m      8\u001b[0m     x \u001b[38;5;241m=\u001b[39m \u001b[38;5;241m20\u001b[39m\n",
      "\u001b[1;31mUnboundLocalError\u001b[0m: cannot access local variable 'x' where it is not associated with a value"
     ]
    }
   ],
   "source": [
    "# variable is accessed before defining\n",
    "# it will cause error\n",
    "\n",
    "x = 10  # Global variable\n",
    "\n",
    "def my_function():\n",
    "    print(x)  # Accesses the local variable\n",
    "    x = 20    # defines local variable \n",
    "\n",
    "\n",
    "my_function() \n",
    "print(x) "
   ]
  },
  {
   "cell_type": "markdown",
   "metadata": {},
   "source": [
    "#### global \n",
    "Global keyword used to modify a global variable inside a function."
   ]
  },
  {
   "cell_type": "code",
   "execution_count": 42,
   "metadata": {},
   "outputs": [
    {
     "name": "stdout",
     "output_type": "stream",
     "text": [
      "20\n"
     ]
    }
   ],
   "source": [
    "x = 10  # Global variable\n",
    "\n",
    "def my_function():\n",
    "    global x  # defines we are dealing with global variable\n",
    "    x = 20  # Modifies the global variable\n",
    "\n",
    "my_function()\n",
    "print(x)  # Prints 20\n"
   ]
  },
  {
   "cell_type": "code",
   "execution_count": 43,
   "metadata": {},
   "outputs": [
    {
     "name": "stdout",
     "output_type": "stream",
     "text": [
      "Python is great!\n",
      "Python is great! GFG\n",
      "Look for Python \n"
     ]
    }
   ],
   "source": [
    "# This function modifies the global variable 's' by using global keyword\n",
    "def f():\n",
    "    global s\n",
    "    s += ' GFG'\n",
    "    print(s)\n",
    "    s = \"Look for Python \"\n",
    "    print(s)\n",
    " \n",
    "# Global Scope\n",
    "s = \"Python is great!\"\n",
    "print(s)\n",
    "f()\n"
   ]
  },
  {
   "cell_type": "markdown",
   "metadata": {},
   "source": [
    "### Enclosing Scope\n",
    "Definition: A variable in the enclosing function scope is nonlocal when used within a nested function.<br>\n",
    "Accessibility: The variable is accessible to nested functions but not to the global scope."
   ]
  },
  {
   "cell_type": "code",
   "execution_count": 44,
   "metadata": {},
   "outputs": [
    {
     "name": "stdout",
     "output_type": "stream",
     "text": [
      "10\n",
      "20\n",
      "10\n"
     ]
    }
   ],
   "source": [
    "def outer_function():\n",
    "    x = 10  # Enclosing variable\n",
    "    print(x)\n",
    "    \n",
    "    def inner_function():\n",
    "        x = 20  # local variable\n",
    "        print(x)\n",
    "\n",
    "    inner_function()\n",
    "    print(x)\n",
    "\n",
    "outer_function() "
   ]
  },
  {
   "cell_type": "markdown",
   "metadata": {},
   "source": [
    "#### nonlocal\n",
    "nonlocal keyword modifies the nonlocal variable inside local scope<br>\n",
    "if there are multiple nested functions then it will change only its parent functions variable.<br>\n",
    "to change it on multilevel define `nonlocal var` in each child func"
   ]
  },
  {
   "cell_type": "code",
   "execution_count": 45,
   "metadata": {},
   "outputs": [
    {
     "name": "stdout",
     "output_type": "stream",
     "text": [
      "x before modifying : 10\n",
      "20\n",
      "20\n"
     ]
    }
   ],
   "source": [
    "def outer_function():\n",
    "    x = 10  # Enclosing variable\n",
    "    print(\"x before modifying :\", x)\n",
    "    \n",
    "    def inner_function():\n",
    "        nonlocal x\n",
    "        x = 20  # Modifies the enclosing variable\n",
    "        print(x)\n",
    "\n",
    "    inner_function()\n",
    "    print(x)\n",
    "\n",
    "outer_function()  "
   ]
  },
  {
   "cell_type": "markdown",
   "metadata": {},
   "source": [
    "### Built-in Scope\n",
    "Definition: These are reserved names that Python provides as built-ins (like len(), range(), etc.).<br>\n",
    "Accessibility: Accessible from any part of the code unless shadowed by a local variable with the same name."
   ]
  },
  {
   "cell_type": "code",
   "execution_count": 46,
   "metadata": {},
   "outputs": [
    {
     "name": "stdout",
     "output_type": "stream",
     "text": [
      "3\n"
     ]
    }
   ],
   "source": [
    "def my_function():\n",
    "    print(len([1, 2, 3]))  # len() is a built-in function\n",
    "\n",
    "my_function() "
   ]
  },
  {
   "cell_type": "markdown",
   "metadata": {},
   "source": [
    "### LEGB rule\n",
    "Python determines variable scope using the LEGB rule, which stands for:\n",
    "\n",
    "- Local  — Variables defined within a function.\n",
    "- Enclosing — Variables in the nearest enclosing function scope.\n",
    "- Global — Variables at the top level of the module or script.\n",
    "- Built-in — Names that are preassigned in Python."
   ]
  },
  {
   "cell_type": "code",
   "execution_count": 47,
   "metadata": {
    "colab": {
     "base_uri": "https://localhost:8080/"
    },
    "executionInfo": {
     "elapsed": 3,
     "status": "ok",
     "timestamp": 1679767439707,
     "user": {
      "displayName": "Hrutik Nawade",
      "userId": "03506609053451396862"
     },
     "user_tz": -330
    },
    "id": "Lbll0iJ7sF1U",
    "outputId": "f9d59c5a-f7f6-4df8-fdf0-af7a6a39a6e1"
   },
   "outputs": [
    {
     "name": "stdout",
     "output_type": "stream",
     "text": [
      "[11, 12, 13]\n"
     ]
    }
   ],
   "source": [
    "a = [1, 2, 3]\n",
    "\n",
    "def func():\n",
    "  for i in range(len(a)):\n",
    "    a[i] += 10 # we can modify the values of a sequence\n",
    "func()\n",
    "print(a)"
   ]
  },
  {
   "cell_type": "code",
   "execution_count": 48,
   "metadata": {
    "id": "csUdpt_GsFkr"
   },
   "outputs": [
    {
     "name": "stdout",
     "output_type": "stream",
     "text": [
      "'arr' list before executing fun(): [10, 20, 30]\n",
      "'arr' list after executing fun(): [20, 30, 40]\n"
     ]
    }
   ],
   "source": [
    "def fun():\n",
    "    global arr # making 'arr' as a global variable and assigning the new array to it\n",
    "    arr = [20, 30, 40]\n",
    " \n",
    "arr = [10, 20, 30]\n",
    "print(\"'arr' list before executing fun():\", arr)\n",
    "fun()\n",
    "print(\"'arr' list after executing fun():\", arr)"
   ]
  },
  {
   "cell_type": "code",
   "execution_count": 49,
   "metadata": {
    "colab": {
     "base_uri": "https://localhost:8080/"
    },
    "executionInfo": {
     "elapsed": 3,
     "status": "ok",
     "timestamp": 1679767834643,
     "user": {
      "displayName": "Hrutik Nawade",
      "userId": "03506609053451396862"
     },
     "user_tz": -330
    },
    "id": "tWEixf4u80XT",
    "outputId": "e66a103c-5613-43f9-ddba-96426f0268dd"
   },
   "outputs": [
    {
     "name": "stdout",
     "output_type": "stream",
     "text": [
      "10\n",
      "15\n",
      "15\n",
      "25\n",
      "30\n",
      "30\n",
      "30\n",
      "10\n"
     ]
    }
   ],
   "source": [
    "# combined everything about scope\n",
    "\n",
    "def outer():\n",
    "    x = 15       # to change this variable in inner we have to define it in middle func\n",
    "    print(x)\n",
    "    \n",
    "    def middle():\n",
    "        nonlocal x     # defines it here to change in outer func\n",
    "        # x = 20\n",
    "        print(x)\n",
    "        \n",
    "        def inner():\n",
    "            nonlocal x  # nonlocal meaning the variable of its parent class i.e. x=20\n",
    "                        # with this nonlocal x=15 won't change \n",
    "            x = 25\n",
    "            print(x)\n",
    "            \n",
    "            # global x    # in same function we cannot use two scope changing keywords\n",
    "                        # it gives SyntaxError: name 'x' is used prior global declaration\n",
    "            x = 30\n",
    "            print(x)\n",
    "\n",
    "        inner()\n",
    "        print(x)\n",
    "        \n",
    "    middle()\n",
    "    print(x)\n",
    "\n",
    "x = 10\n",
    "print(x)\n",
    "outer()\n",
    "print(x)"
   ]
  },
  {
   "cell_type": "markdown",
   "metadata": {
    "id": "ptx8dKC5bvBP"
   },
   "source": [
    "\r\n"
   ]
  },
  {
   "cell_type": "markdown",
   "metadata": {},
   "source": [
    "# Anonymous function / Lambda function\n",
    "Sometimes we can declare a function without any name,such type of nameless functions are called anonymous functions or lambda functions.<br>\n",
    "The main purpose of anonymous function is just for instant use(i.e for one time usage)<br>\n",
    "By using Lambda Functions we can write very concise code so that readability of the program will be improved.\n",
    "\n",
    "We can define by using `lambda` keyword. Syntax of lambda Function:\n",
    "```python\n",
    "lambda argument_list : expression\n",
    "```\n",
    "\n",
    "Lambda Function internally returns expression value and we are not required to write \n",
    "return statement explicitly.\r"
   ]
  },
  {
   "cell_type": "code",
   "execution_count": 50,
   "metadata": {
    "id": "yIcwHt_lebPn"
   },
   "outputs": [
    {
     "data": {
      "text/plain": [
       "25"
      ]
     },
     "execution_count": 50,
     "metadata": {},
     "output_type": "execute_result"
    }
   ],
   "source": [
    "# getting square thorugh lambda\n",
    "square = lambda z : z*z\n",
    "square(5)"
   ]
  },
  {
   "cell_type": "code",
   "execution_count": 51,
   "metadata": {
    "colab": {
     "base_uri": "https://localhost:8080/"
    },
    "executionInfo": {
     "elapsed": 509,
     "status": "ok",
     "timestamp": 1679758912502,
     "user": {
      "displayName": "Hrutik Nawade",
      "userId": "03506609053451396862"
     },
     "user_tz": -330
    },
    "id": "P5sk4jAGblnF",
    "outputId": "e718d78b-fbeb-481a-8d4d-721458cddf36"
   },
   "outputs": [
    {
     "name": "stdout",
     "output_type": "stream",
     "text": [
      "<class 'function'>\n"
     ]
    }
   ],
   "source": [
    "print(type(square))"
   ]
  },
  {
   "cell_type": "code",
   "execution_count": 52,
   "metadata": {},
   "outputs": [
    {
     "name": "stdout",
     "output_type": "stream",
     "text": [
      "The Sum of 10, 20 is : 30\n"
     ]
    }
   ],
   "source": [
    "# calculation sum of two numbers\n",
    "\n",
    "s = lambda a, b : a + b\n",
    "\n",
    "print(\"The Sum of 10, 20 is :\", s(10,20)) "
   ]
  },
  {
   "cell_type": "code",
   "execution_count": 53,
   "metadata": {},
   "outputs": [
    {
     "name": "stdout",
     "output_type": "stream",
     "text": [
      "The Biggest of 10, 20 is : 20\n",
      "The Biggest of 100, 200 is : 200\n"
     ]
    }
   ],
   "source": [
    "# writing a function to find the larger number\n",
    "\n",
    "s = lambda a, b : a if a > b else b\n",
    "\n",
    "print(\"The Biggest of 10, 20 is :\", s(10,20))\n",
    "print(\"The Biggest of 100, 200 is :\", s(100,200)) "
   ]
  },
  {
   "cell_type": "markdown",
   "metadata": {},
   "source": [
    "Sometimes we can pass function as argument to another function. In such cases lambda functions are best choice.<br>\n",
    "We can use lambda functions very commonly with \n",
    "- filter()\n",
    "- map()\n",
    "- reduce()\n",
    "- or any other function which expect function as argument\n"
   ]
  },
  {
   "cell_type": "code",
   "execution_count": 54,
   "metadata": {
    "colab": {
     "base_uri": "https://localhost:8080/"
    },
    "executionInfo": {
     "elapsed": 400,
     "status": "ok",
     "timestamp": 1679762288897,
     "user": {
      "displayName": "Hrutik Nawade",
      "userId": "03506609053451396862"
     },
     "user_tz": -330
    },
    "id": "7mUixMjwbmOh",
    "outputId": "15956c81-94dc-4b44-965b-705f7f21306c"
   },
   "outputs": [
    {
     "name": "stdout",
     "output_type": "stream",
     "text": [
      "sorted numerically ['-43', '-4', '2', '56', '63', '74', '75']\n"
     ]
    }
   ],
   "source": [
    "# sort a list with integer values in string format\n",
    "# here sorted key takes function as argument where it temporarily converts to string \n",
    "\n",
    "l = ['2','-4','74','-43','56', '63', '75']\n",
    "\n",
    "print('sorted numerically', sorted(l,key = lambda x: int(x)))"
   ]
  },
  {
   "cell_type": "markdown",
   "metadata": {},
   "source": [
    "#### filter()\n",
    "We can use filter() function to filter values from the given sequence based on some condition.\n",
    "\n",
    "&emsp; Syntax:  &emsp;\n",
    "`filter(function,sequence)`\n",
    "- where function argument is responsible to perform conditional check\n",
    "- sequence can be list or tuple or string."
   ]
  },
  {
   "cell_type": "code",
   "execution_count": 55,
   "metadata": {
    "colab": {
     "base_uri": "https://localhost:8080/"
    },
    "executionInfo": {
     "elapsed": 408,
     "status": "ok",
     "timestamp": 1679762312295,
     "user": {
      "displayName": "Hrutik Nawade",
      "userId": "03506609053451396862"
     },
     "user_tz": -330
    },
    "id": "ShreSqs_doWV",
    "outputId": "20914850-5c40-4ab7-ecea-6ae967128aee"
   },
   "outputs": [
    {
     "name": "stdout",
     "output_type": "stream",
     "text": [
      "filtered positive even numbers ['2', '74', '56']\n"
     ]
    }
   ],
   "source": [
    "print('filtered positive even numbers',list(filter(lambda x: (int(x) >0 and int(x)%2==0),l)))"
   ]
  },
  {
   "cell_type": "code",
   "execution_count": 56,
   "metadata": {
    "colab": {
     "base_uri": "https://localhost:8080/"
    },
    "executionInfo": {
     "elapsed": 452,
     "status": "ok",
     "timestamp": 1679745440798,
     "user": {
      "displayName": "Hrutik Nawade",
      "userId": "03506609053451396862"
     },
     "user_tz": -330
    },
    "id": "FRFWSA3vecvn",
    "outputId": "a907749c-d3f8-4fec-8d01-22393cf73d75"
   },
   "outputs": [
    {
     "name": "stdout",
     "output_type": "stream",
     "text": [
      "[90, 59, 21, 60]\n"
     ]
    }
   ],
   "source": [
    "# Python 3 code to people above 18 yrs\n",
    "ages = [13, 90, 17, 59, 21, 60, 5]\n",
    " \n",
    "adults = list(filter(lambda age: age > 18, ages))\n",
    " \n",
    "print(adults)\n"
   ]
  },
  {
   "cell_type": "markdown",
   "metadata": {},
   "source": [
    "#### map()\n",
    "For every element present in the given sequence, apply some functionality and generate new element with the required modification. For this requirement we should go for\n",
    "map() function.<br>\n",
    "Eg: For every element present in the list perform double and generate new list of doubles.\n",
    "\n",
    "&emsp; Syntax: &emsp; `map(function,sequence)`\n",
    "\n",
    "The function can be applied on each element of sequence and generates new sequence.\n",
    "\n",
    "We can apply map() function on multiple lists also.But make sure all list should have same length."
   ]
  },
  {
   "cell_type": "code",
   "execution_count": 57,
   "metadata": {
    "colab": {
     "base_uri": "https://localhost:8080/"
    },
    "executionInfo": {
     "elapsed": 705,
     "status": "ok",
     "timestamp": 1679762582502,
     "user": {
      "displayName": "Hrutik Nawade",
      "userId": "03506609053451396862"
     },
     "user_tz": -330
    },
    "id": "AJrscyQodmIX",
    "outputId": "ee5eb532-c2a0-4473-afa8-4d9ab8726ead"
   },
   "outputs": [
    {
     "name": "stdout",
     "output_type": "stream",
     "text": [
      "operation on each item using map object [4, 16, 5476, 1849, 3136, 3969, 5625]\n"
     ]
    }
   ],
   "source": [
    "print('operation on each item using map object',list(map(lambda z: int(z)**2, l)))"
   ]
  },
  {
   "cell_type": "code",
   "execution_count": 58,
   "metadata": {},
   "outputs": [
    {
     "name": "stdout",
     "output_type": "stream",
     "text": [
      "[2, 6, 12, 20]\n"
     ]
    }
   ],
   "source": [
    "l1 = [1,2,3,4]\n",
    "l2 = [2,3,4,5]\n",
    "\n",
    "l3 = list(map(lambda x,y:x*y,l1,l2))\n",
    "print(l3) "
   ]
  },
  {
   "cell_type": "markdown",
   "metadata": {},
   "source": [
    "#### reduce()\n",
    "reduce() function reduces sequence of elements into a single element by applying the specified function.\n",
    "\n",
    "&emsp; Syntax: &emsp; `reduce(function,sequence)`\n",
    "\n",
    "reduce() function present in functools module and hence we should write import statement.<br>\n",
    "this function returns single value"
   ]
  },
  {
   "cell_type": "code",
   "execution_count": 59,
   "metadata": {},
   "outputs": [
    {
     "data": {
      "text/plain": [
       "15"
      ]
     },
     "execution_count": 59,
     "metadata": {},
     "output_type": "execute_result"
    }
   ],
   "source": [
    "# sum of all item\n",
    "import functools\n",
    "\n",
    "functools.reduce(lambda x,y:x+y,[1,2,3,4,5])"
   ]
  },
  {
   "cell_type": "code",
   "execution_count": 60,
   "metadata": {},
   "outputs": [
    {
     "data": {
      "text/plain": [
       "45"
      ]
     },
     "execution_count": 60,
     "metadata": {},
     "output_type": "execute_result"
    }
   ],
   "source": [
    "# find min\n",
    "functools.reduce(lambda x,y:x if x>y else y,[23,11,45,10,1])"
   ]
  },
  {
   "cell_type": "code",
   "execution_count": null,
   "metadata": {},
   "outputs": [],
   "source": []
  },
  {
   "cell_type": "code",
   "execution_count": 62,
   "metadata": {
    "colab": {
     "base_uri": "https://localhost:8080/"
    },
    "executionInfo": {
     "elapsed": 1826,
     "status": "ok",
     "timestamp": 1679745041063,
     "user": {
      "displayName": "Hrutik Nawade",
      "userId": "03506609053451396862"
     },
     "user_tz": -330
    },
    "id": "zjeNYKNlecM3",
    "outputId": "76af8409-6600-4b4c-f789-c4d881275a55"
   },
   "outputs": [
    {
     "name": "stdout",
     "output_type": "stream",
     "text": [
      "Int formatting: 1000000\n",
      "float formatting: 999,999.79\n"
     ]
    }
   ],
   "source": [
    "# creating our own function that will take function as input\n",
    "\n",
    "format_numeric = lambda num: f\"{num}\" if isinstance(num, int) else f\"{num:,.2f}\"\n",
    "\n",
    "print(\"Int formatting:\", format_numeric(1000000))\n",
    "print(\"float formatting:\", format_numeric(999999.789541235))"
   ]
  },
  {
   "cell_type": "markdown",
   "metadata": {},
   "source": [
    "# Advance Functions Options"
   ]
  },
  {
   "cell_type": "markdown",
   "metadata": {
    "id": "DIbwxISDpe5m"
   },
   "source": [
    "## Passing variable to func\n",
    "there are two types to pass a variable to function\n",
    "\n",
    "#### pass by reference\n",
    "Pass a reference of an variable which is already exists"
   ]
  },
  {
   "cell_type": "code",
   "execution_count": 63,
   "metadata": {
    "colab": {
     "base_uri": "https://localhost:8080/"
    },
    "executionInfo": {
     "elapsed": 704,
     "status": "ok",
     "timestamp": 1679747926781,
     "user": {
      "displayName": "Hrutik Nawade",
      "userId": "03506609053451396862"
     },
     "user_tz": -330
    },
    "id": "PdNvp9tRpfq-",
    "outputId": "dbf2b314-352f-4f78-ef70-f7b1a7aec078"
   },
   "outputs": [
    {
     "name": "stdout",
     "output_type": "stream",
     "text": [
      "[20, 11, 12, 13, 14, 15]\n",
      "[20, 11, 12, 13, 14, 15]\n"
     ]
    }
   ],
   "source": [
    "# Here x is a new reference to same list lst\n",
    "def myFun(x):\n",
    "    x[0] = 20\n",
    "    print(x)\n",
    "    \n",
    "# Driver Code --> Note that list is modified after function call.\n",
    "\n",
    "lst = [10, 11, 12, 13, 14, 15]\n",
    "myFun(lst)\n",
    "print(lst)"
   ]
  },
  {
   "cell_type": "markdown",
   "metadata": {},
   "source": [
    "#### pass by value\n",
    "passing as value to a function"
   ]
  },
  {
   "cell_type": "code",
   "execution_count": 64,
   "metadata": {
    "colab": {
     "base_uri": "https://localhost:8080/"
    },
    "executionInfo": {
     "elapsed": 406,
     "status": "ok",
     "timestamp": 1679747943446,
     "user": {
      "displayName": "Hrutik Nawade",
      "userId": "03506609053451396862"
     },
     "user_tz": -330
    },
    "id": "Ispzi3-WxzoA",
    "outputId": "3504e9e2-0388-48f6-feb7-bb618d2983c5"
   },
   "outputs": [
    {
     "name": "stdout",
     "output_type": "stream",
     "text": [
      "[20, 30, 40]\n",
      "[10, 11, 12, 13, 14, 15]\n"
     ]
    }
   ],
   "source": [
    "def myFun(x):\n",
    "    # After below line link of x with previous object gets broken.\n",
    "    # A new object is assigned to x.\n",
    "    \n",
    "    x = [20, 30, 40]\n",
    "    print(x)\n",
    "  \n",
    "# Driver Code --> Note that lst is not modified after function call.\n",
    "\n",
    "lst = [10, 11, 12, 13, 14, 15]\n",
    "myFun(lst)\n",
    "print(lst)"
   ]
  },
  {
   "cell_type": "markdown",
   "metadata": {},
   "source": [
    "## Function aliasing\n",
    "For the existing function we can give another name, which is nothing but function aliasing.\n",
    "\n",
    "if we delete one name still we can access that function by using alias name\r"
   ]
  },
  {
   "cell_type": "code",
   "execution_count": 65,
   "metadata": {},
   "outputs": [
    {
     "name": "stdout",
     "output_type": "stream",
     "text": [
      "2992312044576\n",
      "2992312044576\n",
      "Good Morning Hrutik\n",
      "Good Morning Hrutik\n"
     ]
    }
   ],
   "source": [
    "def wish(name):\n",
    "    print(\"Good Morning\",name)\n",
    "    \n",
    "greeting = wish   # we give an alias for wish function\n",
    "\n",
    "print(id(wish))\n",
    "print(id(greeting))\n",
    "\n",
    "greeting('Hrutik')\n",
    "wish('Hrutik')"
   ]
  },
  {
   "cell_type": "code",
   "execution_count": 66,
   "metadata": {},
   "outputs": [
    {
     "ename": "NameError",
     "evalue": "name 'wish' is not defined",
     "output_type": "error",
     "traceback": [
      "\u001b[1;31m---------------------------------------------------------------------------\u001b[0m",
      "\u001b[1;31mNameError\u001b[0m                                 Traceback (most recent call last)",
      "Cell \u001b[1;32mIn[66], line 4\u001b[0m\n\u001b[0;32m      1\u001b[0m \u001b[38;5;66;03m# if we delete one of them but also we can access other \u001b[39;00m\n\u001b[0;32m      3\u001b[0m \u001b[38;5;28;01mdel\u001b[39;00m wish\n\u001b[1;32m----> 4\u001b[0m wish()\n",
      "\u001b[1;31mNameError\u001b[0m: name 'wish' is not defined"
     ]
    }
   ],
   "source": [
    "# if we delete one of them but also we can access other \n",
    "\n",
    "del wish\n",
    "wish()"
   ]
  },
  {
   "cell_type": "code",
   "execution_count": 67,
   "metadata": {},
   "outputs": [
    {
     "name": "stdout",
     "output_type": "stream",
     "text": [
      "Good Morning Hrutik\n"
     ]
    }
   ],
   "source": [
    "greeting('Hrutik')"
   ]
  },
  {
   "cell_type": "code",
   "execution_count": 68,
   "metadata": {},
   "outputs": [
    {
     "name": "stdout",
     "output_type": "stream",
     "text": [
      "8 Outlook not so good\n"
     ]
    }
   ],
   "source": [
    "# basic function that generates random number and gives us reply against our thoughts/doubts.\n",
    "\n",
    "import random\n",
    "\n",
    "def getAnswer(answerNumber):            \n",
    "    if answerNumber == 1:               \n",
    "        return 'It is certain'\n",
    "    elif answerNumber == 2:\n",
    "        return 'It is decidedly so'\n",
    "    elif answerNumber == 3:\n",
    "        return 'Yes'\n",
    "    elif answerNumber == 4:\n",
    "        return 'Reply hazy try again'\n",
    "    elif answerNumber == 5:\n",
    "        return 'Ask again later'\n",
    "    elif answerNumber == 6:\n",
    "        return 'Concentrate and ask again'\n",
    "    elif answerNumber == 7:\n",
    "        return 'My reply is no'\n",
    "    elif answerNumber == 8:\n",
    "        return 'Outlook not so good'\n",
    "    elif answerNumber == 9:\n",
    "        return 'Very doubtful'\n",
    "\n",
    "r = random.randint(1, 9)             \n",
    "print(r, getAnswer(r))  \n",
    "# here it will print r value that is randomly generated\n",
    "# and answer from getAnswer function"
   ]
  },
  {
   "cell_type": "code",
   "execution_count": 69,
   "metadata": {},
   "outputs": [
    {
     "name": "stdout",
     "output_type": "stream",
     "text": [
      "8 Outlook not so good\n"
     ]
    }
   ],
   "source": [
    "# we are going to call above function by giving an alias name to it\n",
    "\n",
    "solution = getAnswer\n",
    "print(r, solution(r))"
   ]
  },
  {
   "cell_type": "markdown",
   "metadata": {},
   "source": [
    "## Function Decorators:\n",
    "Decorator is a function which can take a function as argument and extend its functionality and returns modified function with extended functionality.<br>\n",
    "The main objective of decorator functions is we can extend the functionality of existing functions without modifies that function.\n",
    "\n",
    "A decorator in python is a function that receives another function as input and adds some functionality(decoration) to and it and returns it.\n",
    "\n",
    "Decorator function is used by adding `@` symbol in front of function name.\n",
    "\n",
    "This can happen only because python functions are 1st class citizens.\n",
    "\n",
    "There are 2 types of decorators available in python\n",
    "- `Built in decorators` like `@staticmethod`, `@classmethod`, `@abstractmethod` and `@property` etc\n",
    "- `User defined decorators` that we programmers can create according to our needs\n",
    "\n",
    "### Built-in Decorators \n",
    "Built-in decorators had their best use case in Object Oriented Programming OOPs.\n",
    "\n",
    "### User defined decorators\n",
    "create a simple function and while using it add `@` symbol in front of it.<br>\n",
    "this will gives the status of decorator function to any function."
   ]
  },
  {
   "cell_type": "code",
   "execution_count": 1,
   "metadata": {},
   "outputs": [
    {
     "name": "stdout",
     "output_type": "stream",
     "text": [
      "Hello Hrutik Good Morning\n",
      "Hello Om Good Morning\n",
      "Hello Shiv Good Morning\n"
     ]
    }
   ],
   "source": [
    "def wish(name):\n",
    "    print(\"Hello\",name,\"Good Morning\")\n",
    "\n",
    "l = ['Hrutik', 'Om', 'Shiv']\n",
    "for i in l:\n",
    "    wish(i)"
   ]
  },
  {
   "cell_type": "markdown",
   "metadata": {},
   "source": [
    "This function can always print same output for any name\n",
    "\n",
    "Hello Hrutik Good Morning<br>\n",
    "Hello Om Good Morning<br>\n",
    "Hello Shiv Good Morning\n",
    "\n",
    "But we want to modify this function to provide different message if name is Hrutik.<br>\n",
    "We can do this without touching wish() function by using decorator."
   ]
  },
  {
   "cell_type": "code",
   "execution_count": 71,
   "metadata": {},
   "outputs": [
    {
     "name": "stdout",
     "output_type": "stream",
     "text": [
      "Hello Om Good Morning\n",
      "Hello Shiv Good Morning\n",
      "Hello Hrutik Good Evening\n"
     ]
    }
   ],
   "source": [
    "def decor(func):\n",
    "    def inner(name):\n",
    "        if name==\"Hrutik\":\n",
    "            print(\"Hello\",name,\"Good Evening\")\n",
    "        else:\n",
    "            func(name)\n",
    "    return inner\n",
    "\n",
    "@decor                 # decor function set\n",
    "def wish(name):\n",
    "    print(\"Hello\",name,\"Good Morning\")\n",
    "\n",
    "wish(\"Om\")\n",
    "wish(\"Shiv\")\n",
    "wish(\"Hrutik\") "
   ]
  },
  {
   "cell_type": "markdown",
   "metadata": {},
   "source": [
    "#### Closure\n",
    "The property by which the python keeps variables and identifiers of any function after its use in the memory.\n",
    "\n",
    "As in the below example the name which belongs to the parent function keeps its variable in memory even the functions has been used."
   ]
  },
  {
   "cell_type": "markdown",
   "metadata": {},
   "source": [
    "#### How to call same function with decorator and without decorator:"
   ]
  },
  {
   "cell_type": "code",
   "execution_count": 13,
   "metadata": {},
   "outputs": [
    {
     "name": "stdout",
     "output_type": "stream",
     "text": [
      "****************\n",
      "hello Hrutik\n",
      "****************\n"
     ]
    }
   ],
   "source": [
    "# same function of above with @decorator \n",
    "def decorator(func):\n",
    "    name = 'Hrutik'\n",
    "    def wrapper():\n",
    "        print(\"****************\")\n",
    "        func(name)\n",
    "        print(\"****************\")\n",
    "    return wrapper\n",
    "\n",
    "@decorator\n",
    "def hello(name):\n",
    "    print('hello', name)\n",
    "\n",
    "hello()"
   ]
  },
  {
   "cell_type": "markdown",
   "metadata": {},
   "source": [
    "We should not use `@decorator`"
   ]
  },
  {
   "cell_type": "code",
   "execution_count": 11,
   "metadata": {},
   "outputs": [
    {
     "name": "stdout",
     "output_type": "stream",
     "text": [
      "****************\n",
      "hello Hrutik\n",
      "****************\n"
     ]
    }
   ],
   "source": [
    "# how decorators works\n",
    "def decorator(func):\n",
    "    name = 'Hrutik'\n",
    "    def wrapper():\n",
    "        print(\"****************\")\n",
    "        func(name)\n",
    "        print(\"****************\")\n",
    "    return wrapper\n",
    "\n",
    "def hello(name):\n",
    "    print('hello', name)\n",
    "\n",
    "a = decorator(hello)\n",
    "a()"
   ]
  },
  {
   "cell_type": "code",
   "execution_count": 20,
   "metadata": {},
   "outputs": [
    {
     "name": "stdout",
     "output_type": "stream",
     "text": [
      "Hello Hrutik Good Morning\n",
      "Hello Om Good Morning\n",
      "**************************************************\n",
      "Hello Hrutik Good Evening\n",
      "Hello Om Good Morning\n"
     ]
    }
   ],
   "source": [
    "def decor(func):\n",
    "    def inner(name):\n",
    "        if name==\"Hrutik\":\n",
    "            print(\"Hello\",name,\"Good Evening\")\n",
    "        else:\n",
    "            func(name)\n",
    "    return inner\n",
    "\n",
    "def wish(name):\n",
    "    print(\"Hello\",name,\"Good Morning\")\n",
    "\n",
    "decorator_func = decor(wish) # directly assigning function to it\n",
    "                             # function aliasing\n",
    "\n",
    "wish('Hrutik')  # decorator won't be executed\n",
    "wish('Om')\n",
    "print('*' * 50)\n",
    "decorator_func('Hrutik')  # decorator function will be executed\n",
    "decorator_func('Om')"
   ]
  },
  {
   "cell_type": "code",
   "execution_count": 73,
   "metadata": {},
   "outputs": [
    {
     "name": "stdout",
     "output_type": "stream",
     "text": [
      "10.0\n"
     ]
    },
    {
     "ename": "ZeroDivisionError",
     "evalue": "division by zero",
     "output_type": "error",
     "traceback": [
      "\u001b[1;31m---------------------------------------------------------------------------\u001b[0m",
      "\u001b[1;31mZeroDivisionError\u001b[0m                         Traceback (most recent call last)",
      "Cell \u001b[1;32mIn[73], line 16\u001b[0m\n\u001b[0;32m     13\u001b[0m     \u001b[38;5;28;01mreturn\u001b[39;00m a\u001b[38;5;241m/\u001b[39mb\n\u001b[0;32m     15\u001b[0m \u001b[38;5;28mprint\u001b[39m(division(\u001b[38;5;241m20\u001b[39m,\u001b[38;5;241m2\u001b[39m))\n\u001b[1;32m---> 16\u001b[0m \u001b[38;5;28mprint\u001b[39m(division(\u001b[38;5;241m20\u001b[39m,\u001b[38;5;241m0\u001b[39m))\n",
      "Cell \u001b[1;32mIn[73], line 13\u001b[0m, in \u001b[0;36mdivision\u001b[1;34m(a, b)\u001b[0m\n\u001b[0;32m     12\u001b[0m \u001b[38;5;28;01mdef\u001b[39;00m \u001b[38;5;21mdivision\u001b[39m(a,b):\n\u001b[1;32m---> 13\u001b[0m     \u001b[38;5;28;01mreturn\u001b[39;00m a\u001b[38;5;241m/\u001b[39mb\n",
      "\u001b[1;31mZeroDivisionError\u001b[0m: division by zero"
     ]
    }
   ],
   "source": [
    "def smart_division(func):\n",
    "    def inner(a,b):\n",
    "        print(\"We are dividing\",a,\"with\",b)\n",
    "        if b==0:\n",
    "            print(\"OOPS...cannot divide\")\n",
    "            return\n",
    "        else:\n",
    "            return func(a,b) \n",
    "    return inner\n",
    "\n",
    "# @smart_division   # if we uncomment this we will not get error\n",
    "def division(a,b):\n",
    "    return a/b\n",
    "    \n",
    "print(division(20,2))\n",
    "print(division(20,0))   # error because 20 is not divisible by 0"
   ]
  },
  {
   "cell_type": "markdown",
   "metadata": {},
   "source": [
    "#### Decorator Chaining\n",
    "We can define multiple decorators for the same function and all these decorators will form Decorator Chaining.<br>\n",
    "however decorators we use it will go through it for execution"
   ]
  },
  {
   "cell_type": "code",
   "execution_count": 74,
   "metadata": {},
   "outputs": [
    {
     "name": "stdout",
     "output_type": "stream",
     "text": [
      "First Decor(decor1) Function Execution\n",
      "Second Decor(decor2) Execution\n",
      "Hello Hrutik Good Morning\n"
     ]
    }
   ],
   "source": [
    "def decor1(func):\n",
    "    def inner(name):\n",
    "        print(\"First Decor(decor1) Function Execution\")\n",
    "        func(name)\n",
    "    return inner\n",
    "\n",
    "def decor2(func):\n",
    "    def inner(name):\n",
    "        print(\"Second Decor(decor2) Execution\")\n",
    "        func(name)\n",
    "    return inner\n",
    "    \n",
    "@decor1\n",
    "@decor2\n",
    "def wish(name):\n",
    "    print(\"Hello\",name,\"Good Morning\")\n",
    "\n",
    "wish(\"Hrutik\") "
   ]
  },
  {
   "cell_type": "markdown",
   "metadata": {},
   "source": [
    "## Generators\n",
    "Generator is a function which is responsible to generate a sequence of values.<br>\n",
    "We can write generator functions just like ordinary functions, but it uses yield keyword to return values.\n",
    "\n",
    "the `yield` keyword is used to create a generator function.<br>\n",
    "A generator function is a special type of function that returns an iterator, which can be iterated over (e.g., using a for loop).<br>\n",
    "The key difference between a regular function and a generator function is that a regular function returns a value and terminates, while a generator function can pause and resume its execution, yielding values one at a time."
   ]
  },
  {
   "cell_type": "markdown",
   "metadata": {},
   "source": [
    "#### yield\n",
    "**Pausing Execution:**\n",
    "When a generator function encounters a yield statement, it pauses its execution and returns the value specified by the yield expression. The function's state (including local variables and the position in the code) is saved."
   ]
  },
  {
   "cell_type": "markdown",
   "metadata": {},
   "source": [
    "#### next()\n",
    "**Resuming Execution:**\r\n",
    "The next time the generator is called (e.g., using the next() function or a for loop), it resumes execution from where it left off, continuing until the next yield statement is reached."
   ]
  },
  {
   "cell_type": "markdown",
   "metadata": {},
   "source": [
    "##### Benefits of using yield:\n",
    "- Memory Efficiency:\n",
    "Generators don't store the entire sequence of values in memory, making them ideal for working with large datasets.\n",
    "- Lazy Evaluation:\n",
    "Values are generated on demand, which can be useful when dealing with computations that are expensive or time-consuming.\n",
    "- Improved Readability:\n",
    "Generators can make code more concise and readable, especially when dealing with complex iterations."
   ]
  },
  {
   "cell_type": "code",
   "execution_count": 75,
   "metadata": {},
   "outputs": [
    {
     "name": "stdout",
     "output_type": "stream",
     "text": [
      "<class 'generator'>\n",
      "A\n",
      "B\n",
      "C\n"
     ]
    }
   ],
   "source": [
    "def mygen():\n",
    "    yield 'A'  # returns A and stops execution unless starts by next()\n",
    "    yield 'B'  # the next() starts after first yield and returns B and stops\n",
    "    yield 'C'  # same process for C\n",
    "\n",
    "g = mygen()\n",
    "print(type(g))\n",
    "\n",
    "print(next(g))  \n",
    "print(next(g))\n",
    "print(next(g))"
   ]
  },
  {
   "cell_type": "code",
   "execution_count": 76,
   "metadata": {},
   "outputs": [
    {
     "name": "stdout",
     "output_type": "stream",
     "text": [
      "<generator object generate_numbers at 0x000002B8B338FC60>\n",
      "<class 'generator'>\n",
      "0\n",
      "1\n",
      "2\n",
      "3\n",
      "4\n"
     ]
    }
   ],
   "source": [
    "def generate_numbers(n):\n",
    "    for i in range(n):\n",
    "        yield i\n",
    "\n",
    "# Create a generator object\n",
    "numbers = generate_numbers(5)\n",
    "\n",
    "# this func returns generator object of class generator\n",
    "print(numbers)\n",
    "print(type(numbers))\n",
    "\n",
    "# Iterate over the generator\n",
    "for num in numbers:\n",
    "    print(num)"
   ]
  },
  {
   "cell_type": "code",
   "execution_count": 77,
   "metadata": {},
   "outputs": [
    {
     "name": "stdout",
     "output_type": "stream",
     "text": [
      "0\n",
      "1\n",
      "1\n",
      "2\n",
      "3\n",
      "5\n",
      "8\n",
      "13\n",
      "21\n",
      "34\n",
      "55\n",
      "89\n"
     ]
    },
    {
     "ename": "TypeError",
     "evalue": "'function' object is not iterable",
     "output_type": "error",
     "traceback": [
      "\u001b[1;31m---------------------------------------------------------------------------\u001b[0m",
      "\u001b[1;31mTypeError\u001b[0m                                 Traceback (most recent call last)",
      "Cell \u001b[1;32mIn[77], line 11\u001b[0m\n\u001b[0;32m      9\u001b[0m         \u001b[38;5;28;01mbreak\u001b[39;00m\n\u001b[0;32m     10\u001b[0m     \u001b[38;5;28mprint\u001b[39m(f) \n\u001b[1;32m---> 11\u001b[0m \u001b[38;5;28mprint\u001b[39m(\u001b[38;5;28mlist\u001b[39m(fib))\n",
      "\u001b[1;31mTypeError\u001b[0m: 'function' object is not iterable"
     ]
    }
   ],
   "source": [
    "def fib():\n",
    "    a,b=0,1\n",
    "    while True:\n",
    "        yield a\n",
    "        a,b=b,a+b\n",
    "\n",
    "for f in fib():\n",
    "    if f>100:\n",
    "        break\n",
    "    print(f) \n",
    "print(list(fib))"
   ]
  },
  {
   "cell_type": "markdown",
   "metadata": {},
   "source": [
    "### Generators vs Normal Collections wrt Time consumption:"
   ]
  },
  {
   "cell_type": "code",
   "execution_count": 78,
   "metadata": {},
   "outputs": [
    {
     "name": "stdout",
     "output_type": "stream",
     "text": [
      "Took 0:00:10.525279\n",
      "Took 0:00:00.824850\n"
     ]
    }
   ],
   "source": [
    "from datetime import datetime\n",
    "import time\n",
    "\n",
    "names = ['Sunny','Bunny','Chinny','Vinny']\n",
    "subjects = ['Python','Java','Blockchain']\n",
    "\n",
    "def people_list(num_people):\n",
    "    results = []\n",
    "    for i in range(num_people):\n",
    "        person = {\n",
    "            'id':i,\n",
    "            'name': random.choice(names),\n",
    "            'subject':random.choice(subjects)\n",
    "            }\n",
    "        results.append(person)\n",
    "    return results\n",
    "\n",
    "def people_generator(num_people):\n",
    "    for i in range(num_people):\n",
    "        person = {\n",
    "        'id':i,\n",
    "        'name': random.choice(names),\n",
    "        'major':random.choice(subjects) \n",
    "        }\n",
    "    yield person\n",
    "\n",
    "t1 = datetime.now()\n",
    "people = people_list(10000000)\n",
    "t2 = datetime.now()\n",
    "print('Took {}'.format(t2-t1)) \n",
    "\n",
    "t1 = datetime.now()\n",
    "people = people_generator(10000000)\n",
    "t2 = datetime.now()\n",
    "print('Took {}'.format(t2-t1)) "
   ]
  },
  {
   "cell_type": "markdown",
   "metadata": {},
   "source": [
    "#### Generators vs Normal Collections wrt Memory Utilization:\n",
    "##### Normal Collection:"
   ]
  },
  {
   "cell_type": "code",
   "execution_count": null,
   "metadata": {},
   "outputs": [],
   "source": [
    "l=[x*x for x in range(1000000000)]  \n",
    "print(l[1])"
   ]
  },
  {
   "cell_type": "markdown",
   "metadata": {},
   "source": [
    "We will get MemoryError in this case because all these values are required to store in the memory.\n",
    "##### Generators:"
   ]
  },
  {
   "cell_type": "code",
   "execution_count": null,
   "metadata": {},
   "outputs": [],
   "source": [
    "g=(x*x for x in range(1000000000))\n",
    "print(next(g))"
   ]
  },
  {
   "cell_type": "markdown",
   "metadata": {},
   "source": [
    "We won't get any MemoryError because the values won't be stored in the memory at the beginning"
   ]
  },
  {
   "cell_type": "code",
   "execution_count": null,
   "metadata": {},
   "outputs": [],
   "source": []
  }
 ],
 "metadata": {
  "colab": {
   "authorship_tag": "ABX9TyOM1MEfGMqiZrhlacXsUdvx",
   "collapsed_sections": [
    "ANR1KMg8Vovy",
    "q_eytqAxWEjL",
    "jzcyi4V_WTYk",
    "5pxEf76nYiFj",
    "Knm14iQdYkr3",
    "cHpbjY1tZM1v",
    "Fh5pM9aBapvK",
    "QWXoXvT2ayQQ",
    "yW36h0iJec8v",
    "I_d99X1Rpeu2",
    "DIbwxISDpe5m",
    "880k2Y2wv7YH"
   ],
   "provenance": [],
   "toc_visible": true
  },
  "kernelspec": {
   "display_name": "Python 3 (ipykernel)",
   "language": "python",
   "name": "python3"
  },
  "language_info": {
   "codemirror_mode": {
    "name": "ipython",
    "version": 3
   },
   "file_extension": ".py",
   "mimetype": "text/x-python",
   "name": "python",
   "nbconvert_exporter": "python",
   "pygments_lexer": "ipython3",
   "version": "3.11.7"
  }
 },
 "nbformat": 4,
 "nbformat_minor": 4
}
