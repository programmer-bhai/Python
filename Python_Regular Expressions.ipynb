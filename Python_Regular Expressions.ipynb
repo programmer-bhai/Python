{
 "cells": [
  {
   "cell_type": "markdown",
   "metadata": {
    "id": "YwPS-bb4ffd0"
   },
   "source": [
    "# Regular Expressions\n",
    "If we want to represent a group of Strings according to a particular format/pattern then we should go for Regular Expressions.<br>\n",
    "i.e Regualr Expressions is a declarative mechanism to represent a group of Strings accroding to particular format/pattern.<br>\n",
    "Eg 1: We can write a regular expression to represent all mobile numbers.<br>\n",
    "Eg 2: We can write a regular expression to represent all mail ids.<br>\n",
    "The main important application areas of Regular Expressions are\n",
    " 1. To develop validation frameworks/validation logic\n",
    " 2. To develop Pattern matching applications (ctrl-f in windows, grep in UNIX etc)\n",
    " 3. To develop Translators like compilers, interpreters etc\n",
    " 4. To develop digital circuits\n",
    " 5. To develop communication protocols like TCP/IP, UDP etc.\n",
    "\n",
    "We can develop Regular Expression Based applications by using python module: `re`<br>\n",
    "This module contains several inbuilt functions to use Regular Expressions very easily in our applications."
   ]
  },
  {
   "cell_type": "markdown",
   "metadata": {
    "id": "YasDaU2ZeEk5"
   },
   "source": [
    "sites for learning regex effectively\n",
    "\n",
    "*   [regex101.com](https://regex101.com)\n",
    "*   [regexr.com](https://regexr.com)\n",
    "  \n",
    "for practicing regex questions\n",
    "* [regexOne.com](https://regexOne.com)\n"
   ]
  },
  {
   "cell_type": "code",
   "execution_count": 1,
   "metadata": {
    "colab": {
     "base_uri": "https://localhost:8080/"
    },
    "executionInfo": {
     "elapsed": 479,
     "status": "ok",
     "timestamp": 1680345232331,
     "user": {
      "displayName": "Hrutik Nawade",
      "userId": "03506609053451396862"
     },
     "user_tz": -330
    },
    "id": "nUW9_xPQZJ0q",
    "outputId": "39fd8a3d-7f2d-4794-fc46-db768677f7ab"
   },
   "outputs": [
    {
     "name": "stdout",
     "output_type": "stream",
     "text": [
      "\t\n"
     ]
    }
   ],
   "source": [
    "print('\\t')"
   ]
  },
  {
   "cell_type": "code",
   "execution_count": 2,
   "metadata": {
    "colab": {
     "base_uri": "https://localhost:8080/"
    },
    "executionInfo": {
     "elapsed": 413,
     "status": "ok",
     "timestamp": 1680345237039,
     "user": {
      "displayName": "Hrutik Nawade",
      "userId": "03506609053451396862"
     },
     "user_tz": -330
    },
    "id": "kRdC-li-YLh1",
    "outputId": "e8092cce-4b75-4744-9e46-5be5dbd2de99"
   },
   "outputs": [
    {
     "name": "stdout",
     "output_type": "stream",
     "text": [
      "\\t\n"
     ]
    }
   ],
   "source": [
    "print(r'\\t') # r represents raw string that will not execute escape sequence characters"
   ]
  },
  {
   "cell_type": "code",
   "execution_count": 3,
   "metadata": {
    "colab": {
     "base_uri": "https://localhost:8080/",
     "height": 130
    },
    "executionInfo": {
     "elapsed": 791,
     "status": "error",
     "timestamp": 1680347361458,
     "user": {
      "displayName": "Hrutik Nawade",
      "userId": "03506609053451396862"
     },
     "user_tz": -330
    },
    "id": "tfBoljjIfASH",
    "outputId": "4f77ea1f-d31a-4bda-8065-c7a3f269ca90"
   },
   "outputs": [
    {
     "ename": "SyntaxError",
     "evalue": "unexpected character after line continuation character (3042984604.py, line 1)",
     "output_type": "error",
     "traceback": [
      "\u001b[1;36m  Cell \u001b[1;32mIn[3], line 1\u001b[1;36m\u001b[0m\n\u001b[1;33m    print([A-Z]{2}\\d{1,5})\u001b[0m\n\u001b[1;37m                   ^\u001b[0m\n\u001b[1;31mSyntaxError\u001b[0m\u001b[1;31m:\u001b[0m unexpected character after line continuation character\n"
     ]
    }
   ],
   "source": [
    "print([A-Z]{2}\\d{1,5})"
   ]
  },
  {
   "cell_type": "code",
   "execution_count": null,
   "metadata": {
    "colab": {
     "base_uri": "https://localhost:8080/"
    },
    "executionInfo": {
     "elapsed": 1044,
     "status": "ok",
     "timestamp": 1680521935963,
     "user": {
      "displayName": "Hrutik Nawade",
      "userId": "03506609053451396862"
     },
     "user_tz": -330
    },
    "id": "rj8eYoBz6Z66",
    "outputId": "ae39b707-2ac7-419c-ef40-e3624a12784d"
   },
   "outputs": [
    {
     "data": {
      "text/plain": [
       "['A',\n",
       " 'ASCII',\n",
       " 'DEBUG',\n",
       " 'DOTALL',\n",
       " 'I',\n",
       " 'IGNORECASE',\n",
       " 'L',\n",
       " 'LOCALE',\n",
       " 'M',\n",
       " 'MULTILINE',\n",
       " 'Match',\n",
       " 'Pattern',\n",
       " 'RegexFlag',\n",
       " 'S',\n",
       " 'Scanner',\n",
       " 'T',\n",
       " 'TEMPLATE',\n",
       " 'U',\n",
       " 'UNICODE',\n",
       " 'VERBOSE',\n",
       " 'X',\n",
       " '_MAXCACHE',\n",
       " '__all__',\n",
       " '__builtins__',\n",
       " '__cached__',\n",
       " '__doc__',\n",
       " '__file__',\n",
       " '__loader__',\n",
       " '__name__',\n",
       " '__package__',\n",
       " '__spec__',\n",
       " '__version__',\n",
       " '_cache',\n",
       " '_compile',\n",
       " '_compile_repl',\n",
       " '_expand',\n",
       " '_locale',\n",
       " '_pickle',\n",
       " '_special_chars_map',\n",
       " '_subx',\n",
       " 'compile',\n",
       " 'copyreg',\n",
       " 'enum',\n",
       " 'error',\n",
       " 'escape',\n",
       " 'findall',\n",
       " 'finditer',\n",
       " 'fullmatch',\n",
       " 'functools',\n",
       " 'match',\n",
       " 'purge',\n",
       " 'search',\n",
       " 'split',\n",
       " 'sre_compile',\n",
       " 'sre_parse',\n",
       " 'sub',\n",
       " 'subn',\n",
       " 'template']"
      ]
     },
     "execution_count": 86,
     "metadata": {},
     "output_type": "execute_result"
    }
   ],
   "source": [
    "dir(re)  "
   ]
  },
  {
   "cell_type": "code",
   "execution_count": 5,
   "metadata": {},
   "outputs": [],
   "source": [
    "import re"
   ]
  },
  {
   "cell_type": "markdown",
   "metadata": {
    "id": "r8hFb9kSfb7X"
   },
   "source": [
    "## RegEx Metacharacters"
   ]
  },
  {
   "cell_type": "code",
   "execution_count": 9,
   "metadata": {
    "colab": {
     "base_uri": "https://localhost:8080/"
    },
    "executionInfo": {
     "elapsed": 621,
     "status": "ok",
     "timestamp": 1680514266313,
     "user": {
      "displayName": "Hrutik Nawade",
      "userId": "03506609053451396862"
     },
     "user_tz": -330
    },
    "id": "kbNIqFphdEZ6",
    "outputId": "d377c1cc-067d-4859-d860-e1b67fae7fe1"
   },
   "outputs": [
    {
     "data": {
      "text/plain": [
       "['hrutk.nawade@gmail.com']"
      ]
     },
     "execution_count": 9,
     "metadata": {},
     "output_type": "execute_result"
    }
   ],
   "source": [
    "# a basic regex code to find emails from text\n",
    "\n",
    "email = re.compile('[\\w\\.]+@[\\w]+\\.[a-z]{3}')\n",
    "\n",
    "text = \"You can mail us on hrutk.nawade@gmail.com\"\n",
    "email.findall(text)"
   ]
  },
  {
   "cell_type": "code",
   "execution_count": 10,
   "metadata": {
    "colab": {
     "base_uri": "https://localhost:8080/"
    },
    "executionInfo": {
     "elapsed": 5,
     "status": "ok",
     "timestamp": 1680514611640,
     "user": {
      "displayName": "Hrutik Nawade",
      "userId": "03506609053451396862"
     },
     "user_tz": -330
    },
    "id": "iZUzk149dKy9",
    "outputId": "f448c30b-ae7d-404e-9f95-87f269f69b20"
   },
   "outputs": [
    {
     "data": {
      "text/plain": [
       "['$20']"
      ]
     },
     "execution_count": 10,
     "metadata": {},
     "output_type": "execute_result"
    }
   ],
   "source": [
    "regex = re.compile(r'\\$\\d+')\n",
    "regex.findall(\"the cost is $20\")"
   ]
  },
  {
   "cell_type": "code",
   "execution_count": 11,
   "metadata": {
    "colab": {
     "base_uri": "https://localhost:8080/"
    },
    "executionInfo": {
     "elapsed": 680,
     "status": "ok",
     "timestamp": 1680523578572,
     "user": {
      "displayName": "Hrutik Nawade",
      "userId": "03506609053451396862"
     },
     "user_tz": -330
    },
    "id": "KO5AdyIRAhvW",
    "outputId": "d0875217-7ba1-4eda-9b33-a8eba9767185"
   },
   "outputs": [
    {
     "data": {
      "text/plain": [
       "['at', 'at']"
      ]
     },
     "execution_count": 11,
     "metadata": {},
     "output_type": "execute_result"
    }
   ],
   "source": [
    "regex = re.compile('at')\n",
    "regex.findall('Great Expectations')"
   ]
  },
  {
   "cell_type": "code",
   "execution_count": 15,
   "metadata": {
    "colab": {
     "base_uri": "https://localhost:8080/"
    },
    "executionInfo": {
     "elapsed": 6,
     "status": "ok",
     "timestamp": 1680514699670,
     "user": {
      "displayName": "Hrutik Nawade",
      "userId": "03506609053451396862"
     },
     "user_tz": -330
    },
    "id": "zwoBFbk8eq9d",
    "outputId": "4f5e1e18-15a8-42e9-d016-2729daadc464"
   },
   "outputs": [
    {
     "name": "stdout",
     "output_type": "stream",
     "text": [
      "a\\nb\\nc\n",
      "a\n",
      "b\n",
      "c\n"
     ]
    }
   ],
   "source": [
    "# comparison raw string and simple string\n",
    "\n",
    "print(r'a\\nb\\nc')\n",
    "print('a\\nb\\nc')"
   ]
  },
  {
   "cell_type": "code",
   "execution_count": null,
   "metadata": {
    "colab": {
     "base_uri": "https://localhost:8080/"
    },
    "executionInfo": {
     "elapsed": 5,
     "status": "ok",
     "timestamp": 1680515052762,
     "user": {
      "displayName": "Hrutik Nawade",
      "userId": "03506609053451396862"
     },
     "user_tz": -330
    },
    "id": "CRLnNU6fe0rX",
    "outputId": "fcdeb6ef-0fc5-42a6-8f5a-b098f1366958"
   },
   "outputs": [
    {
     "data": {
      "text/plain": [
       "['he f', 'ox i', 'n9 y', 'rs o']"
      ]
     },
     "execution_count": 77,
     "metadata": {},
     "output_type": "execute_result"
    }
   ],
   "source": [
    "regex = re.compile(r'\\w{2}\\s\\w')\n",
    "regex.findall('the fox is n9 years old')"
   ]
  },
  {
   "cell_type": "code",
   "execution_count": 16,
   "metadata": {
    "colab": {
     "base_uri": "https://localhost:8080/"
    },
    "executionInfo": {
     "elapsed": 3,
     "status": "ok",
     "timestamp": 1680515156783,
     "user": {
      "displayName": "Hrutik Nawade",
      "userId": "03506609053451396862"
     },
     "user_tz": -330
    },
    "id": "jU1N3apKfOsr",
    "outputId": "2602bc3e-7207-40e5-d4be-a0f0175e7a24"
   },
   "outputs": [
    {
     "data": {
      "text/plain": [
       "['c', 'ns', 'q', 'nt', 'l']"
      ]
     },
     "execution_count": 16,
     "metadata": {},
     "output_type": "execute_result"
    }
   ],
   "source": [
    "regex = re.compile('[aeiou]+')\n",
    "regex.split('consequential')"
   ]
  },
  {
   "cell_type": "code",
   "execution_count": 17,
   "metadata": {
    "colab": {
     "base_uri": "https://localhost:8080/"
    },
    "executionInfo": {
     "elapsed": 516,
     "status": "ok",
     "timestamp": 1680515184023,
     "user": {
      "displayName": "Hrutik Nawade",
      "userId": "03506609053451396862"
     },
     "user_tz": -330
    },
    "id": "ZaJraHRggRmO",
    "outputId": "467592eb-c399-47c3-f47f-858170a55937"
   },
   "outputs": [
    {
     "data": {
      "text/plain": [
       "['o', 'e', 'ue', 'ia']"
      ]
     },
     "execution_count": 17,
     "metadata": {},
     "output_type": "execute_result"
    }
   ],
   "source": [
    "regex.findall('consequential')"
   ]
  },
  {
   "cell_type": "markdown",
   "metadata": {
    "id": "UNqTlLe3CZza"
   },
   "source": [
    "## Matching characters"
   ]
  },
  {
   "cell_type": "markdown",
   "metadata": {
    "id": "RjXXhSDMWVVs"
   },
   "source": [
    "#### \\A"
   ]
  },
  {
   "cell_type": "code",
   "execution_count": 20,
   "metadata": {
    "colab": {
     "base_uri": "https://localhost:8080/"
    },
    "executionInfo": {
     "elapsed": 809,
     "status": "ok",
     "timestamp": 1685096050349,
     "user": {
      "displayName": "Hrutik Nawade",
      "userId": "03506609053451396862"
     },
     "user_tz": -330
    },
    "id": "FJ3oSFoJREWq",
    "outputId": "1acba4a8-a00b-4ae8-934a-012d5422d319"
   },
   "outputs": [
    {
     "name": "stdout",
     "output_type": "stream",
     "text": [
      "[]\n"
     ]
    }
   ],
   "source": [
    "s = 'the quick brown fox jumps he over the lazy dog'\n",
    "pattern = r'\\Ahe'\n",
    "\n",
    "print(re.findall(pattern, s))"
   ]
  },
  {
   "cell_type": "markdown",
   "metadata": {
    "id": "B6lmvV9DREIO"
   },
   "source": [
    "#### \\b\n",
    "`\\b` represents a word boundary. It matches the position where a word starts or ends."
   ]
  },
  {
   "cell_type": "code",
   "execution_count": 30,
   "metadata": {
    "colab": {
     "base_uri": "https://localhost:8080/"
    },
    "executionInfo": {
     "elapsed": 581,
     "status": "ok",
     "timestamp": 1682228120029,
     "user": {
      "displayName": "Hrutik Nawade",
      "userId": "03506609053451396862"
     },
     "user_tz": -330
    },
    "id": "Hg23S6qBWjSd",
    "outputId": "ddac2a6a-0775-42e3-e21f-df9809ab6538"
   },
   "outputs": [
    {
     "name": "stdout",
     "output_type": "stream",
     "text": [
      "['dog']\n",
      "[]\n"
     ]
    }
   ],
   "source": [
    "# this finds the match for the word dog exactly\n",
    "print(re.findall(r'\\bdog\\b','the quick brown fox jumps over the lazy dog.'))\n",
    "\n",
    "# as dog is written as doggy here it won't find any match.\n",
    "print(re.findall(r'\\bdog\\b','the quick brown fox jumps over the lazy doggy.'))"
   ]
  },
  {
   "cell_type": "markdown",
   "metadata": {
    "id": "QWN_gcaiWjPF"
   },
   "source": [
    "#### \\B"
   ]
  },
  {
   "cell_type": "code",
   "execution_count": 36,
   "metadata": {
    "colab": {
     "base_uri": "https://localhost:8080/"
    },
    "executionInfo": {
     "elapsed": 523,
     "status": "ok",
     "timestamp": 1682228127505,
     "user": {
      "displayName": "Hrutik Nawade",
      "userId": "03506609053451396862"
     },
     "user_tz": -330
    },
    "id": "FfwTGQXTREFC",
    "outputId": "b06db58e-9fb5-4e81-ca57-6818f5aad12c"
   },
   "outputs": [
    {
     "name": "stdout",
     "output_type": "stream",
     "text": [
      "None\n"
     ]
    }
   ],
   "source": [
    "print(re.match(r'\\Bdog\\B','the quick brown fox jumps over the lazy dog.'))"
   ]
  },
  {
   "cell_type": "markdown",
   "metadata": {
    "id": "C3SATNFWPTRq"
   },
   "source": [
    "#### \\d\n",
    "Matches any digit, equivalent to `[0-9]`."
   ]
  },
  {
   "cell_type": "code",
   "execution_count": 37,
   "metadata": {
    "colab": {
     "base_uri": "https://localhost:8080/"
    },
    "executionInfo": {
     "elapsed": 7,
     "status": "ok",
     "timestamp": 1682228130125,
     "user": {
      "displayName": "Hrutik Nawade",
      "userId": "03506609053451396862"
     },
     "user_tz": -330
    },
    "id": "wjeaJIqIPTPA",
    "outputId": "f6a5e316-1e5e-4fe3-cae8-916abb7ec87c"
   },
   "outputs": [
    {
     "name": "stdout",
     "output_type": "stream",
     "text": [
      "['2', '4', '5', '3', '4', '5']\n"
     ]
    }
   ],
   "source": [
    "# finds all digits in the string\n",
    "print(re.findall(r'\\d', 'This 245 is @345 regex-text'))"
   ]
  },
  {
   "cell_type": "code",
   "execution_count": 40,
   "metadata": {
    "colab": {
     "base_uri": "https://localhost:8080/"
    },
    "executionInfo": {
     "elapsed": 5,
     "status": "ok",
     "timestamp": 1682228132265,
     "user": {
      "displayName": "Hrutik Nawade",
      "userId": "03506609053451396862"
     },
     "user_tz": -330
    },
    "id": "GtZLjCmaPTMI",
    "outputId": "aa03d78c-0bc2-4885-a67e-37cac1fcff5a"
   },
   "outputs": [
    {
     "name": "stdout",
     "output_type": "stream",
     "text": [
      "This ### is @### regex-text\n"
     ]
    }
   ],
   "source": [
    "# substitutes all digits with #\n",
    "\n",
    "regex_code = re.compile('\\d')\n",
    "print(regex_code.sub('#' , 'This 245 is @345 regex-text'))"
   ]
  },
  {
   "cell_type": "markdown",
   "metadata": {
    "id": "2olQlxMzQ7Au"
   },
   "source": [
    "#### /D\n",
    "Matches any non-digit.<br>\n",
    "finds everything except digits."
   ]
  },
  {
   "cell_type": "code",
   "execution_count": 42,
   "metadata": {
    "colab": {
     "base_uri": "https://localhost:8080/"
    },
    "executionInfo": {
     "elapsed": 6,
     "status": "ok",
     "timestamp": 1682228153065,
     "user": {
      "displayName": "Hrutik Nawade",
      "userId": "03506609053451396862"
     },
     "user_tz": -330
    },
    "id": "VOoN76G-Q69P",
    "outputId": "24aae28e-3b34-436e-9d7e-83ebdf2dddb7"
   },
   "outputs": [
    {
     "name": "stdout",
     "output_type": "stream",
     "text": [
      "['T', 'h', 'i', 's', ' ', ' ', 'i', 's', ' ', '@', ' ', 'r', 'e', 'g', 'e', 'x', '-', 't', 'e', 'x', 't']\n"
     ]
    }
   ],
   "source": [
    "print(re.findall(r'\\D', 'This 245 is @345 regex-text'))"
   ]
  },
  {
   "cell_type": "code",
   "execution_count": 45,
   "metadata": {
    "colab": {
     "base_uri": "https://localhost:8080/"
    },
    "executionInfo": {
     "elapsed": 5,
     "status": "ok",
     "timestamp": 1682228153584,
     "user": {
      "displayName": "Hrutik Nawade",
      "userId": "03506609053451396862"
     },
     "user_tz": -330
    },
    "id": "xkMWGqmDQ66X",
    "outputId": "c200fe77-0ced-4437-fcc5-8d1cd4f008a2"
   },
   "outputs": [
    {
     "name": "stdout",
     "output_type": "stream",
     "text": [
      "#####245#####345###########\n"
     ]
    }
   ],
   "source": [
    "regex_code = re.compile('\\D')\n",
    "text = 'This 245 is @345 regex-text'\n",
    "print(regex_code.sub('#' , text))"
   ]
  },
  {
   "cell_type": "markdown",
   "metadata": {
    "id": "XsbqNIAqPfb9"
   },
   "source": [
    "#### \\s\n",
    "Matches any whitespace character (spaces, tabs, newlines)."
   ]
  },
  {
   "cell_type": "code",
   "execution_count": 46,
   "metadata": {
    "colab": {
     "base_uri": "https://localhost:8080/"
    },
    "executionInfo": {
     "elapsed": 512,
     "status": "ok",
     "timestamp": 1682228173309,
     "user": {
      "displayName": "Hrutik Nawade",
      "userId": "03506609053451396862"
     },
     "user_tz": -330
    },
    "id": "46ro-nm-PTxo",
    "outputId": "96ab092d-83b9-4bca-e7d5-82190c8ac315"
   },
   "outputs": [
    {
     "name": "stdout",
     "output_type": "stream",
     "text": [
      "[' ', ' ', ' ']\n"
     ]
    }
   ],
   "source": [
    "# in the below string it finds its match for the spaces \" \" \n",
    "print(re.findall(r'\\s', 'This is @ regex-text'))"
   ]
  },
  {
   "cell_type": "code",
   "execution_count": 48,
   "metadata": {
    "colab": {
     "base_uri": "https://localhost:8080/"
    },
    "executionInfo": {
     "elapsed": 6,
     "status": "ok",
     "timestamp": 1682228177209,
     "user": {
      "displayName": "Hrutik Nawade",
      "userId": "03506609053451396862"
     },
     "user_tz": -330
    },
    "id": "4idwBXhgPTiQ",
    "outputId": "98f9232f-3de0-4c4a-967d-5bf2484f4e36"
   },
   "outputs": [
    {
     "name": "stdout",
     "output_type": "stream",
     "text": [
      "this#is#regex#text\n"
     ]
    }
   ],
   "source": [
    "# replaces spaces with #\n",
    "\n",
    "regex_code = re.compile('\\s')\n",
    "print(regex_code.sub('#' , 'this is regex text'))"
   ]
  },
  {
   "cell_type": "markdown",
   "metadata": {
    "id": "5GZIDCSIPTco"
   },
   "source": [
    "#### \\S\n",
    " Matches any non-whitespace character."
   ]
  },
  {
   "cell_type": "code",
   "execution_count": 49,
   "metadata": {
    "colab": {
     "base_uri": "https://localhost:8080/"
    },
    "executionInfo": {
     "elapsed": 6,
     "status": "ok",
     "timestamp": 1682228187242,
     "user": {
      "displayName": "Hrutik Nawade",
      "userId": "03506609053451396862"
     },
     "user_tz": -330
    },
    "id": "kjnGQ4m6PTZi",
    "outputId": "02de764a-f432-4c62-eea0-6fe1311725a6"
   },
   "outputs": [
    {
     "name": "stdout",
     "output_type": "stream",
     "text": [
      "['T', 'h', 'i', 's', 'i', 's', '@', 'r', 'e', 'g', 'e', 'x', '-', 't', 'e', 'x', 't']\n"
     ]
    }
   ],
   "source": [
    "# finds all characters except spaces \n",
    "print(re.findall(r'\\S', 'This is @ regex-text'))"
   ]
  },
  {
   "cell_type": "code",
   "execution_count": 50,
   "metadata": {
    "colab": {
     "base_uri": "https://localhost:8080/"
    },
    "executionInfo": {
     "elapsed": 4,
     "status": "ok",
     "timestamp": 1682228189664,
     "user": {
      "displayName": "Hrutik Nawade",
      "userId": "03506609053451396862"
     },
     "user_tz": -330
    },
    "id": "WUBMOfnRPTXA",
    "outputId": "d7d69976-cb10-4875-d134-e46ea89739fe"
   },
   "outputs": [
    {
     "name": "stdout",
     "output_type": "stream",
     "text": [
      "#### ## ##### ####\n"
     ]
    }
   ],
   "source": [
    "regex_code = re.compile('\\S')\n",
    "print(regex_code.sub('#' , 'this is regex text'))"
   ]
  },
  {
   "cell_type": "markdown",
   "metadata": {
    "id": "yLZGlakDN08l"
   },
   "source": [
    "#### \\w\n",
    "Matches any alphanumeric character (letters, digits, and underscore), equivalent to `[a-zA-Z0-9_]`."
   ]
  },
  {
   "cell_type": "code",
   "execution_count": 51,
   "metadata": {
    "colab": {
     "base_uri": "https://localhost:8080/"
    },
    "executionInfo": {
     "elapsed": 4,
     "status": "ok",
     "timestamp": 1682228196863,
     "user": {
      "displayName": "Hrutik Nawade",
      "userId": "03506609053451396862"
     },
     "user_tz": -330
    },
    "id": "xoTs8moGj4O4",
    "outputId": "af8500e6-3069-49b1-bc04-7c1ae67d48e2"
   },
   "outputs": [
    {
     "name": "stdout",
     "output_type": "stream",
     "text": [
      "['O', 'T', 'P', '4', '8', 'N', 'o', 'n', 'e', '_', '7']\n"
     ]
    }
   ],
   "source": [
    "# matches alphanumeric characters and underscore\n",
    "print(re.findall('\\w', 'O.T.P = 48N@one_7'))"
   ]
  },
  {
   "cell_type": "code",
   "execution_count": 58,
   "metadata": {
    "colab": {
     "base_uri": "https://localhost:8080/"
    },
    "executionInfo": {
     "elapsed": 6,
     "status": "ok",
     "timestamp": 1682228197479,
     "user": {
      "displayName": "Hrutik Nawade",
      "userId": "03506609053451396862"
     },
     "user_tz": -330
    },
    "id": "h8B69pvjj4EE",
    "outputId": "644558a9-e49b-4402-f029-caaf5fb32c4e"
   },
   "outputs": [
    {
     "name": "stdout",
     "output_type": "stream",
     "text": [
      "['O', 'T', 'P', '4', '3', 'n', 'o', 'n', 'e', '_', '3']\n"
     ]
    }
   ],
   "source": [
    "regex_code = re.compile(r'\\w')\n",
    "print(regex_code.findall(\"O.T.P = 43n@one_3\"))"
   ]
  },
  {
   "cell_type": "code",
   "execution_count": 53,
   "metadata": {
    "colab": {
     "base_uri": "https://localhost:8080/"
    },
    "executionInfo": {
     "elapsed": 5,
     "status": "ok",
     "timestamp": 1680510064614,
     "user": {
      "displayName": "Hrutik Nawade",
      "userId": "03506609053451396862"
     },
     "user_tz": -330
    },
    "id": "Qmaryi2Hj4Ac",
    "outputId": "3881ad5c-2d1b-4c0b-f68d-d8f477f7eb0f"
   },
   "outputs": [
    {
     "name": "stdout",
     "output_type": "stream",
     "text": [
      " . .  =    @   \n"
     ]
    }
   ],
   "source": [
    "print(re.sub(r'\\w', ' ', 'O.T.P = nin@e_7'))"
   ]
  },
  {
   "cell_type": "code",
   "execution_count": 57,
   "metadata": {
    "colab": {
     "base_uri": "https://localhost:8080/"
    },
    "executionInfo": {
     "elapsed": 6,
     "status": "ok",
     "timestamp": 1680510232694,
     "user": {
      "displayName": "Hrutik Nawade",
      "userId": "03506609053451396862"
     },
     "user_tz": -330
    },
    "id": "j6Xtc9Lkj391",
    "outputId": "eb4a910b-d783-4f54-d381-48b1f709f331"
   },
   "outputs": [
    {
     "name": "stdout",
     "output_type": "stream",
     "text": [
      "*.*.* = ***@*****\n"
     ]
    }
   ],
   "source": [
    "# substitutes all words with * stars\n",
    "\n",
    "regex_code = re.compile(r'\\w')\n",
    "print(regex_code.sub('*', \"O.T.P = 43n@one_3\"))"
   ]
  },
  {
   "cell_type": "markdown",
   "metadata": {
    "id": "2UkCAV9RN3oO"
   },
   "source": [
    "#### \\W\n",
    "Matches any non-word character."
   ]
  },
  {
   "cell_type": "code",
   "execution_count": 63,
   "metadata": {
    "colab": {
     "base_uri": "https://localhost:8080/"
    },
    "executionInfo": {
     "elapsed": 732,
     "status": "ok",
     "timestamp": 1680510329147,
     "user": {
      "displayName": "Hrutik Nawade",
      "userId": "03506609053451396862"
     },
     "user_tz": -330
    },
    "id": "PObWG49aj334",
    "outputId": "750213a1-9de8-4f68-dc4c-796c4a38a608"
   },
   "outputs": [
    {
     "name": "stdout",
     "output_type": "stream",
     "text": [
      "['.', '.', ' ', '=', ' ', '@']\n"
     ]
    }
   ],
   "source": [
    "# finds everything except words\n",
    "print(re.findall(r'\\W',  \"O.T.P = 43n@one_3\"))"
   ]
  },
  {
   "cell_type": "code",
   "execution_count": 61,
   "metadata": {
    "colab": {
     "base_uri": "https://localhost:8080/"
    },
    "executionInfo": {
     "elapsed": 6,
     "status": "ok",
     "timestamp": 1682228737129,
     "user": {
      "displayName": "Hrutik Nawade",
      "userId": "03506609053451396862"
     },
     "user_tz": -330
    },
    "id": "zH5Xy9tkj31T",
    "outputId": "a0870d6a-4ec8-488b-dab4-d2699b9c995d"
   },
   "outputs": [
    {
     "name": "stdout",
     "output_type": "stream",
     "text": [
      "['.', '.', ' ', '=', ' ', '@']\n"
     ]
    }
   ],
   "source": [
    "regex_code = re.compile(r'\\W')\n",
    "print(regex_code.findall(\"O.T.P = 43n@one_3\"))"
   ]
  },
  {
   "cell_type": "code",
   "execution_count": 64,
   "metadata": {
    "colab": {
     "base_uri": "https://localhost:8080/"
    },
    "executionInfo": {
     "elapsed": 3,
     "status": "ok",
     "timestamp": 1682228738151,
     "user": {
      "displayName": "Hrutik Nawade",
      "userId": "03506609053451396862"
     },
     "user_tz": -330
    },
    "id": "IwLZ1JujOlG3",
    "outputId": "fc14aa4e-e792-4b0f-952a-88d88866dfd0"
   },
   "outputs": [
    {
     "name": "stdout",
     "output_type": "stream",
     "text": [
      "O T P   43n one_3\n"
     ]
    }
   ],
   "source": [
    "# subsitutes everything except word characters\n",
    "print(re.sub(r'\\W',' ',   \"O.T.P = 43n@one_3\"))"
   ]
  },
  {
   "cell_type": "markdown",
   "metadata": {
    "id": "2yNDkEnvYtHU"
   },
   "source": [
    "#### \\Z\n",
    "In regex, `\\Z` is an anchor that matches the absolute end of a string. It ensures that the match occurs only at the very end of the string, without any exceptions."
   ]
  },
  {
   "cell_type": "code",
   "execution_count": 72,
   "metadata": {
    "id": "8yQqnpiQYsq1"
   },
   "outputs": [
    {
     "name": "stdout",
     "output_type": "stream",
     "text": [
      "<re.Match object; span=(7, 11), match='done'>\n"
     ]
    }
   ],
   "source": [
    "# search for if the string ends with a specific character or not.\n",
    "print(re.search('done\\Z', 'Job is done'))"
   ]
  },
  {
   "cell_type": "code",
   "execution_count": 74,
   "metadata": {},
   "outputs": [
    {
     "name": "stdout",
     "output_type": "stream",
     "text": [
      "None\n"
     ]
    }
   ],
   "source": [
    "# here it ends with exclamation mark so it won't consider a perfect match\n",
    "print(re.search('done\\Z', 'Job is done!'))"
   ]
  },
  {
   "cell_type": "markdown",
   "metadata": {
    "id": "lIcOTM_XEvqM"
   },
   "source": [
    "## matching character groups"
   ]
  },
  {
   "cell_type": "code",
   "execution_count": 76,
   "metadata": {
    "colab": {
     "base_uri": "https://localhost:8080/"
    },
    "executionInfo": {
     "elapsed": 6,
     "status": "ok",
     "timestamp": 1682228745626,
     "user": {
      "displayName": "Hrutik Nawade",
      "userId": "03506609053451396862"
     },
     "user_tz": -330
    },
    "id": "zo43yHWzEvga",
    "outputId": "23d4deb7-3c81-490b-b2bf-8ce8a44462dc"
   },
   "outputs": [
    {
     "data": {
      "text/plain": [
       "['c', 'ns', 'q', '', 'nt', '', 'l']"
      ]
     },
     "execution_count": 76,
     "metadata": {},
     "output_type": "execute_result"
    }
   ],
   "source": [
    "regex = re.compile('[aeiou]')\n",
    "regex.split('consequential')"
   ]
  },
  {
   "cell_type": "code",
   "execution_count": 77,
   "metadata": {
    "colab": {
     "base_uri": "https://localhost:8080/"
    },
    "executionInfo": {
     "elapsed": 5,
     "status": "ok",
     "timestamp": 1682228749208,
     "user": {
      "displayName": "Hrutik Nawade",
      "userId": "03506609053451396862"
     },
     "user_tz": -330
    },
    "id": "DN8s5PPtEvdA",
    "outputId": "60b67667-087d-459a-bec6-d7d924a016e9"
   },
   "outputs": [
    {
     "data": {
      "text/plain": [
       "['G2', 'H6', 'K4']"
      ]
     },
     "execution_count": 77,
     "metadata": {},
     "output_type": "execute_result"
    }
   ],
   "source": [
    "regex = re.compile('[A-Z][0-9]')\n",
    "regex.findall('1043879, G2, H6, jajK4')"
   ]
  },
  {
   "cell_type": "markdown",
   "metadata": {
    "id": "8TdXscTDQ61D"
   },
   "source": [
    "### matching repeated characters"
   ]
  },
  {
   "cell_type": "code",
   "execution_count": 78,
   "metadata": {
    "colab": {
     "base_uri": "https://localhost:8080/"
    },
    "executionInfo": {
     "elapsed": 1297,
     "status": "ok",
     "timestamp": 1682228778333,
     "user": {
      "displayName": "Hrutik Nawade",
      "userId": "03506609053451396862"
     },
     "user_tz": -330
    },
    "id": "zmVAWrShQ6x5",
    "outputId": "5dbc9e00-869f-4097-a822-ae51735ee2c9"
   },
   "outputs": [
    {
     "data": {
      "text/plain": [
       "['lov', 'dat', 'sci', 'enc']"
      ]
     },
     "execution_count": 78,
     "metadata": {},
     "output_type": "execute_result"
    }
   ],
   "source": [
    "regex = re.compile(r'\\w{3}')\n",
    "regex.findall('i love data science')"
   ]
  },
  {
   "cell_type": "code",
   "execution_count": null,
   "metadata": {
    "colab": {
     "base_uri": "https://localhost:8080/"
    },
    "executionInfo": {
     "elapsed": 6,
     "status": "ok",
     "timestamp": 1682228779279,
     "user": {
      "displayName": "Hrutik Nawade",
      "userId": "03506609053451396862"
     },
     "user_tz": -330
    },
    "id": "DgfKb56eQ6u7",
    "outputId": "296a04c6-d6ac-4c6b-d175-73e8bdf38660"
   },
   "outputs": [
    {
     "data": {
      "text/plain": [
       "['i', 'love', 'data', 'scien', 'ce']"
      ]
     },
     "execution_count": 28,
     "metadata": {},
     "output_type": "execute_result"
    }
   ],
   "source": [
    "regex = re.compile(r'\\w{1,5}')\n",
    "regex.findall('i love data science')"
   ]
  },
  {
   "cell_type": "code",
   "execution_count": null,
   "metadata": {
    "colab": {
     "base_uri": "https://localhost:8080/"
    },
    "executionInfo": {
     "elapsed": 6,
     "status": "ok",
     "timestamp": 1682228780344,
     "user": {
      "displayName": "Hrutik Nawade",
      "userId": "03506609053451396862"
     },
     "user_tz": -330
    },
    "id": "j2z4e_WcGDsd",
    "outputId": "5e4c464e-af57-4184-dc32-585961ef5672"
   },
   "outputs": [
    {
     "data": {
      "text/plain": [
       "['i', 'love', 'data', 'science']"
      ]
     },
     "execution_count": 29,
     "metadata": {},
     "output_type": "execute_result"
    }
   ],
   "source": [
    "regex = re.compile(r'\\w+')\n",
    "regex.findall('i love data science')"
   ]
  },
  {
   "cell_type": "markdown",
   "metadata": {
    "id": "EA7GbDi-6BOe"
   },
   "source": [
    "#### `\\` backslash\n",
    " Escapes special characters or signals special sequences."
   ]
  },
  {
   "cell_type": "code",
   "execution_count": 82,
   "metadata": {
    "colab": {
     "base_uri": "https://localhost:8080/"
    },
    "executionInfo": {
     "elapsed": 16,
     "status": "ok",
     "timestamp": 1680690059469,
     "user": {
      "displayName": "Hrutik Nawade",
      "userId": "03506609053451396862"
     },
     "user_tz": -330
    },
    "id": "6Gg9_EHa6BLP",
    "outputId": "67e6b49c-cef9-4f6c-f2d0-3f76bbf1b40c"
   },
   "outputs": [
    {
     "name": "stdout",
     "output_type": "stream",
     "text": [
      "<re.Match object; span=(0, 1), match='t'>\n",
      "<re.Match object; span=(29, 30), match='.'>\n"
     ]
    }
   ],
   "source": [
    "str = 'this are regex metacharacters.'\n",
    "\n",
    "# here . is treated as special character as it is a part of metacharacters \n",
    "s = re.search('.', str) \n",
    "print(s)\n",
    "\n",
    "# by using \\ it will lose its speciality and can be treated as . only\n",
    "s = re.search('\\.', str) \n",
    "print(s)"
   ]
  },
  {
   "cell_type": "markdown",
   "metadata": {
    "id": "xjioaiAm6BGF"
   },
   "source": [
    "#### `[]`  square brackets\n",
    "Character classes allow you to specify sets of characters to match. These are enclosed in square brackets `[ ]`.\n",
    "\n",
    "- `[abc]`: Matches any one of a, b, or c.\n",
    "- `[a-z]`: Matches any lowercase letter from a to z.\n",
    "- `[A-Z]`: Matches any uppercase letter from A to Z.\n",
    "- `[0-9]`: Matches any digit from 0 to 9.\n",
    "- `[^abc]`: Matches any character except a, b, or c."
   ]
  },
  {
   "cell_type": "code",
   "execution_count": 93,
   "metadata": {
    "colab": {
     "base_uri": "https://localhost:8080/"
    },
    "executionInfo": {
     "elapsed": 678,
     "status": "ok",
     "timestamp": 1680690456779,
     "user": {
      "displayName": "Hrutik Nawade",
      "userId": "03506609053451396862"
     },
     "user_tz": -330
    },
    "id": "nhHBhPyB9F9f",
    "outputId": "b730a454-7d56-4250-d937-1b7e4013f675"
   },
   "outputs": [
    {
     "name": "stdout",
     "output_type": "stream",
     "text": [
      "['e', 'i', 'b', 'r', 'n', 'e', 'r', 'e', 'a']\n"
     ]
    }
   ],
   "source": [
    "# matches for any of the character present inside the string.\n",
    "# matches [aberin] these characters in the string\n",
    "\n",
    "pattern = \"[aberin]\" \n",
    "print(re.findall(pattern, \"The quick brown fox jumps over the lazy dog\"))"
   ]
  },
  {
   "cell_type": "code",
   "execution_count": 90,
   "metadata": {
    "colab": {
     "base_uri": "https://localhost:8080/"
    },
    "executionInfo": {
     "elapsed": 6,
     "status": "ok",
     "timestamp": 1680690908643,
     "user": {
      "displayName": "Hrutik Nawade",
      "userId": "03506609053451396862"
     },
     "user_tz": -330
    },
    "id": "ZASLg2f46BD9",
    "outputId": "945ead50-75c0-49ac-b217-39771a3e5ff0"
   },
   "outputs": [
    {
     "name": "stdout",
     "output_type": "stream",
     "text": [
      "['1', '1', '2', '3', '4', '5', '6', '7', '8', '9', '0']\n"
     ]
    }
   ],
   "source": [
    "# we can specify the range of characters by using - inside square brackets\n",
    "\n",
    "string = \"The quick brown fox jumps over the lazy dog11234567890\"\n",
    "pattern = \"[0-9]\" \n",
    "result = re.findall(pattern, string)\n",
    " \n",
    "print(result)"
   ]
  },
  {
   "cell_type": "code",
   "execution_count": 96,
   "metadata": {},
   "outputs": [
    {
     "name": "stdout",
     "output_type": "stream",
     "text": [
      "['T', '1', '1', '2', '3', '4', '5', '6', '7', '8', '9', '0']\n"
     ]
    }
   ],
   "source": [
    "#we can specify multiple ranges\n",
    "\n",
    "string = \"The quick brown fox jumps over the lazy dog11234567890\"\n",
    "pattern = \"[A-Z0-9]\" \n",
    "result = re.findall(pattern, string)\n",
    " \n",
    "print(result)"
   ]
  },
  {
   "cell_type": "markdown",
   "metadata": {
    "id": "SwdvkrdFEmcl"
   },
   "source": [
    "#### `^`  caret\n",
    "Matches the start of a string."
   ]
  },
  {
   "cell_type": "code",
   "execution_count": null,
   "metadata": {
    "id": "mNCx-afb6A5Y"
   },
   "outputs": [],
   "source": [
    "# Match strings starting with \"The\"\n",
    "regex = r'^The'\n",
    "strings = ['The quick brown fox', 'The lazy dog', 'A quick brown fox']\n",
    "for string in strings:\n",
    "    if re.match(regex, string):\n",
    "        print(f'Matched: {string}')\n",
    "    else:\n",
    "        print(f'Not matched: {string}')"
   ]
  },
  {
   "cell_type": "code",
   "execution_count": 97,
   "metadata": {
    "id": "j80RitOY6A-s"
   },
   "outputs": [
    {
     "name": "stdout",
     "output_type": "stream",
     "text": [
      "['T', 'h', ' ', 'q', 'u', 'c', 'k', ' ', 'o', 'w', ' ', 'f', 'o', 'x', ' ', 'j', 'u', 'm', 'p', 's', ' ', 'o', 'v', ' ', 't', 'h', ' ', 'l', 'z', 'y', ' ', 'd', 'o', 'g']\n"
     ]
    }
   ],
   "source": [
    "# using caret symbol inside square brackets we can invert the character class\n",
    "# means any character except a, b, e, r, i, n \n",
    "\n",
    "string = \"The quick brown fox jumps over the lazy dog\"\n",
    "pattern = \"[^aberin]\" \n",
    "result = re.findall(pattern, string)\n",
    " \n",
    "print(result)"
   ]
  },
  {
   "cell_type": "markdown",
   "metadata": {
    "id": "02cdmOgCBmrk"
   },
   "source": [
    "#### `$` dollar\n",
    " Matches the end of a string."
   ]
  },
  {
   "cell_type": "code",
   "execution_count": 100,
   "metadata": {
    "colab": {
     "base_uri": "https://localhost:8080/"
    },
    "executionInfo": {
     "elapsed": 548,
     "status": "ok",
     "timestamp": 1680691758718,
     "user": {
      "displayName": "Hrutik Nawade",
      "userId": "03506609053451396862"
     },
     "user_tz": -330
    },
    "id": "Ck-sd_HD6A1a",
    "outputId": "8d400458-156b-4a0a-cde9-e728a377e982"
   },
   "outputs": [
    {
     "name": "stdout",
     "output_type": "stream",
     "text": [
      "Match found!\n"
     ]
    }
   ],
   "source": [
    "import re\n",
    " \n",
    "string = \"Hello World!\"\n",
    "pattern = r\"World!$\"  # checks whether string endswith the given character or not\n",
    "  \n",
    "match = re.search(pattern, string)\n",
    "if match:\n",
    "    print(\"Match found!\")\n",
    "else:\n",
    "    print(\"Match not found.\")"
   ]
  },
  {
   "cell_type": "code",
   "execution_count": 101,
   "metadata": {
    "colab": {
     "base_uri": "https://localhost:8080/"
    },
    "executionInfo": {
     "elapsed": 421,
     "status": "ok",
     "timestamp": 1680524256824,
     "user": {
      "displayName": "Hrutik Nawade",
      "userId": "03506609053451396862"
     },
     "user_tz": -330
    },
    "id": "ne9UOjWCCfeR",
    "outputId": "8f67e60d-e25e-41b9-d386-8f8e3ee02d8a"
   },
   "outputs": [
    {
     "data": {
      "text/plain": [
       "['$']"
      ]
     },
     "execution_count": 101,
     "metadata": {},
     "output_type": "execute_result"
    }
   ],
   "source": [
    "regex = re.compile(r'\\$')\n",
    "regex.findall(\"the cost is $20\")"
   ]
  },
  {
   "cell_type": "markdown",
   "metadata": {
    "id": "lX_bST45FfFe"
   },
   "source": [
    "#### `.`  dot\n",
    " Matches any character except a newline."
   ]
  },
  {
   "cell_type": "code",
   "execution_count": null,
   "metadata": {
    "colab": {
     "base_uri": "https://localhost:8080/"
    },
    "executionInfo": {
     "elapsed": 519,
     "status": "ok",
     "timestamp": 1682229427475,
     "user": {
      "displayName": "Hrutik Nawade",
      "userId": "03506609053451396862"
     },
     "user_tz": -330
    },
    "id": "Kj-84P-_FeCf",
    "outputId": "8762ddea-4ee2-44c8-856e-18a80b57d682"
   },
   "outputs": [
    {
     "name": "stdout",
     "output_type": "stream",
     "text": [
      "Match found!\n"
     ]
    }
   ],
   "source": [
    "import re\n",
    " \n",
    "string = \"The quick brown fox jumps over the lazy dog.\"\n",
    "pattern = r\"brown.fox\"    # matches only a single character except newline character.\n",
    " \n",
    "mat = re.search(pattern, string)\n",
    "if mat:\n",
    "    print(\"Match found!\")\n",
    "\n",
    "else:\n",
    "    print(\"Match not found.\")"
   ]
  },
  {
   "cell_type": "code",
   "execution_count": null,
   "metadata": {
    "id": "XW4BtwstFd-z"
   },
   "outputs": [],
   "source": []
  },
  {
   "cell_type": "markdown",
   "metadata": {
    "id": "w80tOGAYIVTG"
   },
   "source": [
    "#### | - or"
   ]
  },
  {
   "cell_type": "code",
   "execution_count": null,
   "metadata": {
    "colab": {
     "base_uri": "https://localhost:8080/"
    },
    "executionInfo": {
     "elapsed": 515,
     "status": "ok",
     "timestamp": 1680693598874,
     "user": {
      "displayName": "Hrutik Nawade",
      "userId": "03506609053451396862"
     },
     "user_tz": -330
    },
    "id": "X2MaxL6ZFdgm",
    "outputId": "8a502de6-a103-4605-9bd2-f85ea509e632"
   },
   "outputs": [
    {
     "name": "stdout",
     "output_type": "stream",
     "text": [
      "<re.Match object; span=(10, 11), match='b'>\n"
     ]
    }
   ],
   "source": [
    "import re\n",
    "\n",
    "string = 'the quick brown fox jumps over the lazy dog'\n",
    "pattern = 'a|b'\n",
    "res = re.search(pattern, string)\n",
    "print(res)"
   ]
  },
  {
   "cell_type": "code",
   "execution_count": null,
   "metadata": {
    "id": "kLxptAduIeFf"
   },
   "outputs": [],
   "source": []
  },
  {
   "cell_type": "markdown",
   "metadata": {
    "id": "A4CH0GjOGDmU"
   },
   "source": [
    "#### ? - question mark"
   ]
  },
  {
   "cell_type": "code",
   "execution_count": null,
   "metadata": {
    "colab": {
     "base_uri": "https://localhost:8080/"
    },
    "executionInfo": {
     "elapsed": 1128,
     "status": "ok",
     "timestamp": 1680693990547,
     "user": {
      "displayName": "Hrutik Nawade",
      "userId": "03506609053451396862"
     },
     "user_tz": -330
    },
    "id": "wDHds7z7GDjg",
    "outputId": "5f549dc9-905b-4edb-c070-225ac2a16b2f"
   },
   "outputs": [
    {
     "data": {
      "text/plain": [
       "<re.Match object; span=(0, 1), match='o'>"
      ]
     },
     "execution_count": 23,
     "metadata": {},
     "output_type": "execute_result"
    }
   ],
   "source": [
    "regex = re.compile(r'o?')   #  checks if the string before the question mark in the regex occurs at least once or not at all\n",
    "regex.search('ove data science')"
   ]
  },
  {
   "cell_type": "code",
   "execution_count": null,
   "metadata": {
    "id": "ZzsFuJRQJZza"
   },
   "outputs": [],
   "source": []
  },
  {
   "cell_type": "markdown",
   "metadata": {
    "id": "0cqzYpjEGl6n"
   },
   "source": [
    "#### * - star/asterisk"
   ]
  },
  {
   "cell_type": "code",
   "execution_count": null,
   "metadata": {
    "colab": {
     "base_uri": "https://localhost:8080/"
    },
    "executionInfo": {
     "elapsed": 414,
     "status": "ok",
     "timestamp": 1680525624099,
     "user": {
      "displayName": "Hrutik Nawade",
      "userId": "03506609053451396862"
     },
     "user_tz": -330
    },
    "id": "amFM9_WoGl3Y",
    "outputId": "1942d17d-fe41-47d1-91f3-3d1db9d19c59"
   },
   "outputs": [
    {
     "data": {
      "text/plain": [
       "['i', '', 'love', '', 'data', '', 'science', '']"
      ]
     },
     "execution_count": 106,
     "metadata": {},
     "output_type": "execute_result"
    }
   ],
   "source": [
    "regex = re.compile(r'\\w*')  # symbol matches zero or more occurrences of the regex preceding the * symbol\n",
    "regex.findall('i love data science')"
   ]
  },
  {
   "cell_type": "code",
   "execution_count": null,
   "metadata": {
    "id": "3w8DZG58MG8e"
   },
   "outputs": [],
   "source": []
  },
  {
   "cell_type": "markdown",
   "metadata": {
    "id": "_q6d4Z4xGl0a"
   },
   "source": [
    "#### + - plus"
   ]
  },
  {
   "cell_type": "code",
   "execution_count": null,
   "metadata": {
    "colab": {
     "base_uri": "https://localhost:8080/"
    },
    "executionInfo": {
     "elapsed": 410,
     "status": "ok",
     "timestamp": 1680525681436,
     "user": {
      "displayName": "Hrutik Nawade",
      "userId": "03506609053451396862"
     },
     "user_tz": -330
    },
    "id": "fYLW2tiQGlxr",
    "outputId": "46e435b4-7c57-4415-a4a0-ceb6b5e16311"
   },
   "outputs": [
    {
     "data": {
      "text/plain": [
       "['i', 'love', 'data', 'science']"
      ]
     },
     "execution_count": 108,
     "metadata": {},
     "output_type": "execute_result"
    }
   ],
   "source": [
    "regex = re.compile(r'\\w+') #  symbol matches one or more occurrences of the regex preceding the + symbol.\n",
    "regex.findall('i love data science')"
   ]
  },
  {
   "cell_type": "code",
   "execution_count": null,
   "metadata": {
    "id": "8TSHo9D7MZ4j"
   },
   "outputs": [],
   "source": []
  },
  {
   "cell_type": "markdown",
   "metadata": {
    "id": "U-ueLovBGlvV"
   },
   "source": [
    "#### {m, n} braces"
   ]
  },
  {
   "cell_type": "code",
   "execution_count": null,
   "metadata": {
    "colab": {
     "base_uri": "https://localhost:8080/"
    },
    "executionInfo": {
     "elapsed": 443,
     "status": "ok",
     "timestamp": 1680525768876,
     "user": {
      "displayName": "Hrutik Nawade",
      "userId": "03506609053451396862"
     },
     "user_tz": -330
    },
    "id": "vcC42RXPGls2",
    "outputId": "dda78a4c-e61a-457a-f9a0-e6c878205c6b"
   },
   "outputs": [
    {
     "data": {
      "text/plain": [
       "['lo', 've', 'da', 'ta', 'sc', 'ie', 'nc']"
      ]
     },
     "execution_count": 110,
     "metadata": {},
     "output_type": "execute_result"
    }
   ],
   "source": [
    "regex = re.compile(r'\\w{2}')  # braces match any repetitions preceding regex from m to n\n",
    "regex.findall('i love data science')"
   ]
  },
  {
   "cell_type": "code",
   "execution_count": null,
   "metadata": {
    "colab": {
     "base_uri": "https://localhost:8080/"
    },
    "executionInfo": {
     "elapsed": 410,
     "status": "ok",
     "timestamp": 1680525794393,
     "user": {
      "displayName": "Hrutik Nawade",
      "userId": "03506609053451396862"
     },
     "user_tz": -330
    },
    "id": "2DamGF8bGlqR",
    "outputId": "efc74b71-a263-4a99-9c8d-d411d41c9afe"
   },
   "outputs": [
    {
     "data": {
      "text/plain": [
       "['love', 'data', 'scie', 'nce']"
      ]
     },
     "execution_count": 111,
     "metadata": {},
     "output_type": "execute_result"
    }
   ],
   "source": [
    "regex = re.compile(r'\\w{2,4}')\n",
    "regex.findall('i love data science')"
   ]
  },
  {
   "cell_type": "code",
   "execution_count": null,
   "metadata": {
    "id": "qlIta4nSGlnb"
   },
   "outputs": [],
   "source": []
  },
  {
   "cell_type": "code",
   "execution_count": null,
   "metadata": {
    "colab": {
     "base_uri": "https://localhost:8080/"
    },
    "executionInfo": {
     "elapsed": 407,
     "status": "ok",
     "timestamp": 1680525850616,
     "user": {
      "displayName": "Hrutik Nawade",
      "userId": "03506609053451396862"
     },
     "user_tz": -330
    },
    "id": "L2IIbgI_Glkc",
    "outputId": "34820dd4-8543-4f99-867d-c26b054fae7d"
   },
   "outputs": [
    {
     "data": {
      "text/plain": [
       "['aiadventures.pune@gmail.com']"
      ]
     },
     "execution_count": 112,
     "metadata": {},
     "output_type": "execute_result"
    }
   ],
   "source": [
    "email = re.compile(r'\\w+\\.\\w+@\\w+\\.[a-z]{3}')\n",
    "email.findall('aiadventures.pune@gmail.com')"
   ]
  },
  {
   "cell_type": "code",
   "execution_count": null,
   "metadata": {
    "id": "O9cAwEgfGliZ"
   },
   "outputs": [],
   "source": []
  },
  {
   "cell_type": "markdown",
   "metadata": {
    "id": "uUlKlewYGlfL"
   },
   "source": [
    "### extracting groups"
   ]
  },
  {
   "cell_type": "markdown",
   "metadata": {
    "id": "2cKU2MekQEz0"
   },
   "source": [
    "#### ( ) - groups"
   ]
  },
  {
   "cell_type": "code",
   "execution_count": null,
   "metadata": {
    "id": "Q8gXm-x-LoY3"
   },
   "outputs": [],
   "source": [
    "email3 = re.compile(r'([\\w.]+)@(\\w+)\\.([a-z]{3})')"
   ]
  },
  {
   "cell_type": "code",
   "execution_count": null,
   "metadata": {
    "colab": {
     "base_uri": "https://localhost:8080/"
    },
    "executionInfo": {
     "elapsed": 989,
     "status": "ok",
     "timestamp": 1680526579774,
     "user": {
      "displayName": "Hrutik Nawade",
      "userId": "03506609053451396862"
     },
     "user_tz": -330
    },
    "id": "JqEI06bILoVV",
    "outputId": "ae33f10b-7e38-40b1-f7c3-a84534a31129"
   },
   "outputs": [
    {
     "data": {
      "text/plain": [
       "[('aiadventures.pune', 'gmail', 'com'),\n",
       " ('hrutik.nawade', 'gmail', 'com'),\n",
       " ('ankurs.aiadventures', 'gmail', 'com')]"
      ]
     },
     "execution_count": 115,
     "metadata": {},
     "output_type": "execute_result"
    }
   ],
   "source": [
    "text = \"To contact us, you can mail us on aiadventures.pune@gmail.com or contact hrutik.nawade@gmail.com Ankur on ankurs.aiadventures@gmail.com\"\n",
    "email3.findall(text)"
   ]
  },
  {
   "cell_type": "code",
   "execution_count": null,
   "metadata": {
    "id": "JX-dwfF-L13d"
   },
   "outputs": [],
   "source": []
  },
  {
   "cell_type": "code",
   "execution_count": null,
   "metadata": {
    "id": "irZ-SnqNL10l"
   },
   "outputs": [],
   "source": []
  },
  {
   "cell_type": "markdown",
   "metadata": {
    "id": "mGesvHbqj6po"
   },
   "source": [
    "## regex methods"
   ]
  },
  {
   "cell_type": "markdown",
   "metadata": {
    "id": "F1matDRXKOx2"
   },
   "source": [
    "#### compile method"
   ]
  },
  {
   "cell_type": "code",
   "execution_count": null,
   "metadata": {
    "colab": {
     "base_uri": "https://localhost:8080/"
    },
    "executionInfo": {
     "elapsed": 7,
     "status": "ok",
     "timestamp": 1680347914686,
     "user": {
      "displayName": "Hrutik Nawade",
      "userId": "03506609053451396862"
     },
     "user_tz": -330
    },
    "id": "rtWMVv12ZwLm",
    "outputId": "924fb899-6c60-42b2-f214-ce6b694f9d6b"
   },
   "outputs": [
    {
     "name": "stdout",
     "output_type": "stream",
     "text": [
      "['Google', 'Google', 'Google']\n"
     ]
    }
   ],
   "source": [
    "text = '''Many people still conflate Google with the internet.\n",
    "They don't know that Google is actually a search engine like Bing, Baidu, Yahoo. However aforementioned fact surely reflects the prevalent use of Google. '''\n",
    "import re\n",
    "regex_object = re.compile(r'Google')\n",
    "print(regex_object.findall(text))\n"
   ]
  },
  {
   "cell_type": "code",
   "execution_count": null,
   "metadata": {
    "colab": {
     "base_uri": "https://localhost:8080/"
    },
    "executionInfo": {
     "elapsed": 7,
     "status": "ok",
     "timestamp": 1680348038830,
     "user": {
      "displayName": "Hrutik Nawade",
      "userId": "03506609053451396862"
     },
     "user_tz": -330
    },
    "id": "hah9ozhXfab1",
    "outputId": "9d82c9fe-fb58-484d-a8b9-99403f22961c"
   },
   "outputs": [
    {
     "name": "stdout",
     "output_type": "stream",
     "text": [
      "[]\n"
     ]
    }
   ],
   "source": [
    "text = \" Is nature a creation of God or God itself ? \"\n",
    "import re\n",
    "regex_code = re.compile(r'god')\n",
    "print(regex_code.findall(text))"
   ]
  },
  {
   "cell_type": "code",
   "execution_count": null,
   "metadata": {
    "colab": {
     "base_uri": "https://localhost:8080/"
    },
    "executionInfo": {
     "elapsed": 6,
     "status": "ok",
     "timestamp": 1680348068464,
     "user": {
      "displayName": "Hrutik Nawade",
      "userId": "03506609053451396862"
     },
     "user_tz": -330
    },
    "id": "L-UPBCLSjEEU",
    "outputId": "ad99137d-636b-443f-e01d-691f7592c55d"
   },
   "outputs": [
    {
     "name": "stdout",
     "output_type": "stream",
     "text": [
      "['P2P']\n"
     ]
    }
   ],
   "source": [
    "text = \" P2P stands for peer-to-peer network. In a peer-to-peer network, peers are computer systems connected to each other via internet connection. \"\n",
    "import re\n",
    "regex_code = re.compile(r'P2P')\n",
    "print(regex_code.findall(text))"
   ]
  },
  {
   "cell_type": "markdown",
   "metadata": {
    "id": "FMQewFxTHGmY"
   },
   "source": [
    "#### findall method\n",
    "\n"
   ]
  },
  {
   "cell_type": "code",
   "execution_count": null,
   "metadata": {
    "colab": {
     "base_uri": "https://localhost:8080/"
    },
    "executionInfo": {
     "elapsed": 7,
     "status": "ok",
     "timestamp": 1682229868946,
     "user": {
      "displayName": "Hrutik Nawade",
      "userId": "03506609053451396862"
     },
     "user_tz": -330
    },
    "id": "IVJdOOENYYBw",
    "outputId": "e6d434ce-03dd-41d6-edb9-de86981ffb8f"
   },
   "outputs": [
    {
     "name": "stdout",
     "output_type": "stream",
     "text": [
      "['AC23455', 'HB45968', 'AH23']\n"
     ]
    }
   ],
   "source": [
    "import re\n",
    "text = 'Employees with ids AC23455 and HB4596857 are to be promoted. AH23'\n",
    "print(re.findall(r'[A-Z]{2}\\d{1,5}',text))\n"
   ]
  },
  {
   "cell_type": "code",
   "execution_count": null,
   "metadata": {
    "colab": {
     "base_uri": "https://localhost:8080/"
    },
    "executionInfo": {
     "elapsed": 430,
     "status": "ok",
     "timestamp": 1680698627011,
     "user": {
      "displayName": "Hrutik Nawade",
      "userId": "03506609053451396862"
     },
     "user_tz": -330
    },
    "id": "ObibfDzxcQaY",
    "outputId": "cd8fabf6-94ee-4003-c7ba-c115366121bc"
   },
   "outputs": [
    {
     "name": "stdout",
     "output_type": "stream",
     "text": [
      "['123456789', '987654321']\n"
     ]
    }
   ],
   "source": [
    "import re\n",
    " \n",
    "string = \"\"\"Hello my Number is 123456789 and\n",
    "            my friend's number is 987654321\"\"\"\n",
    " \n",
    "regex = '\\d+'\n",
    " \n",
    "match = re.findall(regex, string)\n",
    "print(match)\n",
    " "
   ]
  },
  {
   "cell_type": "markdown",
   "metadata": {
    "id": "A8R77BPsjLTh"
   },
   "source": [
    "#### sub method"
   ]
  },
  {
   "cell_type": "code",
   "execution_count": null,
   "metadata": {
    "colab": {
     "base_uri": "https://localhost:8080/",
     "height": 36
    },
    "executionInfo": {
     "elapsed": 775,
     "status": "ok",
     "timestamp": 1685096378256,
     "user": {
      "displayName": "Hrutik Nawade",
      "userId": "03506609053451396862"
     },
     "user_tz": -330
    },
    "id": "ZZYbOWsIckIH",
    "outputId": "4b3a812d-0cf5-4858-89c1-148adb18f9c7"
   },
   "outputs": [
    {
     "data": {
      "application/vnd.google.colaboratory.intrinsic+json": {
       "type": "string"
      },
      "text/plain": [
       "'this is aiadventures'"
      ]
     },
     "execution_count": 13,
     "metadata": {},
     "output_type": "execute_result"
    }
   ],
   "source": [
    "line = \"this is aiadventures\"\n",
    "line.replace( 'aiadventures', 'data science')\n",
    "line"
   ]
  },
  {
   "cell_type": "code",
   "execution_count": null,
   "metadata": {
    "colab": {
     "base_uri": "https://localhost:8080/",
     "height": 36
    },
    "executionInfo": {
     "elapsed": 517,
     "status": "ok",
     "timestamp": 1685096583657,
     "user": {
      "displayName": "Hrutik Nawade",
      "userId": "03506609053451396862"
     },
     "user_tz": -330
    },
    "id": "uH-4o40Wcrad",
    "outputId": "a00ded8b-be53-4674-db07-52889a09febd"
   },
   "outputs": [
    {
     "data": {
      "application/vnd.google.colaboratory.intrinsic+json": {
       "type": "string"
      },
      "text/plain": [
       "'th## ## aiadventures'"
      ]
     },
     "execution_count": 15,
     "metadata": {},
     "output_type": "execute_result"
    }
   ],
   "source": [
    "re.sub('is', '##',line)"
   ]
  },
  {
   "cell_type": "code",
   "execution_count": null,
   "metadata": {
    "colab": {
     "base_uri": "https://localhost:8080/"
    },
    "executionInfo": {
     "elapsed": 900,
     "status": "ok",
     "timestamp": 1680509842473,
     "user": {
      "displayName": "Hrutik Nawade",
      "userId": "03506609053451396862"
     },
     "user_tz": -330
    },
    "id": "22UKKfjZK-G5",
    "outputId": "dddcd242-120e-47db-aaa9-129ae0300e27"
   },
   "outputs": [
    {
     "name": "stdout",
     "output_type": "stream",
     "text": [
      "O T P   43n one_3\n",
      "re.compile('\\\\W')\n"
     ]
    }
   ],
   "source": [
    "import re\n",
    "\n",
    "regex_code = re.compile(r'\\W')\n",
    "text = \"O.T.P = 43n@one_3\"\n",
    "print(regex_code.sub(' ',text))\n",
    "print(regex_code)"
   ]
  },
  {
   "cell_type": "code",
   "execution_count": null,
   "metadata": {
    "id": "QSTzl2HEaSDW"
   },
   "outputs": [],
   "source": [
    "line = 'i  love data science'"
   ]
  },
  {
   "cell_type": "code",
   "execution_count": null,
   "metadata": {
    "colab": {
     "base_uri": "https://localhost:8080/"
    },
    "executionInfo": {
     "elapsed": 564,
     "status": "ok",
     "timestamp": 1680701163124,
     "user": {
      "displayName": "Hrutik Nawade",
      "userId": "03506609053451396862"
     },
     "user_tz": -330
    },
    "id": "-FTKp2kLlIhA",
    "outputId": "b08591e2-107b-4f94-be86-5ea1cb7c3559"
   },
   "outputs": [
    {
     "name": "stdout",
     "output_type": "stream",
     "text": [
      "S~*ject has ~*er booked already\n",
      "S~*ject has Uber booked already\n",
      "S~*ject has Uber booked already\n",
      "Baked Beans & Spam\n"
     ]
    }
   ],
   "source": [
    "import re\n",
    " \n",
    "# Regular Expression pattern 'ub' matches the\n",
    "# string at \"Subject\" and \"Uber\". As the CASE\n",
    "# has been ignored, using Flag, 'ub' should\n",
    "# match twice with the string Upon matching,\n",
    "# 'ub' is replaced by '~*' in \"Subject\", and\n",
    "# in \"Uber\", 'Ub' is replaced.\n",
    "print(re.sub('ub', '~*', 'Subject has Uber booked already',\n",
    "             flags=re.IGNORECASE))\n",
    " \n",
    "# Consider the Case Sensitivity, 'Ub' in\n",
    "# \"Uber\", will not be replaced.\n",
    "print(re.sub('ub', '~*', 'Subject has Uber booked already'))\n",
    " \n",
    "# As count has been given value 1, the maximum\n",
    "# times replacement occurs is 1\n",
    "print(re.sub('ub', '~*', 'Subject has Uber booked already',\n",
    "             count=1, flags=re.IGNORECASE))\n",
    " \n",
    "# 'r' before the pattern denotes RE, \\s is for\n",
    "# start and end of a String.\n",
    "print(re.sub(r'\\sAND\\s', ' & ', 'Baked Beans And Spam',\n",
    "             flags=re.IGNORECASE))"
   ]
  },
  {
   "cell_type": "markdown",
   "metadata": {
    "id": "h0Y_GcZ996iV"
   },
   "source": [
    "#### subn method"
   ]
  },
  {
   "cell_type": "code",
   "execution_count": null,
   "metadata": {
    "colab": {
     "base_uri": "https://localhost:8080/"
    },
    "executionInfo": {
     "elapsed": 723,
     "status": "ok",
     "timestamp": 1680702309591,
     "user": {
      "displayName": "Hrutik Nawade",
      "userId": "03506609053451396862"
     },
     "user_tz": -330
    },
    "id": "yM0MEoRupNO_",
    "outputId": "7ddf6da6-b0f4-4a76-a2c0-679aecb906ed"
   },
   "outputs": [
    {
     "name": "stdout",
     "output_type": "stream",
     "text": [
      "('this @@ is replacable @@', 2)\n"
     ]
    }
   ],
   "source": [
    "import re\n",
    "\n",
    "print(re.subn('ub', '@@', 'this ub is replacable ub'))\n"
   ]
  },
  {
   "cell_type": "code",
   "execution_count": null,
   "metadata": {
    "colab": {
     "base_uri": "https://localhost:8080/"
    },
    "executionInfo": {
     "elapsed": 592,
     "status": "ok",
     "timestamp": 1685095137177,
     "user": {
      "displayName": "Hrutik Nawade",
      "userId": "03506609053451396862"
     },
     "user_tz": -330
    },
    "id": "c34U1WgA96fc",
    "outputId": "e9d8523f-3d84-4370-b2f2-a1e2620614e1"
   },
   "outputs": [
    {
     "name": "stdout",
     "output_type": "stream",
     "text": [
      "('this @@ is ub replacable ub', 1)\n"
     ]
    }
   ],
   "source": [
    "import re\n",
    "\n",
    "print(re.subn('ub', '@@', 'this ub is ub replacable ub',1)) # this will substitute only 1 occurence"
   ]
  },
  {
   "cell_type": "code",
   "execution_count": null,
   "metadata": {
    "id": "SynRJ1eE96cp"
   },
   "outputs": [],
   "source": []
  },
  {
   "cell_type": "markdown",
   "metadata": {
    "id": "BlnR2o993HHA"
   },
   "source": [
    "#### split method"
   ]
  },
  {
   "cell_type": "code",
   "execution_count": null,
   "metadata": {
    "id": "kZ9GVfQ5LKw9"
   },
   "outputs": [],
   "source": [
    "import re\n",
    "regex = re.compile('\\s+')\n",
    "r = regex.split(line)"
   ]
  },
  {
   "cell_type": "code",
   "execution_count": null,
   "metadata": {
    "colab": {
     "base_uri": "https://localhost:8080/"
    },
    "executionInfo": {
     "elapsed": 6,
     "status": "ok",
     "timestamp": 1685096966736,
     "user": {
      "displayName": "Hrutik Nawade",
      "userId": "03506609053451396862"
     },
     "user_tz": -330
    },
    "id": "Yt-Hssz2aRFm",
    "outputId": "03934ebd-c1ab-43b0-91ac-1598fc3c9cf2"
   },
   "outputs": [
    {
     "data": {
      "text/plain": [
       "[' ', ' ']"
      ]
     },
     "execution_count": 18,
     "metadata": {},
     "output_type": "execute_result"
    }
   ],
   "source": [
    "regex.findall(line)"
   ]
  },
  {
   "cell_type": "code",
   "execution_count": null,
   "metadata": {
    "colab": {
     "base_uri": "https://localhost:8080/"
    },
    "executionInfo": {
     "elapsed": 5,
     "status": "ok",
     "timestamp": 1685096967451,
     "user": {
      "displayName": "Hrutik Nawade",
      "userId": "03506609053451396862"
     },
     "user_tz": -330
    },
    "id": "Tfg00qrpbvFR",
    "outputId": "a61f4525-98d2-48c0-beaf-9927e550d315"
   },
   "outputs": [
    {
     "name": "stdout",
     "output_type": "stream",
     "text": [
      "['this is my number ', ' ', ' 3257205 87345 but this will split for only two numbers']\n"
     ]
    }
   ],
   "source": [
    "print(re.split('\\d+', 'this is my number 7457297 238759 3257205 87345 but this will split for only two numbers', maxsplit=2))"
   ]
  },
  {
   "cell_type": "markdown",
   "metadata": {
    "id": "rX7ZKsK04n0k"
   },
   "source": [
    "#### match method"
   ]
  },
  {
   "cell_type": "code",
   "execution_count": null,
   "metadata": {
    "colab": {
     "base_uri": "https://localhost:8080/"
    },
    "executionInfo": {
     "elapsed": 816,
     "status": "ok",
     "timestamp": 1685096991828,
     "user": {
      "displayName": "Hrutik Nawade",
      "userId": "03506609053451396862"
     },
     "user_tz": -330
    },
    "id": "D2mdP-2GaY2J",
    "outputId": "4669c986-48b7-4140-c837-806af9029a23"
   },
   "outputs": [
    {
     "name": "stdout",
     "output_type": "stream",
     "text": [
      "'     ' matches\n",
      "'abc  ' does not match\n",
      "'  abc' matches\n"
     ]
    }
   ],
   "source": [
    "for s in [\"     \", \"abc  \", \"  abc\"]:\n",
    "    if regex.match(s):\n",
    "        print(repr(s), \"matches\")\n",
    "    else:\n",
    "        print(repr(s), \"does not match\")"
   ]
  },
  {
   "cell_type": "code",
   "execution_count": null,
   "metadata": {
    "colab": {
     "base_uri": "https://localhost:8080/"
    },
    "executionInfo": {
     "elapsed": 5,
     "status": "ok",
     "timestamp": 1680514093927,
     "user": {
      "displayName": "Hrutik Nawade",
      "userId": "03506609053451396862"
     },
     "user_tz": -330
    },
    "id": "NTDsYadmcEas",
    "outputId": "f3a6ebc7-5490-443f-9b5e-53b7377e48b2"
   },
   "outputs": [
    {
     "data": {
      "text/plain": [
       "8"
      ]
     },
     "execution_count": 54,
     "metadata": {},
     "output_type": "execute_result"
    }
   ],
   "source": [
    "line.index('data')"
   ]
  },
  {
   "cell_type": "code",
   "execution_count": null,
   "metadata": {
    "id": "om1Pni32kdOn"
   },
   "outputs": [],
   "source": []
  },
  {
   "cell_type": "markdown",
   "metadata": {
    "id": "hD2IxZPm4_3V"
   },
   "source": [
    "#### search method\n"
   ]
  },
  {
   "cell_type": "code",
   "execution_count": 2,
   "metadata": {
    "executionInfo": {
     "elapsed": 637,
     "status": "ok",
     "timestamp": 1685179990223,
     "user": {
      "displayName": "Hrutik Nawade",
      "userId": "03506609053451396862"
     },
     "user_tz": -330
    },
    "id": "RCjobgCU3QPe"
   },
   "outputs": [],
   "source": [
    "line = 'i  love data 4398 science & data analytics'"
   ]
  },
  {
   "cell_type": "code",
   "execution_count": 4,
   "metadata": {
    "executionInfo": {
     "elapsed": 363,
     "status": "ok",
     "timestamp": 1685180006831,
     "user": {
      "displayName": "Hrutik Nawade",
      "userId": "03506609053451396862"
     },
     "user_tz": -330
    },
    "id": "CmHaPrWKiFqp"
   },
   "outputs": [],
   "source": [
    "import re"
   ]
  },
  {
   "cell_type": "code",
   "execution_count": 5,
   "metadata": {
    "colab": {
     "base_uri": "https://localhost:8080/"
    },
    "executionInfo": {
     "elapsed": 6,
     "status": "ok",
     "timestamp": 1685180008402,
     "user": {
      "displayName": "Hrutik Nawade",
      "userId": "03506609053451396862"
     },
     "user_tz": -330
    },
    "id": "9uY0PfzVcg_h",
    "outputId": "04069a1a-2f1d-4a23-b61e-8ab3b64edd15"
   },
   "outputs": [
    {
     "name": "stdout",
     "output_type": "stream",
     "text": [
      "17\n",
      "<re.Match object; span=(13, 17), match='4398'>\n"
     ]
    }
   ],
   "source": [
    "regex = re.compile(r'\\d+')\n",
    "mat = regex.search(line)\n",
    "print(mat.end())\n",
    "print(mat)"
   ]
  },
  {
   "cell_type": "code",
   "execution_count": null,
   "metadata": {
    "colab": {
     "base_uri": "https://localhost:8080/"
    },
    "executionInfo": {
     "elapsed": 775,
     "status": "ok",
     "timestamp": 1680717956018,
     "user": {
      "displayName": "Hrutik Nawade",
      "userId": "03506609053451396862"
     },
     "user_tz": -330
    },
    "id": "0E9XaZuG96l7",
    "outputId": "5577e2d0-3969-45e4-ed58-09e377052754"
   },
   "outputs": [
    {
     "name": "stdout",
     "output_type": "stream",
     "text": [
      "Match at index 34 41\n",
      "Full match: April 5\n",
      "Month: April\n",
      "Day: 5\n"
     ]
    }
   ],
   "source": [
    "import re\n",
    "\n",
    "regex = r'([a-zA-Z]+) (\\d+)'\n",
    "\n",
    "mat = re.search(regex, 'this is regex function learned on April 5')\n",
    "\n",
    "if mat != None:\n",
    "\n",
    "  print('Match at index {} {}'.format(mat.start(), mat.end()))\n",
    "  print(\"Full match: {}\".format (mat.group(0))) \n",
    "  print (\"Month: {}\" .format (mat.group(1)))\n",
    "  print (\"Day: {}\".format (mat.group(2)))\n",
    "\n",
    "else:\n",
    "  print('None of the object is match.')\n"
   ]
  },
  {
   "cell_type": "markdown",
   "metadata": {
    "id": "msH6PICW96aO"
   },
   "source": [
    "####escape method"
   ]
  },
  {
   "cell_type": "code",
   "execution_count": null,
   "metadata": {
    "colab": {
     "base_uri": "https://localhost:8080/"
    },
    "executionInfo": {
     "elapsed": 621,
     "status": "ok",
     "timestamp": 1680701952518,
     "user": {
      "displayName": "Hrutik Nawade",
      "userId": "03506609053451396862"
     },
     "user_tz": -330
    },
    "id": "R3GsJ89G96Xe",
    "outputId": "1979a98c-28f7-4511-e2ef-945998336220"
   },
   "outputs": [
    {
     "name": "stdout",
     "output_type": "stream",
     "text": [
      "This\\ is\\ Awesome\\ even\\ 1\\ AM\n",
      "I\\ Asked\\ what\\ is\\ this\\ \\[a\\-9\\],\\ he\\ said\\ \\\t\\ \\^WoW\n"
     ]
    }
   ],
   "source": [
    "import re\n",
    " \n",
    "# escape() returns a string with BackSlash '\\',\n",
    "# before every Non-Alphanumeric Character\n",
    "# In 1st case only ' ', is not alphanumeric\n",
    "# In 2nd case, ' ', caret '^', '-', '[]', '\\'\n",
    "# are not alphanumeric\n",
    "print(re.escape(\"This is Awesome even 1 AM\"))\n",
    "print(re.escape(\"I Asked what is this [a-9], he said \\t ^WoW\"))"
   ]
  },
  {
   "cell_type": "code",
   "execution_count": null,
   "metadata": {
    "id": "N6367UHD96Ux"
   },
   "outputs": [],
   "source": []
  },
  {
   "cell_type": "markdown",
   "metadata": {
    "id": "3yHg91O5r9PW"
   },
   "source": [
    "#### group method"
   ]
  },
  {
   "cell_type": "code",
   "execution_count": null,
   "metadata": {
    "colab": {
     "base_uri": "https://localhost:8080/"
    },
    "executionInfo": {
     "elapsed": 714,
     "status": "ok",
     "timestamp": 1685095704150,
     "user": {
      "displayName": "Hrutik Nawade",
      "userId": "03506609053451396862"
     },
     "user_tz": -330
    },
    "id": "jTwIAA6isDa4",
    "outputId": "7b1ad31f-78a8-41af-e542-47069ed0a657"
   },
   "outputs": [
    {
     "name": "stdout",
     "output_type": "stream",
     "text": [
      "me t\n"
     ]
    }
   ],
   "source": [
    "import re\n",
    " \n",
    "s = \"Welcome to GeeksForGeeks this sentence is grouped there\"\n",
    " \n",
    "# here x is the match object\n",
    "res = re.search(r\"\\D{2} t\", s)\n",
    " \n",
    "print(res.group())"
   ]
  },
  {
   "cell_type": "code",
   "execution_count": null,
   "metadata": {
    "id": "k-pZOhkXsrII"
   },
   "outputs": [],
   "source": []
  },
  {
   "cell_type": "markdown",
   "metadata": {
    "id": "H7L3MAlAn9eO"
   },
   "source": [
    "### extracting groups"
   ]
  },
  {
   "cell_type": "code",
   "execution_count": null,
   "metadata": {
    "id": "-5vp-OZC16ld"
   },
   "outputs": [],
   "source": [
    "email3 = re.compile(r'([\\w.]+)@(\\w+)\\.([a-z]{3})')"
   ]
  },
  {
   "cell_type": "code",
   "execution_count": null,
   "metadata": {
    "colab": {
     "base_uri": "https://localhost:8080/"
    },
    "executionInfo": {
     "elapsed": 4,
     "status": "ok",
     "timestamp": 1685097568450,
     "user": {
      "displayName": "Hrutik Nawade",
      "userId": "03506609053451396862"
     },
     "user_tz": -330
    },
    "id": "ihg2ctd816iL",
    "outputId": "ff7f3b49-7a81-4e3c-9c59-5e6f07027d96"
   },
   "outputs": [
    {
     "data": {
      "text/plain": [
       "[('aiadventures.pune', 'gmail', 'com'),\n",
       " ('ankurs.aiadventures', 'gmail', 'com')]"
      ]
     },
     "execution_count": 26,
     "metadata": {},
     "output_type": "execute_result"
    }
   ],
   "source": [
    "text = \"To contact us, you can mail us on aiadventures.pune@gmail.com or contact Ankur on ankurs.aiadventures@gmail.com\"\n",
    "email3.findall(text)"
   ]
  },
  {
   "cell_type": "code",
   "execution_count": null,
   "metadata": {
    "id": "P3e_vpAUoHZE"
   },
   "outputs": [],
   "source": [
    "email = re.compile(r'(?P<name>[\\w.]+)@(?P<domain>\\w+)\\.(?P<suffix>[a-z]{3})')\n",
    "email.match(text)"
   ]
  },
  {
   "cell_type": "code",
   "execution_count": null,
   "metadata": {
    "id": "T00eecHnoHHt"
   },
   "outputs": [],
   "source": []
  },
  {
   "cell_type": "markdown",
   "metadata": {
    "id": "mJyPHASZ2Hib"
   },
   "source": [
    "# Exercise"
   ]
  },
  {
   "cell_type": "markdown",
   "metadata": {
    "id": "AIZvr4OsgoPN"
   },
   "source": [
    "## Theory question"
   ]
  },
  {
   "cell_type": "code",
   "execution_count": null,
   "metadata": {
    "colab": {
     "base_uri": "https://localhost:8080/"
    },
    "executionInfo": {
     "elapsed": 12,
     "status": "ok",
     "timestamp": 1685095476108,
     "user": {
      "displayName": "Hrutik Nawade",
      "userId": "03506609053451396862"
     },
     "user_tz": -330
    },
    "id": "tKCzRHO816fa",
    "outputId": "d7d77a0b-e4bd-4b02-ef7c-5f48a07902ca"
   },
   "outputs": [
    {
     "data": {
      "text/plain": [
       "('this str*** used for replac*** question us*** regex', 3)"
      ]
     },
     "execution_count": 5,
     "metadata": {},
     "output_type": "execute_result"
    }
   ],
   "source": [
    "# 2\n",
    "\n",
    "import re\n",
    "\n",
    "s = 'this string used for replacing question using regex'\n",
    "re.subn('ing', '***', s)\n",
    "\n"
   ]
  },
  {
   "cell_type": "code",
   "execution_count": null,
   "metadata": {
    "colab": {
     "base_uri": "https://localhost:8080/"
    },
    "executionInfo": {
     "elapsed": 454,
     "status": "ok",
     "timestamp": 1685098575782,
     "user": {
      "displayName": "Hrutik Nawade",
      "userId": "03506609053451396862"
     },
     "user_tz": -330
    },
    "id": "fA_CPRow16cy",
    "outputId": "239b4e3a-f193-40f2-fe55-ff95e7082dac"
   },
   "outputs": [
    {
     "name": "stdout",
     "output_type": "stream",
     "text": [
      "['26/12/1995', '28-10-2021']\n"
     ]
    }
   ],
   "source": [
    "# 7\n",
    "\n",
    "import re\n",
    "\n",
    "regex = re.compile(r'[\\d/-]{3,}')\n",
    "print(regex.findall('If Ram was born on 26/12/1995 then he will be 25 years old, on 28-10-2021.'))"
   ]
  },
  {
   "cell_type": "code",
   "execution_count": null,
   "metadata": {
    "id": "IaWHgRTz16aQ"
   },
   "outputs": [],
   "source": []
  },
  {
   "cell_type": "markdown",
   "metadata": {
    "id": "OJ71wv9XwH0I"
   },
   "source": [
    "## coding questions"
   ]
  },
  {
   "cell_type": "code",
   "execution_count": null,
   "metadata": {
    "colab": {
     "base_uri": "https://localhost:8080/"
    },
    "executionInfo": {
     "elapsed": 806,
     "status": "ok",
     "timestamp": 1685099729357,
     "user": {
      "displayName": "Hrutik Nawade",
      "userId": "03506609053451396862"
     },
     "user_tz": -330
    },
    "id": "nBq5-VFI16YP",
    "outputId": "42d122a3-5ba3-49f9-8e93-d2a06f3a0384"
   },
   "outputs": [
    {
     "data": {
      "text/plain": [
       "{'Practice': 8,\n",
       " 'Problems': 8,\n",
       " 'to': 2,\n",
       " 'Drill': 5,\n",
       " 'List': 4,\n",
       " 'Comprehension': 13,\n",
       " 'in': 2,\n",
       " 'Your': 4,\n",
       " 'Head.': 5}"
      ]
     },
     "execution_count": 45,
     "metadata": {},
     "output_type": "execute_result"
    }
   ],
   "source": [
    "# 2\n",
    "\n",
    "def len_words(string):\n",
    "    ### your code here\n",
    "    return {i:len(i) for i in re.split(' ', string)}\n",
    "\n",
    "string1 = \"Practice Problems to Drill List Comprehension in Your Head.\"\n",
    "len_words(string1)"
   ]
  },
  {
   "cell_type": "code",
   "execution_count": null,
   "metadata": {
    "colab": {
     "base_uri": "https://localhost:8080/",
     "height": 53
    },
    "executionInfo": {
     "elapsed": 10633,
     "status": "ok",
     "timestamp": 1685101540968,
     "user": {
      "displayName": "Hrutik Nawade",
      "userId": "03506609053451396862"
     },
     "user_tz": -330
    },
    "id": "7OsPR5j-2Xdh",
    "outputId": "d424bf8e-70b7-4ade-ec1e-2a68100eadf2"
   },
   "outputs": [
    {
     "name": "stdout",
     "output_type": "stream",
     "text": [
      "Enter your full name : hrutik djfb sdf\n"
     ]
    },
    {
     "data": {
      "application/vnd.google.colaboratory.intrinsic+json": {
       "type": "string"
      },
      "text/plain": [
       "'H. D. sdf'"
      ]
     },
     "execution_count": 3,
     "metadata": {},
     "output_type": "execute_result"
    }
   ],
   "source": [
    "# 4\n",
    "\n",
    "import re\n",
    "\n",
    "def create_abbreviations(fullname):\n",
    "    ### your code \n",
    "    regex = re.compile(r'\\s')\n",
    "    temp = regex.split(fullname)\n",
    "    new_s = ''\n",
    "    for i in range(len(temp)):\n",
    "      if i == len(temp)-1:\n",
    "        new_s += temp[i].capitalize()\n",
    "      else:\n",
    "        new_s += temp[i][0].upper()+'. '\n",
    "    return new_s\n",
    "\n",
    "name = input('Enter your full name : ')\n",
    "create_abbreviations(name)\n"
   ]
  },
  {
   "cell_type": "code",
   "execution_count": null,
   "metadata": {
    "colab": {
     "base_uri": "https://localhost:8080/"
    },
    "executionInfo": {
     "elapsed": 947,
     "status": "ok",
     "timestamp": 1685103445854,
     "user": {
      "displayName": "Hrutik Nawade",
      "userId": "03506609053451396862"
     },
     "user_tz": -330
    },
    "id": "R-MrT1Dl2XaJ",
    "outputId": "7a7f28af-294b-4269-c34d-bef006a2d7e2"
   },
   "outputs": [
    {
     "data": {
      "text/plain": [
       "{'4444ABCD': 4,\n",
       " '4444EFGH': 4,\n",
       " 'AWQ333': 3,\n",
       " 'ET22': 2,\n",
       " '4444INDV': 4,\n",
       " '4444OPLZ': 4,\n",
       " '55555ABMNP': 5}"
      ]
     },
     "execution_count": 11,
     "metadata": {},
     "output_type": "execute_result"
    }
   ],
   "source": [
    "from re import I\n",
    "from re import I\n",
    "# 5 \n",
    "\n",
    "def pattern_finding(string):\n",
    "    ### your code here\n",
    "    regex = re.compile(r'[AEIOU][^AEIOU]+')\n",
    "    res = regex.findall(string)\n",
    "    d = {}\n",
    "    # print(res)\n",
    "    for i in res:\n",
    "      add = len(i)\n",
    "      if add<=3:\n",
    "        new_s =  i + str(add)*add\n",
    "      else:\n",
    "        new_s = str(add)*add + i\n",
    "      d[new_s] = add\n",
    "    return d\n",
    "\n",
    "\n",
    "\n",
    "string1 = 'ABCDEFGHAWQETEAINDVOPLZABMNPUI'\n",
    "pattern_finding(string1)"
   ]
  },
  {
   "cell_type": "code",
   "execution_count": 20,
   "metadata": {
    "colab": {
     "base_uri": "https://localhost:8080/"
    },
    "executionInfo": {
     "elapsed": 421,
     "status": "ok",
     "timestamp": 1685189095012,
     "user": {
      "displayName": "Hrutik Nawade",
      "userId": "03506609053451396862"
     },
     "user_tz": -330
    },
    "id": "m3dlanJT2XXq",
    "outputId": "1f1b8721-4474-4822-c044-9d583b2ef55f"
   },
   "outputs": [
    {
     "name": "stdout",
     "output_type": "stream",
     "text": [
      "re.compile('\\\\s+')\n",
      "             LEARNING DATA SCIENCE IS TOO MUCH FUN! AlwAys IN A PROCESS OF upgrAdAtion.             \n"
     ]
    }
   ],
   "source": [
    "# 6\n",
    "\n",
    "import re \n",
    "\n",
    "def string_modification(string):\n",
    "\n",
    "  r1 = re.compile(r'\\s+')\n",
    "  split_string = r1.split(string)\n",
    "  if split_string[0][0].islower() or string.endswith('!'):\n",
    "    for word in split_string:\n",
    "      if word.islower():\n",
    "        r2 = re.compile(word)\n",
    "        string = r2.sub(word.upper(), string)\n",
    "      if word.isupper():\n",
    "        r2 = re.compile(word)\n",
    "        string = r2.sub(word.lower(), string)\n",
    "  print(string.center(100))\n",
    "\n",
    "string1 = \"learning data science is too much fun! Always in a process of upgradation.\"\n",
    "string_modification(string1)\n",
    "\n"
   ]
  },
  {
   "cell_type": "code",
   "execution_count": 21,
   "metadata": {
    "colab": {
     "base_uri": "https://localhost:8080/"
    },
    "executionInfo": {
     "elapsed": 428,
     "status": "ok",
     "timestamp": 1685189105030,
     "user": {
      "displayName": "Hrutik Nawade",
      "userId": "03506609053451396862"
     },
     "user_tz": -330
    },
    "id": "D6zZuYikB_Tr",
    "outputId": "d2437cc0-382b-48d2-bbe7-115647607fe0"
   },
   "outputs": [
    {
     "name": "stdout",
     "output_type": "stream",
     "text": [
      "re.compile('\\\\s+')\n",
      "  Artificial Intelligence, BlockChain, Cybersecurity AND Networking ARE GOING TO MOULD THE FUTURE!  \n"
     ]
    }
   ],
   "source": [
    "string2 = \"Artificial Intelligence, BlockChain, Cybersecurity and Networking are going to mould the future!\"\n",
    "string_modification(string2)"
   ]
  },
  {
   "cell_type": "code",
   "execution_count": null,
   "metadata": {
    "id": "Epw0k-nAFJfs"
   },
   "outputs": [],
   "source": []
  },
  {
   "cell_type": "code",
   "execution_count": 14,
   "metadata": {
    "colab": {
     "base_uri": "https://localhost:8080/"
    },
    "executionInfo": {
     "elapsed": 479,
     "status": "ok",
     "timestamp": 1685187125997,
     "user": {
      "displayName": "Hrutik Nawade",
      "userId": "03506609053451396862"
     },
     "user_tz": -330
    },
    "id": "VfrCE5hKCjOP",
    "outputId": "d8910592-0298-46eb-8c7c-510f73fc826c"
   },
   "outputs": [
    {
     "name": "stdout",
     "output_type": "stream",
     "text": [
      "   Date     News Article  Ext  Category                           Headline                         \n",
      "2021/08/31 washingtonpost com TECHNOLOGY                    tips-phone-disasters                   \n",
      "2019/12/30    nytimes     com TELEVISION                  indian-tv-amazon-netflix                 \n",
      "2019/06/15    thestar     net TERRORISM       maoist-rebels-kill-5-policemen-in-eastern-india      \n",
      "2022/01/10    weforum     org   HEALTH            covid19-top-stories-omicron-coronavirus          \n",
      "2022/04/22    livemint     in   SPORTS   neeraj-chopra-wins-gold-in-javelin-throw-at-tokyo-olympics\n"
     ]
    }
   ],
   "source": [
    "# 8\n",
    "import re\n",
    "def extract_info(links):\n",
    "\n",
    "  date_l = []\n",
    "  news_article_l = []\n",
    "  ext_l = []\n",
    "  category_l = []\n",
    "  headline_l = []\n",
    "\n",
    "\n",
    "  for i in links:\n",
    "    date = re.findall(r'\\d{4}/\\d{2}/\\d{2}', i)[0]\n",
    "    date_l.append(date)\n",
    "    news_article= re.findall(r'www.(\\w+).(\\w+)', i)[0][0]\n",
    "    news_article_l.append(news_article)\n",
    "    ext = re.findall(r'www.(\\w+).(\\w+)', i)[0][1]\n",
    "    ext_l.append(ext)\n",
    "    category = re.findall(r'[A-Z]+', i)[0]\n",
    "    category_l.append(category)\n",
    "    headline = re.findall(r'(\\w+(-\\w+)+)+', i)[0][0]\n",
    "    headline_l.append(headline)\n",
    "\n",
    "  max_date = max(len(i) for i in date_l)\n",
    "  max_news_article = max(len(i) for i in news_article_l)\n",
    "  max_ext = max(len(i) for i in ext_l)\n",
    "  max_category = max(len(i) for i in category_l)\n",
    "  max_headline = max(len(i) for i in headline_l)\n",
    "\n",
    "  print('Date'.center(max_date), 'News Article'.center(max_news_article), 'Ext'.center(max_ext), 'Category'.center(max_category), 'Headline'.center(max_headline))\n",
    "  for i in range(len(links)):\n",
    "    print(date_l[i].center(max_date), news_article_l[i].center(max_news_article), ext_l[i].center(max_ext), category_l[i].center(max_category), headline_l[i].center(max_headline))\n",
    "\n",
    "\n",
    "links = ['https://www.washingtonpost.com/TECHNOLOGY/2021/08/31/tips-phone-disasters/',\n",
    "'https://www.nytimes.com/2019/12/30/TELEVISION/indian-tv-amazon-netflix/',\n",
    "'https://www.thestar.net/TERRORISM/2019/06/15/maoist-rebels-kill-5-policemen-in-eastern-india/',\n",
    "'https://www.weforum.org/HEALTH/2022/01/10/covid19-top-stories-omicron-coronavirus/',\n",
    "'https://www.livemint.in/2022/04/22/SPORTS/neeraj-chopra-wins-gold-in-javelin-throw-at-tokyo-olympics/']\n",
    "\n",
    "extract_info(links)"
   ]
  },
  {
   "cell_type": "code",
   "execution_count": null,
   "metadata": {
    "id": "Sv9t1vSg5xRH"
   },
   "outputs": [],
   "source": []
  }
 ],
 "metadata": {
  "colab": {
   "authorship_tag": "ABX9TyOEXoxGA6DSoXKWwi3H/ta+",
   "provenance": []
  },
  "kernelspec": {
   "display_name": "Python 3 (ipykernel)",
   "language": "python",
   "name": "python3"
  },
  "language_info": {
   "codemirror_mode": {
    "name": "ipython",
    "version": 3
   },
   "file_extension": ".py",
   "mimetype": "text/x-python",
   "name": "python",
   "nbconvert_exporter": "python",
   "pygments_lexer": "ipython3",
   "version": "3.11.7"
  }
 },
 "nbformat": 4,
 "nbformat_minor": 4
}
