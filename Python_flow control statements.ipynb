{
 "cells": [
  {
   "cell_type": "markdown",
   "id": "0eb5b9d2-40b1-4e8f-89f2-c4d484c67bc4",
   "metadata": {},
   "source": [
    "There are flow control statements in python that control the flow of program execution<br>\n",
    "There are three types of flow control statements\n",
    "1. Conditional statements\n",
    "2. Iterative statements\n",
    "   - Transfer control statements"
   ]
  },
  {
   "cell_type": "markdown",
   "id": "bee20ac4-8c44-418f-af8d-b97a2ea21c9b",
   "metadata": {},
   "source": [
    "# Conditional Statements\n",
    "This controls the flow of program based on some conditions.<br>\n",
    "conditional statements includes:\n",
    "1. if\n",
    "2. if...else\n",
    "3. if...elif...else\n",
    "4. if...elif"
   ]
  },
  {
   "cell_type": "markdown",
   "id": "857d25de-0943-48d7-a7a5-cc209e0fdb1a",
   "metadata": {},
   "source": [
    "## if\n",
    "if the condition in if is true then the inside code is executed"
   ]
  },
  {
   "cell_type": "code",
   "execution_count": null,
   "id": "9329c78e-8a54-4633-9db4-362bbd4413b0",
   "metadata": {},
   "outputs": [],
   "source": [
    "# if we enter wrong input then the code inside if is not executed\n",
    "\n",
    "name = input(\"Enter Name:\")\n",
    "if name == \"Hrutik\":\n",
    "    print(\"Hello Hrutik\")\n",
    "print(\"How are You!!!\")"
   ]
  },
  {
   "cell_type": "markdown",
   "id": "4778f7a8-fbc7-489e-b82f-56b832f8839e",
   "metadata": {},
   "source": [
    "## if-else\n",
    "if the condition in if is true then the inside code is executed and if the condition is false then the else statement will executed<br>\n",
    "from both the statements either the if will execute or the else"
   ]
  },
  {
   "cell_type": "code",
   "execution_count": 3,
   "id": "45f1f004-9031-4c89-93d3-c10b2582f86d",
   "metadata": {},
   "outputs": [
    {
     "name": "stdin",
     "output_type": "stream",
     "text": [
      "Enter Name: hds\n"
     ]
    },
    {
     "name": "stdout",
     "output_type": "stream",
     "text": [
      "Hello Guest\n",
      "How are You\n"
     ]
    }
   ],
   "source": [
    "name = input(\"Enter Name:\")\n",
    "if name == \"Hrutik\":\n",
    "    print(\"Hello Hrutik\")\n",
    "else:\n",
    "    print(\"Hello Guest\")\n",
    "print(\"How are You!!!\")"
   ]
  },
  {
   "cell_type": "markdown",
   "id": "92078129-a870-43f0-8891-b4cce50c57bd",
   "metadata": {},
   "source": [
    "## if-elif-else\n",
    "this is same as if-else instead elif gives us option to add multiple conditions in the program.<br>\n",
    "in that case also any one of the statement will execute.<br>\n",
    "we can have number of elif statements"
   ]
  },
  {
   "cell_type": "code",
   "execution_count": null,
   "id": "2a40c7ab-f44e-428f-8401-09c7034dde25",
   "metadata": {},
   "outputs": [],
   "source": [
    "# min of 3 number\n",
    "\n",
    "a = int(input('first num'))\n",
    "b = int(input('second num'))\n",
    "c = int(input('third num'))\n",
    "\n",
    "if a<b and a<c:\n",
    "  print('smallest is',a)\n",
    "elif b<c:\n",
    "  print('smallest is',b)\n",
    "else:\n",
    "  print('smallest is',c)"
   ]
  },
  {
   "cell_type": "markdown",
   "id": "110c936f-b032-44c0-a0e4-e466c68d9589",
   "metadata": {},
   "source": [
    "## if-elif\n",
    "the else statement we are using is optional either using it or not using it won't affect our code"
   ]
  },
  {
   "cell_type": "code",
   "execution_count": 4,
   "id": "3d9f2d65-a93d-4572-98ac-3158d2c5bbec",
   "metadata": {},
   "outputs": [
    {
     "name": "stdout",
     "output_type": "stream",
     "text": [
      "smallest is 10\n"
     ]
    }
   ],
   "source": [
    "a = 10\n",
    "b = 40\n",
    "c = 30\n",
    "\n",
    "if a<b and a<c:\n",
    "    print(\"smallest is\", a)\n",
    "elif b<c:\n",
    "    print(\"smallest is\", b)\n",
    "\n",
    "# this code also works this wont give error"
   ]
  },
  {
   "cell_type": "markdown",
   "id": "34e46e63-61b7-4f64-9d78-41b54673aa0d",
   "metadata": {},
   "source": [
    "## Nested if-else\n",
    "in this we can use a condition inside another condition. another variation to use if-else."
   ]
  },
  {
   "cell_type": "code",
   "execution_count": 8,
   "id": "37ef3e98-e672-4501-8e42-bffd2590d7c8",
   "metadata": {},
   "outputs": [
    {
     "name": "stdin",
     "output_type": "stream",
     "text": [
      "enter email df\n",
      "enter password asdf\n"
     ]
    },
    {
     "name": "stdout",
     "output_type": "stream",
     "text": [
      "Not correct\n"
     ]
    }
   ],
   "source": [
    "# this example of login system gives idea about how if-elif-else works while using in nested form\n",
    "\n",
    "email = input('enter email')\n",
    "password = input('enter password')\n",
    "\n",
    "# if password is correct then you login\n",
    "if email == 'hrutik@gmail.com' and password == '1234':\n",
    "    print('Welcome')\n",
    "\n",
    "# if password incorrects then it will give another chance to type password\n",
    "elif email == 'hrutik@gmail.com' and password != '1234':\n",
    "    # tell the user\n",
    "    print('Incorrect password')\n",
    "    # types password again input from user\n",
    "    password = input('enter password again')\n",
    "    # checks for correct password\n",
    "    if password == '1234':\n",
    "        print('Welcome,finally!')\n",
    "    else:\n",
    "        print('You are again WRONG..!! SORRY...!!!')\n",
    "else:\n",
    "    print('Not correct')"
   ]
  },
  {
   "cell_type": "code",
   "execution_count": null,
   "id": "e9b4c1e6-d8a1-4fed-81dd-f5d15f074a89",
   "metadata": {},
   "outputs": [],
   "source": []
  },
  {
   "cell_type": "markdown",
   "id": "c06618de-2850-4616-a55b-72f49ab9b284",
   "metadata": {},
   "source": [
    "# Iterative/Looping Statements\n",
    "These are the statements which are used to perform iterations/looping in the code<br>\n",
    "There are two kinds of looping statements available in python:\n",
    "1. While loop\n",
    "2. for loop"
   ]
  },
  {
   "cell_type": "markdown",
   "id": "c324ec78-b9a1-48d1-a585-2a3fb37734fd",
   "metadata": {},
   "source": [
    "## While loop\n",
    "If we want to execute a group of statements iteratively until some condition fails,then we should go for while loop."
   ]
  },
  {
   "cell_type": "code",
   "execution_count": 12,
   "id": "abf2b4e1-38a8-48aa-ba05-ebdef08fba15",
   "metadata": {},
   "outputs": [
    {
     "name": "stdin",
     "output_type": "stream",
     "text": [
      "enter the number 5\n"
     ]
    },
    {
     "name": "stdout",
     "output_type": "stream",
     "text": [
      "5 * 1 = 5\n",
      "5 * 2 = 10\n",
      "5 * 3 = 15\n",
      "5 * 4 = 20\n",
      "5 * 5 = 25\n",
      "5 * 6 = 30\n",
      "5 * 7 = 35\n",
      "5 * 8 = 40\n",
      "5 * 9 = 45\n",
      "5 * 10 = 50\n"
     ]
    }
   ],
   "source": [
    "# program to create a table of any random number.\n",
    "\n",
    "number = int(input('enter the number'))\n",
    "\n",
    "i = 1\n",
    "\n",
    "while i<11:\n",
    "  print(number,'*',i,'=',number * i)\n",
    "  i += 1"
   ]
  },
  {
   "cell_type": "code",
   "execution_count": 13,
   "id": "6e1788b9-b9bc-4ecc-a2ec-37b24db2e30a",
   "metadata": {},
   "outputs": [
    {
     "name": "stdin",
     "output_type": "stream",
     "text": [
      "guess a number: 50\n"
     ]
    },
    {
     "name": "stdout",
     "output_type": "stream",
     "text": [
      "Wrong..! guess higher\n"
     ]
    },
    {
     "name": "stdin",
     "output_type": "stream",
     "text": [
      "guess a number: 75\n"
     ]
    },
    {
     "name": "stdout",
     "output_type": "stream",
     "text": [
      "Wrong..! guess lower\n"
     ]
    },
    {
     "name": "stdin",
     "output_type": "stream",
     "text": [
      "guess a number: 62\n"
     ]
    },
    {
     "name": "stdout",
     "output_type": "stream",
     "text": [
      "Wrong..! guess lower\n"
     ]
    },
    {
     "name": "stdin",
     "output_type": "stream",
     "text": [
      "guess a number: 56\n"
     ]
    },
    {
     "name": "stdout",
     "output_type": "stream",
     "text": [
      "Wrong..! guess higher\n"
     ]
    },
    {
     "name": "stdin",
     "output_type": "stream",
     "text": [
      "guess a number: 59\n"
     ]
    },
    {
     "name": "stdout",
     "output_type": "stream",
     "text": [
      "Wrong..! guess lower\n"
     ]
    },
    {
     "name": "stdin",
     "output_type": "stream",
     "text": [
      "guess a number: 58\n"
     ]
    },
    {
     "name": "stdout",
     "output_type": "stream",
     "text": [
      "correct guess\n",
      "attempts 6\n"
     ]
    }
   ],
   "source": [
    "# Guessing game\n",
    "\n",
    "# generate a random integer between 1 and 100\n",
    "import random\n",
    "jackpot = random.randint(1,100)\n",
    "\n",
    "guess = int(input(\"guess a number:\"))\n",
    "counter = 1\n",
    "while guess != jackpot:\n",
    "  if guess < jackpot:\n",
    "    print('Wrong..! guess higher')\n",
    "  else:\n",
    "    print('Wrong..! guess lower')\n",
    "\n",
    "  guess = int(input('guess a number:'))\n",
    "  counter += 1\n",
    "\n",
    "else:\n",
    "  print('correct guess')\n",
    "  print('attempts',counter)"
   ]
  },
  {
   "cell_type": "markdown",
   "id": "4c1ec9ac-0caa-43c8-8ddd-fb6596baedf2",
   "metadata": {},
   "source": [
    "### While loop with else:\n",
    "The else part of the loop won't execute if the loop is breaked using break "
   ]
  },
  {
   "cell_type": "code",
   "execution_count": null,
   "id": "f915533e-047f-4e60-9782-592c320bb217",
   "metadata": {},
   "outputs": [],
   "source": [
    "# while loop with else\n",
    "\n",
    "x = 1\n",
    "\n",
    "while x < 3:\n",
    "  print(x)\n",
    "  x += 1\n",
    "\n",
    "else:\n",
    "  print('limit crossed')"
   ]
  },
  {
   "cell_type": "code",
   "execution_count": 3,
   "id": "22305725-bb71-4893-b161-ad51da9750e4",
   "metadata": {},
   "outputs": [
    {
     "name": "stdout",
     "output_type": "stream",
     "text": [
      "*\n",
      "**\n",
      "***\n"
     ]
    }
   ],
   "source": [
    "# we can draw patterns using loops\n",
    "\n",
    "i = 1 \n",
    "while i < 4:\n",
    "    print('*' * i)\n",
    "    i += 1"
   ]
  },
  {
   "cell_type": "markdown",
   "id": "70beebe9-363e-48c5-a9fc-077a2355abae",
   "metadata": {},
   "source": [
    "## For loop\n",
    "If we want to execute some action for every element present in some sequence(it may be string or collection)then we should go for for loop."
   ]
  },
  {
   "cell_type": "code",
   "execution_count": 2,
   "id": "e5ac407d-219c-4d33-9d9d-5dd07d5a0597",
   "metadata": {},
   "outputs": [
    {
     "name": "stdout",
     "output_type": "stream",
     "text": [
      "1\n",
      "2\n",
      "3\n",
      "4\n",
      "5\n"
     ]
    }
   ],
   "source": [
    "# For loop demo\n",
    "\n",
    "for i in {1,2,3,4,5}:\n",
    "  print(i)"
   ]
  },
  {
   "cell_type": "code",
   "execution_count": 1,
   "id": "3d7021b2-09b9-4b9a-aeeb-1a5121e1e356",
   "metadata": {},
   "outputs": [
    {
     "name": "stdout",
     "output_type": "stream",
     "text": [
      "H\n",
      "r\n",
      "u\n",
      "t\n",
      "i\n",
      "k\n"
     ]
    }
   ],
   "source": [
    "# for loop with string\n",
    "\n",
    "for i in \"Hrutik\":\n",
    "    print(i)"
   ]
  },
  {
   "cell_type": "code",
   "execution_count": 14,
   "id": "96e11fa8-810f-41ad-aca5-9190b722cbdd",
   "metadata": {},
   "outputs": [
    {
     "name": "stdout",
     "output_type": "stream",
     "text": [
      "\n",
      "*\n",
      "**\n",
      "***\n",
      "****\n",
      "*****\n",
      "******\n",
      "*******\n",
      "********\n",
      "*********\n"
     ]
    }
   ],
   "source": [
    "for i in range(10): \n",
    "    print('*' * i)"
   ]
  },
  {
   "cell_type": "markdown",
   "id": "c3188af1-5475-4712-8efd-344434a6e5f0",
   "metadata": {},
   "source": [
    "### for loop with else"
   ]
  },
  {
   "cell_type": "code",
   "execution_count": 5,
   "id": "75075b4c-80b2-4ade-857b-52825b694d68",
   "metadata": {},
   "outputs": [
    {
     "name": "stdout",
     "output_type": "stream",
     "text": [
      "0\n",
      "2\n",
      "4\n",
      "6\n",
      "8\n",
      "10\n",
      "12\n",
      "14\n",
      "for loop is completed.\n"
     ]
    }
   ],
   "source": [
    "# for loop using range\n",
    "\n",
    "for i in range(0, 15, 2): # the three parameters defines start, stop, step_size \n",
    "    print(i)\n",
    "else:\n",
    "    print(\"for loop is completed.\")"
   ]
  },
  {
   "cell_type": "markdown",
   "id": "3e053a30-218e-4755-8dfd-ca50c33e3199",
   "metadata": {},
   "source": [
    "## Transfer control statements\n",
    "this statements controls the flow of loop.<br>\n",
    "There are some keywords that used to transfer the control of loops that include\n",
    "- break\n",
    "- continue\n",
    "- pass\n",
    "  "
   ]
  },
  {
   "cell_type": "markdown",
   "id": "dc02bc58-da3e-46af-b4fb-a5923f75dad2",
   "metadata": {},
   "source": [
    "### break\n",
    "break statement breaks the loop and exit the loop.\n",
    "we can use breaks statement when we wants to terminate the loop at a specific condition."
   ]
  },
  {
   "cell_type": "markdown",
   "id": "47c08e64-2e68-4fb2-acd2-20e7dc796d37",
   "metadata": {},
   "source": [
    "#### using While loop"
   ]
  },
  {
   "cell_type": "code",
   "execution_count": 10,
   "id": "bc02f3e8-43bd-4fba-b75b-ec8b2147aae9",
   "metadata": {},
   "outputs": [
    {
     "name": "stdout",
     "output_type": "stream",
     "text": [
      "1\n",
      "2\n",
      "3\n",
      "4\n"
     ]
    }
   ],
   "source": [
    "# break using for loop\n",
    "x= 1\n",
    "while x < 10:\n",
    "    if x == 5: # we want to take iterations upto 5\n",
    "        break\n",
    "    print(x)\n",
    "    x += 1"
   ]
  },
  {
   "cell_type": "code",
   "execution_count": 11,
   "id": "ad959c55-fdef-4d5e-a5e2-0d2117d0d546",
   "metadata": {},
   "outputs": [
    {
     "name": "stdout",
     "output_type": "stream",
     "text": [
      "1\n",
      "2\n",
      "3\n",
      "4\n"
     ]
    }
   ],
   "source": [
    "# break using for loop\n",
    "x= 1\n",
    "while x < 10:\n",
    "    if x == 5: # we want to take iterations upto 5\n",
    "        break\n",
    "    print(x)\n",
    "    x += 1\n",
    "\n",
    "# if the loop breaks else part will not executed\n",
    "else:\n",
    "    print('loop is completed')"
   ]
  },
  {
   "cell_type": "markdown",
   "id": "0628ec04-d9c8-457b-9438-f48aef80d769",
   "metadata": {},
   "source": [
    "#### using For loop"
   ]
  },
  {
   "cell_type": "code",
   "execution_count": 15,
   "id": "012f809d-c37e-437b-874a-c23429edc11c",
   "metadata": {},
   "outputs": [
    {
     "name": "stdout",
     "output_type": "stream",
     "text": [
      "1\n",
      "2\n",
      "3\n",
      "4\n"
     ]
    }
   ],
   "source": [
    "for i in range(1,10):\n",
    "  if i == 5:\n",
    "    break\n",
    "  print(i)\n",
    "else:\n",
    "    print('loop is completed successfully.')"
   ]
  },
  {
   "cell_type": "markdown",
   "id": "3df7eaf9-c2e2-4b4c-9e4e-6abd7202a551",
   "metadata": {},
   "source": [
    "### continue\n",
    "this statement used to skip the current iteration and move to the next iteration of the loop.<br>\n",
    "we use to skip any specific iteration in the loop"
   ]
  },
  {
   "cell_type": "markdown",
   "id": "447df193-be65-458d-bd32-52f7484f8df0",
   "metadata": {},
   "source": [
    "#### using for loop"
   ]
  },
  {
   "cell_type": "code",
   "execution_count": 18,
   "id": "eab2275a-ecc4-48b6-9945-d666f2f13874",
   "metadata": {},
   "outputs": [
    {
     "name": "stdout",
     "output_type": "stream",
     "text": [
      "1\n",
      "3\n",
      "5\n",
      "7\n",
      "9\n"
     ]
    }
   ],
   "source": [
    "for i in range(1,10):\n",
    "  if i%2 == 0:\n",
    "    continue\n",
    "  print(i)\n",
    "\n",
    "# note here even numbers are skipped"
   ]
  },
  {
   "cell_type": "markdown",
   "id": "dcda5e01-12f7-4df7-9ef3-83acb56efc3c",
   "metadata": {},
   "source": [
    "#### using while loop"
   ]
  },
  {
   "cell_type": "code",
   "execution_count": null,
   "id": "aef63d59-78f3-46a3-84b2-605e50276b62",
   "metadata": {},
   "outputs": [],
   "source": []
  },
  {
   "cell_type": "markdown",
   "id": "d8810d6a-2d93-44f7-b413-53e3bf8f470e",
   "metadata": {},
   "source": [
    "### Pass\n",
    "pass keyword is use to define an empty statement.\n",
    "in our programming syntactically we can't define an empty block, so to define it we use pass keyword.\n"
   ]
  },
  {
   "cell_type": "markdown",
   "id": "bfd7f76a-77ce-48c3-ba28-6b7f59134368",
   "metadata": {},
   "source": [
    "#### use with conditionals"
   ]
  },
  {
   "cell_type": "code",
   "execution_count": 22,
   "id": "1d942a48-6c07-44d1-bed1-a36b74138e7d",
   "metadata": {},
   "outputs": [
    {
     "ename": "SyntaxError",
     "evalue": "incomplete input (2961736738.py, line 1)",
     "output_type": "error",
     "traceback": [
      "\u001b[1;36m  Cell \u001b[1;32mIn[22], line 1\u001b[1;36m\u001b[0m\n\u001b[1;33m    if True:\u001b[0m\n\u001b[1;37m            ^\u001b[0m\n\u001b[1;31mSyntaxError\u001b[0m\u001b[1;31m:\u001b[0m incomplete input\n"
     ]
    }
   ],
   "source": [
    "if True:\n",
    "    "
   ]
  },
  {
   "cell_type": "code",
   "execution_count": 21,
   "id": "300f7177-a12a-40f3-b71d-d7f7d2ffb338",
   "metadata": {},
   "outputs": [],
   "source": [
    "if True:\n",
    "    pass\n",
    "# here it will not show error, since pass use case"
   ]
  },
  {
   "cell_type": "markdown",
   "id": "9b0de0c9-0d99-4e15-ae2e-32786959cec2",
   "metadata": {},
   "source": [
    "#### use with loops"
   ]
  },
  {
   "cell_type": "code",
   "execution_count": 24,
   "id": "18627797-b7f4-4be7-8339-a4bc55c01e9c",
   "metadata": {},
   "outputs": [
    {
     "ename": "SyntaxError",
     "evalue": "incomplete input (1468085492.py, line 1)",
     "output_type": "error",
     "traceback": [
      "\u001b[1;36m  Cell \u001b[1;32mIn[24], line 1\u001b[1;36m\u001b[0m\n\u001b[1;33m    for i in range(1,10):\u001b[0m\n\u001b[1;37m                         ^\u001b[0m\n\u001b[1;31mSyntaxError\u001b[0m\u001b[1;31m:\u001b[0m incomplete input\n"
     ]
    }
   ],
   "source": [
    "for i in range(1,10):\n"
   ]
  },
  {
   "cell_type": "code",
   "execution_count": 23,
   "id": "8ed51811-df05-41e5-93d3-3a63dce598d2",
   "metadata": {},
   "outputs": [],
   "source": [
    "for i in range(1,10):\n",
    "  pass"
   ]
  },
  {
   "cell_type": "markdown",
   "id": "5852be9f-41c1-46cc-83b5-f0a6625b3aeb",
   "metadata": {},
   "source": [
    "## Nested loops\n",
    "using loops inside loops is called nested loops<br>\n",
    "we use this to draw complex patterns or performs complex tasks."
   ]
  },
  {
   "cell_type": "markdown",
   "id": "69a6d385-8c43-4564-9793-cd1515c8397b",
   "metadata": {},
   "source": [
    "### for loop"
   ]
  },
  {
   "cell_type": "code",
   "execution_count": 25,
   "id": "7650bd2b-aec8-4410-9712-9fbb834c9c84",
   "metadata": {},
   "outputs": [
    {
     "name": "stdout",
     "output_type": "stream",
     "text": [
      "1 1\n",
      "1 2\n",
      "1 3\n",
      "1 4\n",
      "2 1\n",
      "2 2\n",
      "2 3\n",
      "2 4\n",
      "3 1\n",
      "3 2\n",
      "3 3\n",
      "3 4\n",
      "4 1\n",
      "4 2\n",
      "4 3\n",
      "4 4\n"
     ]
    }
   ],
   "source": [
    "for i in range(1,5):\n",
    "  for j in range(1,5):\n",
    "    print(i,j)"
   ]
  },
  {
   "cell_type": "markdown",
   "id": "75ea1682-3243-4688-bd4d-209ed029e594",
   "metadata": {},
   "source": [
    "#### Pattern 1\n",
    "\n",
    "\n",
    "*** <br>\n",
    "**** <br>\n",
    "***** <br>\n",
    "**** <br>\n",
    "***<br>\n"
   ]
  },
  {
   "cell_type": "code",
   "execution_count": 26,
   "id": "79f69c49-7a49-47f3-ab48-e10f8bd859b7",
   "metadata": {},
   "outputs": [
    {
     "name": "stdin",
     "output_type": "stream",
     "text": [
      "enter number of rows 5\n"
     ]
    },
    {
     "name": "stdout",
     "output_type": "stream",
     "text": [
      "*\n",
      "**\n",
      "***\n",
      "****\n",
      "*****\n"
     ]
    }
   ],
   "source": [
    "rows = int(input('enter number of rows'))\n",
    "\n",
    "for i in range(1,rows+1):\n",
    "  for j in range(1,i+1):\n",
    "    print('*',end='')\n",
    "  print()"
   ]
  },
  {
   "cell_type": "markdown",
   "id": "33e611ea-1b26-4e81-8d50-4ed968461356",
   "metadata": {},
   "source": [
    "#### Pattern 2\n",
    "\n",
    "1<br>\n",
    "121<br>\n",
    "12321<br>\n",
    "1234321<br>"
   ]
  },
  {
   "cell_type": "code",
   "execution_count": 27,
   "id": "9a9de065-da26-4d72-8c21-9df517cb04eb",
   "metadata": {},
   "outputs": [
    {
     "name": "stdin",
     "output_type": "stream",
     "text": [
      "enter number of rows 5\n"
     ]
    },
    {
     "name": "stdout",
     "output_type": "stream",
     "text": [
      "1\n",
      "121\n",
      "12321\n",
      "1234321\n",
      "123454321\n"
     ]
    }
   ],
   "source": [
    "# Code here\n",
    "rows = int(input('enter number of rows'))\n",
    "\n",
    "for i in range(1,rows+1):\n",
    "  for j in range(1,i+1):\n",
    "    print(j,end='')\n",
    "  for k in range(i-1,0,-1):\n",
    "    print(k,end='')\n",
    "\n",
    "  print()\n"
   ]
  },
  {
   "cell_type": "code",
   "execution_count": null,
   "id": "5c858cd7-4087-4f3a-8323-1b19dfd2165f",
   "metadata": {},
   "outputs": [],
   "source": []
  }
 ],
 "metadata": {
  "kernelspec": {
   "display_name": "Python 3 (ipykernel)",
   "language": "python",
   "name": "python3"
  },
  "language_info": {
   "codemirror_mode": {
    "name": "ipython",
    "version": 3
   },
   "file_extension": ".py",
   "mimetype": "text/x-python",
   "name": "python",
   "nbconvert_exporter": "python",
   "pygments_lexer": "ipython3",
   "version": "3.11.7"
  }
 },
 "nbformat": 4,
 "nbformat_minor": 5
}
