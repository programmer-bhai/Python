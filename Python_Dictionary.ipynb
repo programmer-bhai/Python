{
 "cells": [
  {
   "cell_type": "markdown",
   "metadata": {},
   "source": [
    "# Dictionary\n",
    "\n",
    "Dictionary in Python is a collection of keys values, used to store data values like a map, which, unlike other data types which hold only a single value as an element.\n",
    "\n",
    "If we want to represent a group of objects as key-value pairs then we should go for Dictionary.\n",
    "\n",
    "In some languages it is known as map or assosiative arrays.\n",
    "\n",
    "dict = { 'name' : 'Hrutik' , 'age' : 23 , 'gender' : 'male' }\n",
    "\n",
    "\n",
    "#### Topics to be covered\n",
    "- Properties of dictionary\n",
    "- Characteristics of dictionary\n",
    "- What are dictionary?\n",
    "- dictionary Vs Arrays\n",
    "- How dictionary are stored in memory\n",
    "- create a dictionary\n",
    "- Access items from a dictionary\n",
    "- Editing items in a dictionary\n",
    "- Operations on dictionary\n",
    "- Functions on dictionary\n",
    "\n",
    "#### Properties of dictionary\n",
    "- Duplicate keys are not allowed but values can be duplicated.\n",
    "- Hetrogeneous objects are allowed for both key and values.\n",
    "- insertion order is not preserved\n",
    "- Dictionaries are mutable\n",
    "- Dictionaries are dynamic\n",
    "- indexing and slicing concepts are not applicable\n",
    "\n",
    "#### Characterstics:\n",
    "- Mutable\n",
    "- Indexing has no meaning\n",
    "- keys can't be duplicated\n",
    "- keys can't be mutable items"
   ]
  },
  {
   "cell_type": "markdown",
   "metadata": {},
   "source": [
    "# Creating Dictionary\n",
    "we can create empty dictionary with the help of `{}` curly braces<br>\n",
    "`dict()` function also used to create dictionary"
   ]
  },
  {
   "cell_type": "code",
   "execution_count": 1,
   "metadata": {
    "id": "Va5amSrqbWla"
   },
   "outputs": [
    {
     "data": {
      "text/plain": [
       "dict"
      ]
     },
     "execution_count": 1,
     "metadata": {},
     "output_type": "execute_result"
    }
   ],
   "source": [
    "# This function is used to make empty dictionary\n",
    "# empty dictionary\n",
    "\n",
    "d = dict()\n",
    "type(d)"
   ]
  },
  {
   "cell_type": "code",
   "execution_count": 2,
   "metadata": {
    "id": "g32IBPj6dBsK"
   },
   "outputs": [
    {
     "data": {
      "text/plain": [
       "dict"
      ]
     },
     "execution_count": 2,
     "metadata": {},
     "output_type": "execute_result"
    }
   ],
   "source": [
    "# this is another way of defining dictionary\n",
    "# empty dictionary\n",
    "\n",
    "d = {}    \n",
    "type(d)"
   ]
  },
  {
   "cell_type": "code",
   "execution_count": 3,
   "metadata": {
    "id": "T7pyZA5wj28s"
   },
   "outputs": [
    {
     "name": "stdout",
     "output_type": "stream",
     "text": [
      "{'name': 'nitish', 'gender': 'male'}\n"
     ]
    }
   ],
   "source": [
    "# writing key value pairs seperated by colon inside curly braces is another way of creating dictionary\n",
    "# 1D dictionary\n",
    "\n",
    "d1 = { 'name' : 'nitish' ,'gender' : 'male' }\n",
    "print(d1)"
   ]
  },
  {
   "cell_type": "code",
   "execution_count": 4,
   "metadata": {},
   "outputs": [
    {
     "name": "stdout",
     "output_type": "stream",
     "text": [
      "{(1, 2, 3): 1, 'hello': 'world'}\n"
     ]
    }
   ],
   "source": [
    "# with mixed keys\n",
    "d2 = {(1,2,3):1, 'hello':'world'}\n",
    "print(d2)"
   ]
  },
  {
   "cell_type": "code",
   "execution_count": 5,
   "metadata": {},
   "outputs": [
    {
     "name": "stdout",
     "output_type": "stream",
     "text": [
      "{'name': 'nitish', 'college': 'bit', 'sem': 4, 'subjects': {'dsa': 50, 'maths': 67, 'english': 34}}\n"
     ]
    }
   ],
   "source": [
    "# 2D dictionary -> JSON\n",
    "\n",
    "d3 = {\n",
    "    'name':'nitish',\n",
    "     'college':'bit',\n",
    "     'sem':4,\n",
    "     'subjects':{\n",
    "         'dsa':50,\n",
    "         'maths':67,\n",
    "         'english':34\n",
    "     }\n",
    "}\n",
    "print(d3)"
   ]
  },
  {
   "cell_type": "code",
   "execution_count": 6,
   "metadata": {},
   "outputs": [
    {
     "name": "stdout",
     "output_type": "stream",
     "text": [
      "{'name': 'nitish', 'age': 32, 3: 3}\n"
     ]
    }
   ],
   "source": [
    "# using sequence and dict function\n",
    "d4 = dict([('name','nitish'),('age',32),(3,3)])\n",
    "print(d4)"
   ]
  },
  {
   "cell_type": "code",
   "execution_count": 7,
   "metadata": {},
   "outputs": [
    {
     "name": "stdout",
     "output_type": "stream",
     "text": [
      "{'name': 'Om'}\n"
     ]
    }
   ],
   "source": [
    "# duplicate keys --> if we have duplicate key then dict will take value assigned to last occurence of key\n",
    "d5 = {'name':'Hrutik','name':'Om'}\n",
    "print(d5)"
   ]
  },
  {
   "cell_type": "code",
   "execution_count": 8,
   "metadata": {},
   "outputs": [
    {
     "name": "stdout",
     "output_type": "stream",
     "text": [
      "{'name': 'nitish', 2: (1, 2, 3)}\n"
     ]
    }
   ],
   "source": [
    "# mutable items as keys\n",
    "d6 = {'name':'nitish',2 :(1,2,3)}\n",
    "print(d6)"
   ]
  },
  {
   "cell_type": "code",
   "execution_count": 9,
   "metadata": {},
   "outputs": [
    {
     "name": "stdout",
     "output_type": "stream",
     "text": [
      "{100: 'Hrutik', 200: 'Om', 300: 'Shiv'}\n"
     ]
    }
   ],
   "source": [
    "# we are creating empty dictionary and adding key:value pair to it\n",
    "# dict[key] = value  --> this adds key value pair in dictionary\n",
    "\n",
    "d7 = {}\n",
    "d7[100] = \"Hrutik\"\n",
    "d7[200] = \"Om\"\n",
    "d7[300] = \"Shiv\"\n",
    "print(d7)"
   ]
  },
  {
   "cell_type": "markdown",
   "metadata": {},
   "source": [
    "# Accessing dictionary"
   ]
  },
  {
   "cell_type": "code",
   "execution_count": 10,
   "metadata": {},
   "outputs": [
    {
     "name": "stdout",
     "output_type": "stream",
     "text": [
      "Jack\n",
      "26\n"
     ]
    }
   ],
   "source": [
    "my_dict = {'name': 'Jack', 'age': 26}\n",
    "\n",
    "print(my_dict['name'])\n",
    "print(my_dict['age'])"
   ]
  },
  {
   "cell_type": "code",
   "execution_count": 11,
   "metadata": {},
   "outputs": [
    {
     "name": "stdout",
     "output_type": "stream",
     "text": [
      "apple\n",
      "iphoneX\n"
     ]
    }
   ],
   "source": [
    "# accessing dictionary value by referring to its key\n",
    "\n",
    "myphone = {'brand': 'apple', 'color': 'gray', 'model': 'iphoneX', 'number': '7700203097'}\n",
    "\n",
    "print(myphone['brand'])\n",
    "print(myphone['model'])"
   ]
  },
  {
   "cell_type": "code",
   "execution_count": 12,
   "metadata": {
    "colab": {
     "base_uri": "https://localhost:8080/",
     "height": 36
    },
    "executionInfo": {
     "elapsed": 8,
     "status": "ok",
     "timestamp": 1681118565654,
     "user": {
      "displayName": "Hrutik Nawade",
      "userId": "03506609053451396862"
     },
     "user_tz": -330
    },
    "id": "CoAK8lMfpi8d",
    "outputId": "4e94333b-168f-4830-e496-77040d57cfd1"
   },
   "outputs": [
    {
     "data": {
      "text/plain": [
       "'My phone is of gray color'"
      ]
     },
     "execution_count": 12,
     "metadata": {},
     "output_type": "execute_result"
    }
   ],
   "source": [
    "'My phone is of '+ myphone['color'] +' color'"
   ]
  },
  {
   "cell_type": "code",
   "execution_count": 13,
   "metadata": {
    "colab": {
     "base_uri": "https://localhost:8080/",
     "height": 200
    },
    "executionInfo": {
     "elapsed": 1051,
     "status": "error",
     "timestamp": 1681121278541,
     "user": {
      "displayName": "Hrutik Nawade",
      "userId": "03506609053451396862"
     },
     "user_tz": -330
    },
    "id": "bDA2Lfzfofxt",
    "outputId": "bec3e231-db04-45bc-a3a7-39718683576a"
   },
   "outputs": [
    {
     "ename": "KeyError",
     "evalue": "'not in dictionary'",
     "output_type": "error",
     "traceback": [
      "\u001b[1;31m---------------------------------------------------------------------------\u001b[0m",
      "\u001b[1;31mKeyError\u001b[0m                                  Traceback (most recent call last)",
      "Cell \u001b[1;32mIn[13], line 3\u001b[0m\n\u001b[0;32m      1\u001b[0m \u001b[38;5;66;03m# accessing the item that is not present in dictionary gives KeyError\u001b[39;00m\n\u001b[1;32m----> 3\u001b[0m myphone[\u001b[38;5;124m'\u001b[39m\u001b[38;5;124mnot in dictionary\u001b[39m\u001b[38;5;124m'\u001b[39m]\n",
      "\u001b[1;31mKeyError\u001b[0m: 'not in dictionary'"
     ]
    }
   ],
   "source": [
    "# accessing the item that is not present in dictionary gives KeyError\n",
    "\n",
    "myphone['not in dictionary']"
   ]
  },
  {
   "cell_type": "markdown",
   "metadata": {
    "id": "lOrTcCnAddl-"
   },
   "source": [
    "# Editing dictionary"
   ]
  },
  {
   "cell_type": "code",
   "execution_count": 14,
   "metadata": {
    "id": "cjdx3QMbeMPL"
   },
   "outputs": [],
   "source": [
    "# changing the value of a key \n",
    "\n",
    "myphone['brand'] = 'samsung'"
   ]
  },
  {
   "cell_type": "code",
   "execution_count": 15,
   "metadata": {
    "colab": {
     "base_uri": "https://localhost:8080/"
    },
    "executionInfo": {
     "elapsed": 687,
     "status": "ok",
     "timestamp": 1681118607883,
     "user": {
      "displayName": "Hrutik Nawade",
      "userId": "03506609053451396862"
     },
     "user_tz": -330
    },
    "id": "HGMYMQZfeMLx",
    "outputId": "1f9f5716-945b-4143-e5db-ad756695009a"
   },
   "outputs": [
    {
     "data": {
      "text/plain": [
       "{'brand': 'samsung',\n",
       " 'color': 'gray',\n",
       " 'model': 'iphoneX',\n",
       " 'number': '7700203097'}"
      ]
     },
     "execution_count": 15,
     "metadata": {},
     "output_type": "execute_result"
    }
   ],
   "source": [
    "myphone"
   ]
  },
  {
   "cell_type": "code",
   "execution_count": 16,
   "metadata": {
    "id": "eUoWH8tDrEox"
   },
   "outputs": [
    {
     "data": {
      "text/plain": [
       "{'brand': 'samsung',\n",
       " 'color': 'gray',\n",
       " 'model': 'iphoneX',\n",
       " 'number': '7700203097',\n",
       " 'camera': '50MP'}"
      ]
     },
     "execution_count": 16,
     "metadata": {},
     "output_type": "execute_result"
    }
   ],
   "source": [
    "# if the given key is not in dictionary\n",
    "# then it adds a new key value pair\n",
    "\n",
    "myphone['camera']='50MP'\n",
    "myphone"
   ]
  },
  {
   "cell_type": "code",
   "execution_count": 17,
   "metadata": {
    "id": "pA7mzoQPrif6"
   },
   "outputs": [
    {
     "data": {
      "text/plain": [
       "{'brand': 'samsung',\n",
       " 'color': 'gray',\n",
       " 'model': 'iphoneX',\n",
       " 'number': '7700203097',\n",
       " 'camera': '50MP',\n",
       " 'items': {12345: 'Luggage Combination', 42: 'The Answer'}}"
      ]
     },
     "execution_count": 17,
     "metadata": {},
     "output_type": "execute_result"
    }
   ],
   "source": [
    "# adding nested dictionary\n",
    "\n",
    "myphone['items'] = {12345: 'Luggage Combination', 42: 'The Answer'}\n",
    "myphone"
   ]
  },
  {
   "cell_type": "code",
   "execution_count": 18,
   "metadata": {
    "colab": {
     "base_uri": "https://localhost:8080/",
     "height": 36
    },
    "executionInfo": {
     "elapsed": 11,
     "status": "ok",
     "timestamp": 1679394483450,
     "user": {
      "displayName": "Hrutik Nawade",
      "userId": "03506609053451396862"
     },
     "user_tz": -330
    },
    "id": "gdkKj21pr5sJ",
    "outputId": "660a0bef-d444-452d-ae8a-1fa084abe843"
   },
   "outputs": [
    {
     "data": {
      "text/plain": [
       "'Luggage Combination'"
      ]
     },
     "execution_count": 18,
     "metadata": {},
     "output_type": "execute_result"
    }
   ],
   "source": [
    "# accessing it just like indexing in list\n",
    "\n",
    "myphone['items'][12345]"
   ]
  },
  {
   "cell_type": "markdown",
   "metadata": {
    "id": "MGFvIll-uH1H"
   },
   "source": [
    "# Operators in dictionary\n",
    "\n",
    "- Comparison\n",
    "- Membership\n",
    "- Iteration"
   ]
  },
  {
   "cell_type": "code",
   "execution_count": 19,
   "metadata": {
    "colab": {
     "base_uri": "https://localhost:8080/",
     "height": 200
    },
    "executionInfo": {
     "elapsed": 516,
     "status": "error",
     "timestamp": 1681123018706,
     "user": {
      "displayName": "Hrutik Nawade",
      "userId": "03506609053451396862"
     },
     "user_tz": -330
    },
    "id": "bQW5OpDMvM8t",
    "outputId": "37a52e21-c2b4-4ae5-9962-e5e99e092c6d"
   },
   "outputs": [
    {
     "ename": "TypeError",
     "evalue": "unsupported operand type(s) for +: 'dict' and 'dict'",
     "output_type": "error",
     "traceback": [
      "\u001b[1;31m---------------------------------------------------------------------------\u001b[0m",
      "\u001b[1;31mTypeError\u001b[0m                                 Traceback (most recent call last)",
      "Cell \u001b[1;32mIn[19], line 6\u001b[0m\n\u001b[0;32m      3\u001b[0m mypet1 \u001b[38;5;241m=\u001b[39m {\u001b[38;5;124m'\u001b[39m\u001b[38;5;124mname\u001b[39m\u001b[38;5;124m'\u001b[39m: \u001b[38;5;124m'\u001b[39m\u001b[38;5;124mbadal\u001b[39m\u001b[38;5;124m'\u001b[39m, \u001b[38;5;124m'\u001b[39m\u001b[38;5;124mspecies\u001b[39m\u001b[38;5;124m'\u001b[39m: \u001b[38;5;124m'\u001b[39m\u001b[38;5;124mdog\u001b[39m\u001b[38;5;124m'\u001b[39m, \u001b[38;5;124m'\u001b[39m\u001b[38;5;124mage\u001b[39m\u001b[38;5;124m'\u001b[39m: \u001b[38;5;124m'\u001b[39m\u001b[38;5;124m3\u001b[39m\u001b[38;5;124m'\u001b[39m}\n\u001b[0;32m      4\u001b[0m mypet2 \u001b[38;5;241m=\u001b[39m {\u001b[38;5;124m'\u001b[39m\u001b[38;5;124mspecies\u001b[39m\u001b[38;5;124m'\u001b[39m: \u001b[38;5;124m'\u001b[39m\u001b[38;5;124mdog\u001b[39m\u001b[38;5;124m'\u001b[39m, \u001b[38;5;124m'\u001b[39m\u001b[38;5;124mage\u001b[39m\u001b[38;5;124m'\u001b[39m: \u001b[38;5;124m'\u001b[39m\u001b[38;5;124m3\u001b[39m\u001b[38;5;124m'\u001b[39m, \u001b[38;5;124m'\u001b[39m\u001b[38;5;124mname\u001b[39m\u001b[38;5;124m'\u001b[39m: \u001b[38;5;124m'\u001b[39m\u001b[38;5;124mbadal\u001b[39m\u001b[38;5;124m'\u001b[39m}\n\u001b[1;32m----> 6\u001b[0m mypets \u001b[38;5;241m=\u001b[39m mypet1 \u001b[38;5;241m+\u001b[39m mypet2\n",
      "\u001b[1;31mTypeError\u001b[0m: unsupported operand type(s) for +: 'dict' and 'dict'"
     ]
    }
   ],
   "source": [
    "# dictionary concatenation is not possible \n",
    "\n",
    "mypet1 = {'name': 'badal', 'species': 'dog', 'age': '3'}\n",
    "mypet2 = {'species': 'dog', 'age': '3', 'name': 'badal'}\n",
    "\n",
    "mypets = mypet1 + mypet2"
   ]
  },
  {
   "cell_type": "code",
   "execution_count": null,
   "metadata": {
    "colab": {
     "base_uri": "https://localhost:8080/",
     "height": 200
    },
    "executionInfo": {
     "elapsed": 1488,
     "status": "error",
     "timestamp": 1681123080529,
     "user": {
      "displayName": "Hrutik Nawade",
      "userId": "03506609053451396862"
     },
     "user_tz": -330
    },
    "id": "jnYFE-OLvM5o",
    "outputId": "ee4fb85e-9601-43e4-f8d0-05c7db11e09e"
   },
   "outputs": [],
   "source": [
    "# dictionary replication is not possible\n",
    "\n",
    "mypet1 = {'name': 'badal', 'species': 'dog', 'age': '3'}\n",
    "mypet2 = {'species': 'dog', 'age': '3', 'name': 'badal'}\n",
    "\n",
    "mypets = mypet1 * 2"
   ]
  },
  {
   "cell_type": "markdown",
   "metadata": {
    "id": "J2lZ4lcnvM0B"
   },
   "source": [
    "#### `==` comparing two dictionaries with same items"
   ]
  },
  {
   "cell_type": "code",
   "execution_count": 20,
   "metadata": {
    "colab": {
     "base_uri": "https://localhost:8080/"
    },
    "executionInfo": {
     "elapsed": 7,
     "status": "ok",
     "timestamp": 1679394541557,
     "user": {
      "displayName": "Hrutik Nawade",
      "userId": "03506609053451396862"
     },
     "user_tz": -330
    },
    "id": "QmpxXuNktU9S",
    "outputId": "27f7fc2b-c31c-40fc-df82-d03fe40fdbbb"
   },
   "outputs": [
    {
     "data": {
      "text/plain": [
       "False"
      ]
     },
     "execution_count": 20,
     "metadata": {},
     "output_type": "execute_result"
    }
   ],
   "source": [
    "# two list with same elements at different indexes are not equal\n",
    "\n",
    "animals1 = ['cats', 'dogs', 'moose']\n",
    "animals2 = ['dogs', 'moose', 'cats']\n",
    "animals1 == animals2"
   ]
  },
  {
   "cell_type": "code",
   "execution_count": 21,
   "metadata": {
    "colab": {
     "base_uri": "https://localhost:8080/"
    },
    "executionInfo": {
     "elapsed": 508,
     "status": "ok",
     "timestamp": 1679637556116,
     "user": {
      "displayName": "Hrutik Nawade",
      "userId": "03506609053451396862"
     },
     "user_tz": -330
    },
    "id": "kZLyHw__twj3",
    "outputId": "b93bd410-ccb3-475b-e5f0-7e08833f93f9"
   },
   "outputs": [
    {
     "data": {
      "text/plain": [
       "True"
      ]
     },
     "execution_count": 21,
     "metadata": {},
     "output_type": "execute_result"
    }
   ],
   "source": [
    "# two dictionaries with same elements at different indexes are equal\n",
    "# as its items are not ordered just like sets\n",
    "\n",
    "mypet1 = {'name': 'badal', 'species': 'dog', 'age': '3'}\n",
    "mypet2 = {'species': 'dog', 'age': '3', 'name': 'badal'}\n",
    "mypet1 == mypet2"
   ]
  },
  {
   "cell_type": "markdown",
   "metadata": {
    "id": "S6_vQJeevMuh"
   },
   "source": [
    "#### `in` and `not in` operator"
   ]
  },
  {
   "cell_type": "code",
   "execution_count": 22,
   "metadata": {
    "id": "kJ7ZH8Zd3pCa"
   },
   "outputs": [],
   "source": [
    "pet = {'name': 'Zophie', 'age': 7}"
   ]
  },
  {
   "cell_type": "code",
   "execution_count": 23,
   "metadata": {
    "colab": {
     "base_uri": "https://localhost:8080/"
    },
    "executionInfo": {
     "elapsed": 807,
     "status": "ok",
     "timestamp": 1679397335776,
     "user": {
      "displayName": "Hrutik Nawade",
      "userId": "03506609053451396862"
     },
     "user_tz": -330
    },
    "id": "NwgWYPGP4PL5",
    "outputId": "f969c0bb-7476-4e2f-fec1-c16155c2356f"
   },
   "outputs": [
    {
     "data": {
      "text/plain": [
       "True"
      ]
     },
     "execution_count": 23,
     "metadata": {},
     "output_type": "execute_result"
    }
   ],
   "source": [
    "'age' in pet"
   ]
  },
  {
   "cell_type": "code",
   "execution_count": 24,
   "metadata": {
    "colab": {
     "base_uri": "https://localhost:8080/"
    },
    "executionInfo": {
     "elapsed": 515,
     "status": "ok",
     "timestamp": 1679397385705,
     "user": {
      "displayName": "Hrutik Nawade",
      "userId": "03506609053451396862"
     },
     "user_tz": -330
    },
    "id": "9veumi6r4TGn",
    "outputId": "f97bfbf4-d250-48c3-9bf3-218609f845ae"
   },
   "outputs": [
    {
     "data": {
      "text/plain": [
       "True"
      ]
     },
     "execution_count": 24,
     "metadata": {},
     "output_type": "execute_result"
    }
   ],
   "source": [
    "# direct reference searches far keys in dictionary\n",
    "# zophie is value in dict so we have to search in values\n",
    "\n",
    "'Zophie' in pet.values()   "
   ]
  },
  {
   "cell_type": "markdown",
   "metadata": {
    "id": "0Aa0x4g9toLT"
   },
   "source": [
    "# Looping in dictionaries"
   ]
  },
  {
   "cell_type": "code",
   "execution_count": 25,
   "metadata": {
    "colab": {
     "base_uri": "https://localhost:8080/"
    },
    "executionInfo": {
     "elapsed": 969,
     "status": "ok",
     "timestamp": 1681123420732,
     "user": {
      "displayName": "Hrutik Nawade",
      "userId": "03506609053451396862"
     },
     "user_tz": -330
    },
    "id": "mlwlFkEIMeqd",
    "outputId": "5c001c8f-ff31-40f1-b965-b71227bca006"
   },
   "outputs": [
    {
     "name": "stdout",
     "output_type": "stream",
     "text": [
      "name\n",
      "species\n",
      "age\n"
     ]
    }
   ],
   "source": [
    "# direct reference searches far keys in dictionary\n",
    "mypet1 = {'name': 'badal', 'species': 'dog', 'age': '3'}\n",
    "\n",
    "for v in mypet1:\n",
    "  print(v)"
   ]
  },
  {
   "cell_type": "markdown",
   "metadata": {},
   "source": [
    "#### values()"
   ]
  },
  {
   "cell_type": "code",
   "execution_count": 26,
   "metadata": {
    "colab": {
     "base_uri": "https://localhost:8080/"
    },
    "executionInfo": {
     "elapsed": 3,
     "status": "ok",
     "timestamp": 1681123425053,
     "user": {
      "displayName": "Hrutik Nawade",
      "userId": "03506609053451396862"
     },
     "user_tz": -330
    },
    "id": "ABgN12ppw1_N",
    "outputId": "b3802757-5261-45c7-f876-32dca86ebbe3"
   },
   "outputs": [
    {
     "name": "stdout",
     "output_type": "stream",
     "text": [
      "badal\n",
      "dog\n",
      "3\n"
     ]
    }
   ],
   "source": [
    "for v in mypet1.values():\n",
    "  print(v)"
   ]
  },
  {
   "cell_type": "markdown",
   "metadata": {},
   "source": [
    "#### keys()"
   ]
  },
  {
   "cell_type": "code",
   "execution_count": 27,
   "metadata": {
    "colab": {
     "base_uri": "https://localhost:8080/"
    },
    "executionInfo": {
     "elapsed": 633,
     "status": "ok",
     "timestamp": 1681123430557,
     "user": {
      "displayName": "Hrutik Nawade",
      "userId": "03506609053451396862"
     },
     "user_tz": -330
    },
    "id": "M4e6cVHPyYlc",
    "outputId": "556c0f74-089f-406e-ef82-291eb0fef68a",
    "scrolled": true
   },
   "outputs": [
    {
     "name": "stdout",
     "output_type": "stream",
     "text": [
      "name\n",
      "species\n",
      "age\n"
     ]
    }
   ],
   "source": [
    "for v in mypet1.keys():   # keys() for getting keys from dict\n",
    "  print(v)"
   ]
  },
  {
   "cell_type": "markdown",
   "metadata": {},
   "source": [
    "#### items()"
   ]
  },
  {
   "cell_type": "code",
   "execution_count": 28,
   "metadata": {
    "colab": {
     "base_uri": "https://localhost:8080/"
    },
    "executionInfo": {
     "elapsed": 475,
     "status": "ok",
     "timestamp": 1679396505949,
     "user": {
      "displayName": "Hrutik Nawade",
      "userId": "03506609053451396862"
     },
     "user_tz": -330
    },
    "id": "5AdifLVhydOH",
    "outputId": "4a09f08f-edae-4828-a625-eb5fd91c5ed3"
   },
   "outputs": [
    {
     "name": "stdout",
     "output_type": "stream",
     "text": [
      "('name', 'badal')\n",
      "('species', 'dog')\n",
      "('age', '3')\n"
     ]
    }
   ],
   "source": [
    "for i in mypet1.items():\n",
    "  print(i)"
   ]
  },
  {
   "cell_type": "code",
   "execution_count": 29,
   "metadata": {
    "colab": {
     "base_uri": "https://localhost:8080/"
    },
    "executionInfo": {
     "elapsed": 553,
     "status": "ok",
     "timestamp": 1679397202822,
     "user": {
      "displayName": "Hrutik Nawade",
      "userId": "03506609053451396862"
     },
     "user_tz": -330
    },
    "id": "GQHW08T81zg_",
    "outputId": "998bab94-d650-43d0-d6c6-528662a5c5c4"
   },
   "outputs": [
    {
     "name": "stdout",
     "output_type": "stream",
     "text": [
      "color red\n",
      "Key: color  Value: red\n",
      "city pune\n",
      "Key: city  Value: pune\n"
     ]
    }
   ],
   "source": [
    "newdict = {'color': 'red', 'city': 'pune'}\n",
    "\n",
    "for key, value in newdict.items():\n",
    "    print(key, value)\n",
    "    print('Key: ' + key , ' Value: ' + value)"
   ]
  },
  {
   "cell_type": "markdown",
   "metadata": {
    "id": "DZbbz3lUoXSV"
   },
   "source": [
    "## Dictionary methods"
   ]
  },
  {
   "cell_type": "markdown",
   "metadata": {
    "id": "bCmq3sqhtScD"
   },
   "source": [
    "### basic dict methods"
   ]
  },
  {
   "cell_type": "markdown",
   "metadata": {
    "id": "ce8Fv0NlqAlS"
   },
   "source": [
    "#### keys( )\n",
    "returns a list, containing all keys in dictionary\n"
   ]
  },
  {
   "cell_type": "code",
   "execution_count": 30,
   "metadata": {
    "colab": {
     "base_uri": "https://localhost:8080/"
    },
    "executionInfo": {
     "elapsed": 382,
     "status": "ok",
     "timestamp": 1681121682047,
     "user": {
      "displayName": "Hrutik Nawade",
      "userId": "03506609053451396862"
     },
     "user_tz": -330
    },
    "id": "dxxvNyxWwds0",
    "outputId": "2e5ca706-c896-48aa-fcde-efbe33ee6e7f"
   },
   "outputs": [
    {
     "name": "stdout",
     "output_type": "stream",
     "text": [
      "dict_keys(['name', 'species', 'age'])\n"
     ]
    }
   ],
   "source": [
    "mypet1 = {'name': 'badal', 'species': 'dog', 'age': '3'}\n",
    "print(mypet1.keys())"
   ]
  },
  {
   "cell_type": "markdown",
   "metadata": {
    "id": "fXU_t4t5q_5i"
   },
   "source": [
    "#### values( )\n",
    "returns a list containing all values in dictionary\n"
   ]
  },
  {
   "cell_type": "code",
   "execution_count": 31,
   "metadata": {
    "colab": {
     "base_uri": "https://localhost:8080/"
    },
    "executionInfo": {
     "elapsed": 5,
     "status": "ok",
     "timestamp": 1679395334821,
     "user": {
      "displayName": "Hrutik Nawade",
      "userId": "03506609053451396862"
     },
     "user_tz": -330
    },
    "id": "jllQkoKawsX_",
    "outputId": "94fdda14-7954-4080-fbe0-6fc21bf0341b"
   },
   "outputs": [
    {
     "data": {
      "text/plain": [
       "dict_values(['badal', 'dog', '3'])"
      ]
     },
     "execution_count": 31,
     "metadata": {},
     "output_type": "execute_result"
    }
   ],
   "source": [
    "mypet1.values()"
   ]
  },
  {
   "cell_type": "markdown",
   "metadata": {
    "id": "ZfKBHrAwrXvy"
   },
   "source": [
    "#### items( )\n",
    "returns a list containing tuple for each keys and values pair in dictionary"
   ]
  },
  {
   "cell_type": "code",
   "execution_count": 32,
   "metadata": {
    "colab": {
     "base_uri": "https://localhost:8080/"
    },
    "executionInfo": {
     "elapsed": 414,
     "status": "ok",
     "timestamp": 1681122202580,
     "user": {
      "displayName": "Hrutik Nawade",
      "userId": "03506609053451396862"
     },
     "user_tz": -330
    },
    "id": "DRE1n4-NwyE2",
    "outputId": "1af4ec47-e076-48aa-de3f-492c65023f18"
   },
   "outputs": [
    {
     "data": {
      "text/plain": [
       "dict_items([('name', 'badal'), ('species', 'dog'), ('age', '3')])"
      ]
     },
     "execution_count": 32,
     "metadata": {},
     "output_type": "execute_result"
    }
   ],
   "source": [
    "mypet1.items()"
   ]
  },
  {
   "cell_type": "code",
   "execution_count": null,
   "metadata": {
    "id": "2dGJo28WtoUg"
   },
   "outputs": [],
   "source": []
  },
  {
   "cell_type": "markdown",
   "metadata": {
    "id": "mVEgg4fz3BZX"
   },
   "source": [
    "#### formkeys( )\n",
    "Create a new dictionary with keys from iterable such as list, tuple and combined values set to value."
   ]
  },
  {
   "cell_type": "code",
   "execution_count": 33,
   "metadata": {
    "colab": {
     "base_uri": "https://localhost:8080/"
    },
    "executionInfo": {
     "elapsed": 10,
     "status": "ok",
     "timestamp": 1681125175494,
     "user": {
      "displayName": "Hrutik Nawade",
      "userId": "03506609053451396862"
     },
     "user_tz": -330
    },
    "id": "eYSnikam3BWm",
    "outputId": "f901852e-96ad-4d6a-fc98-b12358d4b3fb"
   },
   "outputs": [
    {
     "data": {
      "text/plain": [
       "{2: 10, 5: 10, 85: 10, 73: 10, 57: 10}"
      ]
     },
     "execution_count": 33,
     "metadata": {},
     "output_type": "execute_result"
    }
   ],
   "source": [
    "l = [2, 5, 85, 73, 57]\n",
    "d = {}\n",
    "d.fromkeys(l, 10)   # assign single value to all keys"
   ]
  },
  {
   "cell_type": "code",
   "execution_count": 34,
   "metadata": {
    "id": "hKwlB7Vh5AVH"
   },
   "outputs": [
    {
     "data": {
      "text/plain": [
       "{2: (10, 20, 30, 40, 50),\n",
       " 5: (10, 20, 30, 40, 50),\n",
       " 85: (10, 20, 30, 40, 50),\n",
       " 73: (10, 20, 30, 40, 50),\n",
       " 57: (10, 20, 30, 40, 50)}"
      ]
     },
     "execution_count": 34,
     "metadata": {},
     "output_type": "execute_result"
    }
   ],
   "source": [
    "d.fromkeys(l, (10, 20, 30, 40, 50))   # assign iterable to all keys"
   ]
  },
  {
   "cell_type": "markdown",
   "metadata": {
    "id": "GSCYpxV6_6_X"
   },
   "source": [
    "### accessing dict values"
   ]
  },
  {
   "cell_type": "markdown",
   "metadata": {
    "id": "G8Y7F-c2toRN"
   },
   "source": [
    "#### get( ) \n",
    "returns value of key if key is present else return None<br>\n",
    "If the key is available then returns the corresponding value otherwise returns None.It\r\n",
    "wont raise any error<br>\n",
    " If the key is available then returns the corresponding value otherwise returns default\r\n",
    "value."
   ]
  },
  {
   "cell_type": "code",
   "execution_count": 35,
   "metadata": {
    "colab": {
     "base_uri": "https://localhost:8080/",
     "height": 36
    },
    "executionInfo": {
     "elapsed": 1747,
     "status": "ok",
     "timestamp": 1681124738896,
     "user": {
      "displayName": "Hrutik Nawade",
      "userId": "03506609053451396862"
     },
     "user_tz": -330
    },
    "id": "7evPCfMT0non",
    "outputId": "19f8427a-fb0b-4b14-f3e2-3ae9d8c17683"
   },
   "outputs": [
    {
     "data": {
      "text/plain": [
       "'badal'"
      ]
     },
     "execution_count": 35,
     "metadata": {},
     "output_type": "execute_result"
    }
   ],
   "source": [
    "# returns value of key if key is present else return None\n",
    "\n",
    "mypet1 = {'name': 'badal', 'species': 'dog', 'age': '3'}\n",
    "mypet1.get('name')    "
   ]
  },
  {
   "cell_type": "code",
   "execution_count": 36,
   "metadata": {
    "id": "JA_UjHPE0nld"
   },
   "outputs": [],
   "source": [
    "mypet1.get('address')   # key is not present return none --> nothing to output"
   ]
  },
  {
   "cell_type": "code",
   "execution_count": 37,
   "metadata": {
    "colab": {
     "base_uri": "https://localhost:8080/",
     "height": 36
    },
    "executionInfo": {
     "elapsed": 936,
     "status": "ok",
     "timestamp": 1681124827011,
     "user": {
      "displayName": "Hrutik Nawade",
      "userId": "03506609053451396862"
     },
     "user_tz": -330
    },
    "id": "g2heVaNo0niW",
    "outputId": "4a216472-61d2-4367-ab6a-08beda330990"
   },
   "outputs": [
    {
     "data": {
      "text/plain": [
       "'pune'"
      ]
     },
     "execution_count": 37,
     "metadata": {},
     "output_type": "execute_result"
    }
   ],
   "source": [
    "mypet1.get('address', 'pune')   # second argument is default value\n",
    "\n",
    "# if key is not available then returns default value\n",
    "# this value is not added to dict"
   ]
  },
  {
   "cell_type": "markdown",
   "metadata": {
    "id": "p5nMmaB4_28E"
   },
   "source": [
    "#### setdefault( )\n",
    "returns value of the key in dictionary <br>\n",
    "the second argument is a default value<br>\n",
    "If the key is not available then the specified key-value will be added as new item to the \n",
    "dictionary."
   ]
  },
  {
   "cell_type": "code",
   "execution_count": 175,
   "metadata": {
    "colab": {
     "base_uri": "https://localhost:8080/",
     "height": 36
    },
    "executionInfo": {
     "elapsed": 369,
     "status": "ok",
     "timestamp": 1681127734957,
     "user": {
      "displayName": "Hrutik Nawade",
      "userId": "03506609053451396862"
     },
     "user_tz": -330
    },
    "id": "cNtzMNRW_26L",
    "outputId": "91ca4ac3-4d3e-40e4-ad20-aab0b96ff545"
   },
   "outputs": [
    {
     "data": {
      "text/plain": [
       "'chess'"
      ]
     },
     "execution_count": 175,
     "metadata": {},
     "output_type": "execute_result"
    }
   ],
   "source": [
    "# returns value of the key in dictionary if key is not present then default value is returned\n",
    "\n",
    "mypet1 = {'name': 'badal', 'species': 'dog', 'age': '3'}\n",
    "mypet1.setdefault('game', 'chess')"
   ]
  },
  {
   "cell_type": "code",
   "execution_count": 176,
   "metadata": {},
   "outputs": [
    {
     "data": {
      "text/plain": [
       "{'name': 'badal', 'species': 'dog', 'age': '3', 'game': 'chess'}"
      ]
     },
     "execution_count": 176,
     "metadata": {},
     "output_type": "execute_result"
    }
   ],
   "source": [
    "mypet1"
   ]
  },
  {
   "cell_type": "code",
   "execution_count": 177,
   "metadata": {
    "id": "kkLjtZru_2xQ"
   },
   "outputs": [
    {
     "name": "stdout",
     "output_type": "stream",
     "text": [
      "pune\n"
     ]
    }
   ],
   "source": [
    "h = mypet1.setdefault('city', 'pune')\n",
    "print(h)"
   ]
  },
  {
   "cell_type": "code",
   "execution_count": 178,
   "metadata": {},
   "outputs": [
    {
     "name": "stdout",
     "output_type": "stream",
     "text": [
      "{'a': {'b': 0}}\n"
     ]
    }
   ],
   "source": [
    "# use case of setdefault function\n",
    "# to set a key and default value for a subkey in empty dictionary\n",
    "data = {}\n",
    "key = 'a'\n",
    "subkey = 'b'\n",
    "data.setdefault(key, {}).setdefault(subkey, 0)\n",
    "print(data)"
   ]
  },
  {
   "cell_type": "markdown",
   "metadata": {
    "id": "l3SaEl3F5AGp"
   },
   "source": [
    "### adding items to dictinary"
   ]
  },
  {
   "cell_type": "code",
   "execution_count": 179,
   "metadata": {
    "id": "8t396Af05ADC"
   },
   "outputs": [],
   "source": [
    "d = {'name' : 'Hrutik', 'age': 23, 'address': 'pune', 'education': 'Engineering'}"
   ]
  },
  {
   "cell_type": "code",
   "execution_count": 180,
   "metadata": {
    "id": "HylQ58Fl5AAL"
   },
   "outputs": [
    {
     "data": {
      "text/plain": [
       "{'name': 'Hrutik',\n",
       " 'age': 23,\n",
       " 'address': 'pune',\n",
       " 'education': 'Engineering',\n",
       " 'gender': 'male'}"
      ]
     },
     "execution_count": 180,
     "metadata": {},
     "output_type": "execute_result"
    }
   ],
   "source": [
    "d['gender'] = 'male'  \n",
    "d"
   ]
  },
  {
   "cell_type": "markdown",
   "metadata": {
    "id": "yQQkvywb5oSx"
   },
   "source": [
    "#### update ( )\n",
    "updates a dictionary to the end of another dictionary<br>\n",
    "Adds two dictionaries"
   ]
  },
  {
   "cell_type": "code",
   "execution_count": 93,
   "metadata": {
    "id": "wntMAmnO5oPm"
   },
   "outputs": [
    {
     "data": {
      "text/plain": [
       "{'name': 'Hrutik',\n",
       " 'age': 23,\n",
       " 'address': 'pune',\n",
       " 'education': 'Engineering',\n",
       " 'gender': 'male',\n",
       " 'height': 5.7,\n",
       " 'weight': 65}"
      ]
     },
     "execution_count": 93,
     "metadata": {},
     "output_type": "execute_result"
    }
   ],
   "source": [
    "d.update({'height': 5.7, 'weight': 65})\n",
    "d"
   ]
  },
  {
   "cell_type": "code",
   "execution_count": 94,
   "metadata": {
    "colab": {
     "base_uri": "https://localhost:8080/",
     "height": 165
    },
    "executionInfo": {
     "elapsed": 10,
     "status": "error",
     "timestamp": 1681125939290,
     "user": {
      "displayName": "Hrutik Nawade",
      "userId": "03506609053451396862"
     },
     "user_tz": -330
    },
    "id": "UZjUSqdS0ndV",
    "outputId": "ebbede15-b0c3-4db7-afa0-fb6e15b48a1b"
   },
   "outputs": [
    {
     "ename": "TypeError",
     "evalue": "cannot convert dictionary update sequence element #0 to a sequence",
     "output_type": "error",
     "traceback": [
      "\u001b[1;31m---------------------------------------------------------------------------\u001b[0m",
      "\u001b[1;31mTypeError\u001b[0m                                 Traceback (most recent call last)",
      "Cell \u001b[1;32mIn[94], line 1\u001b[0m\n\u001b[1;32m----> 1\u001b[0m d\u001b[38;5;241m.\u001b[39mupdate(l)\n",
      "\u001b[1;31mTypeError\u001b[0m: cannot convert dictionary update sequence element #0 to a sequence"
     ]
    }
   ],
   "source": [
    "d.update(l) # it does not work on lists with elements"
   ]
  },
  {
   "cell_type": "code",
   "execution_count": 99,
   "metadata": {
    "id": "-aj5UvaL6sSy"
   },
   "outputs": [
    {
     "data": {
      "text/plain": [
       "{'name': 'Hrutik',\n",
       " 'age': 23,\n",
       " 'address': 'pune',\n",
       " 'education': 'Engineering',\n",
       " 'gender': 'male',\n",
       " 'height': 5.7,\n",
       " 'weight': 65,\n",
       " 'language': 'python',\n",
       " 'field': 'data science'}"
      ]
     },
     "execution_count": 99,
     "metadata": {},
     "output_type": "execute_result"
    }
   ],
   "source": [
    "# works with list containing tuples with exactly two elements \n",
    "# as it considers it as (key, value)\n",
    "\n",
    "t = [('language', 'python'), ('field','data science')]  \n",
    "d.update(t) # updates t in d\n",
    "d"
   ]
  },
  {
   "cell_type": "code",
   "execution_count": 102,
   "metadata": {
    "id": "gfOmatVR8Dpm"
   },
   "outputs": [
    {
     "ename": "ValueError",
     "evalue": "dictionary update sequence element #1 has length 4; 2 is required",
     "output_type": "error",
     "traceback": [
      "\u001b[1;31m---------------------------------------------------------------------------\u001b[0m",
      "\u001b[1;31mValueError\u001b[0m                                Traceback (most recent call last)",
      "Cell \u001b[1;32mIn[102], line 4\u001b[0m\n\u001b[0;32m      1\u001b[0m \u001b[38;5;66;03m# more than two elements cause ValueError\u001b[39;00m\n\u001b[0;32m      3\u001b[0m t \u001b[38;5;241m=\u001b[39m [(\u001b[38;5;124m'\u001b[39m\u001b[38;5;124mlanguage\u001b[39m\u001b[38;5;124m'\u001b[39m, \u001b[38;5;124m'\u001b[39m\u001b[38;5;124mpython\u001b[39m\u001b[38;5;124m'\u001b[39m), (\u001b[38;5;124m'\u001b[39m\u001b[38;5;124mfield\u001b[39m\u001b[38;5;124m'\u001b[39m,\u001b[38;5;124m'\u001b[39m\u001b[38;5;124mdata science\u001b[39m\u001b[38;5;124m'\u001b[39m, \u001b[38;5;124m'\u001b[39m\u001b[38;5;124mmachine learning\u001b[39m\u001b[38;5;124m'\u001b[39m, \u001b[38;5;124m'\u001b[39m\u001b[38;5;124mbusiness intelligence\u001b[39m\u001b[38;5;124m'\u001b[39m)]  \n\u001b[1;32m----> 4\u001b[0m d\u001b[38;5;241m.\u001b[39mupdate(t)\n",
      "\u001b[1;31mValueError\u001b[0m: dictionary update sequence element #1 has length 4; 2 is required"
     ]
    }
   ],
   "source": [
    "# more than two elements cause ValueError\n",
    "\n",
    "t = [('language', 'python'), ('field','data science', 'machine learning', 'business intelligence')]  \n",
    "d.update(t)"
   ]
  },
  {
   "cell_type": "code",
   "execution_count": 106,
   "metadata": {
    "id": "KYL0Wg2i8Dpn"
   },
   "outputs": [
    {
     "data": {
      "text/plain": [
       "{'name': 'Hrutik',\n",
       " 'age': 23,\n",
       " 'address': 'pune',\n",
       " 'education': 'Engineering',\n",
       " 'gender': 'male',\n",
       " 'height': 5.7,\n",
       " 'weight': 65,\n",
       " 'language': 'python',\n",
       " 'field': ['data science', 'machine learning', 'business intelligence']}"
      ]
     },
     "execution_count": 106,
     "metadata": {},
     "output_type": "execute_result"
    }
   ],
   "source": [
    "# but in this way it is possible as it has 2 elements in tuple\n",
    "\n",
    "t = [('language', 'python'), ('field',['data science', 'machine learning', 'business intelligence'])]  # \n",
    "d.update(t)\n",
    "d"
   ]
  },
  {
   "cell_type": "markdown",
   "metadata": {
    "id": "TsGeiqfO99Lu"
   },
   "source": [
    "#### copy ( )\n",
    "creates a shallow copy of d<br>\n",
    "so that creating changes in d won't affects its copy"
   ]
  },
  {
   "cell_type": "code",
   "execution_count": 119,
   "metadata": {
    "id": "76ZtTy0G99FU"
   },
   "outputs": [],
   "source": [
    "d = {'name' : 'Hrutik', 'age': 23, 'address': 'pune'}\n",
    "new_dict = d.copy()"
   ]
  },
  {
   "cell_type": "code",
   "execution_count": 120,
   "metadata": {
    "colab": {
     "base_uri": "https://localhost:8080/"
    },
    "executionInfo": {
     "elapsed": 513,
     "status": "ok",
     "timestamp": 1681127115987,
     "user": {
      "displayName": "Hrutik Nawade",
      "userId": "03506609053451396862"
     },
     "user_tz": -330
    },
    "id": "m5EX6K_h99Bv",
    "outputId": "b6cf7ac3-ba5d-4ea3-fa41-7e7f7ac71206"
   },
   "outputs": [],
   "source": [
    "d.update([('education', 'Engineering')])"
   ]
  },
  {
   "cell_type": "code",
   "execution_count": 121,
   "metadata": {},
   "outputs": [
    {
     "name": "stdout",
     "output_type": "stream",
     "text": [
      "{'name': 'Hrutik', 'age': 23, 'address': 'pune', 'education': 'Engineering'}\n",
      "{'name': 'Hrutik', 'age': 23, 'address': 'pune'}\n"
     ]
    }
   ],
   "source": [
    "print(d)\n",
    "print(new_dict)"
   ]
  },
  {
   "cell_type": "code",
   "execution_count": null,
   "metadata": {
    "id": "Ay22ENSE84pv"
   },
   "outputs": [],
   "source": []
  },
  {
   "cell_type": "markdown",
   "metadata": {
    "id": "D7At5HB_4Snk"
   },
   "source": [
    "### removing items from dictionary"
   ]
  },
  {
   "cell_type": "markdown",
   "metadata": {
    "id": "DCRVoWle4SWM"
   },
   "source": [
    "#### pop( )\n",
    "returns and removes item from the dictionary.<br>\n",
    "if passed argument is not present in dict then it gives KeyError\n"
   ]
  },
  {
   "cell_type": "code",
   "execution_count": 125,
   "metadata": {
    "colab": {
     "base_uri": "https://localhost:8080/",
     "height": 182
    },
    "executionInfo": {
     "elapsed": 9,
     "status": "error",
     "timestamp": 1681128014747,
     "user": {
      "displayName": "Hrutik Nawade",
      "userId": "03506609053451396862"
     },
     "user_tz": -330
    },
    "id": "U9Myb0GK4SNf",
    "outputId": "c3cb4c2f-6d9f-45f4-82fe-b9a29962ac36"
   },
   "outputs": [
    {
     "ename": "TypeError",
     "evalue": "pop expected at least 1 argument, got 0",
     "output_type": "error",
     "traceback": [
      "\u001b[1;31m---------------------------------------------------------------------------\u001b[0m",
      "\u001b[1;31mTypeError\u001b[0m                                 Traceback (most recent call last)",
      "Cell \u001b[1;32mIn[125], line 3\u001b[0m\n\u001b[0;32m      1\u001b[0m \u001b[38;5;66;03m# in dictionary it requires at least 1 argument\u001b[39;00m\n\u001b[0;32m      2\u001b[0m d \u001b[38;5;241m=\u001b[39m {\u001b[38;5;124m'\u001b[39m\u001b[38;5;124mname\u001b[39m\u001b[38;5;124m'\u001b[39m : \u001b[38;5;124m'\u001b[39m\u001b[38;5;124mHrutik\u001b[39m\u001b[38;5;124m'\u001b[39m, \u001b[38;5;124m'\u001b[39m\u001b[38;5;124mage\u001b[39m\u001b[38;5;124m'\u001b[39m: \u001b[38;5;241m22\u001b[39m, \u001b[38;5;124m'\u001b[39m\u001b[38;5;124maddress\u001b[39m\u001b[38;5;124m'\u001b[39m: \u001b[38;5;124m'\u001b[39m\u001b[38;5;124mpune\u001b[39m\u001b[38;5;124m'\u001b[39m, \u001b[38;5;124m'\u001b[39m\u001b[38;5;124meducation\u001b[39m\u001b[38;5;124m'\u001b[39m: \u001b[38;5;124m'\u001b[39m\u001b[38;5;124mBE(mech)\u001b[39m\u001b[38;5;124m'\u001b[39m}\n\u001b[1;32m----> 3\u001b[0m d\u001b[38;5;241m.\u001b[39mpop()\n",
      "\u001b[1;31mTypeError\u001b[0m: pop expected at least 1 argument, got 0"
     ]
    }
   ],
   "source": [
    "# in dictionary it requires at least 1 argument\n",
    "d = {'name' : 'Hrutik', 'age': 22, 'address': 'pune', 'education': 'BE(mech)'}\n",
    "d.pop()   "
   ]
  },
  {
   "cell_type": "code",
   "execution_count": 126,
   "metadata": {
    "colab": {
     "base_uri": "https://localhost:8080/",
     "height": 36
    },
    "executionInfo": {
     "elapsed": 378,
     "status": "ok",
     "timestamp": 1681128035614,
     "user": {
      "displayName": "Hrutik Nawade",
      "userId": "03506609053451396862"
     },
     "user_tz": -330
    },
    "id": "XKxoHvZD4SJ9",
    "outputId": "908447c9-3d3d-4d8e-ac3c-39fadbb698e1"
   },
   "outputs": [
    {
     "data": {
      "text/plain": [
       "'Hrutik'"
      ]
     },
     "execution_count": 126,
     "metadata": {},
     "output_type": "execute_result"
    }
   ],
   "source": [
    "d.pop('name')"
   ]
  },
  {
   "cell_type": "code",
   "execution_count": 127,
   "metadata": {
    "colab": {
     "base_uri": "https://localhost:8080/"
    },
    "executionInfo": {
     "elapsed": 569,
     "status": "ok",
     "timestamp": 1681128041380,
     "user": {
      "displayName": "Hrutik Nawade",
      "userId": "03506609053451396862"
     },
     "user_tz": -330
    },
    "id": "m-zLllWr4SGf",
    "outputId": "0f8521e2-af0e-4346-a7c4-331eb6263c92"
   },
   "outputs": [
    {
     "data": {
      "text/plain": [
       "{'age': 22, 'address': 'pune', 'education': 'BE(mech)'}"
      ]
     },
     "execution_count": 127,
     "metadata": {},
     "output_type": "execute_result"
    }
   ],
   "source": [
    "d"
   ]
  },
  {
   "cell_type": "markdown",
   "metadata": {
    "id": "ft8RS_f-4R9B"
   },
   "source": [
    "#### popitem( )\n",
    "returns the last inserted item in dictionary if dictionary is empty then it gives KeyError<br>\n",
    "it does not take any argument"
   ]
  },
  {
   "cell_type": "code",
   "execution_count": 135,
   "metadata": {
    "colab": {
     "base_uri": "https://localhost:8080/"
    },
    "executionInfo": {
     "elapsed": 1566,
     "status": "ok",
     "timestamp": 1681128281227,
     "user": {
      "displayName": "Hrutik Nawade",
      "userId": "03506609053451396862"
     },
     "user_tz": -330
    },
    "id": "0lVxU5VM4R5c",
    "outputId": "939e59b1-6bb1-43ea-bc98-664fedeccf97"
   },
   "outputs": [
    {
     "data": {
      "text/plain": [
       "('education', 'BE(mech)')"
      ]
     },
     "execution_count": 135,
     "metadata": {},
     "output_type": "execute_result"
    }
   ],
   "source": [
    "d = {'name' : 'Hrutik', 'age': 22, 'address': 'pune', 'education': 'BE(mech)'}\n",
    "d.popitem()"
   ]
  },
  {
   "cell_type": "code",
   "execution_count": 136,
   "metadata": {
    "colab": {
     "base_uri": "https://localhost:8080/",
     "height": 165
    },
    "executionInfo": {
     "elapsed": 1254,
     "status": "error",
     "timestamp": 1681128592012,
     "user": {
      "displayName": "Hrutik Nawade",
      "userId": "03506609053451396862"
     },
     "user_tz": -330
    },
    "id": "4A3tcwwFEfCg",
    "outputId": "5d9e996d-9353-4223-bfca-e3691ce0efd2"
   },
   "outputs": [
    {
     "data": {
      "text/plain": [
       "('address', 'pune')"
      ]
     },
     "execution_count": 136,
     "metadata": {},
     "output_type": "execute_result"
    }
   ],
   "source": [
    "d.popitem()"
   ]
  },
  {
   "cell_type": "code",
   "execution_count": 137,
   "metadata": {
    "colab": {
     "base_uri": "https://localhost:8080/"
    },
    "executionInfo": {
     "elapsed": 2355,
     "status": "ok",
     "timestamp": 1681128585395,
     "user": {
      "displayName": "Hrutik Nawade",
      "userId": "03506609053451396862"
     },
     "user_tz": -330
    },
    "id": "GdKddOI84R2s",
    "outputId": "1f931640-d83c-4c3a-ca1c-cf5b4b75479e"
   },
   "outputs": [
    {
     "data": {
      "text/plain": [
       "{'name': 'Hrutik', 'age': 22}"
      ]
     },
     "execution_count": 137,
     "metadata": {},
     "output_type": "execute_result"
    }
   ],
   "source": [
    "d"
   ]
  },
  {
   "cell_type": "code",
   "execution_count": 139,
   "metadata": {
    "colab": {
     "base_uri": "https://localhost:8080/",
     "height": 165
    },
    "executionInfo": {
     "elapsed": 703,
     "status": "error",
     "timestamp": 1681128522248,
     "user": {
      "displayName": "Hrutik Nawade",
      "userId": "03506609053451396862"
     },
     "user_tz": -330
    },
    "id": "X0scdJWn4RzZ",
    "outputId": "5fe018b6-6f18-4c8f-9c66-1f52db240408"
   },
   "outputs": [
    {
     "ename": "TypeError",
     "evalue": "dict.popitem() takes no arguments (1 given)",
     "output_type": "error",
     "traceback": [
      "\u001b[1;31m---------------------------------------------------------------------------\u001b[0m",
      "\u001b[1;31mTypeError\u001b[0m                                 Traceback (most recent call last)",
      "Cell \u001b[1;32mIn[139], line 1\u001b[0m\n\u001b[1;32m----> 1\u001b[0m d\u001b[38;5;241m.\u001b[39mpopitem(\u001b[38;5;124m'\u001b[39m\u001b[38;5;124mname\u001b[39m\u001b[38;5;124m'\u001b[39m)\n",
      "\u001b[1;31mTypeError\u001b[0m: dict.popitem() takes no arguments (1 given)"
     ]
    }
   ],
   "source": [
    "d.popitem('name')  # it does not take any argument"
   ]
  },
  {
   "cell_type": "markdown",
   "metadata": {
    "id": "UoyFySIW4Rtd"
   },
   "source": [
    "#### clear( )\n",
    "empties the dictionary by removing all elements from it<br>\n",
    "won't raise error if the dictionary is empty"
   ]
  },
  {
   "cell_type": "code",
   "execution_count": 144,
   "metadata": {
    "id": "BDUqCnBo4RqU"
   },
   "outputs": [],
   "source": [
    "d = {'name' : 'Hrutik', 'age': 22, 'address': 'pune', 'education': 'BE(mech)'}\n",
    "d.clear()"
   ]
  },
  {
   "cell_type": "code",
   "execution_count": 145,
   "metadata": {
    "colab": {
     "base_uri": "https://localhost:8080/"
    },
    "executionInfo": {
     "elapsed": 771,
     "status": "ok",
     "timestamp": 1681128768438,
     "user": {
      "displayName": "Hrutik Nawade",
      "userId": "03506609053451396862"
     },
     "user_tz": -330
    },
    "id": "anFTm1Y94RnS",
    "outputId": "cf0c53a8-2d19-43f8-f979-996c8acc7292"
   },
   "outputs": [
    {
     "data": {
      "text/plain": [
       "{}"
      ]
     },
     "execution_count": 145,
     "metadata": {},
     "output_type": "execute_result"
    }
   ],
   "source": [
    "d"
   ]
  },
  {
   "cell_type": "code",
   "execution_count": 146,
   "metadata": {
    "id": "58xpaQEp4RkL"
   },
   "outputs": [],
   "source": [
    "d.clear()"
   ]
  },
  {
   "cell_type": "markdown",
   "metadata": {
    "id": "7qbzi_4ruz5U"
   },
   "source": [
    "## Functions in dictionary"
   ]
  },
  {
   "cell_type": "code",
   "execution_count": 147,
   "metadata": {
    "id": "2lrDQwbx44Xx"
   },
   "outputs": [],
   "source": [
    "allGuests = {'Ankur': {'samosa': 5, 'jalebi': 12},\n",
    "                'Vivek': {'chakli': 3, 'samosa': 2},\n",
    "                'Pranav': {'chiwda': 3, 'oreo': 1}}\n"
   ]
  },
  {
   "cell_type": "code",
   "execution_count": null,
   "metadata": {
    "colab": {
     "base_uri": "https://localhost:8080/"
    },
    "executionInfo": {
     "elapsed": 892,
     "status": "ok",
     "timestamp": 1679398201629,
     "user": {
      "displayName": "Hrutik Nawade",
      "userId": "03506609053451396862"
     },
     "user_tz": -330
    },
    "id": "X8vr4C9W5wPa",
    "outputId": "475ff5df-0bb4-4c35-db0b-32c210c595de"
   },
   "outputs": [],
   "source": [
    "def totalBrought(guests, food_item):\n",
    "  total = 0\n",
    "  for k,v in guests.items():\n",
    "    total += (v.get(food_item, 0)) #.get() ---> Only works with dictionary\n",
    "  return total\n",
    "\n",
    "\n",
    "totalBrought(allGuests, 'samosa')"
   ]
  },
  {
   "cell_type": "code",
   "execution_count": null,
   "metadata": {
    "colab": {
     "base_uri": "https://localhost:8080/"
    },
    "executionInfo": {
     "elapsed": 944,
     "status": "ok",
     "timestamp": 1679398208388,
     "user": {
      "displayName": "Hrutik Nawade",
      "userId": "03506609053451396862"
     },
     "user_tz": -330
    },
    "id": "1ZuIICS955er",
    "outputId": "ca55e2b9-13ed-4c90-b6cb-bed34e73da2d"
   },
   "outputs": [],
   "source": [
    "totalBrought(allGuests, 'cake')"
   ]
  },
  {
   "cell_type": "code",
   "execution_count": null,
   "metadata": {
    "colab": {
     "base_uri": "https://localhost:8080/"
    },
    "executionInfo": {
     "elapsed": 802,
     "status": "ok",
     "timestamp": 1679398216065,
     "user": {
      "displayName": "Hrutik Nawade",
      "userId": "03506609053451396862"
     },
     "user_tz": -330
    },
    "id": "GdBZ87xq7vz6",
    "outputId": "165d754e-f75d-430e-d7f7-606211a5a221"
   },
   "outputs": [],
   "source": [
    "totalBrought(allGuests, 'chakli')"
   ]
  },
  {
   "cell_type": "markdown",
   "metadata": {
    "id": "VQ2GWYdMG5AG"
   },
   "source": [
    "# Dictionary comprehension\n",
    "dictionary comprehension is like list comprehension.<br>\n",
    "like list considers for a single element it performs operations for key:value pair<br>\n",
    "just take care of syntax given below for reference"
   ]
  },
  {
   "cell_type": "markdown",
   "metadata": {},
   "source": [
    "<img src='Python-dictionary-comprehension.webp' width=800px>"
   ]
  },
  {
   "cell_type": "code",
   "execution_count": 157,
   "metadata": {},
   "outputs": [
    {
     "data": {
      "text/plain": [
       "{1: 1, 2: 4, 3: 9, 4: 16, 5: 25, 6: 36, 7: 49, 8: 64, 9: 81, 10: 100}"
      ]
     },
     "execution_count": 157,
     "metadata": {},
     "output_type": "execute_result"
    }
   ],
   "source": [
    "d = {num : num*num for num in range(1,11)}\n",
    "d"
   ]
  },
  {
   "cell_type": "code",
   "execution_count": 168,
   "metadata": {
    "id": "KNmgf3mkG4zu"
   },
   "outputs": [
    {
     "data": {
      "text/plain": [
       "{1: ('a', 'A'),\n",
       " 2: ('b', 'B'),\n",
       " 3: ('c', 'C'),\n",
       " 4: ('d', 'D'),\n",
       " 5: ('e', 'E'),\n",
       " 6: ('f', 'F'),\n",
       " 7: ('g', 'G'),\n",
       " 8: ('h', 'H'),\n",
       " 9: ('i', 'I'),\n",
       " 10: ('j', 'J'),\n",
       " 11: ('k', 'K'),\n",
       " 12: ('l', 'L'),\n",
       " 13: ('m', 'M'),\n",
       " 14: ('n', 'N'),\n",
       " 15: ('o', 'O'),\n",
       " 16: ('p', 'P'),\n",
       " 17: ('q', 'Q'),\n",
       " 18: ('r', 'R'),\n",
       " 19: ('s', 'S'),\n",
       " 20: ('t', 'T'),\n",
       " 21: ('u', 'U'),\n",
       " 22: ('v', 'V'),\n",
       " 23: ('w', 'W'),\n",
       " 24: ('x', 'X'),\n",
       " 25: ('y', 'Y'),\n",
       " 26: ('z', 'Z')}"
      ]
     },
     "execution_count": 168,
     "metadata": {},
     "output_type": "execute_result"
    }
   ],
   "source": [
    "# this comprehension provides the characters of alphabets\n",
    "# chr() defines the character function returns a string of unicode characters\n",
    "\n",
    "d = {i-64 :(chr(i+32),chr(i)) for i in range(65, 91)}\n",
    "d"
   ]
  },
  {
   "cell_type": "code",
   "execution_count": 171,
   "metadata": {
    "colab": {
     "base_uri": "https://localhost:8080/"
    },
    "executionInfo": {
     "elapsed": 5,
     "status": "ok",
     "timestamp": 1679654788959,
     "user": {
      "displayName": "Hrutik Nawade",
      "userId": "03506609053451396862"
     },
     "user_tz": -330
    },
    "id": "ac-8qU4wOIrI",
    "outputId": "45f76fc5-babe-4951-9541-a364da60e06a"
   },
   "outputs": [
    {
     "data": {
      "text/plain": [
       "{'delhi': 930.0, 'mumbai': 124.0, 'bangalore': 496.0}"
      ]
     },
     "execution_count": 171,
     "metadata": {},
     "output_type": "execute_result"
    }
   ],
   "source": [
    "# for converting distances from KM to Miles\n",
    "distances = {'delhi':1500,'mumbai':200,'bangalore':800}\n",
    "{key:value*0.62 for (key,value) in distances.items()}"
   ]
  },
  {
   "cell_type": "code",
   "execution_count": 173,
   "metadata": {
    "id": "F9xhbXCjG4oe"
   },
   "outputs": [
    {
     "data": {
      "text/plain": [
       "{'laptop': 100, 'tablet': 20}"
      ]
     },
     "execution_count": 173,
     "metadata": {},
     "output_type": "execute_result"
    }
   ],
   "source": [
    "# using if condition\n",
    "products = {'phone':10,'laptop':100,'charger':1,'tablet':20}\n",
    "\n",
    "{key:value for (key,value) in products.items() if value>10}"
   ]
  },
  {
   "cell_type": "code",
   "execution_count": 174,
   "metadata": {
    "id": "XQTCcXmjG4lY"
   },
   "outputs": [
    {
     "data": {
      "text/plain": [
       "{2: {1: 2, 2: 4, 3: 6, 4: 8, 5: 10, 6: 12, 7: 14, 8: 16, 9: 18, 10: 20},\n",
       " 3: {1: 3, 2: 6, 3: 9, 4: 12, 5: 15, 6: 18, 7: 21, 8: 24, 9: 27, 10: 30},\n",
       " 4: {1: 4, 2: 8, 3: 12, 4: 16, 5: 20, 6: 24, 7: 28, 8: 32, 9: 36, 10: 40}}"
      ]
     },
     "execution_count": 174,
     "metadata": {},
     "output_type": "execute_result"
    }
   ],
   "source": [
    "# Nested Comprehension\n",
    "# print tables of number from 2 to 4\n",
    "\n",
    "{i:{j:i*j for j in range(1,11)} for i in range(2,5)}"
   ]
  },
  {
   "cell_type": "code",
   "execution_count": null,
   "metadata": {
    "id": "CfktkjPuG4jN"
   },
   "outputs": [],
   "source": []
  }
 ],
 "metadata": {
  "colab": {
   "authorship_tag": "ABX9TyPB9zZ7ZGv+BVgQzxekfXW3",
   "provenance": [],
   "toc_visible": true
  },
  "kernelspec": {
   "display_name": "Python 3 (ipykernel)",
   "language": "python",
   "name": "python3"
  },
  "language_info": {
   "codemirror_mode": {
    "name": "ipython",
    "version": 3
   },
   "file_extension": ".py",
   "mimetype": "text/x-python",
   "name": "python",
   "nbconvert_exporter": "python",
   "pygments_lexer": "ipython3",
   "version": "3.11.7"
  }
 },
 "nbformat": 4,
 "nbformat_minor": 4
}
