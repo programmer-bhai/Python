{
 "cells": [
  {
   "cell_type": "markdown",
   "id": "957eb3c8-99a4-440f-ad36-90f53a4c10d5",
   "metadata": {},
   "source": [
    "## Introduction\n",
    "\n",
    "- Python is a general purpose high level programming language.\n",
    "- Python was developed by Guido Van Rossam in 1989 while working at National \n",
    "Research Institute at Netherlands\n",
    "- But officially Python was made available to public in 1991.."
   ]
  },
  {
   "cell_type": "markdown",
   "id": "e2389a83-0987-4aca-b22b-67e82fe5849c",
   "metadata": {},
   "source": [
    "#### Uses of Python\n",
    "1. For developing Desktop Applications\r\n",
    "2. For developing web Applications\r\n",
    "3. For developing database Applications\r\n",
    "4. For Network Programming\r\n",
    "5. For developing games\r\n",
    "6. For Data Analysis Applications\r\n",
    "7. For Machine Learning\r\n",
    "8. For developing Artificial Intelligence Applications\r\n",
    "9. For IOT"
   ]
  },
  {
   "cell_type": "markdown",
   "id": "ac2dae98-fa6c-43e7-a95a-cfdb5b0889d3",
   "metadata": {},
   "source": [
    "#### Features of Python\n",
    "- Simple and easy to learn\n",
    "- Freeware and Open Source\n",
    "- High Level Programming language\n",
    "- Platform independent\n",
    "- Portability\n",
    "- Dynamically typed\n",
    "- Supports OOPs\n",
    "- Interpreted\n",
    "- Extensible and Embedded\n",
    "- Extensive support for libraries\n",
    "\n",
    "#### Limitations\n",
    "- Performance wise it is not upto mark\n",
    "- It is slower than some of other major programming languages"
   ]
  },
  {
   "cell_type": "markdown",
   "id": "a1e05afa-2b13-4829-99db-89ecd057db0f",
   "metadata": {},
   "source": [
    "## Identifiers\n",
    "\n",
    "- A name in a python program to declare varaibels, functions, and classes.\n",
    "- it helps to differentiate one entity from another.t\n",
    "\n",
    "#### Rules to define identifiers\n",
    "- Alphanumeric characters with an undersocre(_)\n",
    "- It should not start with digits\n",
    "- we cannot use reserved keywords as identifiers\n",
    "- no special character is allowed in identifiers..\n",
    "- Dollar($) symbol is not allowed in python\n",
    "\n",
    "#### correct way to define identifiers\n",
    "Identifiers can be a combination of\n",
    "- letters in lowercase (a to z) or uppercase (A to Z)\n",
    "- numbers (1 to 9) and\n",
    "- an underscore \"_\".."
   ]
  },
  {
   "cell_type": "code",
   "execution_count": 25,
   "id": "c366e749-2e80-4537-9621-9266452514bd",
   "metadata": {},
   "outputs": [],
   "source": [
    "var1 = 10\n",
    "_var2 = 20          # identifier with single underscore\n",
    "__var3 = 30         # with double\n",
    "___var4 = 40        # with triple\n",
    "var_2r_ = 50"
   ]
  },
  {
   "cell_type": "code",
   "execution_count": 13,
   "id": "99ca7716-4401-4ae8-8173-16eb8adfba66",
   "metadata": {},
   "outputs": [
    {
     "ename": "SyntaxError",
     "evalue": "invalid decimal literal (4256868957.py, line 1)",
     "output_type": "error",
     "traceback": [
      "\u001b[1;36m  Cell \u001b[1;32mIn[13], line 1\u001b[1;36m\u001b[0m\n\u001b[1;33m    1var = 10\u001b[0m\n\u001b[1;37m    ^\u001b[0m\n\u001b[1;31mSyntaxError\u001b[0m\u001b[1;31m:\u001b[0m invalid decimal literal\n"
     ]
    }
   ],
   "source": [
    "1var = 10 # identifiers can't start with digit."
   ]
  },
  {
   "cell_type": "code",
   "execution_count": 18,
   "id": "4d532bb0-484e-42d5-962d-b2b0c619fff9",
   "metadata": {},
   "outputs": [
    {
     "ename": "SyntaxError",
     "evalue": "invalid syntax (3954331209.py, line 1)",
     "output_type": "error",
     "traceback": [
      "\u001b[1;36m  Cell \u001b[1;32mIn[18], line 1\u001b[1;36m\u001b[0m\n\u001b[1;33m    var@ = 10\u001b[0m\n\u001b[1;37m         ^\u001b[0m\n\u001b[1;31mSyntaxError\u001b[0m\u001b[1;31m:\u001b[0m invalid syntax\n"
     ]
    }
   ],
   "source": [
    "var@ = 10 # special characters not allowed in identifiers"
   ]
  },
  {
   "cell_type": "code",
   "execution_count": 15,
   "id": "cfeebb71-5127-4b56-94af-a0b011d81aae",
   "metadata": {},
   "outputs": [
    {
     "ename": "SyntaxError",
     "evalue": "invalid syntax (1478421709.py, line 1)",
     "output_type": "error",
     "traceback": [
      "\u001b[1;36m  Cell \u001b[1;32mIn[15], line 1\u001b[1;36m\u001b[0m\n\u001b[1;33m    var* = 10\u001b[0m\n\u001b[1;37m         ^\u001b[0m\n\u001b[1;31mSyntaxError\u001b[0m\u001b[1;31m:\u001b[0m invalid syntax\n"
     ]
    }
   ],
   "source": [
    "var* = 10 # special characters not allowed in identifiers"
   ]
  },
  {
   "cell_type": "code",
   "execution_count": 23,
   "id": "532e4c56-e218-4bff-9b7c-64a59d36f402",
   "metadata": {},
   "outputs": [
    {
     "ename": "SyntaxError",
     "evalue": "cannot assign to literal here. Maybe you meant '==' instead of '='? (818890372.py, line 1)",
     "output_type": "error",
     "traceback": [
      "\u001b[1;36m  Cell \u001b[1;32mIn[23], line 1\u001b[1;36m\u001b[0m\n\u001b[1;33m    \"var\" = 20  # special characters not allowed in identifiers\u001b[0m\n\u001b[1;37m    ^\u001b[0m\n\u001b[1;31mSyntaxError\u001b[0m\u001b[1;31m:\u001b[0m cannot assign to literal here. Maybe you meant '==' instead of '='?\n"
     ]
    }
   ],
   "source": [
    "\"var\" = 20  # special characters not allowed in identifiers"
   ]
  },
  {
   "cell_type": "code",
   "execution_count": 24,
   "id": "57798d21-5773-4fcd-8bae-7b8db49c72fd",
   "metadata": {},
   "outputs": [
    {
     "ename": "SyntaxError",
     "evalue": "invalid syntax (2142728044.py, line 1)",
     "output_type": "error",
     "traceback": [
      "\u001b[1;36m  Cell \u001b[1;32mIn[24], line 1\u001b[1;36m\u001b[0m\n\u001b[1;33m    def = 'hrutik'\u001b[0m\n\u001b[1;37m        ^\u001b[0m\n\u001b[1;31mSyntaxError\u001b[0m\u001b[1;31m:\u001b[0m invalid syntax\n"
     ]
    }
   ],
   "source": [
    "def = 'hrutik'  # reserved keywords cannot use as identifiers"
   ]
  },
  {
   "cell_type": "markdown",
   "id": "1b1f1d18-d760-4f93-bd53-f86c4a869057",
   "metadata": {},
   "source": [
    "## Variables\n",
    "- A varaible is a container to store values.\n",
    "- A Python variable is a reserved memory location to store values.\n",
    "- A variable is created the moment you first assign a value to it."
   ]
  },
  {
   "cell_type": "code",
   "execution_count": 26,
   "id": "bf32b039-2a46-4eab-b2d4-9487e540bf1c",
   "metadata": {},
   "outputs": [],
   "source": [
    "name = \"Hrutik\""
   ]
  },
  {
   "cell_type": "code",
   "execution_count": 27,
   "id": "15b94502-26e2-4c54-9721-3ad8cd446120",
   "metadata": {},
   "outputs": [],
   "source": [
    "age = 23"
   ]
  },
  {
   "cell_type": "code",
   "execution_count": null,
   "id": "efb52d79-d092-4553-aec5-ba02d3066e4f",
   "metadata": {},
   "outputs": [],
   "source": [
    "country = \"India\""
   ]
  },
  {
   "cell_type": "markdown",
   "id": "0cb96d34-d74c-49db-b306-18305489c5d4",
   "metadata": {},
   "source": [
    "### id()\n",
    "id function returns the “identity” or \"the reserved memory location\" of the object.<br>\n",
    "The identity of an object\n",
    "- Is an integer\n",
    "- Guaranteed to be unique\n",
    "- Constant for this object during its lifetime."
   ]
  },
  {
   "cell_type": "code",
   "execution_count": 31,
   "id": "6d531a84-76cd-404f-8325-5a52ce094535",
   "metadata": {},
   "outputs": [
    {
     "data": {
      "text/plain": [
       "1497558591344"
      ]
     },
     "execution_count": 31,
     "metadata": {},
     "output_type": "execute_result"
    }
   ],
   "source": [
    "a = 'Hrutik'\n",
    "id(a)"
   ]
  },
  {
   "cell_type": "code",
   "execution_count": 32,
   "id": "a21b289f-2ae2-4714-8f86-1afeb5d21ae1",
   "metadata": {},
   "outputs": [
    {
     "data": {
      "text/plain": [
       "1497622729136"
      ]
     },
     "execution_count": 32,
     "metadata": {},
     "output_type": "execute_result"
    }
   ],
   "source": [
    "b = \"Om\"\n",
    "id(b)"
   ]
  },
  {
   "cell_type": "markdown",
   "id": "a33ee862-9b03-42ea-addd-bbbe65739479",
   "metadata": {},
   "source": [
    "#### how variables stores a value in python"
   ]
  },
  {
   "cell_type": "code",
   "execution_count": 33,
   "id": "18e463e1-d4da-4701-a794-07c25d057089",
   "metadata": {},
   "outputs": [
    {
     "data": {
      "text/plain": [
       "('Hrutik', 1497558591344)"
      ]
     },
     "execution_count": 33,
     "metadata": {},
     "output_type": "execute_result"
    }
   ],
   "source": [
    "p = 'Hrutik' \n",
    "# creates a string object with given string assigns to \"p\" and pointing towards a memory location.\n",
    "\n",
    "q = 'Hrutik'\n",
    "# creates a object \"q\".\n",
    "# as both strings are same this create an reference which will point to given string.\n",
    "# hence \"p\" and \"q\" will point towards same location.\n",
    "\n",
    "r = q\n",
    "# variable \"r\" will also point to the same location where \"p\" and \"q\" are pointing\n",
    "\n",
    "p, id(p)"
   ]
  },
  {
   "cell_type": "code",
   "execution_count": 34,
   "id": "cbcbf5ca-b6d5-4563-a1d9-675727018ca1",
   "metadata": {},
   "outputs": [
    {
     "data": {
      "text/plain": [
       "('Hrutik', 1497558591344)"
      ]
     },
     "execution_count": 34,
     "metadata": {},
     "output_type": "execute_result"
    }
   ],
   "source": [
    "q, id(q)"
   ]
  },
  {
   "cell_type": "code",
   "execution_count": 35,
   "id": "f810297f-6dcc-4b26-8e59-ff15944912e5",
   "metadata": {},
   "outputs": [
    {
     "data": {
      "text/plain": [
       "('Hrutik', 1497558591344)"
      ]
     },
     "execution_count": 35,
     "metadata": {},
     "output_type": "execute_result"
    }
   ],
   "source": [
    "r, id(r)"
   ]
  },
  {
   "cell_type": "markdown",
   "id": "bc26c949-66a9-42ee-ac79-1fb26f8c9f32",
   "metadata": {},
   "source": [
    "here we can see that both the variables pointing towards same location as it containing same object.\n"
   ]
  },
  {
   "cell_type": "markdown",
   "id": "7a318800-61b6-4960-a07d-a283518ec312",
   "metadata": {},
   "source": [
    "<img src=\"variables structure image.png\">\n"
   ]
  },
  {
   "cell_type": "markdown",
   "id": "e870cbfe-40f8-49d3-8c72-fb33af221a3e",
   "metadata": {},
   "source": [
    "## Reserved Words\n",
    "In Python some words are reserved to represent some meaning or functionality. Such type \n",
    "of words are called Reserved word.\n",
    "There are 33 reserved words available in Python.\n",
    "- `Booleans:` True,False,None\n",
    "- `Operators:` and, or, not, is\n",
    "- `Conditionals:` if, elif, else\n",
    "- `Looping:` while, for, break, continue, return, in, yield\n",
    "- `Errors & Exceptions:` try, except, finally, raise, assert\n",
    "- `OOPs:` class, def, pass, global, nonlocal, lambda\n",
    "- `Others:` import, from, as, del, with,with\r",
    "s"
   ]
  },
  {
   "cell_type": "markdown",
   "id": "73b6c768-4915-4c90-b55c-3fa29390662d",
   "metadata": {},
   "source": [
    "## Data Types\n",
    "There are number of datatypes in python.\n",
    "These are some of the important datatypes classified accoring to subcategory\n",
    "- `Text Type`:\t    str\n",
    "- `Numeric Types`:\tint, float, complex\n",
    "- `Sequence Types`:\tlist, tuple, range\n",
    "- `Mapping Type`: \tdict\n",
    "- `Set Types`:\t    set, frozenset\n",
    "- `Boolean Type`:\tbool\n",
    "- `Binary Types`:  \tbytes, bytearray, memoryview\n",
    "- `None Type`:\t    NoneType"
   ]
  },
  {
   "cell_type": "code",
   "execution_count": 9,
   "id": "6bc1edf9-11c4-432f-9cb4-ecf7dc992343",
   "metadata": {},
   "outputs": [
    {
     "name": "stdout",
     "output_type": "stream",
     "text": [
      "Hello World\n"
     ]
    },
    {
     "data": {
      "text/plain": [
       "str"
      ]
     },
     "execution_count": 9,
     "metadata": {},
     "output_type": "execute_result"
    }
   ],
   "source": [
    "# Text/String\n",
    "print('Hello World')\n",
    "type('Hello World')"
   ]
  },
  {
   "cell_type": "code",
   "execution_count": 13,
   "id": "219b0c01-0f60-4f2c-9cdc-79c3d1b95681",
   "metadata": {},
   "outputs": [
    {
     "name": "stdout",
     "output_type": "stream",
     "text": [
      "8\n",
      "inf\n"
     ]
    }
   ],
   "source": [
    "# Integer\n",
    "print(8)\n",
    "# 1*10^308\n",
    "print(1e309) # --> after 1 to the power of 309 it shows infinity in python for numeric values"
   ]
  },
  {
   "cell_type": "code",
   "execution_count": 14,
   "id": "5ae6da6c-e33c-49fb-996f-e7ab452217d4",
   "metadata": {},
   "outputs": [
    {
     "name": "stdout",
     "output_type": "stream",
     "text": [
      "8.55\n",
      "170000.0\n"
     ]
    }
   ],
   "source": [
    "# Decimal/Float\n",
    "print(8.55)\n",
    "print(1.7e5)"
   ]
  },
  {
   "cell_type": "code",
   "execution_count": 15,
   "id": "2c6d9312-abc6-4151-9b08-885b20719a91",
   "metadata": {},
   "outputs": [
    {
     "name": "stdout",
     "output_type": "stream",
     "text": [
      "(5+6j)\n"
     ]
    }
   ],
   "source": [
    "# complex\n",
    "print(5+6j)  # in python complex numbers uses 'j' instead of 'i', because 'i' is used for various purposes in python. eg. in loops"
   ]
  },
  {
   "cell_type": "code",
   "execution_count": 16,
   "id": "3417a1b2-0ed7-4d2c-a999-f2fe9d169414",
   "metadata": {},
   "outputs": [
    {
     "name": "stdout",
     "output_type": "stream",
     "text": [
      "[1, 2, 3, 4, 5]\n"
     ]
    }
   ],
   "source": [
    "# List-> C-> Array\n",
    "print([1,2,3,4,5])"
   ]
  },
  {
   "cell_type": "code",
   "execution_count": 17,
   "id": "00d61fed-1467-4291-b3d6-086ce3916948",
   "metadata": {},
   "outputs": [
    {
     "name": "stdout",
     "output_type": "stream",
     "text": [
      "(1, 2, 3, 4, 5)\n"
     ]
    }
   ],
   "source": [
    "# Tuple\n",
    "print((1,2,3,4,5))"
   ]
  },
  {
   "cell_type": "code",
   "execution_count": 39,
   "id": "919718d5-6f1b-4438-95e4-b3589bab4f6b",
   "metadata": {},
   "outputs": [
    {
     "name": "stdout",
     "output_type": "stream",
     "text": [
      "1\n",
      "3\n",
      "5\n",
      "7\n",
      "9\n"
     ]
    }
   ],
   "source": [
    "# range\n",
    "a = range(1,10, 2)\n",
    "for i in a:\n",
    "    print(i)"
   ]
  },
  {
   "cell_type": "code",
   "execution_count": 18,
   "id": "e23b302f-37b4-4468-9869-e661e4f21dc8",
   "metadata": {},
   "outputs": [
    {
     "name": "stdout",
     "output_type": "stream",
     "text": [
      "{'name': 'Nitish', 'gender': 'Male', 'weight': 70}\n"
     ]
    }
   ],
   "source": [
    "# Dictionary\n",
    "print({'name':'Nitish','gender':'Male','weight':70})"
   ]
  },
  {
   "cell_type": "code",
   "execution_count": 40,
   "id": "56a3354a-623a-4d50-868d-79d18ee5ef86",
   "metadata": {},
   "outputs": [
    {
     "name": "stdout",
     "output_type": "stream",
     "text": [
      "{1, 2, 3, 4, 5, 6}\n"
     ]
    }
   ],
   "source": [
    "# Sets\n",
    "print({2,3,4,5,1,3,5,6,3,4})"
   ]
  },
  {
   "cell_type": "code",
   "execution_count": 44,
   "id": "2f42cea4-d1ca-4db3-99b9-27b5be803d49",
   "metadata": {},
   "outputs": [
    {
     "name": "stdout",
     "output_type": "stream",
     "text": [
      "<class 'frozenset'>\n"
     ]
    }
   ],
   "source": [
    "# frozenets --> same as sets but they are immutable\n",
    "a = frozenset({2,3,4,5,1,3,5,6,3,4})\n",
    "print(type(a))"
   ]
  },
  {
   "cell_type": "code",
   "execution_count": 45,
   "id": "ec225b7d-25b7-47fd-bb96-a543d57db63c",
   "metadata": {},
   "outputs": [
    {
     "name": "stdout",
     "output_type": "stream",
     "text": [
      "True\n",
      "False\n",
      "None\n"
     ]
    }
   ],
   "source": [
    "# Boolean \n",
    "print(True)\n",
    "print(False)\n",
    "\n",
    "# None\n",
    "print(None)"
   ]
  },
  {
   "cell_type": "markdown",
   "id": "559c7e96-6187-4973-bce7-7e7b59f28ced",
   "metadata": {},
   "source": [
    "##### with `type()` function in python we get the datatype of data"
   ]
  },
  {
   "cell_type": "code",
   "execution_count": null,
   "id": "1ba72da6-3272-413a-b7e2-556a3eefcea5",
   "metadata": {},
   "outputs": [],
   "source": [
    "# type ()\n",
    "type([1,2,3])"
   ]
  },
  {
   "cell_type": "markdown",
   "id": "5fb85cc8-df11-4966-a844-1a503d9e9947",
   "metadata": {},
   "source": [
    "### Type Conversion/Casting\n",
    "There are two types of type conversion in python\n",
    "#### 1. Implicit\n",
    "where python automatically converts the datatype "
   ]
  },
  {
   "cell_type": "code",
   "execution_count": 22,
   "id": "736dc2cc-29b7-4353-903c-726dc682b785",
   "metadata": {},
   "outputs": [
    {
     "name": "stdout",
     "output_type": "stream",
     "text": [
      "10.6\n"
     ]
    }
   ],
   "source": [
    "print(5+5.6) # in this example addition of int and float character results a float value"
   ]
  },
  {
   "cell_type": "markdown",
   "id": "0d2bfe4a-f8a0-475b-abf2-ce7b3cc7e1ee",
   "metadata": {},
   "source": [
    "#### 2. Explicit\n",
    "we use type casting methods to convert datatype of a value/variable forcefully.\n",
    "we use following methods to typecasting\n",
    "- int()\n",
    "- float()\n",
    "- complex()\n",
    "- bool()\n",
    "- str()\n",
    "\n",
    "only values converts which is possible unless it gives error"
   ]
  },
  {
   "cell_type": "code",
   "execution_count": 25,
   "id": "854f14bc-0edc-4aac-bf3c-9ffcfad4aec8",
   "metadata": {},
   "outputs": [
    {
     "data": {
      "text/plain": [
       "4"
      ]
     },
     "execution_count": 25,
     "metadata": {},
     "output_type": "execute_result"
    }
   ],
   "source": [
    "# str -> int\n",
    "int(\"4\")\n",
    "# int('Hello') # Trying this won't work, but try it and have a look at error\n",
    "\n",
    "# int to str\n",
    "str(5)\n",
    "\n",
    "# float\n",
    "int(4.0)"
   ]
  },
  {
   "cell_type": "markdown",
   "id": "0ccc4fd1-6179-465c-a0a2-b4131880b622",
   "metadata": {},
   "source": [
    "### Fundamental Data Types vs Immutability\n",
    "All Fundamental Data types are immutable. i.e once we creates an object,we cannot \n",
    "perform any changes in that object. If we are trying to change then with those changes  \r\n",
    "new object will be created. This non-chageable behaviour is called immutability"
   ]
  },
  {
   "cell_type": "code",
   "execution_count": 34,
   "id": "7e7ea5a9-6c49-424e-90c3-4a9236ee25f6",
   "metadata": {},
   "outputs": [
    {
     "name": "stdout",
     "output_type": "stream",
     "text": [
      "True\n",
      "True\n",
      "True\n"
     ]
    }
   ],
   "source": [
    "# Python automatically reuses small integers (typically between -5 and 256) that are commonly used. \n",
    "a = 10\n",
    "b = 10\n",
    "print(a is b)\n",
    "\n",
    "# This is because Python applies a similar optimization process called string interning for short strings and strings that look like identifiers (composed of letters, digits, and underscores) which are commonly used and immutable.\n",
    "a = \"Hrutik\"\n",
    "b = \"Hrutik\"\n",
    "print(a is b)\n",
    "\n",
    "a = True\n",
    "b = True\n",
    "print(a is b)"
   ]
  },
  {
   "cell_type": "code",
   "execution_count": 35,
   "id": "91975934-25fc-4fbf-861f-6014859a4dbd",
   "metadata": {},
   "outputs": [
    {
     "name": "stdout",
     "output_type": "stream",
     "text": [
      "False\n"
     ]
    }
   ],
   "source": [
    "a = 10+5j\n",
    "b = 10+5j\n",
    "print(a is b)  # this results false because for more complex objects like floats, complex numbers, or larger integers (beyond this range (-5, 256)), Python creates separate objects in memory, so is will return False in those cases."
   ]
  },
  {
   "cell_type": "code",
   "execution_count": 29,
   "id": "15028308-db0d-4b31-8f3b-bd0105be843a",
   "metadata": {},
   "outputs": [
    {
     "data": {
      "text/plain": [
       "True"
      ]
     },
     "execution_count": 29,
     "metadata": {},
     "output_type": "execute_result"
    }
   ],
   "source": []
  },
  {
   "cell_type": "markdown",
   "id": "12e74894-c04b-43db-98b6-c62d23705cf3",
   "metadata": {},
   "source": [
    "## Operators in Python\n",
    "Operators in python used to perform some operation.\n",
    "any kind of mathematical operation addition, multiplication, comparison between two values, etc.\n",
    "\n",
    "- Arithmetic Operators\n",
    "- Relational Operators\n",
    "- Logical Operators\n",
    "- Bitwise Operators\n",
    "- Assignment Operators\n",
    "- Membership Operators\n",
    "- Identity Operators"
   ]
  },
  {
   "cell_type": "markdown",
   "id": "21f5a007-e089-47a9-9a65-542cb9bcf351",
   "metadata": {},
   "source": [
    "### Arithmetic Operators\n",
    "used to perform arithmetic/basic mathematical operations on variables.<br>\n",
    "they include operators such as:\n",
    "- `+` addition\n",
    "- `-` subtraction\n",
    "- `*` multiplication\n",
    "- `/` division --> always returns float values in results\n",
    "- `%` modulo/modulus operator\n",
    "- `//` floor division\n",
    "- `**` exponent"
   ]
  },
  {
   "cell_type": "code",
   "execution_count": 5,
   "id": "91b88570-d35e-4629-a1c4-a6bb6615f3cf",
   "metadata": {},
   "outputs": [
    {
     "name": "stdout",
     "output_type": "stream",
     "text": [
      "11\n",
      "-1\n",
      "30\n",
      "1.6666666666666667\n",
      "78\n",
      "2\n",
      "125\n"
     ]
    }
   ],
   "source": [
    "# Arithmetric Operators\n",
    "print(5+6)\n",
    "\n",
    "print(5-6)\n",
    "\n",
    "print(5*6)\n",
    "\n",
    "print(5/3)\n",
    "\n",
    "print(786//10)\n",
    "\n",
    "print(5%3)\n",
    "\n",
    "print(5**3)"
   ]
  },
  {
   "cell_type": "markdown",
   "id": "d1742ada-b429-403f-b351-18c00554d4ff",
   "metadata": {},
   "source": [
    "### Relational Operators\n",
    "relational operators returns boolean results by comparing two values based on different operations.<br>\n",
    "that includes:\n",
    "- `<` less than\n",
    "- `<=` less than equal to \n",
    "- `>` greater than\n",
    "- `>=` greater than equal to\n",
    "- `==` equals to\n",
    "- `!=` not equals to"
   ]
  },
  {
   "cell_type": "code",
   "execution_count": 13,
   "id": "eb520daf-7850-44e4-b99d-46cce62136b8",
   "metadata": {},
   "outputs": [
    {
     "name": "stdout",
     "output_type": "stream",
     "text": [
      "False\n",
      "True\n",
      "True\n",
      "True\n",
      "False\n",
      "False\n"
     ]
    }
   ],
   "source": [
    "# Relational Operators\n",
    "print(4>5)\n",
    "\n",
    "print(4<5)\n",
    "\n",
    "print(4>=4)\n",
    "\n",
    "print(4<=4)\n",
    "\n",
    "print(4==2)\n",
    "\n",
    "print(4!=4)"
   ]
  },
  {
   "cell_type": "markdown",
   "id": "8d28e946-e93a-48a2-b3a7-03b18ef9d653",
   "metadata": {},
   "source": [
    "### Logical Operators\n",
    "logical operators performs logical operations on two values and returns one value as result among them<br>\n",
    "logical operators includes:\n",
    "- `and` logical and operation\n",
    "- `or` logical or operation\n",
    "- `not` logical not operation"
   ]
  },
  {
   "cell_type": "code",
   "execution_count": 7,
   "id": "a70d60a5-5a2b-4763-bed5-fd42027d578e",
   "metadata": {},
   "outputs": [
    {
     "name": "stdout",
     "output_type": "stream",
     "text": [
      "0\n",
      "0\n",
      "1\n",
      "1\n",
      "True\n"
     ]
    }
   ],
   "source": [
    "# Logical Operators\n",
    "\n",
    "print(1 and 0)   # --> True and False = False\n",
    "print(0 and 1)   # -->\n",
    "print(1 or 0)    # -->\n",
    "print(0 or 1)    # -->\n",
    "\n",
    "print(not 0)  # not False i.e. -> True"
   ]
  },
  {
   "cell_type": "markdown",
   "id": "bac084ca-e16c-4364-b1c9-6ed168d3f1db",
   "metadata": {},
   "source": [
    "### Bitwise Operators\n",
    "bitwise operator works on binary number authentication.<br>\n",
    "these operators are applicable only for integer and boolean types.<br>\n",
    "these operator considers a number as a bit and performs operations over it.<br>\n",
    "bitwise operators consists of:\n",
    "- `&` bitwise and\n",
    "- `|` bitwise or\n",
    "- `~` bitwise not/complement operator\n",
    "- `^` bitwise xor\n",
    "- `<<` bitwise left shift\n",
    "- `>>` bitwise right shift"
   ]
  },
  {
   "cell_type": "code",
   "execution_count": 19,
   "id": "0dd5726d-e80a-4b3c-94f3-c7729219296d",
   "metadata": {},
   "outputs": [
    {
     "name": "stdout",
     "output_type": "stream",
     "text": [
      "4\n",
      "3\n",
      "5\n",
      "-4\n",
      "1\n",
      "20\n"
     ]
    }
   ],
   "source": [
    "# Bitwise Operators\n",
    "\n",
    "# bitwise and\n",
    "print(4 & 7)\n",
    "\n",
    "# bitwise or\n",
    "print(2 | 3)\n",
    "\n",
    "# bitwise xor\n",
    "print(2 ^ 7)\n",
    "\n",
    "print(~3)\n",
    "\n",
    "print(4 >> 2)\n",
    "\n",
    "print(5 << 2)"
   ]
  },
  {
   "cell_type": "markdown",
   "id": "00944739-10c8-40b4-90db-828871b8c906",
   "metadata": {},
   "source": [
    "### Assignment operators\n",
    "assignment operator assigns value to the variable<br>\n",
    "every arithmetic operator can be used as an assignment operator\n"
   ]
  },
  {
   "cell_type": "code",
   "execution_count": 9,
   "id": "8a063ef6-08fe-4574-a8f8-8577525d1a5c",
   "metadata": {},
   "outputs": [
    {
     "name": "stdout",
     "output_type": "stream",
     "text": [
      "125\n"
     ]
    }
   ],
   "source": [
    "# Assignment Operators\n",
    "\n",
    "a = 5\n",
    "\n",
    "a **= 3\n",
    "# The above code is doing this operation --> a = a**3\n",
    "\n",
    "print(a)"
   ]
  },
  {
   "cell_type": "markdown",
   "id": "90978c30-2035-4798-bb16-41ac9fa6aa05",
   "metadata": {},
   "source": [
    "### Membership Operators\n",
    "checks whether a given object is a part of collection or not. returns boolean as a result<br>\n",
    "a collection can be a string, list, set, tuple or a dictionary."
   ]
  },
  {
   "cell_type": "code",
   "execution_count": 2,
   "id": "8e9f72ca-120f-40a8-a6e8-aa072eaa56c8",
   "metadata": {},
   "outputs": [
    {
     "name": "stdout",
     "output_type": "stream",
     "text": [
      "True\n",
      "True\n"
     ]
    }
   ],
   "source": [
    "# Membership Operators\n",
    "\n",
    "# in/not in\n",
    "\n",
    "print('D' in 'Delhi')\n",
    "\n",
    "print(1 not in [2,3,4,5,6])"
   ]
  },
  {
   "cell_type": "markdown",
   "id": "64271718-3437-4cb4-8cee-d830270f9e37",
   "metadata": {},
   "source": [
    "### Identity Operators \n",
    "identity operators used to check for address comparison<br>\n",
    "we can get the address of a variable with `id()` function"
   ]
  },
  {
   "cell_type": "code",
   "execution_count": 11,
   "id": "f6545bcc-410f-40ce-a3cb-57944fc31b21",
   "metadata": {},
   "outputs": [
    {
     "name": "stdout",
     "output_type": "stream",
     "text": [
      "140737429226568\n",
      "140737429226568\n",
      "True\n"
     ]
    }
   ],
   "source": [
    "a = 10\n",
    "b = 10\n",
    "\n",
    "print(id(a))\n",
    "print(id(a))\n",
    "\n",
    "print(a is b)"
   ]
  },
  {
   "cell_type": "code",
   "execution_count": 12,
   "id": "e33e4283-f852-4c1c-bd25-3d9913c9f459",
   "metadata": {},
   "outputs": [
    {
     "name": "stdout",
     "output_type": "stream",
     "text": [
      "False\n"
     ]
    }
   ],
   "source": [
    "a = 10+5j\n",
    "b = 10+5j\n",
    "print(a is b)  # this results false because for more complex objects like floats, complex numbers, or larger integers (beyond this range (-5, 256)), Python creates separate objects in memory, so is will return False in those cases."
   ]
  },
  {
   "cell_type": "markdown",
   "id": "d007d0fe-60b8-47d0-b049-93b5b12f6339",
   "metadata": {},
   "source": [
    "## Input and Output in python"
   ]
  },
  {
   "cell_type": "markdown",
   "id": "f91c04e7-5f5a-4ea8-9381-affbdaed9d42",
   "metadata": {},
   "source": [
    "### Input in python\n",
    "input means reading the data from the keyborad.<br>\n",
    "\n",
    "#### input()\n",
    "This function always reads the data from the keyboard in the form of String Format.<br>\n",
    "We have to convert that string type to our required type by using the corresponding type casting methods"
   ]
  },
  {
   "cell_type": "code",
   "execution_count": 29,
   "id": "d378f9e3-b40f-4883-89e4-c75ba1d03591",
   "metadata": {},
   "outputs": [
    {
     "name": "stdin",
     "output_type": "stream",
     "text": [
      "Enter your name: 2\n"
     ]
    },
    {
     "name": "stdout",
     "output_type": "stream",
     "text": [
      "2\n",
      "<class 'str'>\n"
     ]
    }
   ],
   "source": [
    "a = input(\"Enter your name:\")\n",
    "print(a)\n",
    "print(type(a))"
   ]
  },
  {
   "cell_type": "markdown",
   "id": "a4523077-4eb4-4e55-b49f-4ce97eecee1d",
   "metadata": {},
   "source": [
    "#### eval()\n",
    "eval function takes a string of expression and evaluates its results without typecasting"
   ]
  },
  {
   "cell_type": "code",
   "execution_count": 31,
   "id": "9dcd77e2-425a-4f40-a5ac-eb9a934d9e4f",
   "metadata": {},
   "outputs": [
    {
     "data": {
      "text/plain": [
       "2.765625"
      ]
     },
     "execution_count": 31,
     "metadata": {},
     "output_type": "execute_result"
    }
   ],
   "source": [
    "eval(\"1+2-3*5/4**3\")"
   ]
  },
  {
   "cell_type": "markdown",
   "id": "07621a3e-dabd-490e-a06e-092322c7736c",
   "metadata": {},
   "source": [
    "### Output in Python\n",
    "output means giving value back to user or returning some value from the program that can be done with \n",
    "#### print()\n",
    "print function returns a stream or an object"
   ]
  },
  {
   "cell_type": "code",
   "execution_count": 33,
   "id": "5ab6f2ff-c721-4018-9087-e58e34edfdb2",
   "metadata": {},
   "outputs": [
    {
     "name": "stdout",
     "output_type": "stream",
     "text": [
      "My name is hrutik\n"
     ]
    }
   ],
   "source": [
    "print(\"My name is hrutik\")"
   ]
  },
  {
   "cell_type": "code",
   "execution_count": 37,
   "id": "3be39199-a99f-495e-aabf-e56da524d43d",
   "metadata": {},
   "outputs": [
    {
     "name": "stdout",
     "output_type": "stream",
     "text": [
      "1 3 5 6 2\n"
     ]
    }
   ],
   "source": [
    "print(1, 3, 5, 6, 2)"
   ]
  },
  {
   "cell_type": "code",
   "execution_count": 36,
   "id": "47238933-b8eb-4170-9456-0166d99634ec",
   "metadata": {},
   "outputs": [
    {
     "name": "stdout",
     "output_type": "stream",
     "text": [
      "1___3___5___6___2\n"
     ]
    }
   ],
   "source": [
    "print(1, 3, 5, 6, 2, sep=\"___\") # seperator parameter seperates objects by the seperator value by default its value is --> \" \"  space"
   ]
  },
  {
   "cell_type": "code",
   "execution_count": 38,
   "id": "07fb421d-e610-4473-994c-5cbdefcce752",
   "metadata": {},
   "outputs": [
    {
     "name": "stdout",
     "output_type": "stream",
     "text": [
      "1\n",
      "2\n",
      "3\n"
     ]
    }
   ],
   "source": [
    "print(1)\n",
    "print(2)\n",
    "print(3)"
   ]
  },
  {
   "cell_type": "code",
   "execution_count": 40,
   "id": "924a4640-0557-4d6d-a800-73143945b3ab",
   "metadata": {},
   "outputs": [
    {
     "name": "stdout",
     "output_type": "stream",
     "text": [
      "1___2___3\n"
     ]
    }
   ],
   "source": [
    "print(1, end='___') # end parameter end print statement with an \\n character which is a newline character bydefault \n",
    "print(2, end='___')\n",
    "print(3)"
   ]
  },
  {
   "cell_type": "code",
   "execution_count": 47,
   "id": "18d2003c-71b3-4883-8fee-72d3718f1446",
   "metadata": {},
   "outputs": [
    {
     "name": "stdout",
     "output_type": "stream",
     "text": [
      "Hello my name is Hrutik i am from Yavatmal and i am an Engineering graduate\n",
      "__________________________________________\n",
      "if in the above string the formatting character sequence goes wrong then it is\n",
      "\n",
      "Hello my name is Yavatmal i am from Engineering and i am an Hrutik graduate\n",
      "__________________________________________\n",
      "to avoid this we use fstrings\n",
      "\n",
      "Hello my name is Hrutik i am from Yavatmal and i am an Engineering graduate\n"
     ]
    }
   ],
   "source": [
    "name = \"Hrutik\"\n",
    "city = \"Yavatmal\"\n",
    "education = \"Engineering\"\n",
    "print(\"Hello my name is %s i am from %s and i am an %s graduate\" %(name, city, education))\n",
    "\n",
    "print(\"__________________________________________\")\n",
    "print(\"if in the above string the formatting character sequence goes wrong then it is\")\n",
    "print()\n",
    "print(\"Hello my name is %s i am from %s and i am an %s graduate\" %(city, education, name))\n",
    "\n",
    "print(\"__________________________________________\")\n",
    "print(\"to avoid this we use fstrings\")\n",
    "print()\n",
    "print(f\"Hello my name is {name} i am from {city} and i am an {education} graduate\")\n"
   ]
  },
  {
   "cell_type": "markdown",
   "id": "0791fc94-c8e0-4601-be2f-0735861b2fbe",
   "metadata": {},
   "source": [
    "## Comments\n",
    "comment is a line of code that is not executed during a program execution.<br>\n",
    "comments plays a vital role in developing programs as they help by providing information to the user to understand about the source code developed by the developer.<br>\n",
    "There are two types of comments\n",
    "#### single line \n",
    "single line comment in python written with `#` symbol. anything written after # considered as comment"
   ]
  },
  {
   "cell_type": "code",
   "execution_count": 48,
   "id": "c773157b-fdd1-43a0-bcf9-de1a5ac91e8b",
   "metadata": {},
   "outputs": [
    {
     "name": "stdout",
     "output_type": "stream",
     "text": [
      "7\n"
     ]
    }
   ],
   "source": [
    "# this code performs addition\n",
    "print(2+5)"
   ]
  },
  {
   "cell_type": "markdown",
   "id": "2f92c559-68a5-47d5-a34f-ce6c8fe1a4ae",
   "metadata": {},
   "source": [
    "#### multiline comment\n",
    "multiline comments written with the help of `''' comment '''` single quotes or `\"\"\" comment \"\"\"` double quotes<br>\n",
    "This generally used to write docstring of a function or a class"
   ]
  },
  {
   "cell_type": "code",
   "execution_count": 51,
   "id": "a509aaa5-1580-4552-8170-926f5dea8911",
   "metadata": {},
   "outputs": [
    {
     "name": "stdout",
     "output_type": "stream",
     "text": [
      "Multiline comment\n"
     ]
    }
   ],
   "source": [
    "\"\"\"\n",
    "This is \n",
    "multiline \n",
    "comment\n",
    "\"\"\"  # --> docstring : writes at start of function. to give information about it.\n",
    "print(\"Multiline comment\")"
   ]
  },
  {
   "cell_type": "markdown",
   "id": "c41eb3c4-ea09-48b6-93e3-3c05aee21c58",
   "metadata": {},
   "source": [
    "## triple quotes\n",
    "triple quotes has different meaning in python depends on where they are used:\n",
    "- if it is not accessed to a variable then it acts as a multiline comment.\n",
    "- if it assigns to a variable then it acts as a multiline string.\n",
    "- if it is used inside a function then it acts as a docstring."
   ]
  },
  {
   "cell_type": "code",
   "execution_count": null,
   "id": "35f90f61-1af3-47ba-b613-78210c1b94e0",
   "metadata": {},
   "outputs": [],
   "source": []
  },
  {
   "cell_type": "code",
   "execution_count": null,
   "id": "bdd28ba9-31f1-4b96-8aec-b06eb18e611f",
   "metadata": {},
   "outputs": [],
   "source": []
  },
  {
   "cell_type": "code",
   "execution_count": null,
   "id": "5cccced3-d4ef-4f27-ba56-103e5278a53d",
   "metadata": {},
   "outputs": [],
   "source": []
  }
 ],
 "metadata": {
  "kernelspec": {
   "display_name": "Python 3 (ipykernel)",
   "language": "python",
   "name": "python3"
  },
  "language_info": {
   "codemirror_mode": {
    "name": "ipython",
    "version": 3
   },
   "file_extension": ".py",
   "mimetype": "text/x-python",
   "name": "python",
   "nbconvert_exporter": "python",
   "pygments_lexer": "ipython3",
   "version": "3.11.7"
  }
 },
 "nbformat": 4,
 "nbformat_minor": 5
}
