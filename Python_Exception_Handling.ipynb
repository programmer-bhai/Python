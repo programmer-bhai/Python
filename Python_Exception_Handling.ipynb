{
 "cells": [
  {
   "cell_type": "markdown",
   "metadata": {
    "id": "xh7vgT_4-gdB"
   },
   "source": [
    "# Exception Handling\n",
    "In Python, errors and exceptions are essential concepts to understand for handling runtime errors gracefully, preventing crashes, and maintaining a smooth user experience. Here's a detailed breakdown, tailored for beginners:\n",
    "\n",
    "#### Types of Errors in Python\n",
    "Before diving into exceptions, let’s first understand what errors are. Errors are problems in a program that cause it to terminate. Python mainly has two types of errors:\n",
    "- During compilation -> Syntax Error\n",
    "- During execution -> Exceptions"
   ]
  },
  {
   "cell_type": "markdown",
   "metadata": {
    "id": "U9R2vn5c-2RE"
   },
   "source": [
    "## Syntax Error\n",
    "Syntax errors occur when the code violates Python’s grammar rules, preventing the program from running.<br>\n",
    "The errors which occurs because of invalid syntax are called syntax errors.\n",
    "- Something in the program is not written according to the program grammar.\n",
    "- Error is raised by the interpreter/compiler\n",
    "- You can solve it by rectifying the program\n",
    "\n",
    "Examples of syntax error\n",
    "- Leaving symbols like colon,brackets\n",
    "- Misspelling a keyword\n",
    "- Incorrect indentation\n",
    "- empty if/else/loops/class/functions"
   ]
  },
  {
   "cell_type": "code",
   "execution_count": 5,
   "metadata": {
    "colab": {
     "base_uri": "https://localhost:8080/",
     "height": 133
    },
    "executionInfo": {
     "elapsed": 15,
     "status": "error",
     "timestamp": 1669718733003,
     "user": {
      "displayName": "CampusX",
      "userId": "17274569631252575216"
     },
     "user_tz": -330
    },
    "id": "sgsgNEc--1ux",
    "outputId": "f973a81c-d579-4259-dcea-19d380fbaaa8"
   },
   "outputs": [
    {
     "ename": "SyntaxError",
     "evalue": "Missing parentheses in call to 'print'. Did you mean print(...)? (528539990.py, line 2)",
     "output_type": "error",
     "traceback": [
      "\u001b[1;36m  Cell \u001b[1;32mIn[5], line 2\u001b[1;36m\u001b[0m\n\u001b[1;33m    print 'hello world'\u001b[0m\n\u001b[1;37m    ^\u001b[0m\n\u001b[1;31mSyntaxError\u001b[0m\u001b[1;31m:\u001b[0m Missing parentheses in call to 'print'. Did you mean print(...)?\n"
     ]
    }
   ],
   "source": [
    "# Examples of syntax error\n",
    "print 'hello world'"
   ]
  },
  {
   "cell_type": "code",
   "execution_count": 6,
   "metadata": {
    "colab": {
     "base_uri": "https://localhost:8080/",
     "height": 133
    },
    "executionInfo": {
     "elapsed": 615,
     "status": "error",
     "timestamp": 1669732705662,
     "user": {
      "displayName": "CampusX",
      "userId": "17274569631252575216"
     },
     "user_tz": -330
    },
    "id": "gd_SjrGDGTcU",
    "outputId": "5623d424-d264-45ec-cbc9-6ad6834f89ea"
   },
   "outputs": [
    {
     "ename": "SyntaxError",
     "evalue": "expected ':' (3315782095.py, line 2)",
     "output_type": "error",
     "traceback": [
      "\u001b[1;36m  Cell \u001b[1;32mIn[6], line 2\u001b[1;36m\u001b[0m\n\u001b[1;33m    if a==3\u001b[0m\n\u001b[1;37m           ^\u001b[0m\n\u001b[1;31mSyntaxError\u001b[0m\u001b[1;31m:\u001b[0m expected ':'\n"
     ]
    }
   ],
   "source": [
    "a = 5\n",
    "if a==3\n",
    "  print('hello')"
   ]
  },
  {
   "cell_type": "code",
   "execution_count": 7,
   "metadata": {
    "colab": {
     "base_uri": "https://localhost:8080/",
     "height": 133
    },
    "executionInfo": {
     "elapsed": 4,
     "status": "error",
     "timestamp": 1669732713342,
     "user": {
      "displayName": "CampusX",
      "userId": "17274569631252575216"
     },
     "user_tz": -330
    },
    "id": "eq0Y-v_MGTmR",
    "outputId": "9ccfb071-fc71-4540-fda7-05542f9b26d3"
   },
   "outputs": [
    {
     "ename": "SyntaxError",
     "evalue": "invalid syntax (521424995.py, line 2)",
     "output_type": "error",
     "traceback": [
      "\u001b[1;36m  Cell \u001b[1;32mIn[7], line 2\u001b[1;36m\u001b[0m\n\u001b[1;33m    iff a==3:\u001b[0m\n\u001b[1;37m        ^\u001b[0m\n\u001b[1;31mSyntaxError\u001b[0m\u001b[1;31m:\u001b[0m invalid syntax\n"
     ]
    }
   ],
   "source": [
    "a = 5\n",
    "iff a==3:\n",
    "  print('hello')"
   ]
  },
  {
   "cell_type": "code",
   "execution_count": 8,
   "metadata": {
    "colab": {
     "base_uri": "https://localhost:8080/",
     "height": 133
    },
    "executionInfo": {
     "elapsed": 505,
     "status": "error",
     "timestamp": 1669732724798,
     "user": {
      "displayName": "CampusX",
      "userId": "17274569631252575216"
     },
     "user_tz": -330
    },
    "id": "Llm9KioiGTwe",
    "outputId": "04702c51-21de-4138-9402-4d8ef3a59c8f"
   },
   "outputs": [
    {
     "ename": "IndentationError",
     "evalue": "expected an indented block after 'if' statement on line 2 (3610895221.py, line 3)",
     "output_type": "error",
     "traceback": [
      "\u001b[1;36m  Cell \u001b[1;32mIn[8], line 3\u001b[1;36m\u001b[0m\n\u001b[1;33m    print('hello')\u001b[0m\n\u001b[1;37m    ^\u001b[0m\n\u001b[1;31mIndentationError\u001b[0m\u001b[1;31m:\u001b[0m expected an indented block after 'if' statement on line 2\n"
     ]
    }
   ],
   "source": [
    "a = 5\n",
    "if a==3:\n",
    "print('hello')"
   ]
  },
  {
   "cell_type": "markdown",
   "metadata": {},
   "source": [
    "## Exceptions (Runtime Errors)\n",
    "Even when your syntax is correct, errors can still occur during program execution.<br>\n",
    "These errors are called exceptions. They happen when Python encounters something it can’t handle, like dividing by zero, accessing a missing file, or referring to a variable that doesn’t exist.\n",
    "  \n",
    "**Examples**\n",
    "- Divide by 0 -> ZeorDivisionError\n",
    "- Database error\n",
    "- IndexError\n",
    "- ModuleNotFoundError\n",
    "- KeyError\n",
    "- TypeError\n",
    "- NameError\n",
    "- ValueError"
   ]
  },
  {
   "cell_type": "code",
   "execution_count": 18,
   "metadata": {
    "colab": {
     "base_uri": "https://localhost:8080/",
     "height": 205
    },
    "executionInfo": {
     "elapsed": 732,
     "status": "error",
     "timestamp": 1669732781636,
     "user": {
      "displayName": "CampusX",
      "userId": "17274569631252575216"
     },
     "user_tz": -330
    },
    "id": "KZQFu9zdEuFC",
    "outputId": "546e9247-b4a2-4c14-b822-4c6c00264f30"
   },
   "outputs": [
    {
     "ename": "IndexError",
     "evalue": "list index out of range",
     "output_type": "error",
     "traceback": [
      "\u001b[1;31m---------------------------------------------------------------------------\u001b[0m",
      "\u001b[1;31mIndexError\u001b[0m                                Traceback (most recent call last)",
      "Cell \u001b[1;32mIn[18], line 4\u001b[0m\n\u001b[0;32m      1\u001b[0m \u001b[38;5;66;03m# IndexError\u001b[39;00m\n\u001b[0;32m      2\u001b[0m \u001b[38;5;66;03m# The IndexError is thrown when trying to access an item at an invalid index.\u001b[39;00m\n\u001b[0;32m      3\u001b[0m L \u001b[38;5;241m=\u001b[39m [\u001b[38;5;241m1\u001b[39m,\u001b[38;5;241m2\u001b[39m,\u001b[38;5;241m3\u001b[39m]\n\u001b[1;32m----> 4\u001b[0m L[\u001b[38;5;241m100\u001b[39m]\n",
      "\u001b[1;31mIndexError\u001b[0m: list index out of range"
     ]
    }
   ],
   "source": [
    "# IndexError\n",
    "# The IndexError is thrown when trying to access an item at an invalid index.\n",
    "L = [1,2,3]\n",
    "L[100]"
   ]
  },
  {
   "cell_type": "code",
   "execution_count": 19,
   "metadata": {
    "colab": {
     "base_uri": "https://localhost:8080/",
     "height": 366
    },
    "executionInfo": {
     "elapsed": 722,
     "status": "error",
     "timestamp": 1669732818388,
     "user": {
      "displayName": "CampusX",
      "userId": "17274569631252575216"
     },
     "user_tz": -330
    },
    "id": "FfoXlpAGE1rW",
    "outputId": "b5800421-3a3d-4293-fad6-fb49227da0e6"
   },
   "outputs": [
    {
     "ename": "ModuleNotFoundError",
     "evalue": "No module named 'mathi'",
     "output_type": "error",
     "traceback": [
      "\u001b[1;31m---------------------------------------------------------------------------\u001b[0m",
      "\u001b[1;31mModuleNotFoundError\u001b[0m                       Traceback (most recent call last)",
      "Cell \u001b[1;32mIn[19], line 3\u001b[0m\n\u001b[0;32m      1\u001b[0m \u001b[38;5;66;03m# ModuleNotFoundError\u001b[39;00m\n\u001b[0;32m      2\u001b[0m \u001b[38;5;66;03m# The ModuleNotFoundError is thrown when a module could not be found.\u001b[39;00m\n\u001b[1;32m----> 3\u001b[0m \u001b[38;5;28;01mimport\u001b[39;00m \u001b[38;5;21;01mmathi\u001b[39;00m\n\u001b[0;32m      4\u001b[0m math\u001b[38;5;241m.\u001b[39mfloor(\u001b[38;5;241m5.3\u001b[39m)\n",
      "\u001b[1;31mModuleNotFoundError\u001b[0m: No module named 'mathi'"
     ]
    }
   ],
   "source": [
    "# ModuleNotFoundError\n",
    "# The ModuleNotFoundError is thrown when a module could not be found.\n",
    "import mathi\n",
    "math.floor(5.3)"
   ]
  },
  {
   "cell_type": "code",
   "execution_count": 20,
   "metadata": {
    "colab": {
     "base_uri": "https://localhost:8080/",
     "height": 205
    },
    "executionInfo": {
     "elapsed": 625,
     "status": "error",
     "timestamp": 1669732851161,
     "user": {
      "displayName": "CampusX",
      "userId": "17274569631252575216"
     },
     "user_tz": -330
    },
    "id": "IP2CycVwE66e",
    "outputId": "430034d1-08f0-4e37-baeb-486eeb121b43"
   },
   "outputs": [
    {
     "ename": "KeyError",
     "evalue": "'age'",
     "output_type": "error",
     "traceback": [
      "\u001b[1;31m---------------------------------------------------------------------------\u001b[0m",
      "\u001b[1;31mKeyError\u001b[0m                                  Traceback (most recent call last)",
      "Cell \u001b[1;32mIn[20], line 5\u001b[0m\n\u001b[0;32m      1\u001b[0m \u001b[38;5;66;03m# KeyError\u001b[39;00m\n\u001b[0;32m      2\u001b[0m \u001b[38;5;66;03m# The KeyError is thrown when a key is not found\u001b[39;00m\n\u001b[0;32m      4\u001b[0m d \u001b[38;5;241m=\u001b[39m {\u001b[38;5;124m'\u001b[39m\u001b[38;5;124mname\u001b[39m\u001b[38;5;124m'\u001b[39m:\u001b[38;5;124m'\u001b[39m\u001b[38;5;124mHrutik\u001b[39m\u001b[38;5;124m'\u001b[39m}\n\u001b[1;32m----> 5\u001b[0m d[\u001b[38;5;124m'\u001b[39m\u001b[38;5;124mage\u001b[39m\u001b[38;5;124m'\u001b[39m]\n",
      "\u001b[1;31mKeyError\u001b[0m: 'age'"
     ]
    }
   ],
   "source": [
    "# KeyError\n",
    "# The KeyError is thrown when a key is not found\n",
    "\n",
    "d = {'name':'Hrutik'}\n",
    "d['age']"
   ]
  },
  {
   "cell_type": "code",
   "execution_count": 21,
   "metadata": {
    "colab": {
     "base_uri": "https://localhost:8080/",
     "height": 205
    },
    "executionInfo": {
     "elapsed": 720,
     "status": "error",
     "timestamp": 1669732955083,
     "user": {
      "displayName": "CampusX",
      "userId": "17274569631252575216"
     },
     "user_tz": -330
    },
    "id": "meGU1o_VE-Y5",
    "outputId": "e8b62d30-5c0e-411e-cd60-4cd7fa42ecfd"
   },
   "outputs": [
    {
     "ename": "TypeError",
     "evalue": "unsupported operand type(s) for +: 'int' and 'str'",
     "output_type": "error",
     "traceback": [
      "\u001b[1;31m---------------------------------------------------------------------------\u001b[0m",
      "\u001b[1;31mTypeError\u001b[0m                                 Traceback (most recent call last)",
      "Cell \u001b[1;32mIn[21], line 3\u001b[0m\n\u001b[0;32m      1\u001b[0m \u001b[38;5;66;03m# TypeError\u001b[39;00m\n\u001b[0;32m      2\u001b[0m \u001b[38;5;66;03m# The TypeError is thrown when an operation or function is applied to an object of an inappropriate type.\u001b[39;00m\n\u001b[1;32m----> 3\u001b[0m \u001b[38;5;241m1\u001b[39m \u001b[38;5;241m+\u001b[39m \u001b[38;5;124m'\u001b[39m\u001b[38;5;124ma\u001b[39m\u001b[38;5;124m'\u001b[39m\n",
      "\u001b[1;31mTypeError\u001b[0m: unsupported operand type(s) for +: 'int' and 'str'"
     ]
    }
   ],
   "source": [
    "# TypeError\n",
    "# The TypeError is thrown when an operation or function is applied to an object of an inappropriate type.\n",
    "1 + 'a'"
   ]
  },
  {
   "cell_type": "code",
   "execution_count": 22,
   "metadata": {
    "colab": {
     "base_uri": "https://localhost:8080/",
     "height": 205
    },
    "executionInfo": {
     "elapsed": 1309,
     "status": "error",
     "timestamp": 1669732907281,
     "user": {
      "displayName": "CampusX",
      "userId": "17274569631252575216"
     },
     "user_tz": -330
    },
    "id": "ZE_r2WsaFF6f",
    "outputId": "a8f34b54-b1e3-47d9-cd32-7eeee19b4d47"
   },
   "outputs": [
    {
     "ename": "ValueError",
     "evalue": "invalid literal for int() with base 10: 'a'",
     "output_type": "error",
     "traceback": [
      "\u001b[1;31m---------------------------------------------------------------------------\u001b[0m",
      "\u001b[1;31mValueError\u001b[0m                                Traceback (most recent call last)",
      "Cell \u001b[1;32mIn[22], line 3\u001b[0m\n\u001b[0;32m      1\u001b[0m \u001b[38;5;66;03m# ValueError\u001b[39;00m\n\u001b[0;32m      2\u001b[0m \u001b[38;5;66;03m# The ValueError is thrown when a function's argument is of an inappropriate type.\u001b[39;00m\n\u001b[1;32m----> 3\u001b[0m \u001b[38;5;28mint\u001b[39m(\u001b[38;5;124m'\u001b[39m\u001b[38;5;124ma\u001b[39m\u001b[38;5;124m'\u001b[39m)\n",
      "\u001b[1;31mValueError\u001b[0m: invalid literal for int() with base 10: 'a'"
     ]
    }
   ],
   "source": [
    "# ValueError\n",
    "# The ValueError is thrown when a function's argument is of an inappropriate type.\n",
    "int('a')"
   ]
  },
  {
   "cell_type": "code",
   "execution_count": 23,
   "metadata": {
    "colab": {
     "base_uri": "https://localhost:8080/",
     "height": 205
    },
    "executionInfo": {
     "elapsed": 680,
     "status": "error",
     "timestamp": 1669732988737,
     "user": {
      "displayName": "CampusX",
      "userId": "17274569631252575216"
     },
     "user_tz": -330
    },
    "id": "yr7eRF2xFPo7",
    "outputId": "617b5a0c-2e8d-4e9d-e441-aa14c013bfa5"
   },
   "outputs": [
    {
     "ename": "NameError",
     "evalue": "name 'k' is not defined",
     "output_type": "error",
     "traceback": [
      "\u001b[1;31m---------------------------------------------------------------------------\u001b[0m",
      "\u001b[1;31mNameError\u001b[0m                                 Traceback (most recent call last)",
      "Cell \u001b[1;32mIn[23], line 3\u001b[0m\n\u001b[0;32m      1\u001b[0m \u001b[38;5;66;03m# NameError\u001b[39;00m\n\u001b[0;32m      2\u001b[0m \u001b[38;5;66;03m# The NameError is thrown when an object could not be found.\u001b[39;00m\n\u001b[1;32m----> 3\u001b[0m \u001b[38;5;28mprint\u001b[39m(k)\n",
      "\u001b[1;31mNameError\u001b[0m: name 'k' is not defined"
     ]
    }
   ],
   "source": [
    "# NameError\n",
    "# The NameError is thrown when an object could not be found.\n",
    "print(k)"
   ]
  },
  {
   "cell_type": "code",
   "execution_count": 24,
   "metadata": {
    "colab": {
     "base_uri": "https://localhost:8080/",
     "height": 205
    },
    "executionInfo": {
     "elapsed": 5,
     "status": "error",
     "timestamp": 1669733011195,
     "user": {
      "displayName": "CampusX",
      "userId": "17274569631252575216"
     },
     "user_tz": -330
    },
    "id": "VHVKtWwWFUhK",
    "outputId": "6d84d92c-f2c1-4abc-f4ed-6cf8ebd0cb1e"
   },
   "outputs": [
    {
     "ename": "AttributeError",
     "evalue": "'list' object has no attribute 'upper'",
     "output_type": "error",
     "traceback": [
      "\u001b[1;31m---------------------------------------------------------------------------\u001b[0m",
      "\u001b[1;31mAttributeError\u001b[0m                            Traceback (most recent call last)",
      "Cell \u001b[1;32mIn[24], line 3\u001b[0m\n\u001b[0;32m      1\u001b[0m \u001b[38;5;66;03m# AttributeError\u001b[39;00m\n\u001b[0;32m      2\u001b[0m L \u001b[38;5;241m=\u001b[39m [\u001b[38;5;241m1\u001b[39m,\u001b[38;5;241m2\u001b[39m,\u001b[38;5;241m3\u001b[39m]\n\u001b[1;32m----> 3\u001b[0m L\u001b[38;5;241m.\u001b[39mupper()\n",
      "\u001b[1;31mAttributeError\u001b[0m: 'list' object has no attribute 'upper'"
     ]
    }
   ],
   "source": [
    "# AttributeError\n",
    "L = [1,2,3]\n",
    "L.upper()"
   ]
  },
  {
   "cell_type": "markdown",
   "metadata": {
    "id": "l6JrgCrHA2Tq"
   },
   "source": []
  },
  {
   "cell_type": "markdown",
   "metadata": {},
   "source": [
    "## Handling Exceptions\n",
    "It is highly recommended to handle exceptions. The main objective of exception handling is Graceful Termination of the program(i.e we should not block our resources and we should not miss anything).<br>\n",
    "Exception handling does not mean repairing exception. We have to define alternative way to continue rest of the program normally.\n",
    "\n",
    "Eg:<br>\n",
    "For example our programming requirement is reading data from remote file locating at London. At runtime if London file is not available then the program should not be terminated abnormally. We have to provide local file to continue rest of the program normally. This way of defining alternative is nothing but exception handling."
   ]
  },
  {
   "cell_type": "markdown",
   "metadata": {},
   "source": [
    "Python provides a way to handle these exceptions using `try`, `except`, `else`, and `finally` blocks.\n",
    "\n",
    "### try and except\n",
    "The `try` block lets you test a block of code for errors, and the `except` block lets you handle the error.<br>\n",
    "Writing just try block will give error. They must be written together."
   ]
  },
  {
   "cell_type": "code",
   "execution_count": 28,
   "metadata": {},
   "outputs": [
    {
     "name": "stdout",
     "output_type": "stream",
     "text": [
      "You cannot divide by zero!\n"
     ]
    }
   ],
   "source": [
    "try:\n",
    "    # Code that may raise an error\n",
    "    x = 10 / 0\n",
    "except:\n",
    "    # This will be executed if the error occurs\n",
    "    print(\"You cannot divide by zero!\")"
   ]
  },
  {
   "cell_type": "code",
   "execution_count": 26,
   "metadata": {
    "id": "S_VIvkx9Hnxb"
   },
   "outputs": [],
   "source": [
    "# let's create a file\n",
    "with open('sample.txt','w') as f:\n",
    "  f.write('hello world')"
   ]
  },
  {
   "cell_type": "code",
   "execution_count": 29,
   "metadata": {
    "colab": {
     "base_uri": "https://localhost:8080/"
    },
    "executionInfo": {
     "elapsed": 1011,
     "status": "ok",
     "timestamp": 1669733737683,
     "user": {
      "displayName": "CampusX",
      "userId": "17274569631252575216"
     },
     "user_tz": -330
    },
    "id": "9WItdkURHtvM",
    "outputId": "b14ed0bd-1d46-426b-ab81-42e24608ec4e"
   },
   "outputs": [
    {
     "name": "stdout",
     "output_type": "stream",
     "text": [
      "sorry file not found\n"
     ]
    }
   ],
   "source": [
    "# try catch demo\n",
    "try:\n",
    "  with open('sample1.txt','r') as f:\n",
    "    print(f.read())\n",
    "except:\n",
    "  print('sorry file not found')"
   ]
  },
  {
   "cell_type": "markdown",
   "metadata": {},
   "source": [
    "#### Catching Multiple Exceptions\n",
    "You can catch multiple exceptions by specifying multiple except blocks or using a tuple."
   ]
  },
  {
   "cell_type": "code",
   "execution_count": 31,
   "metadata": {},
   "outputs": [
    {
     "name": "stdout",
     "output_type": "stream",
     "text": [
      "You cannot divide by zero!\n"
     ]
    }
   ],
   "source": [
    "try:\n",
    "    x = 10 / 0\n",
    "except ValueError:\n",
    "    print(\"Invalid value entered.\")\n",
    "except ZeroDivisionError:\n",
    "    print(\"You cannot divide by zero!\")"
   ]
  },
  {
   "cell_type": "markdown",
   "metadata": {},
   "source": [
    "We can write multiple exceptions in single except block."
   ]
  },
  {
   "cell_type": "code",
   "execution_count": 3,
   "metadata": {},
   "outputs": [
    {
     "name": "stdout",
     "output_type": "stream",
     "text": [
      "Invalid value entered.\n"
     ]
    }
   ],
   "source": [
    "try:\n",
    "    x = 10 / 0\n",
    "    \n",
    "except (ValueError, ZeroDivisionError):\n",
    "    print(\"Invalid value entered.\")"
   ]
  },
  {
   "cell_type": "markdown",
   "metadata": {},
   "source": [
    "If try with multiple except blocks available then the order of these except blocks is important .Python interpreter will always consider from top to bottom until matched except block identified."
   ]
  },
  {
   "cell_type": "code",
   "execution_count": 30,
   "metadata": {
    "colab": {
     "base_uri": "https://localhost:8080/"
    },
    "executionInfo": {
     "elapsed": 631,
     "status": "ok",
     "timestamp": 1669734348189,
     "user": {
      "displayName": "CampusX",
      "userId": "17274569631252575216"
     },
     "user_tz": -330
    },
    "id": "px7mJhmvH0pd",
    "outputId": "a0052ee7-73f4-44cb-c7f9-2c6756a83fb3"
   },
   "outputs": [
    {
     "name": "stdout",
     "output_type": "stream",
     "text": [
      "file not found\n"
     ]
    }
   ],
   "source": [
    "# catching specific exception\n",
    "try:\n",
    "    m = 5\n",
    "    f = open('sample1.txt','r')\n",
    "    print(f.read())\n",
    "    print(m)\n",
    "    print(5/2)\n",
    "    L = [1,2,3]\n",
    "    L[100]\n",
    "except FileNotFoundError:\n",
    "    print('file not found')\n",
    "except NameError:\n",
    "    print('variable not defined')\n",
    "except ZeroDivisionError:\n",
    "    print(\"can't divide by 0\")\n",
    "except Exception as e:\n",
    "    print(e)"
   ]
  },
  {
   "cell_type": "markdown",
   "metadata": {},
   "source": [
    "We can use default except block to handle any type of exceptions. <br>\n",
    "In default except block generally we can print normal error messages."
   ]
  },
  {
   "cell_type": "code",
   "execution_count": 2,
   "metadata": {},
   "outputs": [
    {
     "name": "stdin",
     "output_type": "stream",
     "text": [
      "Enter First Number:  23\n",
      "Enter Second Number:  t\n"
     ]
    },
    {
     "name": "stdout",
     "output_type": "stream",
     "text": [
      "Default Except:Plz provide valid input only\n"
     ]
    }
   ],
   "source": [
    "try:\n",
    "    x = int(input(\"Enter First Number: \"))\n",
    "    y = int(input(\"Enter Second Number: \"))\n",
    "    print(x/y) \n",
    "except ZeroDivisionError:\n",
    "    print(\"ZeroDivisionError:Can't divide with zero\")\n",
    "except:\n",
    "    print(\"Default Except:Plz provide valid input only\")"
   ]
  },
  {
   "cell_type": "markdown",
   "metadata": {},
   "source": [
    "### else\n",
    "The `else` block is optional and will execute if no exception is raised in the `try` block.<br>\n",
    "If the exception is raised it will not execute"
   ]
  },
  {
   "cell_type": "code",
   "execution_count": 33,
   "metadata": {},
   "outputs": [
    {
     "name": "stdout",
     "output_type": "stream",
     "text": [
      "No error occurred. Result: 5.0\n"
     ]
    }
   ],
   "source": [
    "try:\n",
    "    x = 10 / 2\n",
    "except ZeroDivisionError:\n",
    "    print(\"You cannot divide by zero!\")\n",
    "else:\n",
    "    print(\"No error occurred. Result:\", x)"
   ]
  },
  {
   "cell_type": "code",
   "execution_count": 34,
   "metadata": {
    "colab": {
     "base_uri": "https://localhost:8080/"
    },
    "executionInfo": {
     "elapsed": 716,
     "status": "ok",
     "timestamp": 1669734713833,
     "user": {
      "displayName": "CampusX",
      "userId": "17274569631252575216"
     },
     "user_tz": -330
    },
    "id": "nn-_EK1TKvno",
    "outputId": "311f3b30-b641-43f3-f99f-59f97d5e388c"
   },
   "outputs": [
    {
     "name": "stdout",
     "output_type": "stream",
     "text": [
      "File not found.\n"
     ]
    }
   ],
   "source": [
    "try:\n",
    "  f = open('sample1.txt','r')\n",
    "except FileNotFoundError:\n",
    "  print('File not found.')\n",
    "except Exception:\n",
    "  print('There must be a problem.')\n",
    "else:\n",
    "  print(f.read())"
   ]
  },
  {
   "cell_type": "markdown",
   "metadata": {},
   "source": [
    "### finally\n",
    "The `finally` block is always executed, regardless of whether an exception occurred or not.<br>\n",
    "It is used for cleanup tasks, such as closing files or releasing resources."
   ]
  },
  {
   "cell_type": "code",
   "execution_count": 37,
   "metadata": {},
   "outputs": [
    {
     "name": "stdout",
     "output_type": "stream",
     "text": [
      "You cannot divide by zero!\n",
      "This block will always be executed.\n"
     ]
    }
   ],
   "source": [
    "try:\n",
    "    x = 10 / 0\n",
    "except ZeroDivisionError:\n",
    "    print(\"You cannot divide by zero!\")\n",
    "finally:\n",
    "    print(\"This block will always be executed.\")"
   ]
  },
  {
   "cell_type": "code",
   "execution_count": 36,
   "metadata": {
    "colab": {
     "base_uri": "https://localhost:8080/"
    },
    "executionInfo": {
     "elapsed": 1086,
     "status": "ok",
     "timestamp": 1669734888280,
     "user": {
      "displayName": "CampusX",
      "userId": "17274569631252575216"
     },
     "user_tz": -330
    },
    "id": "VKzyyGTUKwm5",
    "outputId": "e986811f-3009-451e-91ac-7b59f1db33e5"
   },
   "outputs": [
    {
     "name": "stdout",
     "output_type": "stream",
     "text": [
      "File not found.\n",
      "Finally...! This is print.\n"
     ]
    }
   ],
   "source": [
    "try:\n",
    "    f = open('sample1.txt','r')\n",
    "except FileNotFoundError:\n",
    "    print('File not found.')\n",
    "except Exception:\n",
    "    print('There must be a problem.')\n",
    "else:\n",
    "    print(f.read())\n",
    "finally:\n",
    "    print('Finally...! This is print.')"
   ]
  },
  {
   "cell_type": "markdown",
   "metadata": {},
   "source": [
    "There is only one situation where finally block won't be executed ie whenever we are using `os._exit(0)` function.<br>\n",
    "Whenever we are using `os._exit(0)` function then Python Virtual Machine itself will be shutdown. In this particular case finally won't be executed."
   ]
  },
  {
   "cell_type": "code",
   "execution_count": 1,
   "metadata": {},
   "outputs": [
    {
     "name": "stdout",
     "output_type": "stream",
     "text": [
      "try\n",
      "finally\n"
     ]
    }
   ],
   "source": [
    "import os\n",
    "try:\n",
    "    print(\"try\")\n",
    "    # os._exit(0)   # it will restart the kernel and PVM\n",
    "except NameError:\n",
    "    print(\"except\")\n",
    "finally:\n",
    "    print(\"finally\")"
   ]
  },
  {
   "cell_type": "markdown",
   "metadata": {},
   "source": [
    "## Nested try except else finally blocks\n"
   ]
  },
  {
   "cell_type": "code",
   "execution_count": 2,
   "metadata": {},
   "outputs": [
    {
     "name": "stdout",
     "output_type": "stream",
     "text": [
      "outer try block\n",
      "Inner try block\n",
      "Inner except block\n",
      "Inner finally block\n",
      "outer finally block\n"
     ]
    }
   ],
   "source": [
    "try:\n",
    "    print(\"outer try block\")\n",
    "    try:\n",
    "        print(\"Inner try block\")\n",
    "        print(10/0)\n",
    "    except ZeroDivisionError:\n",
    "        print(\"Inner except block\")\n",
    "    finally:\n",
    "        print(\"Inner finally block\")\n",
    "except:\n",
    "    print(\"outer except block\")\n",
    "finally:\n",
    "    print(\"outer finally block\")"
   ]
  },
  {
   "cell_type": "markdown",
   "metadata": {},
   "source": [
    "# Types of Exceptions:\n",
    "In Python there are 2 types of exceptions are possible.\n",
    "1. Predefined Exceptions\n",
    "2. User Definded Exceptions\n",
    "   \n",
    "\n",
    "## Predefined Exceptions:\n",
    "Also known as in-built exceptions.<br>\n",
    "The exceptions which are raised automatically by Python virtual machine whenver a particular event occurs, are called pre defined exceptions.<br><br>\n",
    "Eg 1: Whenever we are trying to perform Division by zero, automatically Python will raise `ZeroDivisionError`.\n",
    "- print(10/0)"
   ]
  },
  {
   "cell_type": "markdown",
   "metadata": {},
   "source": [
    "### Raising Exceptions\n",
    "#### raise\n",
    "You can forcefully raise an exception using the `raise` keyword.<br>\n",
    "This is useful when you want to create an error under certain conditions.<br>\n",
    "We can optionally pass values to the exception to clarify why that exception was raised."
   ]
  },
  {
   "cell_type": "code",
   "execution_count": 41,
   "metadata": {
    "colab": {
     "base_uri": "https://localhost:8080/",
     "height": 169
    },
    "executionInfo": {
     "elapsed": 824,
     "status": "error",
     "timestamp": 1669735292583,
     "user": {
      "displayName": "CampusX",
      "userId": "17274569631252575216"
     },
     "user_tz": -330
    },
    "id": "IH51eIy5K9Yc",
    "outputId": "c7f361a1-35f3-4b11-86fb-b4d1f7e3932c"
   },
   "outputs": [
    {
     "ename": "ZeroDivisionError",
     "evalue": "Just trying to raise Exceptions",
     "output_type": "error",
     "traceback": [
      "\u001b[1;31m---------------------------------------------------------------------------\u001b[0m",
      "\u001b[1;31mZeroDivisionError\u001b[0m                         Traceback (most recent call last)",
      "Cell \u001b[1;32mIn[41], line 1\u001b[0m\n\u001b[1;32m----> 1\u001b[0m \u001b[38;5;28;01mraise\u001b[39;00m \u001b[38;5;167;01mZeroDivisionError\u001b[39;00m(\u001b[38;5;124m'\u001b[39m\u001b[38;5;124mJust trying to raise Exceptions\u001b[39m\u001b[38;5;124m'\u001b[39m)\n",
      "\u001b[1;31mZeroDivisionError\u001b[0m: Just trying to raise Exceptions"
     ]
    }
   ],
   "source": [
    "# forcefully raise Exception\n",
    "raise ZeroDivisionError('Just trying to raise Exceptions')"
   ]
  },
  {
   "cell_type": "code",
   "execution_count": 43,
   "metadata": {},
   "outputs": [
    {
     "name": "stdout",
     "output_type": "stream",
     "text": [
      "The Exception is successfully raised and Handled properly.\n"
     ]
    }
   ],
   "source": [
    "# passing vales to exception to clarify why it is raised for\n",
    "try:\n",
    "    raise ZeroDivisionError('Just trying to raise Exceptions')\n",
    "except:\n",
    "    print(\"The Exception is successfully raised and Handled properly.\")"
   ]
  },
  {
   "cell_type": "code",
   "execution_count": 44,
   "metadata": {},
   "outputs": [
    {
     "name": "stdout",
     "output_type": "stream",
     "text": [
      "Error: Age must be 18 or above.\n"
     ]
    }
   ],
   "source": [
    "# use case of raising exception\n",
    "# if the age is less than 18 the exception is raised\n",
    "def check_age(age):\n",
    "    if age < 18:\n",
    "        raise ValueError(\"Age must be 18 or above.\")\n",
    "    return \"Valid age.\"\n",
    "\n",
    "# Calling the function with an invalid age\n",
    "try:\n",
    "    print(check_age(16))\n",
    "except ValueError as e:\n",
    "    print(f\"Error: {e}\")"
   ]
  },
  {
   "cell_type": "code",
   "execution_count": 48,
   "metadata": {
    "colab": {
     "base_uri": "https://localhost:8080/"
    },
    "executionInfo": {
     "elapsed": 1046,
     "status": "ok",
     "timestamp": 1669735780336,
     "user": {
      "displayName": "CampusX",
      "userId": "17274569631252575216"
     },
     "user_tz": -330
    },
    "id": "0qLD1KYj_LPm",
    "outputId": "8753ccce-bb47-4e38-ce32-ce00f4c508f8"
   },
   "outputs": [
    {
     "name": "stdout",
     "output_type": "stream",
     "text": [
      "Your account has not sufficient balance.\n"
     ]
    }
   ],
   "source": [
    "# use case with banking system\n",
    "# Exception is raised it the account has not sufficient balance\n",
    "\n",
    "class Bank:\n",
    "\n",
    "  def __init__(self,balance):\n",
    "    self.balance = balance\n",
    "\n",
    "  def withdraw(self,amount):\n",
    "    if amount < 0:\n",
    "      raise Exception('amount cannot be -ve')\n",
    "    if self.balance < amount:\n",
    "      raise Exception('Your account has not sufficient balance.')\n",
    "    self.balance = self.balance - amount\n",
    "\n",
    "obj = Bank(10000)\n",
    "\n",
    "try:\n",
    "  obj.withdraw(15000)\n",
    "except Exception as e:\n",
    "  print(e)\n",
    "else:\n",
    "  print(obj.balance)"
   ]
  },
  {
   "cell_type": "markdown",
   "metadata": {
    "id": "VTaMY8stXLaT"
   },
   "source": [
    "## Custom exceptions / User Defined Exceptions:\n",
    "Also known as Customized Exceptions or Programatic Exceptions.<br> \n",
    "Some time we have to define and raise exceptions explicitly to indicate that something goes wrong ,such type of exceptions are called User Defined Exceptions or Customized Exceptions.<br>\n",
    "Programmer is responsible to define these exceptions and Python not having any idea about these. Hence we have to raise explicitly based on our requirement by using `raise` keyword."
   ]
  },
  {
   "cell_type": "markdown",
   "metadata": {},
   "source": [
    "#### How to Define and Raise Customized Exceptions:\n",
    "Every exception in Python is a class that extends `Exception` class either directly or indirectly."
   ]
  },
  {
   "cell_type": "code",
   "execution_count": 11,
   "metadata": {},
   "outputs": [
    {
     "name": "stdin",
     "output_type": "stream",
     "text": [
      "Enter Age: 16\n"
     ]
    },
    {
     "ename": "TooOldException",
     "evalue": "Your age already crossed marriage age...no chance of getting marriage",
     "output_type": "error",
     "traceback": [
      "\u001b[1;31m---------------------------------------------------------------------------\u001b[0m",
      "\u001b[1;31mTooOldException\u001b[0m                           Traceback (most recent call last)",
      "Cell \u001b[1;32mIn[11], line 13\u001b[0m\n\u001b[0;32m     11\u001b[0m     \u001b[38;5;28;01mraise\u001b[39;00m TooYoungException(\u001b[38;5;124m\"\u001b[39m\u001b[38;5;124mPlz wait some more time you will get best match soon!!!\u001b[39m\u001b[38;5;124m\"\u001b[39m)\n\u001b[0;32m     12\u001b[0m \u001b[38;5;28;01melif\u001b[39;00m age\u001b[38;5;241m<\u001b[39m\u001b[38;5;241m18\u001b[39m:\n\u001b[1;32m---> 13\u001b[0m     \u001b[38;5;28;01mraise\u001b[39;00m TooOldException(\u001b[38;5;124m\"\u001b[39m\u001b[38;5;124mYour age already crossed marriage age...no chance of getting marriage\u001b[39m\u001b[38;5;124m\"\u001b[39m)\n\u001b[0;32m     14\u001b[0m \u001b[38;5;28;01melse\u001b[39;00m:\n\u001b[0;32m     15\u001b[0m     \u001b[38;5;28mprint\u001b[39m(\u001b[38;5;124m\"\u001b[39m\u001b[38;5;124mYou will get match details soon by email!!!\u001b[39m\u001b[38;5;124m\"\u001b[39m)\n",
      "\u001b[1;31mTooOldException\u001b[0m: Your age already crossed marriage age...no chance of getting marriage"
     ]
    }
   ],
   "source": [
    "class TooYoungException(Exception):\n",
    "    def __init__(self,arg):\n",
    "        self.msg=arg\n",
    "        \n",
    "class TooOldException(Exception):\n",
    "    def __init__(self,arg):\n",
    "        self.msg=arg\n",
    "        \n",
    "age=int(input(\"Enter Age:\"))\n",
    "if age>60:\n",
    "    raise TooYoungException(\"Plz wait some more time you will get best match soon!!!\")\n",
    "elif age<18:\n",
    "    raise TooOldException(\"Your age already crossed marriage age...no chance of getting marriage\")\n",
    "else:\n",
    "    print(\"You will get match details soon by email!!!\") "
   ]
  },
  {
   "cell_type": "code",
   "execution_count": 62,
   "metadata": {
    "colab": {
     "base_uri": "https://localhost:8080/"
    },
    "executionInfo": {
     "elapsed": 998,
     "status": "ok",
     "timestamp": 1669736148929,
     "user": {
      "displayName": "CampusX",
      "userId": "17274569631252575216"
     },
     "user_tz": -330
    },
    "id": "DLzBsX5eBSNs",
    "outputId": "4b8d711a-43a7-45e1-9cd5-1ee6cf0633d9"
   },
   "outputs": [
    {
     "name": "stdout",
     "output_type": "stream",
     "text": [
      "Your account has not sufficient balance.\n"
     ]
    }
   ],
   "source": [
    "class MyException(Exception):\n",
    "    pass\n",
    "\n",
    "class Bank:\n",
    "\n",
    "    def __init__(self,balance):\n",
    "        self.balance = balance\n",
    "\n",
    "    def withdraw(self,amount):\n",
    "        if amount < 0:\n",
    "            raise MyException('amount cannot be -ve')\n",
    "        if self.balance < amount:\n",
    "            raise MyException('Your account has not sufficient balance.')\n",
    "        self.balance = self.balance - amount\n",
    "\n",
    "obj = Bank(10000)\n",
    "try:\n",
    "    obj.withdraw(15000)\n",
    "except MyException as e:\n",
    "    print(e)\n",
    "else:\n",
    "    print(obj.balance)"
   ]
  },
  {
   "cell_type": "code",
   "execution_count": 64,
   "metadata": {
    "colab": {
     "base_uri": "https://localhost:8080/"
    },
    "executionInfo": {
     "elapsed": 594,
     "status": "ok",
     "timestamp": 1669736843502,
     "user": {
      "displayName": "CampusX",
      "userId": "17274569631252575216"
     },
     "user_tz": -330
    },
    "id": "YMIbhy3acWX4",
    "outputId": "1008e800-2a8c-4e47-e041-65a366503cc2"
   },
   "outputs": [
    {
     "name": "stdout",
     "output_type": "stream",
     "text": [
      "Your device is not authorised.\n",
      "logout\n",
      "Database connection closed\n"
     ]
    }
   ],
   "source": [
    "class SecurityError(Exception):\n",
    "    def __init__(self,message):\n",
    "        print(message)\n",
    "    def logout(self):\n",
    "        print('logout')\n",
    "\n",
    "class Google:\n",
    "    def __init__(self,name,email,password,device):\n",
    "        self.name = name\n",
    "        self.email = email\n",
    "        self.password = password\n",
    "        self.device = device\n",
    "    def login(self,email,password,device):\n",
    "        if device != self.device:\n",
    "            raise SecurityError('Your device is not authorised.')\n",
    "        if email == self.email and password == self.password:\n",
    "            print('welcome')\n",
    "        else:\n",
    "            print('login error')\n",
    "\n",
    "obj = Google('hrutik','hrutik@gmail.com','1234','android')\n",
    "\n",
    "try:\n",
    "    obj.login('hrutik@gmail.com','1234','windows')\n",
    "except SecurityError as e:\n",
    "    e.logout()\n",
    "else:\n",
    "    print(obj.name)\n",
    "finally:\n",
    "    print('Database connection closed')"
   ]
  },
  {
   "cell_type": "markdown",
   "metadata": {
    "id": "x3VHwEYHg-z7"
   },
   "source": [
    "## Exception Hierarchy\n",
    "Exceptions in Python form a hierarchy, where all exceptions inherit from the base class BaseException. Below it is the Exception class, which most exceptions derive from.\n",
    "```python\n",
    "BaseException\r\n",
    "  ├── SystemExit\r\n",
    "  ├── KeyboardInterrupt\r\n",
    "  └── Exception\r\n",
    "        ├── ArithmeticError\r\n",
    "        ├── ValueError\r\n",
    "        ├── FileNotFoundError\r\n",
    "       ── ...\r\n"
   ]
  },
  {
   "cell_type": "markdown",
   "metadata": {},
   "source": [
    "For example, ZeroDivisionError is a subclass of ArithmeticError, which is a subclass of Exception."
   ]
  },
  {
   "cell_type": "markdown",
   "metadata": {},
   "source": [
    "## Common Built-in Exceptions\n",
    "Here are some of the most common exceptions you’ll encounter:\n",
    "\n",
    "`ZeroDivisionError`: Raised when division by zero is attempted.<br>\n",
    "`ValueError`: Raised when a function receives an argument of the right type but an inappropriate value (e.g., passing a string to int()).<br>\n",
    "`TypeError`: Raised when an operation or function is applied to an object of inappropriate type.<br>\n",
    "`FileNotFoundError`: Raised when a file or directory is requested but doesn't exist.<br>\n",
    "`IndexError`: Raised when you try to access an invalid index in a list.<br>\n",
    "`KeyError`: Raised when a dictionary is accessed with a non-existent key.<br>"
   ]
  },
  {
   "cell_type": "markdown",
   "metadata": {},
   "source": [
    "## Using assert for Debugging\n",
    "#### assert\n",
    "Python has a built-in `assert` statement that can be used to set conditions that should hold true.<br>\n",
    "If the condition is False, it will raise an AssertionError.<br>\n",
    "This statement is just used to raise error on a specific condition."
   ]
  },
  {
   "cell_type": "code",
   "execution_count": 1,
   "metadata": {},
   "outputs": [],
   "source": [
    "x = 15\n",
    "assert x > 10, \"x should be greater than 10\""
   ]
  },
  {
   "cell_type": "markdown",
   "metadata": {},
   "source": [
    "## Syntax for writing these four blocks\n",
    "##### None of the four blocks can be written single.\n",
    "##### Combination of 2's can be written.\n",
    "    \n",
    "- try except combination\n",
    "```python\n",
    "    try:\n",
    "        print('try')\n",
    "    except:\n",
    "        print('except')\n",
    "```\n",
    "\n",
    "- try finally combination\n",
    "```python\n",
    "     try:\n",
    "         print('try')\n",
    "     finally:\n",
    "         print('finally')\n",
    "```\n",
    "- else with try will not work, it will give error.\n",
    "\n",
    "##### for writing else block except should be mandatory.\n",
    "```python\n",
    "    try:\n",
    "        print(\"try\")\n",
    "    except:\n",
    "        print(\"except\")\n",
    "    else:\n",
    "        print(\"else\")\n",
    "```\n",
    "\n",
    "##### try except finally is also a valid combination of 3's.\n",
    "\n",
    "\n",
    "##### while writing these four blocks their order should be considered.\n",
    "```python\n",
    "    try:\n",
    "        print(\"try\")\n",
    "    except:\n",
    "        print(\"except\")\n",
    "    else:\n",
    "        print(\"else\")\n",
    "    finally:\n",
    "        print('finally')\n",
    "```\n"
   ]
  },
  {
   "cell_type": "markdown",
   "metadata": {},
   "source": [
    "## Conclusion\n",
    "Errors stop a program from executing.<br>\n",
    "Exceptions occur during the execution of a program and can be handled to prevent the program from crashing.<br>\n",
    "You handle exceptions using the `try`, `except`, `else`, and `finally` blocks.<br>\n",
    "You can raise exceptions manually using the `raise` keyword.<br>\n",
    "You can raise exceptions conditionally by using the `assert` keyword.<br>\n",
    "Custom exceptions can be created by subclassing the `Exception` class.<br>\n",
    "Always clean up resources (like closing files or database connections) using the `finally` block."
   ]
  },
  {
   "cell_type": "code",
   "execution_count": null,
   "metadata": {},
   "outputs": [],
   "source": []
  }
 ],
 "metadata": {
  "colab": {
   "provenance": [
    {
     "file_id": "1-yYl5wagPH1ctS_x-RBDyMFj-ez8hWvS",
     "timestamp": 1709287851966
    }
   ]
  },
  "kernelspec": {
   "display_name": "Python 3 (ipykernel)",
   "language": "python",
   "name": "python3"
  },
  "language_info": {
   "codemirror_mode": {
    "name": "ipython",
    "version": 3
   },
   "file_extension": ".py",
   "mimetype": "text/x-python",
   "name": "python",
   "nbconvert_exporter": "python",
   "pygments_lexer": "ipython3",
   "version": "3.11.7"
  }
 },
 "nbformat": 4,
 "nbformat_minor": 4
}
