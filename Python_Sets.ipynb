{
 "cells": [
  {
   "cell_type": "markdown",
   "metadata": {},
   "source": [
    "# Sets\n",
    "\n",
    "A set is an unordered collection of items. Every set element is unique (no duplicates) and must be immutable (cannot be changed).\n",
    "\n",
    "However, a set itself is mutable. We can add or remove items from it.\n",
    "\n",
    "Sets can also be used to perform mathematical set operations like union, intersection, symmetric difference, etc.\n",
    "\n",
    "\n",
    "## Topics to be Covered\n",
    "- characteristics of set\n",
    "- Properties of set\n",
    "- Creating a set\n",
    "- Accessing items\n",
    "- Editing items\n",
    "- Operations on sets\n",
    "- set Functions\n",
    "- Adding items\n",
    "- Deleting items\n",
    "- set methods/operations\n",
    "- Frozenset\n",
    "\n",
    "\n",
    "#### Characterstics:\n",
    "- Unordered\n",
    "- Mutable\n",
    "- No Duplicates\n",
    "- Can't contain mutable data types"
   ]
  },
  {
   "cell_type": "markdown",
   "metadata": {},
   "source": [
    "#### Properties of set\n",
    "- If we want to represent a group of unique values as a single entity then we should go for set.\n",
    "- Duplicates are not allowed.\n",
    "- Insertion order is not preserved.But we can sort the elements.\n",
    "- Indexing and slicing not allowed for the set.\n",
    "- Heterogeneous elements are allowed.\n",
    "- Set objects are mutable i.e once we creates set object we can perform any changes in that object based on our requirement.\n",
    "- We can represent set elements within curly braces and with comma seperation\n",
    "- We can apply mathematical operations like union,intersection,difference etc on set objects"
   ]
  },
  {
   "cell_type": "markdown",
   "metadata": {},
   "source": [
    "# Creating Sets"
   ]
  },
  {
   "cell_type": "code",
   "execution_count": 1,
   "metadata": {
    "id": "y7i26IlEIFGk"
   },
   "outputs": [],
   "source": [
    "s = {1,2,3}"
   ]
  },
  {
   "cell_type": "code",
   "execution_count": 2,
   "metadata": {
    "colab": {
     "base_uri": "https://localhost:8080/"
    },
    "executionInfo": {
     "elapsed": 10,
     "status": "ok",
     "timestamp": 1681131621324,
     "user": {
      "displayName": "Hrutik Nawade",
      "userId": "03506609053451396862"
     },
     "user_tz": -330
    },
    "id": "LkX3wNQrP_x0",
    "outputId": "ac30aef7-7c5a-484e-86fd-d1f796419423"
   },
   "outputs": [
    {
     "data": {
      "text/plain": [
       "dict"
      ]
     },
     "execution_count": 2,
     "metadata": {},
     "output_type": "execute_result"
    }
   ],
   "source": [
    "# this creates empty dictionary not set\n",
    "\n",
    "s1 = {}   \n",
    "type(s1)"
   ]
  },
  {
   "cell_type": "code",
   "execution_count": 6,
   "metadata": {
    "id": "DKU4L-WcIFBH"
   },
   "outputs": [
    {
     "name": "stdout",
     "output_type": "stream",
     "text": [
      "{2, 3, 4, 5, 7}\n"
     ]
    }
   ],
   "source": [
    "# set() constructor is used to create the sets\n",
    "\n",
    "s1 = set((2,3,5, 3, 7,7,4))\n",
    "print(s1)    # items in set are not indexed. so, it arranges items ascendingly"
   ]
  },
  {
   "cell_type": "code",
   "execution_count": 9,
   "metadata": {
    "id": "yqcMwqLoRPm8"
   },
   "outputs": [
    {
     "name": "stdout",
     "output_type": "stream",
     "text": [
      "set()\n",
      "<class 'set'>\n"
     ]
    }
   ],
   "source": [
    "# empty\n",
    "s = set()\n",
    "print(s)\n",
    "print(type(s))"
   ]
  },
  {
   "cell_type": "code",
   "execution_count": 20,
   "metadata": {},
   "outputs": [
    {
     "name": "stdout",
     "output_type": "stream",
     "text": [
      "{1, 2, 3}\n",
      "{1, (1, 2, 3), 'hello', 4.5}\n"
     ]
    }
   ],
   "source": [
    "# homo and hetro\n",
    "\n",
    "# 1D \n",
    "s1 = {1,2,3}\n",
    "print(s1)\n",
    "\n",
    "# 2D \n",
    "s2 = {1,'hello',4.5,(1,2,3)}  # while adding collections in sets, make sure they are immutable either it raises an error\n",
    "print(s2)"
   ]
  },
  {
   "cell_type": "code",
   "execution_count": 21,
   "metadata": {},
   "outputs": [
    {
     "ename": "TypeError",
     "evalue": "unhashable type: 'set'",
     "output_type": "error",
     "traceback": [
      "\u001b[1;31m---------------------------------------------------------------------------\u001b[0m",
      "\u001b[1;31mTypeError\u001b[0m                                 Traceback (most recent call last)",
      "Cell \u001b[1;32mIn[21], line 1\u001b[0m\n\u001b[1;32m----> 1\u001b[0m s3 \u001b[38;5;241m=\u001b[39m {\u001b[38;5;241m1\u001b[39m,\u001b[38;5;241m2\u001b[39m,\u001b[38;5;241m3\u001b[39m,{\u001b[38;5;241m4\u001b[39m,\u001b[38;5;241m5\u001b[39m}}    \u001b[38;5;66;03m# here it contains sets as an element and its mutable it raises error\u001b[39;00m\n\u001b[0;32m      2\u001b[0m \u001b[38;5;28mprint\u001b[39m(s3)\n",
      "\u001b[1;31mTypeError\u001b[0m: unhashable type: 'set'"
     ]
    }
   ],
   "source": [
    "s3 = {1,2,3,{4,5}}    # here it contains sets as an element and its mutable it raises error\n",
    "print(s3)"
   ]
  },
  {
   "cell_type": "code",
   "execution_count": 22,
   "metadata": {},
   "outputs": [
    {
     "name": "stdout",
     "output_type": "stream",
     "text": [
      "{1, 2, 3}\n"
     ]
    }
   ],
   "source": [
    "# using type conversion\n",
    "s4 = set([1,2,3])\n",
    "print(s4)"
   ]
  },
  {
   "cell_type": "code",
   "execution_count": 23,
   "metadata": {},
   "outputs": [
    {
     "name": "stdout",
     "output_type": "stream",
     "text": [
      "{1, 2, 3}\n"
     ]
    }
   ],
   "source": [
    "# duplicates not allowed, if inserted they automatically eleminated\n",
    "s5 = {1,1,2,2,3,3}\n",
    "print(s5)"
   ]
  },
  {
   "cell_type": "code",
   "execution_count": 24,
   "metadata": {
    "colab": {
     "base_uri": "https://localhost:8080/"
    },
    "executionInfo": {
     "elapsed": 618,
     "status": "ok",
     "timestamp": 1679837990118,
     "user": {
      "displayName": "Hrutik Nawade",
      "userId": "03506609053451396862"
     },
     "user_tz": -330
    },
    "id": "wGYPyqIuIclq",
    "outputId": "c7e9e7fe-37df-4569-d075-8bee8c1d5d49"
   },
   "outputs": [
    {
     "name": "stdout",
     "output_type": "stream",
     "text": [
      "Set with the use of an Object: \n",
      "{'k', 't', 'H', ' ', 'i', 'r', 'u'}\n"
     ]
    }
   ],
   "source": [
    "# same with the case of strings\n",
    "\n",
    "String = 'Hrutik Hrutik'  \n",
    "set1 = set(String)\n",
    "print(\"Set with the use of an Object: \" )\n",
    "print(set1)"
   ]
  },
  {
   "cell_type": "markdown",
   "metadata": {},
   "source": [
    "# Modifying sets\n",
    "### Accessing items\n",
    "As set is unordered it won't support indexing and slicing."
   ]
  },
  {
   "cell_type": "code",
   "execution_count": 29,
   "metadata": {},
   "outputs": [
    {
     "ename": "TypeError",
     "evalue": "'set' object is not subscriptable",
     "output_type": "error",
     "traceback": [
      "\u001b[1;31m---------------------------------------------------------------------------\u001b[0m",
      "\u001b[1;31mTypeError\u001b[0m                                 Traceback (most recent call last)",
      "Cell \u001b[1;32mIn[29], line 2\u001b[0m\n\u001b[0;32m      1\u001b[0m s1 \u001b[38;5;241m=\u001b[39m {\u001b[38;5;241m1\u001b[39m,\u001b[38;5;241m2\u001b[39m,\u001b[38;5;241m3\u001b[39m,\u001b[38;5;241m4\u001b[39m}\n\u001b[1;32m----> 2\u001b[0m s1[\u001b[38;5;241m0\u001b[39m]\n",
      "\u001b[1;31mTypeError\u001b[0m: 'set' object is not subscriptable"
     ]
    }
   ],
   "source": [
    "s1 = {1,2,3,4}  # doesn't support indexing\n",
    "s1[0]"
   ]
  },
  {
   "cell_type": "code",
   "execution_count": 30,
   "metadata": {},
   "outputs": [
    {
     "ename": "TypeError",
     "evalue": "'set' object is not subscriptable",
     "output_type": "error",
     "traceback": [
      "\u001b[1;31m---------------------------------------------------------------------------\u001b[0m",
      "\u001b[1;31mTypeError\u001b[0m                                 Traceback (most recent call last)",
      "Cell \u001b[1;32mIn[30], line 2\u001b[0m\n\u001b[0;32m      1\u001b[0m s1 \u001b[38;5;241m=\u001b[39m {\u001b[38;5;241m1\u001b[39m,\u001b[38;5;241m2\u001b[39m,\u001b[38;5;241m3\u001b[39m,\u001b[38;5;241m4\u001b[39m}\n\u001b[1;32m----> 2\u001b[0m s1[\u001b[38;5;241m0\u001b[39m:\u001b[38;5;241m4\u001b[39m]\n",
      "\u001b[1;31mTypeError\u001b[0m: 'set' object is not subscriptable"
     ]
    }
   ],
   "source": [
    "s1 = {1,2,3,4}   # doesn't support slicing\n",
    "s1[0:4]"
   ]
  },
  {
   "cell_type": "markdown",
   "metadata": {},
   "source": [
    "### Editing Items"
   ]
  },
  {
   "cell_type": "code",
   "execution_count": 31,
   "metadata": {},
   "outputs": [
    {
     "ename": "TypeError",
     "evalue": "'set' object does not support item assignment",
     "output_type": "error",
     "traceback": [
      "\u001b[1;31m---------------------------------------------------------------------------\u001b[0m",
      "\u001b[1;31mTypeError\u001b[0m                                 Traceback (most recent call last)",
      "Cell \u001b[1;32mIn[31], line 2\u001b[0m\n\u001b[0;32m      1\u001b[0m s1 \u001b[38;5;241m=\u001b[39m {\u001b[38;5;241m1\u001b[39m,\u001b[38;5;241m2\u001b[39m,\u001b[38;5;241m3\u001b[39m,\u001b[38;5;241m4\u001b[39m}\n\u001b[1;32m----> 2\u001b[0m s1[\u001b[38;5;241m0\u001b[39m] \u001b[38;5;241m=\u001b[39m \u001b[38;5;241m100\u001b[39m\n",
      "\u001b[1;31mTypeError\u001b[0m: 'set' object does not support item assignment"
     ]
    }
   ],
   "source": [
    "s1 = {1,2,3,4}   # doesn't support editing\n",
    "s1[0] = 100"
   ]
  },
  {
   "cell_type": "markdown",
   "metadata": {
    "id": "lLfKEQ6wK07S"
   },
   "source": [
    "# Operators in sets\n",
    "- Arithmetic\n",
    "- comparison\n",
    "- identity\n",
    "- membership"
   ]
  },
  {
   "cell_type": "markdown",
   "metadata": {
    "id": "Iht40qhBRuN9"
   },
   "source": [
    "#### `+`, `*` operators"
   ]
  },
  {
   "cell_type": "code",
   "execution_count": 32,
   "metadata": {
    "id": "SiWNIjjaK00D"
   },
   "outputs": [],
   "source": [
    "s1={1,2,3,2,4}  \n",
    "s2={1,2,2,1,4,3}"
   ]
  },
  {
   "cell_type": "code",
   "execution_count": 34,
   "metadata": {
    "colab": {
     "base_uri": "https://localhost:8080/",
     "height": 165
    },
    "executionInfo": {
     "elapsed": 12,
     "status": "error",
     "timestamp": 1681132110407,
     "user": {
      "displayName": "Hrutik Nawade",
      "userId": "03506609053451396862"
     },
     "user_tz": -330
    },
    "id": "LyDkSbOxIaiA",
    "outputId": "0d63da57-e055-4a4b-d6c6-b035eafa98dd"
   },
   "outputs": [
    {
     "ename": "TypeError",
     "evalue": "unsupported operand type(s) for +: 'set' and 'set'",
     "output_type": "error",
     "traceback": [
      "\u001b[1;31m---------------------------------------------------------------------------\u001b[0m",
      "\u001b[1;31mTypeError\u001b[0m                                 Traceback (most recent call last)",
      "Cell \u001b[1;32mIn[34], line 1\u001b[0m\n\u001b[1;32m----> 1\u001b[0m s3 \u001b[38;5;241m=\u001b[39m s1 \u001b[38;5;241m+\u001b[39m s2\n",
      "\u001b[1;31mTypeError\u001b[0m: unsupported operand type(s) for +: 'set' and 'set'"
     ]
    }
   ],
   "source": [
    "s3 = s1 + s2  # set concatenation is not possible using  '+' operator"
   ]
  },
  {
   "cell_type": "markdown",
   "metadata": {
    "id": "vj6FU8YhIE42"
   },
   "source": [
    "s2 = s1 * 2   # replication is not possible in sets"
   ]
  },
  {
   "cell_type": "markdown",
   "metadata": {
    "id": "0WRRCx25SbK9"
   },
   "source": [
    "#### comparing `==` two sets with same items \n",
    "Sets and lists with comparison<br>\n",
    "As the set is unordered, the random positioning of elements considered it as same object even though it is differnet.<br>\n",
    "While the list is an ordered collection, so positioning of elements is there, which defines it as different collections."
   ]
  },
  {
   "cell_type": "code",
   "execution_count": 35,
   "metadata": {},
   "outputs": [
    {
     "name": "stdout",
     "output_type": "stream",
     "text": [
      "True\n"
     ]
    }
   ],
   "source": [
    "s1 = {1,2,3}\n",
    "s2 = {3,2,1}\n",
    "\n",
    "print(s1 == s2)"
   ]
  },
  {
   "cell_type": "code",
   "execution_count": 36,
   "metadata": {},
   "outputs": [
    {
     "name": "stdout",
     "output_type": "stream",
     "text": [
      "False\n"
     ]
    }
   ],
   "source": [
    "l1 = [1,2,3]  \n",
    "l2 = [3,2,1]\n",
    "\n",
    "print(l1 == l2)"
   ]
  },
  {
   "cell_type": "markdown",
   "metadata": {
    "id": "5z8zRpAOS7vi"
   },
   "source": [
    "#### `is` and `not is` operators"
   ]
  },
  {
   "cell_type": "code",
   "execution_count": 41,
   "metadata": {},
   "outputs": [],
   "source": [
    "s1={1,2,3,2,4}  \n",
    "s2={1,2,2,1,4,3}"
   ]
  },
  {
   "cell_type": "code",
   "execution_count": 42,
   "metadata": {
    "colab": {
     "base_uri": "https://localhost:8080/"
    },
    "executionInfo": {
     "elapsed": 24,
     "status": "ok",
     "timestamp": 1681132303155,
     "user": {
      "displayName": "Hrutik Nawade",
      "userId": "03506609053451396862"
     },
     "user_tz": -330
    },
    "id": "gDW6oanPRU51",
    "outputId": "c442ed38-4149-4edb-bc0d-e2a1dfaa2bb6"
   },
   "outputs": [
    {
     "name": "stdout",
     "output_type": "stream",
     "text": [
      "1974698259424\n",
      "1974698258528\n"
     ]
    },
    {
     "data": {
      "text/plain": [
       "False"
      ]
     },
     "execution_count": 42,
     "metadata": {},
     "output_type": "execute_result"
    }
   ],
   "source": [
    "print(id(s1))\n",
    "print(id(s2))\n",
    "\n",
    "s1 is s2"
   ]
  },
  {
   "cell_type": "markdown",
   "metadata": {
    "id": "PcGqXiJNRUw9"
   },
   "source": [
    "#### `in` and `not in` operators"
   ]
  },
  {
   "cell_type": "code",
   "execution_count": 43,
   "metadata": {
    "colab": {
     "base_uri": "https://localhost:8080/"
    },
    "executionInfo": {
     "elapsed": 12,
     "status": "ok",
     "timestamp": 1681132563101,
     "user": {
      "displayName": "Hrutik Nawade",
      "userId": "03506609053451396862"
     },
     "user_tz": -330
    },
    "id": "18ZPE13VTxX7",
    "outputId": "3ee09a14-cb82-4d2c-9d9b-796b1187d1d8"
   },
   "outputs": [
    {
     "data": {
      "text/plain": [
       "True"
      ]
     },
     "execution_count": 43,
     "metadata": {},
     "output_type": "execute_result"
    }
   ],
   "source": [
    "1 in s1"
   ]
  },
  {
   "cell_type": "code",
   "execution_count": 44,
   "metadata": {
    "colab": {
     "base_uri": "https://localhost:8080/"
    },
    "executionInfo": {
     "elapsed": 1724,
     "status": "ok",
     "timestamp": 1681132583946,
     "user": {
      "displayName": "Hrutik Nawade",
      "userId": "03506609053451396862"
     },
     "user_tz": -330
    },
    "id": "JbRw4G-VTxKp",
    "outputId": "95a013a1-0fdf-4c67-b2a9-247e6d082a4e"
   },
   "outputs": [
    {
     "data": {
      "text/plain": [
       "True"
      ]
     },
     "execution_count": 44,
     "metadata": {},
     "output_type": "execute_result"
    }
   ],
   "source": [
    "5 not in s2"
   ]
  },
  {
   "cell_type": "markdown",
   "metadata": {
    "id": "Gn79RDJfL_k-"
   },
   "source": [
    "# Sets methods/Functions\n",
    "### common methods"
   ]
  },
  {
   "cell_type": "markdown",
   "metadata": {
    "id": "RMaJYUWVlVm1"
   },
   "source": [
    "#### len()"
   ]
  },
  {
   "cell_type": "code",
   "execution_count": null,
   "metadata": {
    "colab": {
     "base_uri": "https://localhost:8080/"
    },
    "executionInfo": {
     "elapsed": 1973,
     "status": "ok",
     "timestamp": 1679403968793,
     "user": {
      "displayName": "Hrutik Nawade",
      "userId": "03506609053451396862"
     },
     "user_tz": -330
    },
    "id": "Eto2EpXGFWYr",
    "outputId": "677cce10-90b7-4618-858c-352d1e5e7e87"
   },
   "outputs": [
    {
     "data": {
      "text/plain": [
       "5"
      ]
     },
     "execution_count": 123,
     "metadata": {},
     "output_type": "execute_result"
    }
   ],
   "source": [
    "len('hello')"
   ]
  },
  {
   "cell_type": "markdown",
   "metadata": {},
   "source": [
    "#### count()"
   ]
  },
  {
   "cell_type": "code",
   "execution_count": null,
   "metadata": {
    "colab": {
     "base_uri": "https://localhost:8080/"
    },
    "executionInfo": {
     "elapsed": 773,
     "status": "ok",
     "timestamp": 1679404010842,
     "user": {
      "displayName": "Hrutik Nawade",
      "userId": "03506609053451396862"
     },
     "user_tz": -330
    },
    "id": "KkpKHk-uRtpe",
    "outputId": "93384cf6-ac9c-4b11-bef8-6cfe77c69469"
   },
   "outputs": [
    {
     "name": "stdout",
     "output_type": "stream",
     "text": [
      "5\n"
     ]
    }
   ],
   "source": [
    "count=0\n",
    "for i in 'hello':\n",
    "  count+=1\n",
    "print(count)"
   ]
  },
  {
   "cell_type": "markdown",
   "metadata": {
    "id": "5GbbFuQlMGkV"
   },
   "source": [
    "### Adding elements to sets"
   ]
  },
  {
   "cell_type": "markdown",
   "metadata": {
    "id": "sPC_wcF2UB-4"
   },
   "source": [
    "#### add( )\n",
    "Adds item x to the set"
   ]
  },
  {
   "cell_type": "code",
   "execution_count": 49,
   "metadata": {
    "id": "tBAFEOSOMGhi"
   },
   "outputs": [
    {
     "name": "stdout",
     "output_type": "stream",
     "text": [
      "{1, 2, 3, 31}\n"
     ]
    }
   ],
   "source": [
    "# adds single element in the set\n",
    "\n",
    "s2={1, 2, 3, 2}\n",
    "s2.add(31)\n",
    "print(s2)"
   ]
  },
  {
   "cell_type": "code",
   "execution_count": 50,
   "metadata": {
    "colab": {
     "base_uri": "https://localhost:8080/"
    },
    "executionInfo": {
     "elapsed": 518,
     "status": "ok",
     "timestamp": 1681133158274,
     "user": {
      "displayName": "Hrutik Nawade",
      "userId": "03506609053451396862"
     },
     "user_tz": -330
    },
    "id": "GgzcaufbMGea",
    "outputId": "3f537ee9-c91f-4cd5-dfb2-eb0e949607bd"
   },
   "outputs": [
    {
     "name": "stdout",
     "output_type": "stream",
     "text": [
      "{1, 2, 3, (31, 36, 796, 75)}\n"
     ]
    }
   ],
   "source": [
    "# adds an iterable as a single element\n",
    "\n",
    "s2={1, 2, 3, 2}\n",
    "s2.add((31,36,796,75))\n",
    "print(s2)"
   ]
  },
  {
   "cell_type": "code",
   "execution_count": null,
   "metadata": {
    "id": "2n-s6WVkMGbv"
   },
   "outputs": [],
   "source": []
  },
  {
   "cell_type": "markdown",
   "metadata": {
    "id": "XsDL85pSMGYx"
   },
   "source": [
    "#### update( )\n",
    "- To add multiple items to the set.\n",
    "- Arguments are not individual elements\n",
    "- these are Iterable objects like List,range etc.\n",
    "- All elements present in the given Iterable objects will be added to the set."
   ]
  },
  {
   "cell_type": "code",
   "execution_count": 53,
   "metadata": {
    "id": "Qk7Fc7gXXSbu"
   },
   "outputs": [
    {
     "name": "stdout",
     "output_type": "stream",
     "text": [
      "{1, 2, 3, 4, 5, 6, 7, 33, 'hrutik', 53}\n"
     ]
    }
   ],
   "source": [
    "# adds the iterable to the set \n",
    "\n",
    "s2={1,2,4,6,6,5,4,3,2,2}\n",
    "l = ['hrutik', 33, 53,7]\n",
    "\n",
    "s2.update(l)\n",
    "print(s2)"
   ]
  },
  {
   "cell_type": "code",
   "execution_count": 55,
   "metadata": {},
   "outputs": [
    {
     "ename": "TypeError",
     "evalue": "'int' object is not iterable",
     "output_type": "error",
     "traceback": [
      "\u001b[1;31m---------------------------------------------------------------------------\u001b[0m",
      "\u001b[1;31mTypeError\u001b[0m                                 Traceback (most recent call last)",
      "Cell \u001b[1;32mIn[55], line 4\u001b[0m\n\u001b[0;32m      1\u001b[0m \u001b[38;5;66;03m# if we try to add single element using update, it will raise error\u001b[39;00m\n\u001b[0;32m      3\u001b[0m s2\u001b[38;5;241m=\u001b[39m{\u001b[38;5;241m1\u001b[39m, \u001b[38;5;241m2\u001b[39m, \u001b[38;5;241m3\u001b[39m, \u001b[38;5;241m2\u001b[39m}\n\u001b[1;32m----> 4\u001b[0m s2\u001b[38;5;241m.\u001b[39mupdate(\u001b[38;5;241m31\u001b[39m)\n\u001b[0;32m      5\u001b[0m \u001b[38;5;28mprint\u001b[39m(s2)\n",
      "\u001b[1;31mTypeError\u001b[0m: 'int' object is not iterable"
     ]
    }
   ],
   "source": [
    "# if we try to add single element using update, it will raise error\n",
    "\n",
    "s2={1, 2, 3, 2}\n",
    "s2.update(31)\n",
    "print(s2)"
   ]
  },
  {
   "cell_type": "markdown",
   "metadata": {
    "id": "wwuOya0vXS5K"
   },
   "source": [
    "#### copy( )\n",
    "Returns copy of the set.<br>\r\n",
    "It is cloned object\n"
   ]
  },
  {
   "cell_type": "code",
   "execution_count": null,
   "metadata": {
    "colab": {
     "base_uri": "https://localhost:8080/"
    },
    "executionInfo": {
     "elapsed": 481,
     "status": "ok",
     "timestamp": 1681134200976,
     "user": {
      "displayName": "Hrutik Nawade",
      "userId": "03506609053451396862"
     },
     "user_tz": -330
    },
    "id": "wIuo1xcyMGSj",
    "outputId": "bd00e013-2daf-4ffc-80d2-3d26baba4240"
   },
   "outputs": [
    {
     "data": {
      "text/plain": [
       "{1, 2, 3, 4, 5, 6}"
      ]
     },
     "execution_count": 25,
     "metadata": {},
     "output_type": "execute_result"
    }
   ],
   "source": [
    "# copies the set\n",
    "\n",
    "s2={1,2,4,6,6,5,4,3,2,2}\n",
    "s2.copy()"
   ]
  },
  {
   "cell_type": "markdown",
   "metadata": {
    "id": "GM5VCqsHZmFO"
   },
   "source": [
    "### removing elements from set"
   ]
  },
  {
   "cell_type": "markdown",
   "metadata": {
    "id": "9i7FytttZmm1"
   },
   "source": [
    "#### remove( )\n",
    "It removes specified element from the set.<br>\r\n",
    "If the specified element not present in the Set then we will get KeyError"
   ]
  },
  {
   "cell_type": "code",
   "execution_count": 58,
   "metadata": {
    "colab": {
     "base_uri": "https://localhost:8080/",
     "height": 130
    },
    "executionInfo": {
     "elapsed": 12,
     "status": "error",
     "timestamp": 1681134369365,
     "user": {
      "displayName": "Hrutik Nawade",
      "userId": "03506609053451396862"
     },
     "user_tz": -330
    },
    "id": "ApJcYQIOZm28",
    "outputId": "757fb2cb-e135-4068-e49d-ea14f68c9e46"
   },
   "outputs": [
    {
     "name": "stdout",
     "output_type": "stream",
     "text": [
      "{1, 3, 4, 5, 6}\n"
     ]
    }
   ],
   "source": [
    "s2={1,2,4,6,6,5,4,3,2,2}\n",
    "s2.remove(2)\n",
    "print(s2)     # 2 is removed here"
   ]
  },
  {
   "cell_type": "code",
   "execution_count": 64,
   "metadata": {
    "colab": {
     "base_uri": "https://localhost:8080/",
     "height": 165
    },
    "executionInfo": {
     "elapsed": 674,
     "status": "error",
     "timestamp": 1681134309954,
     "user": {
      "displayName": "Hrutik Nawade",
      "userId": "03506609053451396862"
     },
     "user_tz": -330
    },
    "id": "F1_yeF4uZnZc",
    "outputId": "2f0b8cbd-a6bb-4f59-cd68-d93bc1702c3b"
   },
   "outputs": [
    {
     "ename": "KeyError",
     "evalue": "28",
     "output_type": "error",
     "traceback": [
      "\u001b[1;31m---------------------------------------------------------------------------\u001b[0m",
      "\u001b[1;31mKeyError\u001b[0m                                  Traceback (most recent call last)",
      "Cell \u001b[1;32mIn[64], line 1\u001b[0m\n\u001b[1;32m----> 1\u001b[0m s2\u001b[38;5;241m.\u001b[39mremove(\u001b[38;5;241m28\u001b[39m)     \u001b[38;5;66;03m# as 28 is not there raises keyerror\u001b[39;00m\n\u001b[0;32m      2\u001b[0m \u001b[38;5;28mprint\u001b[39m(s2)\n",
      "\u001b[1;31mKeyError\u001b[0m: 28"
     ]
    }
   ],
   "source": [
    "s2.remove(2)     # as 2 is not there raises keyerror\n",
    "print(s2)"
   ]
  },
  {
   "cell_type": "markdown",
   "metadata": {
    "id": "0LuQiCQ8aaD2"
   },
   "source": [
    "#### discard( )\n",
    "It removes the specified element from the set.<br>\r\n",
    "If the specified element not present in the set then we won't get any error."
   ]
  },
  {
   "cell_type": "code",
   "execution_count": 62,
   "metadata": {
    "id": "GlgABH5uaaA5"
   },
   "outputs": [
    {
     "name": "stdout",
     "output_type": "stream",
     "text": [
      "{1, 3, 4, 5, 6}\n"
     ]
    }
   ],
   "source": [
    "s2={1,2,4,6,6,5,4,3,2,2}\n",
    "s2.discard(2)\n",
    "print(s2)"
   ]
  },
  {
   "cell_type": "code",
   "execution_count": 65,
   "metadata": {
    "id": "FkCwwl8JaZ7y"
   },
   "outputs": [
    {
     "name": "stdout",
     "output_type": "stream",
     "text": [
      "{1, 3, 4, 5, 6}\n"
     ]
    }
   ],
   "source": [
    "s2.discard(2)\n",
    "print(s2)    # as 2 is already removed but also it will not raise error"
   ]
  },
  {
   "cell_type": "markdown",
   "metadata": {
    "id": "9aW7UCRjaZzs"
   },
   "source": [
    "#### clear ( )\n",
    "To remove all elements from the Set."
   ]
  },
  {
   "cell_type": "code",
   "execution_count": 67,
   "metadata": {
    "id": "UFZh_QXFaZwt"
   },
   "outputs": [
    {
     "name": "stdout",
     "output_type": "stream",
     "text": [
      "set()\n"
     ]
    }
   ],
   "source": [
    "# empties the set\n",
    "\n",
    "s2={1,2,4,6,6,5,4,3,2,2}\n",
    "s2.clear()\n",
    "print(s2)"
   ]
  },
  {
   "cell_type": "markdown",
   "metadata": {
    "id": "QjlGaAdbaZlO"
   },
   "source": [
    "#### pop( )\n",
    "It removes and returns some random element from the set"
   ]
  },
  {
   "cell_type": "code",
   "execution_count": 56,
   "metadata": {
    "id": "ykE0C9g_aZid"
   },
   "outputs": [
    {
     "ename": "TypeError",
     "evalue": "set.pop() takes no arguments (1 given)",
     "output_type": "error",
     "traceback": [
      "\u001b[1;31m---------------------------------------------------------------------------\u001b[0m",
      "\u001b[1;31mTypeError\u001b[0m                                 Traceback (most recent call last)",
      "Cell \u001b[1;32mIn[56], line 4\u001b[0m\n\u001b[0;32m      1\u001b[0m \u001b[38;5;66;03m# removes single item from the set and returns it\u001b[39;00m\n\u001b[0;32m      3\u001b[0m s2\u001b[38;5;241m=\u001b[39m{\u001b[38;5;241m1\u001b[39m,\u001b[38;5;241m2\u001b[39m,\u001b[38;5;241m4\u001b[39m,\u001b[38;5;241m6\u001b[39m,\u001b[38;5;241m6\u001b[39m,\u001b[38;5;241m5\u001b[39m,\u001b[38;5;241m4\u001b[39m,\u001b[38;5;241m3\u001b[39m,\u001b[38;5;241m2\u001b[39m,\u001b[38;5;241m2\u001b[39m}\n\u001b[1;32m----> 4\u001b[0m s2\u001b[38;5;241m.\u001b[39mpop(\u001b[38;5;241m3\u001b[39m)\n",
      "\u001b[1;31mTypeError\u001b[0m: set.pop() takes no arguments (1 given)"
     ]
    }
   ],
   "source": [
    "s2={1,2,4,6,6,5,4,3,2,2}\n",
    "s2.pop()    # in sets pop does not take any argument"
   ]
  },
  {
   "cell_type": "code",
   "execution_count": null,
   "metadata": {
    "colab": {
     "base_uri": "https://localhost:8080/"
    },
    "executionInfo": {
     "elapsed": 4,
     "status": "ok",
     "timestamp": 1681136441949,
     "user": {
      "displayName": "Hrutik Nawade",
      "userId": "03506609053451396862"
     },
     "user_tz": -330
    },
    "id": "L8VI0lKtIEzl",
    "outputId": "b9219a5e-5122-474b-c8eb-978f6078c3ad"
   },
   "outputs": [
    {
     "data": {
      "text/plain": [
       "{1, 2, 3, 4, 5, 6}"
      ]
     },
     "execution_count": 88,
     "metadata": {},
     "output_type": "execute_result"
    }
   ],
   "source": [
    "s2"
   ]
  },
  {
   "cell_type": "markdown",
   "metadata": {
    "id": "WapT-y7Yc4Ba"
   },
   "source": [
    "### Sets methods"
   ]
  },
  {
   "cell_type": "code",
   "execution_count": 81,
   "metadata": {
    "id": "DQrL8slFdbNH"
   },
   "outputs": [],
   "source": [
    "s1 = {53, 65, 74, 24, 2, 5, 86, 72}\n",
    "s2 = {1, 2, 4, 6, 6, 5, 4, 673, 86, 2, 2}\n",
    "s3 = {256, 575, 673, 758, 86, 5, 74, 53}"
   ]
  },
  {
   "cell_type": "markdown",
   "metadata": {
    "id": "s80mXOCTc4-R"
   },
   "source": [
    "#### union()\n",
    "return all elements present in both sets<br>\n",
    "This can also be done with `|` bitwise or operator"
   ]
  },
  {
   "cell_type": "code",
   "execution_count": 82,
   "metadata": {
    "colab": {
     "base_uri": "https://localhost:8080/"
    },
    "executionInfo": {
     "elapsed": 368,
     "status": "ok",
     "timestamp": 1681135251375,
     "user": {
      "displayName": "Hrutik Nawade",
      "userId": "03506609053451396862"
     },
     "user_tz": -330
    },
    "id": "fcF6ueMNE2nE",
    "outputId": "5df7cd47-a211-4b5d-817b-0774a72fd76b"
   },
   "outputs": [
    {
     "data": {
      "text/plain": [
       "{1, 2, 4, 5, 6, 24, 53, 65, 72, 74, 86, 673}"
      ]
     },
     "execution_count": 82,
     "metadata": {},
     "output_type": "execute_result"
    }
   ],
   "source": [
    "# return a set containing union of two or more sets\n",
    "\n",
    "s1.union(s2)"
   ]
  },
  {
   "cell_type": "code",
   "execution_count": 83,
   "metadata": {
    "colab": {
     "base_uri": "https://localhost:8080/"
    },
    "executionInfo": {
     "elapsed": 629,
     "status": "ok",
     "timestamp": 1681135330666,
     "user": {
      "displayName": "Hrutik Nawade",
      "userId": "03506609053451396862"
     },
     "user_tz": -330
    },
    "id": "ufS3sJkQeIks",
    "outputId": "d33ba826-f680-454d-9d9c-bfb79c6c8446"
   },
   "outputs": [
    {
     "data": {
      "text/plain": [
       "{1, 2, 4, 5, 6, 24, 53, 65, 72, 74, 86, 673}"
      ]
     },
     "execution_count": 83,
     "metadata": {},
     "output_type": "execute_result"
    }
   ],
   "source": [
    "s1 | s2 # the union can be done with the help of bitwise or '|' operator"
   ]
  },
  {
   "cell_type": "code",
   "execution_count": 84,
   "metadata": {
    "colab": {
     "base_uri": "https://localhost:8080/"
    },
    "executionInfo": {
     "elapsed": 403,
     "status": "ok",
     "timestamp": 1681135805396,
     "user": {
      "displayName": "Hrutik Nawade",
      "userId": "03506609053451396862"
     },
     "user_tz": -330
    },
    "id": "pNvFVfZFgFD7",
    "outputId": "6956ced6-70b2-4ee8-8f7f-b4d153a29ea7"
   },
   "outputs": [
    {
     "data": {
      "text/plain": [
       "{1, 2, 4, 5, 6, 24, 53, 65, 72, 74, 86, 256, 575, 673, 758}"
      ]
     },
     "execution_count": 84,
     "metadata": {},
     "output_type": "execute_result"
    }
   ],
   "source": [
    "s1.union(s2, s3)   # multiple sets can be passed to union"
   ]
  },
  {
   "cell_type": "code",
   "execution_count": 85,
   "metadata": {
    "colab": {
     "base_uri": "https://localhost:8080/"
    },
    "executionInfo": {
     "elapsed": 479,
     "status": "ok",
     "timestamp": 1681135753683,
     "user": {
      "displayName": "Hrutik Nawade",
      "userId": "03506609053451396862"
     },
     "user_tz": -330
    },
    "id": "Cs1ASAUVf41O",
    "outputId": "879a2c07-c532-4130-f43b-59d527c83424"
   },
   "outputs": [
    {
     "data": {
      "text/plain": [
       "{1, 2, 4, 5, 6, 24, 53, 65, 72, 74, 86, 256, 575, 673, 758}"
      ]
     },
     "execution_count": 85,
     "metadata": {},
     "output_type": "execute_result"
    }
   ],
   "source": [
    "s1 | s2 | s3"
   ]
  },
  {
   "cell_type": "markdown",
   "metadata": {
    "id": "5VtVUorGeYfa"
   },
   "source": [
    "#### intersection( )\n",
    "Returns common elements present in both sets<br>\n",
    "This can also be done with `&` bitwise and operator"
   ]
  },
  {
   "cell_type": "code",
   "execution_count": 86,
   "metadata": {
    "colab": {
     "base_uri": "https://localhost:8080/"
    },
    "executionInfo": {
     "elapsed": 691,
     "status": "ok",
     "timestamp": 1681135959863,
     "user": {
      "displayName": "Hrutik Nawade",
      "userId": "03506609053451396862"
     },
     "user_tz": -330
    },
    "id": "5qmUR1O6E87h",
    "outputId": "66f349b4-e3c7-48f2-eced-50499ba0a61f"
   },
   "outputs": [
    {
     "data": {
      "text/plain": [
       "{5, 53, 74, 86}"
      ]
     },
     "execution_count": 86,
     "metadata": {},
     "output_type": "execute_result"
    }
   ],
   "source": [
    "# returns the set cotaining intersecting elements from two or more sets\n",
    "\n",
    "s1.intersection(s3)"
   ]
  },
  {
   "cell_type": "code",
   "execution_count": 87,
   "metadata": {
    "colab": {
     "base_uri": "https://localhost:8080/"
    },
    "executionInfo": {
     "elapsed": 585,
     "status": "ok",
     "timestamp": 1681135965539,
     "user": {
      "displayName": "Hrutik Nawade",
      "userId": "03506609053451396862"
     },
     "user_tz": -330
    },
    "id": "vjiYIPbsgr7G",
    "outputId": "7120aeca-b77f-4d9f-8af7-404441716973"
   },
   "outputs": [
    {
     "data": {
      "text/plain": [
       "{5, 86}"
      ]
     },
     "execution_count": 87,
     "metadata": {},
     "output_type": "execute_result"
    }
   ],
   "source": [
    "s1.intersection(s2, s3)"
   ]
  },
  {
   "cell_type": "code",
   "execution_count": 88,
   "metadata": {
    "colab": {
     "base_uri": "https://localhost:8080/"
    },
    "executionInfo": {
     "elapsed": 471,
     "status": "ok",
     "timestamp": 1681137026509,
     "user": {
      "displayName": "Hrutik Nawade",
      "userId": "03506609053451396862"
     },
     "user_tz": -330
    },
    "id": "JpGQ6quRkrrK",
    "outputId": "6012993b-2d5e-437c-a389-e37cb91c6491"
   },
   "outputs": [
    {
     "data": {
      "text/plain": [
       "{2, 5, 86}"
      ]
     },
     "execution_count": 88,
     "metadata": {},
     "output_type": "execute_result"
    }
   ],
   "source": [
    "s1 & s2  # the  intersection can be done with the help of bitwise and '&' operator"
   ]
  },
  {
   "cell_type": "code",
   "execution_count": 89,
   "metadata": {
    "colab": {
     "base_uri": "https://localhost:8080/"
    },
    "executionInfo": {
     "elapsed": 6,
     "status": "ok",
     "timestamp": 1681137028236,
     "user": {
      "displayName": "Hrutik Nawade",
      "userId": "03506609053451396862"
     },
     "user_tz": -330
    },
    "id": "g_Arf9f2grw0",
    "outputId": "6b89f2eb-a5f0-4fb1-f83e-0d10505da178"
   },
   "outputs": [
    {
     "data": {
      "text/plain": [
       "{5, 86}"
      ]
     },
     "execution_count": 89,
     "metadata": {},
     "output_type": "execute_result"
    }
   ],
   "source": [
    "s1 & s2 & s3  "
   ]
  },
  {
   "cell_type": "markdown",
   "metadata": {
    "id": "Ys9gr1fEgrmg"
   },
   "source": [
    "#### difference( )\n",
    "returns the elements present in x but not in y<br>\n",
    "this can also be done with the `-` subtraction of operator"
   ]
  },
  {
   "cell_type": "code",
   "execution_count": null,
   "metadata": {
    "colab": {
     "base_uri": "https://localhost:8080/"
    },
    "executionInfo": {
     "elapsed": 463,
     "status": "ok",
     "timestamp": 1681136356176,
     "user": {
      "displayName": "Hrutik Nawade",
      "userId": "03506609053451396862"
     },
     "user_tz": -330
    },
    "id": "ZB4eCeWNE-pe",
    "outputId": "61ed18a8-f5ee-4c81-a758-2afe34d9493f"
   },
   "outputs": [
    {
     "data": {
      "text/plain": [
       "{24, 53, 65, 72, 74}"
      ]
     },
     "execution_count": 84,
     "metadata": {},
     "output_type": "execute_result"
    }
   ],
   "source": [
    "# returns the set containing the elements that are not in other set\n",
    "\n",
    "s1.difference(s2)"
   ]
  },
  {
   "cell_type": "code",
   "execution_count": null,
   "metadata": {
    "colab": {
     "base_uri": "https://localhost:8080/"
    },
    "executionInfo": {
     "elapsed": 934,
     "status": "ok",
     "timestamp": 1681136375830,
     "user": {
      "displayName": "Hrutik Nawade",
      "userId": "03506609053451396862"
     },
     "user_tz": -330
    },
    "id": "-8TN1BsVFmoO",
    "outputId": "9f9f6c0b-8d21-4d39-cc76-dc335d998363"
   },
   "outputs": [
    {
     "data": {
      "text/plain": [
       "{1, 4, 6}"
      ]
     },
     "execution_count": 86,
     "metadata": {},
     "output_type": "execute_result"
    }
   ],
   "source": [
    "s2 - s1 - s3 # this can also be done with the subtraction of operator"
   ]
  },
  {
   "cell_type": "code",
   "execution_count": 91,
   "metadata": {
    "colab": {
     "base_uri": "https://localhost:8080/"
    },
    "executionInfo": {
     "elapsed": 926,
     "status": "ok",
     "timestamp": 1681136483181,
     "user": {
      "displayName": "Hrutik Nawade",
      "userId": "03506609053451396862"
     },
     "user_tz": -330
    },
    "id": "VplxiggSirmb",
    "outputId": "77aab3ed-67c7-4122-b5cc-3cec2264456d"
   },
   "outputs": [
    {
     "data": {
      "text/plain": [
       "{24, 65, 72}"
      ]
     },
     "execution_count": 91,
     "metadata": {},
     "output_type": "execute_result"
    }
   ],
   "source": [
    "s1.difference(s2,s3)"
   ]
  },
  {
   "cell_type": "markdown",
   "metadata": {
    "id": "YrA8zlDGizIf"
   },
   "source": [
    "#### symmetric_difference( ))\n",
    "`union - intersection` operation<br>\n",
    "Returns elements present in either set1 or set2 but not in both<br>\n",
    "this can also be done with `^` bitwise xor operator"
   ]
  },
  {
   "cell_type": "code",
   "execution_count": 93,
   "metadata": {
    "colab": {
     "base_uri": "https://localhost:8080/"
    },
    "executionInfo": {
     "elapsed": 973,
     "status": "ok",
     "timestamp": 1681136624910,
     "user": {
      "displayName": "Hrutik Nawade",
      "userId": "03506609053451396862"
     },
     "user_tz": -330
    },
    "id": "9CxBLo4Ei7Iz",
    "outputId": "b15a6b84-f1c1-4c61-b9c1-d47e4e09b8a5"
   },
   "outputs": [
    {
     "data": {
      "text/plain": [
       "{1, 4, 6, 24, 53, 65, 72, 74, 673}"
      ]
     },
     "execution_count": 93,
     "metadata": {},
     "output_type": "execute_result"
    }
   ],
   "source": [
    "# returns union - intersection from all the sets\n",
    "\n",
    "s1.symmetric_difference(s2)"
   ]
  },
  {
   "cell_type": "code",
   "execution_count": 94,
   "metadata": {
    "colab": {
     "base_uri": "https://localhost:8080/"
    },
    "executionInfo": {
     "elapsed": 673,
     "status": "ok",
     "timestamp": 1681136721307,
     "user": {
      "displayName": "Hrutik Nawade",
      "userId": "03506609053451396862"
     },
     "user_tz": -330
    },
    "id": "cHUo-mDrFLnW",
    "outputId": "2b9244e7-7571-4d5f-f853-b3441da3af82"
   },
   "outputs": [
    {
     "data": {
      "text/plain": [
       "{1, 4, 5, 6, 24, 65, 72, 86, 256, 575, 758}"
      ]
     },
     "execution_count": 94,
     "metadata": {},
     "output_type": "execute_result"
    }
   ],
   "source": [
    "s1 ^ s2 ^ s3 # this can also be done with bitwise xor operator '^'"
   ]
  },
  {
   "cell_type": "code",
   "execution_count": 95,
   "metadata": {
    "colab": {
     "base_uri": "https://localhost:8080/",
     "height": 165
    },
    "executionInfo": {
     "elapsed": 502,
     "status": "error",
     "timestamp": 1681136791189,
     "user": {
      "displayName": "Hrutik Nawade",
      "userId": "03506609053451396862"
     },
     "user_tz": -330
    },
    "id": "PrjDFJXPjt-W",
    "outputId": "ce28ec9f-91c2-47eb-d414-14dafe37018d"
   },
   "outputs": [
    {
     "ename": "TypeError",
     "evalue": "set.symmetric_difference() takes exactly one argument (2 given)",
     "output_type": "error",
     "traceback": [
      "\u001b[1;31m---------------------------------------------------------------------------\u001b[0m",
      "\u001b[1;31mTypeError\u001b[0m                                 Traceback (most recent call last)",
      "Cell \u001b[1;32mIn[95], line 1\u001b[0m\n\u001b[1;32m----> 1\u001b[0m s1\u001b[38;5;241m.\u001b[39msymmetric_difference(s2 ,s3)\n",
      "\u001b[1;31mTypeError\u001b[0m: set.symmetric_difference() takes exactly one argument (2 given)"
     ]
    }
   ],
   "source": [
    "s1.symmetric_difference(s2 ,s3) # this takes only one argument"
   ]
  },
  {
   "cell_type": "markdown",
   "metadata": {
    "id": "stinAMgzDf7z"
   },
   "source": [
    "### Sets updates methods"
   ]
  },
  {
   "cell_type": "code",
   "execution_count": null,
   "metadata": {
    "id": "TDcTW3HhDf2J"
   },
   "outputs": [],
   "source": [
    "s1 = {53, 65, 74, 24, 2, 5, 86, 72}\n",
    "s2 = {1, 2, 4, 6, 6, 5, 4, 673, 86, 2, 2}\n",
    "s3 = {256, 575, 673, 758, 86, 5, 74, 53}"
   ]
  },
  {
   "cell_type": "markdown",
   "metadata": {
    "id": "Kg0Dz-xDDf4Y"
   },
   "source": [
    "#### intersection_update ( )\n",
    "update the set by keeping only those elements that found in both the sets"
   ]
  },
  {
   "cell_type": "code",
   "execution_count": null,
   "metadata": {
    "colab": {
     "base_uri": "https://localhost:8080/"
    },
    "executionInfo": {
     "elapsed": 5,
     "status": "ok",
     "timestamp": 1681733166327,
     "user": {
      "displayName": "Hrutik Nawade",
      "userId": "03506609053451396862"
     },
     "user_tz": -330
    },
    "id": "bKVQ380QDfzz",
    "outputId": "25583c9d-db52-42de-8565-8918106754b5"
   },
   "outputs": [
    {
     "name": "stdout",
     "output_type": "stream",
     "text": [
      "{2, 5, 86}\n"
     ]
    }
   ],
   "source": [
    "s1.intersection_update(s2)\n",
    "print(s1)   # updates the set s1"
   ]
  },
  {
   "cell_type": "markdown",
   "metadata": {
    "id": "6o77ymYKHOjF"
   },
   "source": [
    "#### difference_update ( )\n",
    "updates the set by removing elements that found in other set"
   ]
  },
  {
   "cell_type": "code",
   "execution_count": null,
   "metadata": {
    "colab": {
     "base_uri": "https://localhost:8080/"
    },
    "executionInfo": {
     "elapsed": 589,
     "status": "ok",
     "timestamp": 1681733330914,
     "user": {
      "displayName": "Hrutik Nawade",
      "userId": "03506609053451396862"
     },
     "user_tz": -330
    },
    "id": "D0ztu_wSHOfr",
    "outputId": "f9cdfe7f-c3fd-4e82-c04b-ee3c275ae3a0"
   },
   "outputs": [
    {
     "name": "stdout",
     "output_type": "stream",
     "text": [
      "{1, 2, 4, 6}\n"
     ]
    }
   ],
   "source": [
    "s2.difference_update(s3)\n",
    "print(s2)"
   ]
  },
  {
   "cell_type": "markdown",
   "metadata": {
    "id": "q9R8hqGSHyEQ"
   },
   "source": [
    "#### symmetric_difference_update ( )\n",
    "updates the set by keeping only those elments that found in either set, but not in both sets\n"
   ]
  },
  {
   "cell_type": "code",
   "execution_count": null,
   "metadata": {
    "colab": {
     "base_uri": "https://localhost:8080/"
    },
    "executionInfo": {
     "elapsed": 571,
     "status": "ok",
     "timestamp": 1681733610378,
     "user": {
      "displayName": "Hrutik Nawade",
      "userId": "03506609053451396862"
     },
     "user_tz": -330
    },
    "id": "Ygj4WvK1HyAw",
    "outputId": "0a0298cb-4335-4bc8-abb3-85302bca1234"
   },
   "outputs": [
    {
     "name": "stdout",
     "output_type": "stream",
     "text": [
      "{65, 1, 673, 4, 6, 72, 74, 53, 24}\n"
     ]
    }
   ],
   "source": [
    "s1.symmetric_difference_update(s2)\n",
    "print(s1)"
   ]
  },
  {
   "cell_type": "code",
   "execution_count": null,
   "metadata": {
    "id": "tdVNjeH_Hx-B"
   },
   "outputs": [],
   "source": []
  },
  {
   "cell_type": "markdown",
   "metadata": {
    "id": "h1gRvlII9BAb"
   },
   "source": [
    "### Other set methods"
   ]
  },
  {
   "cell_type": "code",
   "execution_count": 96,
   "metadata": {
    "executionInfo": {
     "elapsed": 1234,
     "status": "ok",
     "timestamp": 1682003209132,
     "user": {
      "displayName": "Hrutik Nawade",
      "userId": "03506609053451396862"
     },
     "user_tz": -330
    },
    "id": "LZATAAxN9A6R"
   },
   "outputs": [],
   "source": [
    "a = {53, 65, 74, 24, 2, 5, 86, 72}\n",
    "b = {53, 65, 2}\n",
    "s2 = {1, 2, 4, 6, 6, 5, 4, 673, 86, 2, 2}"
   ]
  },
  {
   "cell_type": "markdown",
   "metadata": {
    "id": "Nf-pcj2z9A9O"
   },
   "source": [
    "#### issubset ( )\n",
    "returns boolean if set1 is subset of set2 --> True"
   ]
  },
  {
   "cell_type": "code",
   "execution_count": 98,
   "metadata": {
    "colab": {
     "base_uri": "https://localhost:8080/"
    },
    "executionInfo": {
     "elapsed": 7,
     "status": "ok",
     "timestamp": 1682003210137,
     "user": {
      "displayName": "Hrutik Nawade",
      "userId": "03506609053451396862"
     },
     "user_tz": -330
    },
    "id": "Mj65PkodHOQ8",
    "outputId": "141f60cd-501b-4256-8899-bd3445f2f952"
   },
   "outputs": [
    {
     "data": {
      "text/plain": [
       "True"
      ]
     },
     "execution_count": 98,
     "metadata": {},
     "output_type": "execute_result"
    }
   ],
   "source": [
    "b.issubset(a)   # all the elements in a is in set b"
   ]
  },
  {
   "cell_type": "code",
   "execution_count": 5,
   "metadata": {
    "colab": {
     "base_uri": "https://localhost:8080/"
    },
    "executionInfo": {
     "elapsed": 497,
     "status": "ok",
     "timestamp": 1682003371148,
     "user": {
      "displayName": "Hrutik Nawade",
      "userId": "03506609053451396862"
     },
     "user_tz": -330
    },
    "id": "NQVqrHDvNl19",
    "outputId": "5a15fbea-afe0-488f-8a93-c18222073e14"
   },
   "outputs": [
    {
     "data": {
      "text/plain": [
       "False"
      ]
     },
     "execution_count": 5,
     "metadata": {},
     "output_type": "execute_result"
    }
   ],
   "source": [
    "a.issubset(b)"
   ]
  },
  {
   "cell_type": "markdown",
   "metadata": {
    "id": "sesY9v9FNlv3"
   },
   "source": [
    "#### issuperset ( )\n",
    "returns boolean if a is superset of b"
   ]
  },
  {
   "cell_type": "code",
   "execution_count": 6,
   "metadata": {
    "colab": {
     "base_uri": "https://localhost:8080/"
    },
    "executionInfo": {
     "elapsed": 1306,
     "status": "ok",
     "timestamp": 1682003415873,
     "user": {
      "displayName": "Hrutik Nawade",
      "userId": "03506609053451396862"
     },
     "user_tz": -330
    },
    "id": "peMFF6jXNls0",
    "outputId": "ac955305-27d9-4f2e-cc43-2552bae052dc"
   },
   "outputs": [
    {
     "data": {
      "text/plain": [
       "True"
      ]
     },
     "execution_count": 6,
     "metadata": {},
     "output_type": "execute_result"
    }
   ],
   "source": [
    "a.issuperset(b)     # all the elements in a is in set b"
   ]
  },
  {
   "cell_type": "code",
   "execution_count": 7,
   "metadata": {
    "colab": {
     "base_uri": "https://localhost:8080/"
    },
    "executionInfo": {
     "elapsed": 10,
     "status": "ok",
     "timestamp": 1682003432774,
     "user": {
      "displayName": "Hrutik Nawade",
      "userId": "03506609053451396862"
     },
     "user_tz": -330
    },
    "id": "qC7Xqc5HNlqj",
    "outputId": "cd5a8e3c-1e7a-4ed7-cfd1-d88a1254b832"
   },
   "outputs": [
    {
     "data": {
      "text/plain": [
       "False"
      ]
     },
     "execution_count": 7,
     "metadata": {},
     "output_type": "execute_result"
    }
   ],
   "source": [
    "b.issuperset(a)"
   ]
  },
  {
   "cell_type": "code",
   "execution_count": 4,
   "metadata": {
    "executionInfo": {
     "elapsed": 5,
     "status": "ok",
     "timestamp": 1682003342111,
     "user": {
      "displayName": "Hrutik Nawade",
      "userId": "03506609053451396862"
     },
     "user_tz": -330
    },
    "id": "9LaPA6IOHONc"
   },
   "outputs": [],
   "source": []
  },
  {
   "cell_type": "markdown",
   "metadata": {
    "id": "sJpajUuzkZBr"
   },
   "source": [
    "# Set comprehension\n",
    "Syntax of set comprehension is same as list comprehension"
   ]
  },
  {
   "cell_type": "code",
   "execution_count": 99,
   "metadata": {
    "id": "wJYeV_oElmay"
   },
   "outputs": [
    {
     "data": {
      "text/plain": [
       "{1, 4, 9, 16, 25, 36, 49, 64, 81}"
      ]
     },
     "execution_count": 99,
     "metadata": {},
     "output_type": "execute_result"
    }
   ],
   "source": [
    "s = {i**2 for i in range(1,10)}\n",
    "s"
   ]
  },
  {
   "cell_type": "code",
   "execution_count": 100,
   "metadata": {
    "colab": {
     "base_uri": "https://localhost:8080/"
    },
    "executionInfo": {
     "elapsed": 9,
     "status": "ok",
     "timestamp": 1679659345749,
     "user": {
      "displayName": "Hrutik Nawade",
      "userId": "03506609053451396862"
     },
     "user_tz": -330
    },
    "id": "dN2m1fQjOhdL",
    "outputId": "f567e1e9-9c45-49ff-85cc-4561644e7919"
   },
   "outputs": [
    {
     "data": {
      "text/plain": [
       "{1,\n",
       " 4,\n",
       " 9,\n",
       " 16,\n",
       " 25,\n",
       " 36,\n",
       " 49,\n",
       " 64,\n",
       " 81,\n",
       " 100,\n",
       " 121,\n",
       " 144,\n",
       " 169,\n",
       " 196,\n",
       " 225,\n",
       " 256,\n",
       " 289,\n",
       " 324,\n",
       " 361,\n",
       " 400}"
      ]
     },
     "execution_count": 100,
     "metadata": {},
     "output_type": "execute_result"
    }
   ],
   "source": [
    "S1 = {i**2 for i in range(1,21)} # set comprehension\n",
    "S1"
   ]
  },
  {
   "cell_type": "code",
   "execution_count": 102,
   "metadata": {
    "colab": {
     "base_uri": "https://localhost:8080/"
    },
    "executionInfo": {
     "elapsed": 627,
     "status": "ok",
     "timestamp": 1679659642601,
     "user": {
      "displayName": "Hrutik Nawade",
      "userId": "03506609053451396862"
     },
     "user_tz": -330
    },
    "id": "xQZkBWc9f53f",
    "outputId": "9586e56b-c077-40b8-fb92-4dfeba3c6017"
   },
   "outputs": [
    {
     "data": {
      "text/plain": [
       "{0, 1, 2, 3, 4, 5, 6, 7, 8, 9, 10}"
      ]
     },
     "execution_count": 102,
     "metadata": {},
     "output_type": "execute_result"
    }
   ],
   "source": [
    "{n for n in range(11)}"
   ]
  },
  {
   "cell_type": "code",
   "execution_count": 103,
   "metadata": {
    "colab": {
     "base_uri": "https://localhost:8080/"
    },
    "executionInfo": {
     "elapsed": 7,
     "status": "ok",
     "timestamp": 1679659662854,
     "user": {
      "displayName": "Hrutik Nawade",
      "userId": "03506609053451396862"
     },
     "user_tz": -330
    },
    "id": "k9BlkVIWgAh0",
    "outputId": "0d6957b0-c8ab-45f5-f79d-b40326897e3b"
   },
   "outputs": [
    {
     "data": {
      "text/plain": [
       "{0, 1, 2}"
      ]
     },
     "execution_count": 103,
     "metadata": {},
     "output_type": "execute_result"
    }
   ],
   "source": [
    "{a % 3 for a in range(1000)}"
   ]
  },
  {
   "cell_type": "code",
   "execution_count": null,
   "metadata": {
    "id": "eYnA-lcclmQt"
   },
   "outputs": [],
   "source": []
  },
  {
   "cell_type": "markdown",
   "metadata": {
    "id": "oEQ9XxcrlmOH"
   },
   "source": [
    "# Frozenset\n",
    "Frozen set is just an immutable version of a Python set object<br>\n",
    "just like we can call tuple as an immutable version of a python list object over which we can perform all read operations but we can't perform write operations over that.\n",
    "\n",
    "what works and what does not\n",
    "- works -> all read functions\n",
    "- does't work -> write operations"
   ]
  },
  {
   "cell_type": "code",
   "execution_count": 105,
   "metadata": {
    "id": "6gxxx_m6R4S-"
   },
   "outputs": [
    {
     "data": {
      "text/plain": [
       "frozenset({1, 2, 3, 4, 5})"
      ]
     },
     "execution_count": 105,
     "metadata": {},
     "output_type": "execute_result"
    }
   ],
   "source": [
    "# create frozenset\n",
    "fs1 = frozenset([1,2,3])\n",
    "fs2 = frozenset([3,4,5])\n",
    "\n",
    "fs1 | fs2"
   ]
  },
  {
   "cell_type": "code",
   "execution_count": 106,
   "metadata": {},
   "outputs": [
    {
     "data": {
      "text/plain": [
       "{1, 2, frozenset({3, 4})}"
      ]
     },
     "execution_count": 106,
     "metadata": {},
     "output_type": "execute_result"
    }
   ],
   "source": [
    "# When to use --> When have to use set operations inside the set object\n",
    "# 2D sets     --> as set object requires immutable objects inside it.\n",
    "\n",
    "s = set([1,2,frozenset([3,4])])   # by using this we can use a set like object inside set\n",
    "s"
   ]
  },
  {
   "cell_type": "code",
   "execution_count": null,
   "metadata": {},
   "outputs": [],
   "source": []
  },
  {
   "cell_type": "code",
   "execution_count": null,
   "metadata": {},
   "outputs": [],
   "source": []
  }
 ],
 "metadata": {
  "colab": {
   "authorship_tag": "ABX9TyMzBve6BiOcbl4MiHBwVB7k",
   "provenance": [],
   "toc_visible": true
  },
  "kernelspec": {
   "display_name": "Python 3 (ipykernel)",
   "language": "python",
   "name": "python3"
  },
  "language_info": {
   "codemirror_mode": {
    "name": "ipython",
    "version": 3
   },
   "file_extension": ".py",
   "mimetype": "text/x-python",
   "name": "python",
   "nbconvert_exporter": "python",
   "pygments_lexer": "ipython3",
   "version": "3.11.7"
  }
 },
 "nbformat": 4,
 "nbformat_minor": 4
}
