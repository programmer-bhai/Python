{
 "cells": [
  {
   "cell_type": "markdown",
   "metadata": {},
   "source": [
    "# Tuple\n",
    "\n",
    "A tuple in Python is similar to a list. The difference between the two is that we cannot change the elements of a tuple once it is assigned whereas we can change the elements of a list.\n",
    "Hence Tuple is Read Only version of List or I call to prefer it as frozenlist.\n",
    "\n",
    "In short, a tuple is an immutable list. A tuple can not be changed in any way once it is created.\n",
    "\n",
    "#### Topics to be covered\n",
    "- characteristics of tuple\n",
    "- Creating a Tuple\n",
    "- Accessing items\n",
    "- Editing items\n",
    "- Adding items\n",
    "- Deleting items\n",
    "- Operations on Tuples\n",
    "- Tuple Functions\n",
    "\n",
    "\n",
    "#### characteristics of tuple\n",
    "\n",
    "- Ordered -> Insertion Order is preserved\n",
    "- Unchangeble/immutable\n",
    "- Allows duplicate\n",
    "- If our data is fixed and never changes then we should go for Tuple.\n",
    "- Duplicates are allowed\n",
    "- Heterogeneous objects are allowed.\n",
    "- We can preserve insertion order and we can differentiate duplicate objects by using index. Hence index will play very important role in Tuple also. Tuple support both +ve and -ve index. +ve index means forward direction(from left to right) and -ve index means backward direction(from right to left).\n",
    "- We can represent Tuple elements within Parenthesis and with comma seperator.<br>\n",
    " Parenethesis are optional but recommended to use."
   ]
  },
  {
   "cell_type": "markdown",
   "metadata": {
    "id": "l5038cZlwaZ3"
   },
   "source": [
    "# Creating tuples"
   ]
  },
  {
   "cell_type": "code",
   "execution_count": 1,
   "metadata": {
    "colab": {
     "base_uri": "https://localhost:8080/"
    },
    "executionInfo": {
     "elapsed": 514,
     "status": "ok",
     "timestamp": 1681214407544,
     "user": {
      "displayName": "Hrutik Nawade",
      "userId": "03506609053451396862"
     },
     "user_tz": -330
    },
    "id": "9gs8UW2xvnBl",
    "outputId": "c6f5f9fe-4787-4736-c066-1b5a8d11a672"
   },
   "outputs": [
    {
     "data": {
      "text/plain": [
       "tuple"
      ]
     },
     "execution_count": 1,
     "metadata": {},
     "output_type": "execute_result"
    }
   ],
   "source": [
    "# creates an empty tuple\n",
    "t1 = ()  \n",
    "type(t1)"
   ]
  },
  {
   "cell_type": "code",
   "execution_count": 2,
   "metadata": {
    "colab": {
     "base_uri": "https://localhost:8080/"
    },
    "executionInfo": {
     "elapsed": 432,
     "status": "ok",
     "timestamp": 1681214445650,
     "user": {
      "displayName": "Hrutik Nawade",
      "userId": "03506609053451396862"
     },
     "user_tz": -330
    },
    "id": "qIUmKtuSvTYH",
    "outputId": "ed6e7517-fc97-41a1-cdbf-e9ae61f90317"
   },
   "outputs": [
    {
     "data": {
      "text/plain": [
       "tuple"
      ]
     },
     "execution_count": 2,
     "metadata": {},
     "output_type": "execute_result"
    }
   ],
   "source": [
    "# values seperated by comma is also a tuple\n",
    "t2 = 1, 3, 4, 5, 6, 7   \n",
    "type(t2)"
   ]
  },
  {
   "cell_type": "code",
   "execution_count": 3,
   "metadata": {
    "colab": {
     "base_uri": "https://localhost:8080/"
    },
    "executionInfo": {
     "elapsed": 6,
     "status": "ok",
     "timestamp": 1681214448367,
     "user": {
      "displayName": "Hrutik Nawade",
      "userId": "03506609053451396862"
     },
     "user_tz": -330
    },
    "id": "QADk1v39vTIH",
    "outputId": "1db64e9d-e2c8-48a0-8b1b-8958e7432e80"
   },
   "outputs": [
    {
     "data": {
      "text/plain": [
       "tuple"
      ]
     },
     "execution_count": 3,
     "metadata": {},
     "output_type": "execute_result"
    }
   ],
   "source": [
    "# tuple with single element\n",
    "t3 = 1,   \n",
    "type(t3)"
   ]
  },
  {
   "cell_type": "code",
   "execution_count": null,
   "metadata": {},
   "outputs": [],
   "source": [
    "# homogenous\n",
    "t4 = (1,2,3,4)\n",
    "print(t4)"
   ]
  },
  {
   "cell_type": "code",
   "execution_count": 1,
   "metadata": {},
   "outputs": [
    {
     "name": "stdout",
     "output_type": "stream",
     "text": [
      "(1, 2.5, True, [1, 2, 3])\n"
     ]
    }
   ],
   "source": [
    "# hetrogenous\n",
    "t5 = (1,2.5,True,[1,2,3])\n",
    "print(t5)"
   ]
  },
  {
   "cell_type": "code",
   "execution_count": 4,
   "metadata": {
    "colab": {
     "base_uri": "https://localhost:8080/"
    },
    "executionInfo": {
     "elapsed": 419,
     "status": "ok",
     "timestamp": 1681214459200,
     "user": {
      "displayName": "Hrutik Nawade",
      "userId": "03506609053451396862"
     },
     "user_tz": -330
    },
    "id": "o2v6rBq5gFSp",
    "outputId": "31b9f040-6c18-4c5c-c073-8a65758a7337"
   },
   "outputs": [
    {
     "data": {
      "text/plain": [
       "('cat', 'dog', 5)"
      ]
     },
     "execution_count": 4,
     "metadata": {},
     "output_type": "execute_result"
    }
   ],
   "source": [
    "# using type conversion\n",
    "tuple(['cat', 'dog', 5]) "
   ]
  },
  {
   "cell_type": "code",
   "execution_count": 5,
   "metadata": {
    "colab": {
     "base_uri": "https://localhost:8080/"
    },
    "executionInfo": {
     "elapsed": 4,
     "status": "ok",
     "timestamp": 1681214461605,
     "user": {
      "displayName": "Hrutik Nawade",
      "userId": "03506609053451396862"
     },
     "user_tz": -330
    },
    "id": "fYMsR30CjoR4",
    "outputId": "db2343d5-db62-4ab9-ab6f-a813ab85092c"
   },
   "outputs": [
    {
     "data": {
      "text/plain": [
       "tuple"
      ]
     },
     "execution_count": 5,
     "metadata": {},
     "output_type": "execute_result"
    }
   ],
   "source": [
    "type(tuple(['cat', 'dog', 5]))"
   ]
  },
  {
   "cell_type": "code",
   "execution_count": 3,
   "metadata": {
    "colab": {
     "base_uri": "https://localhost:8080/"
    },
    "executionInfo": {
     "elapsed": 8,
     "status": "ok",
     "timestamp": 1681214523049,
     "user": {
      "displayName": "Hrutik Nawade",
      "userId": "03506609053451396862"
     },
     "user_tz": -330
    },
    "id": "i63FtdHxjrcM",
    "outputId": "7d99970a-7526-4a7d-df34-8e12d1791e3a"
   },
   "outputs": [
    {
     "name": "stdout",
     "output_type": "stream",
     "text": [
      "('cat', 'dog', 5, (True, None, 'string', 23.4))\n"
     ]
    }
   ],
   "source": [
    "# creating tuple from a list\n",
    "t6 = tuple(['cat', 'dog', 5, (True, None, 'string', 23.4)])\n",
    "print(t6)"
   ]
  },
  {
   "cell_type": "markdown",
   "metadata": {
    "id": "YgBewV9NjxDS"
   },
   "source": [
    "# Accessing tuple items\n",
    "\n",
    "\n",
    "#### Indexing"
   ]
  },
  {
   "cell_type": "code",
   "execution_count": 7,
   "metadata": {
    "colab": {
     "base_uri": "https://localhost:8080/"
    },
    "executionInfo": {
     "elapsed": 702,
     "status": "ok",
     "timestamp": 1679832017790,
     "user": {
      "displayName": "Hrutik Nawade",
      "userId": "03506609053451396862"
     },
     "user_tz": -330
    },
    "id": "EziK2h0cyEjg",
    "outputId": "361eb7e9-6a2a-4c65-8f46-382e09acb53a"
   },
   "outputs": [
    {
     "name": "stdout",
     "output_type": "stream",
     "text": [
      "(True, None, 'string', 23.4)\n",
      "string\n",
      "(True, None, 'string', 23.4)\n"
     ]
    }
   ],
   "source": [
    "t = (['cat', 'dog', 5], (True, None, 'string', 23.4))\n",
    "print(t[1])\n",
    "print(t[1][2])\n",
    "print(t[-1])"
   ]
  },
  {
   "cell_type": "markdown",
   "metadata": {},
   "source": [
    "#### Slicing"
   ]
  },
  {
   "cell_type": "code",
   "execution_count": 8,
   "metadata": {
    "colab": {
     "base_uri": "https://localhost:8080/"
    },
    "executionInfo": {
     "elapsed": 9,
     "status": "ok",
     "timestamp": 1679832611686,
     "user": {
      "displayName": "Hrutik Nawade",
      "userId": "03506609053451396862"
     },
     "user_tz": -330
    },
    "id": "HBj4KvKX0weX",
    "outputId": "d1cdcdb3-64d1-46ed-a548-26987c934e06"
   },
   "outputs": [
    {
     "data": {
      "text/plain": [
       "(['cat', 'dog', 5], (True, None, 'string', 23.4))"
      ]
     },
     "execution_count": 8,
     "metadata": {},
     "output_type": "execute_result"
    }
   ],
   "source": [
    "t[:]"
   ]
  },
  {
   "cell_type": "code",
   "execution_count": 9,
   "metadata": {
    "colab": {
     "base_uri": "https://localhost:8080/"
    },
    "executionInfo": {
     "elapsed": 6,
     "status": "ok",
     "timestamp": 1679832730062,
     "user": {
      "displayName": "Hrutik Nawade",
      "userId": "03506609053451396862"
     },
     "user_tz": -330
    },
    "id": "3B1T06y50waw",
    "outputId": "272ba79f-367d-41ea-af6c-35a324f50ccb"
   },
   "outputs": [
    {
     "data": {
      "text/plain": [
       "(23.4, 'string')"
      ]
     },
     "execution_count": 9,
     "metadata": {},
     "output_type": "execute_result"
    }
   ],
   "source": [
    "t[1][3:1:-1]"
   ]
  },
  {
   "cell_type": "code",
   "execution_count": null,
   "metadata": {
    "id": "3H0zD4l70wXQ"
   },
   "outputs": [],
   "source": []
  },
  {
   "cell_type": "markdown",
   "metadata": {
    "id": "9ZWkjdG6yEal"
   },
   "source": [
    "# Modifying Tuple items\n",
    "Once we creates tuple,we cannot change its content. Hence tuple objects are immutable. We cannot Edit, Add and Delete items from tuples.<br>\n",
    "Trying this things gives error\n",
    "\n",
    "### Editing items"
   ]
  },
  {
   "cell_type": "code",
   "execution_count": 22,
   "metadata": {},
   "outputs": [
    {
     "name": "stdout",
     "output_type": "stream",
     "text": [
      "('cat', 'dog', 5, True, None, 'string', 23.4)\n"
     ]
    },
    {
     "ename": "TypeError",
     "evalue": "'tuple' object does not support item assignment",
     "output_type": "error",
     "traceback": [
      "\u001b[1;31m---------------------------------------------------------------------------\u001b[0m",
      "\u001b[1;31mTypeError\u001b[0m                                 Traceback (most recent call last)",
      "Cell \u001b[1;32mIn[22], line 3\u001b[0m\n\u001b[0;32m      1\u001b[0m t \u001b[38;5;241m=\u001b[39m (\u001b[38;5;124m'\u001b[39m\u001b[38;5;124mcat\u001b[39m\u001b[38;5;124m'\u001b[39m, \u001b[38;5;124m'\u001b[39m\u001b[38;5;124mdog\u001b[39m\u001b[38;5;124m'\u001b[39m, \u001b[38;5;241m5\u001b[39m, \u001b[38;5;28;01mTrue\u001b[39;00m, \u001b[38;5;28;01mNone\u001b[39;00m, \u001b[38;5;124m'\u001b[39m\u001b[38;5;124mstring\u001b[39m\u001b[38;5;124m'\u001b[39m, \u001b[38;5;241m23.4\u001b[39m)\n\u001b[0;32m      2\u001b[0m \u001b[38;5;28mprint\u001b[39m(t)\n\u001b[1;32m----> 3\u001b[0m t[\u001b[38;5;241m0\u001b[39m] \u001b[38;5;241m=\u001b[39m \u001b[38;5;241m100\u001b[39m\n",
      "\u001b[1;31mTypeError\u001b[0m: 'tuple' object does not support item assignment"
     ]
    }
   ],
   "source": [
    "t = ('cat', 'dog', 5, True, None, 'string', 23.4)\n",
    "print(t)\n",
    "t[0] = 100     # gives error, as it is immutable just like strings"
   ]
  },
  {
   "cell_type": "markdown",
   "metadata": {},
   "source": [
    "to modify it we can create new tuple with required elements"
   ]
  },
  {
   "cell_type": "code",
   "execution_count": 24,
   "metadata": {},
   "outputs": [
    {
     "name": "stdout",
     "output_type": "stream",
     "text": [
      "('cat', 'dog', 5, True, None, 'string', 23.4)\n",
      "(100, 'dog', 5, True, None, 'string', 23.4)\n"
     ]
    }
   ],
   "source": [
    "t = ('cat', 'dog', 5, True, None, 'string', 23.4)\n",
    "print(t)\n",
    "\n",
    "# to change at first index we added new item for that index and remaining tuple in a new tuple.\n",
    "t1 = (100,) + tuple(t[1:])\n",
    "print(t1)"
   ]
  },
  {
   "cell_type": "markdown",
   "metadata": {},
   "source": [
    "### Adding items "
   ]
  },
  {
   "cell_type": "code",
   "execution_count": 31,
   "metadata": {},
   "outputs": [
    {
     "name": "stdout",
     "output_type": "stream",
     "text": [
      "('cat', 'dog', 5, True, None, 'string', 23.4)\n",
      "('cat', 'dog', 5, True, None, 'string', 23.4, 123, 'Hrutik')\n"
     ]
    }
   ],
   "source": [
    "t = ('cat', 'dog', 5, True, None, 'string', 23.4)\n",
    "print(t)\n",
    "\n",
    "t1 = t + (123, \"Hrutik\")\n",
    "print(t1)"
   ]
  },
  {
   "cell_type": "markdown",
   "metadata": {},
   "source": [
    "and if we have to add an iterable to a tuple then we have to convert it to a list first and then add items and again convert back to tuple"
   ]
  },
  {
   "cell_type": "code",
   "execution_count": 53,
   "metadata": {},
   "outputs": [
    {
     "name": "stdout",
     "output_type": "stream",
     "text": [
      "('cat', 'dog', 5, True, None, 'string', 23.4)\n",
      "('cat', 'dog', 5, True, None, 'string', 23.4, (123, 'Hrutik'))\n"
     ]
    }
   ],
   "source": [
    "t = ('cat', 'dog', 5, True, None, 'string', 23.4)\n",
    "print(t)\n",
    "\n",
    "t = list(t)    # convert it to list first\n",
    "t.append((123, \"Hrutik\"))  # then append value to it\n",
    "print(tuple(t))   # convert it to tuple again"
   ]
  },
  {
   "cell_type": "markdown",
   "metadata": {},
   "source": [
    "### Deleting items"
   ]
  },
  {
   "cell_type": "code",
   "execution_count": 55,
   "metadata": {},
   "outputs": [
    {
     "name": "stdout",
     "output_type": "stream",
     "text": [
      "('cat', 'dog', 5, True, None, 'string', 23.4)\n"
     ]
    },
    {
     "ename": "TypeError",
     "evalue": "'tuple' object doesn't support item deletion",
     "output_type": "error",
     "traceback": [
      "\u001b[1;31m---------------------------------------------------------------------------\u001b[0m",
      "\u001b[1;31mTypeError\u001b[0m                                 Traceback (most recent call last)",
      "Cell \u001b[1;32mIn[55], line 4\u001b[0m\n\u001b[0;32m      1\u001b[0m t \u001b[38;5;241m=\u001b[39m (\u001b[38;5;124m'\u001b[39m\u001b[38;5;124mcat\u001b[39m\u001b[38;5;124m'\u001b[39m, \u001b[38;5;124m'\u001b[39m\u001b[38;5;124mdog\u001b[39m\u001b[38;5;124m'\u001b[39m, \u001b[38;5;241m5\u001b[39m, \u001b[38;5;28;01mTrue\u001b[39;00m, \u001b[38;5;28;01mNone\u001b[39;00m, \u001b[38;5;124m'\u001b[39m\u001b[38;5;124mstring\u001b[39m\u001b[38;5;124m'\u001b[39m, \u001b[38;5;241m23.4\u001b[39m)\n\u001b[0;32m      2\u001b[0m \u001b[38;5;28mprint\u001b[39m(t)\n\u001b[1;32m----> 4\u001b[0m \u001b[38;5;28;01mdel\u001b[39;00m t[\u001b[38;5;241m5\u001b[39m]\n",
      "\u001b[1;31mTypeError\u001b[0m: 'tuple' object doesn't support item deletion"
     ]
    }
   ],
   "source": [
    "t = ('cat', 'dog', 5, True, None, 'string', 23.4)\n",
    "print(t)\n",
    "\n",
    "del t[5]"
   ]
  },
  {
   "cell_type": "markdown",
   "metadata": {},
   "source": [
    "we cannot delete tuple item but we can delete an entire tuple"
   ]
  },
  {
   "cell_type": "code",
   "execution_count": null,
   "metadata": {},
   "outputs": [],
   "source": [
    "t = ('cat', 'dog', 5, True, None, 'string', 23.4)\n",
    "print(t)\n",
    "\n",
    "del t\n",
    "print(t)"
   ]
  },
  {
   "cell_type": "markdown",
   "metadata": {
    "id": "_LX_bImpyEVo"
   },
   "source": [
    "# Operators on tuple"
   ]
  },
  {
   "cell_type": "markdown",
   "metadata": {
    "id": "0RpMATtSPZ3k"
   },
   "source": [
    "#### tuple concatenation using '+' operator"
   ]
  },
  {
   "cell_type": "code",
   "execution_count": 58,
   "metadata": {
    "colab": {
     "base_uri": "https://localhost:8080/"
    },
    "executionInfo": {
     "elapsed": 6,
     "status": "ok",
     "timestamp": 1681215117320,
     "user": {
      "displayName": "Hrutik Nawade",
      "userId": "03506609053451396862"
     },
     "user_tz": -330
    },
    "id": "BzZ6CaRByES9",
    "outputId": "1c6b6f52-3ccd-434c-d33a-ee412a0d4dc5"
   },
   "outputs": [
    {
     "name": "stdout",
     "output_type": "stream",
     "text": [
      "(1, 3, 5, 6, 4, 'earth', 'asia', 'india', 'maharashtra', 'pune')\n"
     ]
    }
   ],
   "source": [
    "t1 = (1, 3, 5, 6, 4)\n",
    "t2 = ('earth', 'asia', 'india', 'maharashtra', 'pune')\n",
    "\n",
    "t3 = t1 + t2\n",
    "print(t3)"
   ]
  },
  {
   "cell_type": "markdown",
   "metadata": {
    "id": "dsRe2nzwPk6o"
   },
   "source": [
    "#### tuple replication using '*' operator"
   ]
  },
  {
   "cell_type": "code",
   "execution_count": 59,
   "metadata": {
    "colab": {
     "base_uri": "https://localhost:8080/"
    },
    "executionInfo": {
     "elapsed": 447,
     "status": "ok",
     "timestamp": 1681215143270,
     "user": {
      "displayName": "Hrutik Nawade",
      "userId": "03506609053451396862"
     },
     "user_tz": -330
    },
    "id": "L0-A8u4PyEQR",
    "outputId": "0660100a-a258-4391-aaeb-e0d5400dadce"
   },
   "outputs": [
    {
     "name": "stdout",
     "output_type": "stream",
     "text": [
      "(1, 3, 5, 6, 4, 1, 3, 5, 6, 4)\n"
     ]
    }
   ],
   "source": [
    "t4 = t1 * 2\n",
    "print(t4)"
   ]
  },
  {
   "cell_type": "code",
   "execution_count": 60,
   "metadata": {
    "colab": {
     "base_uri": "https://localhost:8080/"
    },
    "executionInfo": {
     "elapsed": 6,
     "status": "ok",
     "timestamp": 1681215162138,
     "user": {
      "displayName": "Hrutik Nawade",
      "userId": "03506609053451396862"
     },
     "user_tz": -330
    },
    "id": "ZYuPovuAOzeH",
    "outputId": "c409fb23-4845-4129-a40e-88260cdc593d"
   },
   "outputs": [
    {
     "name": "stdout",
     "output_type": "stream",
     "text": [
      "('earth', 'asia', 'india', 'maharashtra', 'pune', 'earth', 'asia', 'india', 'maharashtra', 'pune')\n"
     ]
    }
   ],
   "source": [
    "t4 = t2 * 2\n",
    "print(t4)"
   ]
  },
  {
   "cell_type": "code",
   "execution_count": 61,
   "metadata": {
    "colab": {
     "base_uri": "https://localhost:8080/",
     "height": 182
    },
    "executionInfo": {
     "elapsed": 5,
     "status": "error",
     "timestamp": 1681215614344,
     "user": {
      "displayName": "Hrutik Nawade",
      "userId": "03506609053451396862"
     },
     "user_tz": -330
    },
    "id": "2s5_DMGGyENV",
    "outputId": "c28e5e68-8cd2-41a0-9973-ab0db007eccc"
   },
   "outputs": [
    {
     "ename": "TypeError",
     "evalue": "can't multiply sequence by non-int of type 'tuple'",
     "output_type": "error",
     "traceback": [
      "\u001b[1;31m---------------------------------------------------------------------------\u001b[0m",
      "\u001b[1;31mTypeError\u001b[0m                                 Traceback (most recent call last)",
      "Cell \u001b[1;32mIn[61], line 2\u001b[0m\n\u001b[0;32m      1\u001b[0m t6 \u001b[38;5;241m=\u001b[39m  (\u001b[38;5;241m21\u001b[39m,\u001b[38;5;241m43\u001b[39m,\u001b[38;5;241m76\u001b[39m,\u001b[38;5;241m35\u001b[39m)\n\u001b[1;32m----> 2\u001b[0m t5 \u001b[38;5;241m=\u001b[39m t1 \u001b[38;5;241m*\u001b[39m t6\n",
      "\u001b[1;31mTypeError\u001b[0m: can't multiply sequence by non-int of type 'tuple'"
     ]
    }
   ],
   "source": [
    "t6 =  (21,43,76,35)\n",
    "t5 = t1 * t6"
   ]
  },
  {
   "cell_type": "markdown",
   "metadata": {},
   "source": [
    "### membership in tuple"
   ]
  },
  {
   "cell_type": "code",
   "execution_count": 65,
   "metadata": {},
   "outputs": [
    {
     "name": "stdout",
     "output_type": "stream",
     "text": [
      "True\n",
      "False\n"
     ]
    }
   ],
   "source": [
    "# membership\n",
    "print(1 in t1)\n",
    "print(1 not in t1)"
   ]
  },
  {
   "cell_type": "code",
   "execution_count": 62,
   "metadata": {
    "colab": {
     "base_uri": "https://localhost:8080/"
    },
    "executionInfo": {
     "elapsed": 7,
     "status": "ok",
     "timestamp": 1681215615857,
     "user": {
      "displayName": "Hrutik Nawade",
      "userId": "03506609053451396862"
     },
     "user_tz": -330
    },
    "id": "RStJYVXqyELC",
    "outputId": "b73caf45-7904-4773-bc27-4a7991864ea2"
   },
   "outputs": [
    {
     "data": {
      "text/plain": [
       "(21, 43, 76, 35)"
      ]
     },
     "execution_count": 62,
     "metadata": {},
     "output_type": "execute_result"
    }
   ],
   "source": [
    "t6 or t2"
   ]
  },
  {
   "cell_type": "code",
   "execution_count": null,
   "metadata": {
    "id": "v7DGWg0tyEIM"
   },
   "outputs": [],
   "source": []
  },
  {
   "cell_type": "markdown",
   "metadata": {
    "id": "oUgsYM3aRF4J"
   },
   "source": [
    "# Tuple Fucntions"
   ]
  },
  {
   "cell_type": "code",
   "execution_count": 76,
   "metadata": {
    "id": "HxgARm5EyD2p"
   },
   "outputs": [],
   "source": [
    "t = (1,2,3,4)"
   ]
  },
  {
   "cell_type": "markdown",
   "metadata": {
    "id": "Vbd95E0460u0"
   },
   "source": [
    "## Common methods"
   ]
  },
  {
   "cell_type": "markdown",
   "metadata": {},
   "source": [
    "#### min()"
   ]
  },
  {
   "cell_type": "code",
   "execution_count": 77,
   "metadata": {},
   "outputs": [
    {
     "data": {
      "text/plain": [
       "1"
      ]
     },
     "execution_count": 77,
     "metadata": {},
     "output_type": "execute_result"
    }
   ],
   "source": [
    "min(t)"
   ]
  },
  {
   "cell_type": "markdown",
   "metadata": {},
   "source": [
    "#### max()"
   ]
  },
  {
   "cell_type": "code",
   "execution_count": 78,
   "metadata": {},
   "outputs": [
    {
     "data": {
      "text/plain": [
       "4"
      ]
     },
     "execution_count": 78,
     "metadata": {},
     "output_type": "execute_result"
    }
   ],
   "source": [
    "max(t)"
   ]
  },
  {
   "cell_type": "markdown",
   "metadata": {},
   "source": [
    "#### sum()"
   ]
  },
  {
   "cell_type": "code",
   "execution_count": 79,
   "metadata": {},
   "outputs": [
    {
     "data": {
      "text/plain": [
       "10"
      ]
     },
     "execution_count": 79,
     "metadata": {},
     "output_type": "execute_result"
    }
   ],
   "source": [
    "sum(t)"
   ]
  },
  {
   "cell_type": "markdown",
   "metadata": {
    "id": "7qwiav6kRuzc"
   },
   "source": [
    "#### len( )"
   ]
  },
  {
   "cell_type": "code",
   "execution_count": 66,
   "metadata": {
    "id": "g7lQqqgq67nI"
   },
   "outputs": [
    {
     "data": {
      "text/plain": [
       "8"
      ]
     },
     "execution_count": 66,
     "metadata": {},
     "output_type": "execute_result"
    }
   ],
   "source": [
    "T1 = ('water', 'food', 'shelter', 'mobile', 'clothes', 'food', 'one', 'food')\n",
    "len(T1)"
   ]
  },
  {
   "cell_type": "markdown",
   "metadata": {
    "id": "xzyIqO5UR2I1"
   },
   "source": [
    "#### index( )"
   ]
  },
  {
   "cell_type": "code",
   "execution_count": 67,
   "metadata": {
    "colab": {
     "base_uri": "https://localhost:8080/"
    },
    "executionInfo": {
     "elapsed": 468,
     "status": "error",
     "timestamp": 1679834508332,
     "user": {
      "displayName": "Hrutik Nawade",
      "userId": "03506609053451396862"
     },
     "user_tz": -330
    },
    "id": "ZzqSWLxZyDzR",
    "outputId": "f0b7a061-449b-4059-d867-14cfc6d9ba05"
   },
   "outputs": [
    {
     "data": {
      "text/plain": [
       "2"
      ]
     },
     "execution_count": 67,
     "metadata": {},
     "output_type": "execute_result"
    }
   ],
   "source": [
    "T1.index('shelter')"
   ]
  },
  {
   "cell_type": "markdown",
   "metadata": {
    "id": "tpoUEEi_R9Oi"
   },
   "source": [
    "#### count( )"
   ]
  },
  {
   "cell_type": "code",
   "execution_count": 68,
   "metadata": {
    "colab": {
     "base_uri": "https://localhost:8080/"
    },
    "executionInfo": {
     "elapsed": 432,
     "status": "ok",
     "timestamp": 1679834162178,
     "user": {
      "displayName": "Hrutik Nawade",
      "userId": "03506609053451396862"
     },
     "user_tz": -330
    },
    "id": "IIIXs1TxyDt5",
    "outputId": "cff68c18-8931-4d20-b6ec-7190d239c395"
   },
   "outputs": [
    {
     "data": {
      "text/plain": [
       "3"
      ]
     },
     "execution_count": 68,
     "metadata": {},
     "output_type": "execute_result"
    }
   ],
   "source": [
    "T1.count('food')"
   ]
  },
  {
   "cell_type": "markdown",
   "metadata": {
    "id": "U18npB_lSCPu"
   },
   "source": [
    "#### sorted( )"
   ]
  },
  {
   "cell_type": "code",
   "execution_count": 69,
   "metadata": {
    "colab": {
     "base_uri": "https://localhost:8080/"
    },
    "executionInfo": {
     "elapsed": 7,
     "status": "ok",
     "timestamp": 1679834616535,
     "user": {
      "displayName": "Hrutik Nawade",
      "userId": "03506609053451396862"
     },
     "user_tz": -330
    },
    "id": "kkjm9WeGyDrQ",
    "outputId": "cec20e03-d8be-44d7-da18-ef9ac07fd3db"
   },
   "outputs": [
    {
     "data": {
      "text/plain": [
       "['clothes', 'food', 'food', 'food', 'mobile', 'one', 'shelter', 'water']"
      ]
     },
     "execution_count": 69,
     "metadata": {},
     "output_type": "execute_result"
    }
   ],
   "source": [
    "sorted(T1)"
   ]
  },
  {
   "cell_type": "code",
   "execution_count": 70,
   "metadata": {
    "colab": {
     "base_uri": "https://localhost:8080/"
    },
    "executionInfo": {
     "elapsed": 8,
     "status": "ok",
     "timestamp": 1679834639511,
     "user": {
      "displayName": "Hrutik Nawade",
      "userId": "03506609053451396862"
     },
     "user_tz": -330
    },
    "id": "IQMrujYQyDn6",
    "outputId": "74b2e2ea-daf1-4c18-a4ec-8d84839b39b2"
   },
   "outputs": [
    {
     "data": {
      "text/plain": [
       "['water', 'shelter', 'one', 'mobile', 'food', 'food', 'food', 'clothes']"
      ]
     },
     "execution_count": 70,
     "metadata": {},
     "output_type": "execute_result"
    }
   ],
   "source": [
    "sorted(T1, reverse = True)"
   ]
  },
  {
   "cell_type": "code",
   "execution_count": null,
   "metadata": {
    "id": "vr5Lix-TyDjp"
   },
   "outputs": [],
   "source": []
  },
  {
   "cell_type": "markdown",
   "metadata": {},
   "source": [
    "# Tuple Packing and Unpacking:\n",
    "\n",
    "### Tuple Packing \n",
    "We can create a tuple by packing a group of variables"
   ]
  },
  {
   "cell_type": "code",
   "execution_count": 93,
   "metadata": {},
   "outputs": [
    {
     "name": "stdout",
     "output_type": "stream",
     "text": [
      "(10, 20, 30, 40)\n"
     ]
    }
   ],
   "source": [
    "a=10\n",
    "b=20\n",
    "c=30\n",
    "d=40\n",
    "t=a,b,c,d\n",
    "print(t)"
   ]
  },
  {
   "cell_type": "markdown",
   "metadata": {},
   "source": [
    "## Tuple unpacking\n",
    "Tuple unpacking is the reverse process of tuple packing\n",
    "We can unpack a tuple and assign its values to different variables"
   ]
  },
  {
   "cell_type": "code",
   "execution_count": 96,
   "metadata": {},
   "outputs": [
    {
     "name": "stdout",
     "output_type": "stream",
     "text": [
      "a= 10 b= 20 c= 30 d= 40\n"
     ]
    }
   ],
   "source": [
    "t=(10,20,30,40)\n",
    "a,b,c,d=t\n",
    "print(\"a=\",a,\"b=\",b,\"c=\",c,\"d=\",d)"
   ]
  },
  {
   "cell_type": "markdown",
   "metadata": {},
   "source": [
    "# Tuple Comprehensions\n",
    "Tuple Comprehension is not supported by Python"
   ]
  },
  {
   "cell_type": "code",
   "execution_count": 99,
   "metadata": {},
   "outputs": [
    {
     "data": {
      "text/plain": [
       "<generator object <genexpr> at 0x000001537E2C52F0>"
      ]
     },
     "execution_count": 99,
     "metadata": {},
     "output_type": "execute_result"
    }
   ],
   "source": [
    "t= (x**2 for x in range(1,6)) \n",
    "t"
   ]
  },
  {
   "cell_type": "markdown",
   "metadata": {},
   "source": [
    "Here we are not getting tuple object, we are getting generator object.\r"
   ]
  },
  {
   "cell_type": "code",
   "execution_count": 100,
   "metadata": {},
   "outputs": [
    {
     "name": "stdout",
     "output_type": "stream",
     "text": [
      "1\n",
      "4\n",
      "9\n",
      "16\n",
      "25\n"
     ]
    }
   ],
   "source": [
    "for i in t:\n",
    "    print(i)"
   ]
  },
  {
   "cell_type": "markdown",
   "metadata": {},
   "source": [
    "# Difference between Lists and Tuples\n",
    "\n",
    "- Syntax\n",
    "- Mutability\n",
    "- Speed\n",
    "- Memory\n",
    "- Built in functionality\n",
    "- Error prone\n",
    "- Usability\n"
   ]
  },
  {
   "cell_type": "markdown",
   "metadata": {},
   "source": [
    "#### time/speed"
   ]
  },
  {
   "cell_type": "code",
   "execution_count": 87,
   "metadata": {},
   "outputs": [
    {
     "name": "stdout",
     "output_type": "stream",
     "text": [
      "List time 1.74635648727417\n",
      "Tuple time 1.6642494201660156\n"
     ]
    }
   ],
   "source": [
    "import time\n",
    "\n",
    "L = list(range(10000000))\n",
    "T = tuple(range(10000000))\n",
    "\n",
    "start = time.time()\n",
    "for i in L:\n",
    "  i*5\n",
    "print('List time',time.time() - start)\n",
    "\n",
    "start = time.time()\n",
    "for i in T:\n",
    "  i*5\n",
    "print('Tuple time',time.time() - start)"
   ]
  },
  {
   "cell_type": "markdown",
   "metadata": {},
   "source": [
    "#### memory/size"
   ]
  },
  {
   "cell_type": "code",
   "execution_count": 88,
   "metadata": {},
   "outputs": [
    {
     "name": "stdout",
     "output_type": "stream",
     "text": [
      "List size 8000056\n",
      "Tuple size 8000040\n"
     ]
    }
   ],
   "source": [
    "import sys\n",
    "\n",
    "L = list(range(1000000))\n",
    "T = tuple(range(1000000))\n",
    "\n",
    "print('List size',sys.getsizeof(L))\n",
    "print('Tuple size',sys.getsizeof(T))"
   ]
  },
  {
   "cell_type": "markdown",
   "metadata": {},
   "source": [
    "#### immutability\n",
    "List and Tuple are exactly same except small difference: List objects are mutable where as Tuple objects are immutable.<br>\n",
    "below example explains it:<br>\n",
    "aliasing affects list but, due to immutability of tuples aliasing won't affect it."
   ]
  },
  {
   "cell_type": "code",
   "execution_count": 91,
   "metadata": {},
   "outputs": [
    {
     "name": "stdout",
     "output_type": "stream",
     "text": [
      "[1, 2, 3, 4]\n",
      "[1, 2, 3, 4]\n"
     ]
    }
   ],
   "source": [
    "a = [1,2,3]\n",
    "b = a\n",
    "\n",
    "a.append(4)  # creating changes in one list affects its reference object\n",
    "print(a)\n",
    "print(b)"
   ]
  },
  {
   "cell_type": "code",
   "execution_count": 92,
   "metadata": {},
   "outputs": [
    {
     "name": "stdout",
     "output_type": "stream",
     "text": [
      "(1, 2, 3, 4)\n",
      "(1, 2, 3)\n"
     ]
    }
   ],
   "source": [
    "a = (1,2,3)\n",
    "b = a\n",
    "\n",
    "a = a + (4,) # creating changes in one tuple won't affects its reference object\n",
    "print(a)\n",
    "print(b)"
   ]
  },
  {
   "cell_type": "markdown",
   "metadata": {},
   "source": [
    "<img src=\"difference list tuples.png\" width=700px>"
   ]
  },
  {
   "cell_type": "code",
   "execution_count": null,
   "metadata": {
    "id": "lYjp-PfWyDgs"
   },
   "outputs": [],
   "source": []
  }
 ],
 "metadata": {
  "colab": {
   "authorship_tag": "ABX9TyOOs7eqiEZ0MsqJQiMzac+o",
   "provenance": [],
   "toc_visible": true
  },
  "kernelspec": {
   "display_name": "Python 3 (ipykernel)",
   "language": "python",
   "name": "python3"
  },
  "language_info": {
   "codemirror_mode": {
    "name": "ipython",
    "version": 3
   },
   "file_extension": ".py",
   "mimetype": "text/x-python",
   "name": "python",
   "nbconvert_exporter": "python",
   "pygments_lexer": "ipython3",
   "version": "3.11.7"
  }
 },
 "nbformat": 4,
 "nbformat_minor": 4
}
