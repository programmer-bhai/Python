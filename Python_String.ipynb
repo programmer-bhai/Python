{
 "cells": [
  {
   "cell_type": "markdown",
   "metadata": {},
   "source": [
    "## Introduction\n",
    "String in python is a sequence of characters enclosed within single quotes or double quotes.<br>\n",
    "In Python specifically, strings are a sequence of Unicode Characters<br>\n",
    "Operations performed on strings:\n",
    "\n",
    "- Creating Strings\n",
    "- Accessing Strings\n",
    "- Adding Chars to Strings\n",
    "- Editing Strings\n",
    "- Deleting Strings\n",
    "- Operations on Strings\n",
    "- String Functions"
   ]
  },
  {
   "cell_type": "markdown",
   "metadata": {},
   "source": [
    "## Creating strings\n",
    "strings can be of two types of single line and multiline. <br>\n",
    "There different ways to write a string."
   ]
  },
  {
   "cell_type": "markdown",
   "metadata": {},
   "source": [
    "#### Single line string"
   ]
  },
  {
   "cell_type": "code",
   "execution_count": 49,
   "metadata": {},
   "outputs": [
    {
     "name": "stdout",
     "output_type": "stream",
     "text": [
      "This is a string in double quotes <class 'str'>\n",
      "This is also a string in single quotes <class 'str'>\n"
     ]
    }
   ],
   "source": [
    "a = \"This is a string in double quotes\"\n",
    "b = 'This is also a string in single quotes'\n",
    "\n",
    "print(a, type(a))\n",
    "print(b, type(b))"
   ]
  },
  {
   "cell_type": "markdown",
   "metadata": {},
   "source": [
    "#### multiline strings\n",
    "there are multiple ways of writing strings in multiline strings"
   ]
  },
  {
   "cell_type": "code",
   "execution_count": 27,
   "metadata": {},
   "outputs": [
    {
     "name": "stdout",
     "output_type": "stream",
     "text": [
      "Happy Monday Everyone\n"
     ]
    }
   ],
   "source": [
    "mystr = ('Happy '\n",
    "         'Monday '\n",
    "         'Everyone')  # using brackets\n",
    "print(mystr)"
   ]
  },
  {
   "cell_type": "code",
   "execution_count": 6,
   "metadata": {},
   "outputs": [
    {
     "name": "stdout",
     "output_type": "stream",
     "text": [
      "this is a multiline string\n"
     ]
    }
   ],
   "source": [
    "m = \"this is a \\\n",
    "multiline \\\n",
    "string\"\n",
    "\n",
    "print(m)"
   ]
  },
  {
   "cell_type": "code",
   "execution_count": 7,
   "metadata": {},
   "outputs": [
    {
     "name": "stdout",
     "output_type": "stream",
     "text": [
      "This is a multiline string in double triple quotes\n",
      "This is a multiline string in singletriple quotes\n"
     ]
    }
   ],
   "source": [
    "# there is another way to write multiline string in python\n",
    "\n",
    "\n",
    "m = \"\"\"This is a multiline string in double triple quotes\"\"\"\n",
    "print(m)\n",
    "m = '''This is a multiline string in single triple quotes'''\n",
    "print(m)"
   ]
  },
  {
   "cell_type": "markdown",
   "metadata": {},
   "source": [
    "in the above same way we used to write multiline comments or docstrings in python. but, when this string is given to a variable it won't be a comment anymore."
   ]
  },
  {
   "cell_type": "markdown",
   "metadata": {},
   "source": [
    "## Escape sequence characters\n",
    "these are the characters that use to format string in python. <br>\n",
    "They include:\n",
    "- `\\n` this is a new line character acts as an enter button.\n",
    "- `\\t` horizontal tab\n",
    "- `\\v` vertical tab\n",
    "- `\\b` backspace\n",
    "- `\\r` carriage return\n",
    "- `\\'` writes single quote in string\n",
    "- `\\\"` writes double quotes in string\n",
    "- `\\\\` writes backslash in a string itself"
   ]
  },
  {
   "cell_type": "code",
   "execution_count": 10,
   "metadata": {},
   "outputs": [
    {
     "name": "stdout",
     "output_type": "stream",
     "text": [
      "This is \n",
      " a new line character\n"
     ]
    }
   ],
   "source": [
    "s = \"This is \\n a new line character\"\n",
    "print(s)"
   ]
  },
  {
   "cell_type": "code",
   "execution_count": 11,
   "metadata": {},
   "outputs": [
    {
     "name": "stdout",
     "output_type": "stream",
     "text": [
      "This is \t a horizontal tab character\n"
     ]
    }
   ],
   "source": [
    "s = \"This is \\t a horizontal tab character\"\n",
    "print(s)"
   ]
  },
  {
   "cell_type": "code",
   "execution_count": 12,
   "metadata": {},
   "outputs": [
    {
     "name": "stdout",
     "output_type": "stream",
     "text": [
      "This is \u000b",
      " a vertical tab character\n"
     ]
    }
   ],
   "source": [
    "s = \"This is \\v a vertical tab character\"\n",
    "print(s)"
   ]
  },
  {
   "cell_type": "code",
   "execution_count": 15,
   "metadata": {},
   "outputs": [
    {
     "name": "stdout",
     "output_type": "stream",
     "text": [
      "This is a backspace character\n"
     ]
    }
   ],
   "source": [
    "s = \"This is \\b a backspace character\"\n",
    "print(s)\n",
    "\n",
    "# here you won't see results because here it just clears a space"
   ]
  },
  {
   "cell_type": "code",
   "execution_count": 17,
   "metadata": {},
   "outputs": [
    {
     "name": "stdout",
     "output_type": "stream",
     "text": [
      "This i a backspace character\n"
     ]
    }
   ],
   "source": [
    "# now see the result the \"s\" is gone\n",
    "s = \"This is\\b a backspace character\"\n",
    "print(s)"
   ]
  },
  {
   "cell_type": "code",
   "execution_count": 20,
   "metadata": {},
   "outputs": [
    {
     "name": "stdout",
     "output_type": "stream",
     "text": [
      " a carriage return character that deletes/clears everything written berfore its\n"
     ]
    }
   ],
   "source": [
    "s = \"This is \\r a carriage return character that deletes/clears everything written berfore its\"\n",
    "print(s)"
   ]
  },
  {
   "cell_type": "code",
   "execution_count": 23,
   "metadata": {},
   "outputs": [
    {
     "ename": "SyntaxError",
     "evalue": "unterminated string literal (detected at line 1) (1742871924.py, line 1)",
     "output_type": "error",
     "traceback": [
      "\u001b[1;36m  Cell \u001b[1;32mIn[23], line 1\u001b[1;36m\u001b[0m\n\u001b[1;33m    s = 'This is ' a backspace character'\u001b[0m\n\u001b[1;37m                                        ^\u001b[0m\n\u001b[1;31mSyntaxError\u001b[0m\u001b[1;31m:\u001b[0m unterminated string literal (detected at line 1)\n"
     ]
    }
   ],
   "source": [
    "s = 'This is ' a backspace character'\n",
    "print(s)\n",
    "\n",
    "# we can't use single quotes in a single quoted string"
   ]
  },
  {
   "cell_type": "code",
   "execution_count": null,
   "metadata": {},
   "outputs": [],
   "source": [
    "# so to use quotes either we can write single quote in double quoted string or viceversa\n",
    "# or we can use escape sequence characters\n",
    "\n"
   ]
  },
  {
   "cell_type": "code",
   "execution_count": 24,
   "metadata": {},
   "outputs": [
    {
     "name": "stdout",
     "output_type": "stream",
     "text": [
      "This is ' a backspace character\n"
     ]
    }
   ],
   "source": [
    "s = 'This is \\' a backspace character'\n",
    "print(s)\n",
    "# this works with backspace"
   ]
  },
  {
   "cell_type": "markdown",
   "metadata": {},
   "source": [
    "## Accessing String characters"
   ]
  },
  {
   "cell_type": "markdown",
   "metadata": {},
   "source": [
    "### indexing\n",
    "python supports positive and negative indexing\n",
    "- positive indexing starts from `0`\n",
    "- whereas negative indexing starts from `-1`"
   ]
  },
  {
   "cell_type": "code",
   "execution_count": 32,
   "metadata": {},
   "outputs": [
    {
     "name": "stdout",
     "output_type": "stream",
     "text": [
      "o\n"
     ]
    }
   ],
   "source": [
    "# Positive Indexing\n",
    "s = 'hello world'\n",
    "print(s[4])  \n",
    "# counts the index 4 in the string starting from 0,1,2,3,4...\n",
    "# that is 5th character in the string"
   ]
  },
  {
   "cell_type": "code",
   "execution_count": 30,
   "metadata": {},
   "outputs": [
    {
     "name": "stdout",
     "output_type": "stream",
     "text": [
      "r\n"
     ]
    }
   ],
   "source": [
    "# Negative Indexing\n",
    "\n",
    "print(s[-3])\n",
    "# counts the index -3 in the string starting from -1,-2,-3,...\n",
    "# that is 3rd character in the string from the end"
   ]
  },
  {
   "cell_type": "code",
   "execution_count": 33,
   "metadata": {},
   "outputs": [
    {
     "ename": "IndexError",
     "evalue": "string index out of range",
     "output_type": "error",
     "traceback": [
      "\u001b[1;31m---------------------------------------------------------------------------\u001b[0m",
      "\u001b[1;31mIndexError\u001b[0m                                Traceback (most recent call last)",
      "Cell \u001b[1;32mIn[33], line 1\u001b[0m\n\u001b[1;32m----> 1\u001b[0m \u001b[38;5;28mprint\u001b[39m(s[\u001b[38;5;241m41\u001b[39m])\n",
      "\u001b[1;31mIndexError\u001b[0m: string index out of range"
     ]
    }
   ],
   "source": [
    "print(s[41])  # if try to access out of range gives error"
   ]
  },
  {
   "cell_type": "markdown",
   "metadata": {},
   "source": [
    "### slicing\n",
    "retrieves all characters within the given range<br>\n",
    "it takes 3 arguments `[start : stop : step_size]`"
   ]
  },
  {
   "cell_type": "code",
   "execution_count": 35,
   "metadata": {},
   "outputs": [],
   "source": [
    "s = 'Hello World'"
   ]
  },
  {
   "cell_type": "code",
   "execution_count": 36,
   "metadata": {},
   "outputs": [
    {
     "data": {
      "text/plain": [
       "'Hello'"
      ]
     },
     "execution_count": 36,
     "metadata": {},
     "output_type": "execute_result"
    }
   ],
   "source": [
    "s[0:5] # Fetch all characters from 0 to 5 index location in the string"
   ]
  },
  {
   "cell_type": "code",
   "execution_count": 37,
   "metadata": {},
   "outputs": [
    {
     "data": {
      "text/plain": [
       "'World'"
      ]
     },
     "execution_count": 37,
     "metadata": {},
     "output_type": "execute_result"
    }
   ],
   "source": [
    "s[6:12] # Retreive all characters between 6 - 12"
   ]
  },
  {
   "cell_type": "code",
   "execution_count": 39,
   "metadata": {},
   "outputs": [
    {
     "data": {
      "text/plain": [
       "'orld'"
      ]
     },
     "execution_count": 39,
     "metadata": {},
     "output_type": "execute_result"
    }
   ],
   "source": [
    "s[-4:] # Retreive last four characters of the string"
   ]
  },
  {
   "cell_type": "code",
   "execution_count": 44,
   "metadata": {},
   "outputs": [
    {
     "data": {
      "text/plain": [
       "'Hell'"
      ]
     },
     "execution_count": 44,
     "metadata": {},
     "output_type": "execute_result"
    }
   ],
   "source": [
    "s[:4] # Retreive first four characters of the string\n"
   ]
  },
  {
   "cell_type": "code",
   "execution_count": 46,
   "metadata": {},
   "outputs": [
    {
     "name": "stdout",
     "output_type": "stream",
     "text": [
      "HloWr\n"
     ]
    }
   ],
   "source": [
    "print(s[0:10:2]) # retrieves characters with stepsize of 2"
   ]
  },
  {
   "cell_type": "code",
   "execution_count": 47,
   "metadata": {},
   "outputs": [
    {
     "name": "stdout",
     "output_type": "stream",
     "text": [
      "dlroW olleH\n"
     ]
    }
   ],
   "source": [
    "print(s[::-1]) # returns the whole string reversed"
   ]
  },
  {
   "cell_type": "code",
   "execution_count": 48,
   "metadata": {},
   "outputs": [
    {
     "name": "stdout",
     "output_type": "stream",
     "text": [
      "Wol\n"
     ]
    }
   ],
   "source": [
    "print(s[6:0:-2])  # we can use this advance slicing techniques to slice specific items"
   ]
  },
  {
   "cell_type": "markdown",
   "metadata": {},
   "source": [
    "## Update & Delete strings"
   ]
  },
  {
   "cell_type": "code",
   "execution_count": 50,
   "metadata": {},
   "outputs": [
    {
     "data": {
      "text/plain": [
       "'Hello World'"
      ]
     },
     "execution_count": 50,
     "metadata": {},
     "output_type": "execute_result"
    }
   ],
   "source": [
    "s = \"Hello World\"\n",
    "s"
   ]
  },
  {
   "cell_type": "code",
   "execution_count": 51,
   "metadata": {},
   "outputs": [
    {
     "ename": "TypeError",
     "evalue": "'str' object does not support item assignment",
     "output_type": "error",
     "traceback": [
      "\u001b[1;31m---------------------------------------------------------------------------\u001b[0m",
      "\u001b[1;31mTypeError\u001b[0m                                 Traceback (most recent call last)",
      "Cell \u001b[1;32mIn[51], line 2\u001b[0m\n\u001b[0;32m      1\u001b[0m \u001b[38;5;66;03m# Strings are immutable which means elements of a string cannot be changed once they are defined\u001b[39;00m\n\u001b[1;32m----> 2\u001b[0m s[\u001b[38;5;241m0\u001b[39m:\u001b[38;5;241m5\u001b[39m] \u001b[38;5;241m=\u001b[39m \u001b[38;5;124m\"\u001b[39m\u001b[38;5;124mHELLO\u001b[39m\u001b[38;5;124m\"\u001b[39m\n",
      "\u001b[1;31mTypeError\u001b[0m: 'str' object does not support item assignment"
     ]
    }
   ],
   "source": [
    "# Strings are immutable which means elements of a string cannot be changed once they are defined\n",
    "s[0:5] = \"HELLO\""
   ]
  },
  {
   "cell_type": "code",
   "execution_count": 54,
   "metadata": {},
   "outputs": [
    {
     "ename": "TypeError",
     "evalue": "'str' object does not support item deletion",
     "output_type": "error",
     "traceback": [
      "\u001b[1;31m---------------------------------------------------------------------------\u001b[0m",
      "\u001b[1;31mTypeError\u001b[0m                                 Traceback (most recent call last)",
      "Cell \u001b[1;32mIn[54], line 1\u001b[0m\n\u001b[1;32m----> 1\u001b[0m \u001b[38;5;28;01mdel\u001b[39;00m s[\u001b[38;5;241m0\u001b[39m:\u001b[38;5;241m5\u001b[39m]\n",
      "\u001b[1;31mTypeError\u001b[0m: 'str' object does not support item deletion"
     ]
    }
   ],
   "source": [
    "# we neither update nor delete items in the list\n",
    "del s[0:5] "
   ]
  },
  {
   "cell_type": "code",
   "execution_count": 57,
   "metadata": {},
   "outputs": [
    {
     "ename": "NameError",
     "evalue": "name 's' is not defined",
     "output_type": "error",
     "traceback": [
      "\u001b[1;31m---------------------------------------------------------------------------\u001b[0m",
      "\u001b[1;31mNameError\u001b[0m                                 Traceback (most recent call last)",
      "Cell \u001b[1;32mIn[57], line 2\u001b[0m\n\u001b[0;32m      1\u001b[0m \u001b[38;5;66;03m# but we can delete a string\u001b[39;00m\n\u001b[1;32m----> 2\u001b[0m \u001b[38;5;28;01mdel\u001b[39;00m s\n\u001b[0;32m      3\u001b[0m \u001b[38;5;28mprint\u001b[39m(s)\n",
      "\u001b[1;31mNameError\u001b[0m: name 's' is not defined"
     ]
    }
   ],
   "source": [
    "# but we can delete a string\n",
    "del s\n",
    "print(s)"
   ]
  },
  {
   "cell_type": "markdown",
   "metadata": {},
   "source": [
    "## Operations on Strings\n",
    "\n",
    "- Arithmetic Operations\n",
    "- Relational Operations\n",
    "- Logical Operations\n",
    "- Loops on Strings\n",
    "- Membership Operations"
   ]
  },
  {
   "cell_type": "code",
   "execution_count": 66,
   "metadata": {},
   "outputs": [
    {
     "name": "stdout",
     "output_type": "stream",
     "text": [
      "HelloHrutik \n"
     ]
    }
   ],
   "source": [
    "# arithmetic operation --> String concatenation\n",
    "s1 = \"Hello\"\n",
    "s2 = \"Hrutik \"\n",
    "s3 = s1 + s2\n",
    "print(s3)"
   ]
  },
  {
   "cell_type": "code",
   "execution_count": 67,
   "metadata": {},
   "outputs": [
    {
     "name": "stdout",
     "output_type": "stream",
     "text": [
      "Hello Hrutik \n"
     ]
    }
   ],
   "source": [
    "# arithmetic operation --> String concatenation\n",
    "\n",
    "s3 = s1 + ' ' + s2\n",
    "print(s3)"
   ]
  },
  {
   "cell_type": "code",
   "execution_count": 68,
   "metadata": {},
   "outputs": [
    {
     "data": {
      "text/plain": [
       "'Hrutik Hrutik Hrutik Hrutik Hrutik '"
      ]
     },
     "execution_count": 68,
     "metadata": {},
     "output_type": "execute_result"
    }
   ],
   "source": [
    "# arithmetic operation --> string multiplication\n",
    "s2 * 5"
   ]
  },
  {
   "cell_type": "code",
   "execution_count": 70,
   "metadata": {},
   "outputs": [
    {
     "data": {
      "text/plain": [
       "'**************************************************'"
      ]
     },
     "execution_count": 70,
     "metadata": {},
     "output_type": "execute_result"
    }
   ],
   "source": [
    "# arithmetic operation --> string multiplication\n",
    "\"*\" * 50"
   ]
  },
  {
   "cell_type": "markdown",
   "metadata": {},
   "source": [
    "## iterating through string"
   ]
  },
  {
   "cell_type": "code",
   "execution_count": 81,
   "metadata": {},
   "outputs": [
    {
     "name": "stdout",
     "output_type": "stream",
     "text": [
      "h\n",
      "e\n",
      "l\n",
      "l\n",
      "o\n",
      " \n",
      "w\n",
      "o\n",
      "r\n",
      "l\n",
      "d\n"
     ]
    }
   ],
   "source": [
    "for i in 'hello world':\n",
    "  print(i)"
   ]
  },
  {
   "cell_type": "code",
   "execution_count": 88,
   "metadata": {},
   "outputs": [
    {
     "name": "stdout",
     "output_type": "stream",
     "text": [
      "(0, 'H')\n",
      "(1, 'e')\n",
      "(2, 'l')\n",
      "(3, 'l')\n",
      "(4, 'o')\n",
      "(5, ' ')\n",
      "(6, 'W')\n",
      "(7, 'o')\n",
      "(8, 'r')\n",
      "(9, 'l')\n",
      "(10, 'd')\n"
     ]
    }
   ],
   "source": [
    "for i in enumerate(\"Hello World\"):  #This function adds a counter as the key of the enumerate object.\n",
    "    print(i)"
   ]
  },
  {
   "cell_type": "markdown",
   "metadata": {},
   "source": [
    "## Common methods\n",
    "common methods that works on any sequence of collection of objects"
   ]
  },
  {
   "cell_type": "code",
   "execution_count": null,
   "metadata": {},
   "outputs": [],
   "source": [
    "len('hello world')"
   ]
  },
  {
   "cell_type": "code",
   "execution_count": null,
   "metadata": {},
   "outputs": [],
   "source": [
    "max('hello world')"
   ]
  },
  {
   "cell_type": "code",
   "execution_count": null,
   "metadata": {},
   "outputs": [],
   "source": [
    "min('hello world')"
   ]
  },
  {
   "cell_type": "code",
   "execution_count": 91,
   "metadata": {},
   "outputs": [
    {
     "data": {
      "text/plain": [
       "['w', 'r', 'o', 'o', 'l', 'l', 'l', 'h', 'e', 'd', ' ']"
      ]
     },
     "execution_count": 91,
     "metadata": {},
     "output_type": "execute_result"
    }
   ],
   "source": [
    "sorted('hello world',reverse=True) # it consider it as a sequence of characters and perform operations on each element"
   ]
  },
  {
   "cell_type": "code",
   "execution_count": 99,
   "metadata": {},
   "outputs": [
    {
     "data": {
      "text/plain": [
       "5"
      ]
     },
     "execution_count": 99,
     "metadata": {},
     "output_type": "execute_result"
    }
   ],
   "source": [
    "line = \"i love data science because going to work with data throughout this journey\"\n",
    "line.count('i')"
   ]
  },
  {
   "cell_type": "markdown",
   "metadata": {
    "id": "MP7lfFR2rOfC"
   },
   "source": [
    "## String methods"
   ]
  },
  {
   "cell_type": "code",
   "execution_count": 93,
   "metadata": {
    "id": "oaQDEpcUqS8K"
   },
   "outputs": [],
   "source": [
    "line = \"i LoVe dATA SciEnCE\""
   ]
  },
  {
   "cell_type": "markdown",
   "metadata": {
    "id": "7RK7SGoL84Tj"
   },
   "source": [
    "### Adjusting case"
   ]
  },
  {
   "cell_type": "markdown",
   "metadata": {
    "id": "t6XY8NBvrstc"
   },
   "source": [
    "#### upper( )"
   ]
  },
  {
   "cell_type": "code",
   "execution_count": 7,
   "metadata": {
    "colab": {
     "base_uri": "https://localhost:8080/",
     "height": 35
    },
    "executionInfo": {
     "elapsed": 423,
     "status": "ok",
     "timestamp": 1680165675268,
     "user": {
      "displayName": "Hrutik Nawade",
      "userId": "03506609053451396862"
     },
     "user_tz": -330
    },
    "id": "vlIxxPOBqS4g",
    "outputId": "b4b2bbfb-99f0-4057-fa89-065be33cc0eb"
   },
   "outputs": [
    {
     "data": {
      "text/plain": [
       "'I LOVE DATA SCIENCE'"
      ]
     },
     "execution_count": 7,
     "metadata": {},
     "output_type": "execute_result"
    }
   ],
   "source": [
    "line.upper()"
   ]
  },
  {
   "cell_type": "markdown",
   "metadata": {
    "id": "BB-C-r-ztrng"
   },
   "source": [
    "#### lower( )"
   ]
  },
  {
   "cell_type": "code",
   "execution_count": 14,
   "metadata": {
    "colab": {
     "base_uri": "https://localhost:8080/",
     "height": 35
    },
    "executionInfo": {
     "elapsed": 5,
     "status": "ok",
     "timestamp": 1680165677360,
     "user": {
      "displayName": "Hrutik Nawade",
      "userId": "03506609053451396862"
     },
     "user_tz": -330
    },
    "id": "5n0lnIGCqSCk",
    "outputId": "7153730b-7c9e-43b1-c20b-27fec8ccec10"
   },
   "outputs": [
    {
     "data": {
      "text/plain": [
       "'i love data science'"
      ]
     },
     "execution_count": 14,
     "metadata": {},
     "output_type": "execute_result"
    }
   ],
   "source": [
    "line.lower()"
   ]
  },
  {
   "cell_type": "markdown",
   "metadata": {
    "id": "r6Guzm_2t018"
   },
   "source": [
    "#### capitalize( )"
   ]
  },
  {
   "cell_type": "code",
   "execution_count": 17,
   "metadata": {
    "colab": {
     "base_uri": "https://localhost:8080/",
     "height": 35
    },
    "executionInfo": {
     "elapsed": 6,
     "status": "ok",
     "timestamp": 1680165706629,
     "user": {
      "displayName": "Hrutik Nawade",
      "userId": "03506609053451396862"
     },
     "user_tz": -330
    },
    "id": "y12oahSNqRgw",
    "outputId": "fcdf593f-779c-428c-f3c7-3fe37417f151"
   },
   "outputs": [
    {
     "data": {
      "text/plain": [
       "'I love data science'"
      ]
     },
     "execution_count": 17,
     "metadata": {},
     "output_type": "execute_result"
    }
   ],
   "source": [
    "line.capitalize()"
   ]
  },
  {
   "cell_type": "markdown",
   "metadata": {
    "id": "IDAbxMa9zb8e"
   },
   "source": [
    "####  title( )"
   ]
  },
  {
   "cell_type": "code",
   "execution_count": null,
   "metadata": {
    "colab": {
     "base_uri": "https://localhost:8080/",
     "height": 36
    },
    "executionInfo": {
     "elapsed": 784,
     "status": "ok",
     "timestamp": 1685086230362,
     "user": {
      "displayName": "Hrutik Nawade",
      "userId": "03506609053451396862"
     },
     "user_tz": -330
    },
    "id": "8aMEM2VZqRdW",
    "outputId": "ea556ef7-7845-4795-b2c5-15cb793419c5"
   },
   "outputs": [
    {
     "data": {
      "application/vnd.google.colaboratory.intrinsic+json": {
       "type": "string"
      },
      "text/plain": [
       "'I Love Data Science'"
      ]
     },
     "execution_count": 7,
     "metadata": {},
     "output_type": "execute_result"
    }
   ],
   "source": [
    "line.title()"
   ]
  },
  {
   "cell_type": "markdown",
   "metadata": {
    "id": "JZV1j8Ug446X"
   },
   "source": [
    "#### swapcase( )"
   ]
  },
  {
   "cell_type": "code",
   "execution_count": null,
   "metadata": {
    "colab": {
     "base_uri": "https://localhost:8080/",
     "height": 35
    },
    "executionInfo": {
     "elapsed": 6,
     "status": "ok",
     "timestamp": 1680165744425,
     "user": {
      "displayName": "Hrutik Nawade",
      "userId": "03506609053451396862"
     },
     "user_tz": -330
    },
    "id": "Tm_rafgRqRaB",
    "outputId": "4daa11f6-2a62-4a2f-bab3-ee2920f38ef5"
   },
   "outputs": [
    {
     "data": {
      "application/vnd.google.colaboratory.intrinsic+json": {
       "type": "string"
      },
      "text/plain": [
       "'I lOvE Data sCIeNce'"
      ]
     },
     "execution_count": 7,
     "metadata": {},
     "output_type": "execute_result"
    }
   ],
   "source": [
    "line.swapcase()"
   ]
  },
  {
   "cell_type": "markdown",
   "metadata": {
    "id": "J5odH9ja6akZ"
   },
   "source": [
    "All case changing method at once"
   ]
  },
  {
   "cell_type": "code",
   "execution_count": 1,
   "metadata": {
    "colab": {
     "base_uri": "https://localhost:8080/"
    },
    "executionInfo": {
     "elapsed": 6,
     "status": "ok",
     "timestamp": 1685087843832,
     "user": {
      "displayName": "Hrutik Nawade",
      "userId": "03506609053451396862"
     },
     "user_tz": -330
    },
    "id": "WJ8gpvLKDFxQ",
    "outputId": "73f8dd07-4156-46f5-c865-a8a2090dc3d7"
   },
   "outputs": [
    {
     "name": "stdout",
     "output_type": "stream",
     "text": [
      "i love data science.\n",
      "I LOVE DATA SCIENCE.\n",
      "I love data science.\n",
      "I Love Data Science.\n",
      "i LOVE dATA sCIENCE.\n"
     ]
    }
   ],
   "source": [
    "s = 'I love Data Science.'\n",
    "print(s.lower())\n",
    "print(s.upper())\n",
    "print(s.capitalize())\n",
    "print(s.title())\n",
    "print(s.swapcase())"
   ]
  },
  {
   "cell_type": "code",
   "execution_count": null,
   "metadata": {
    "id": "IA3x1mOFDbVj"
   },
   "outputs": [],
   "source": []
  },
  {
   "cell_type": "markdown",
   "metadata": {
    "id": "G64wnaUB-d16"
   },
   "source": [
    "### Removing spaces "
   ]
  },
  {
   "cell_type": "markdown",
   "metadata": {
    "id": "ZSTbvVyz6aeH"
   },
   "source": [
    "#### strip( ) "
   ]
  },
  {
   "cell_type": "code",
   "execution_count": 2,
   "metadata": {
    "colab": {
     "base_uri": "https://localhost:8080/",
     "height": 36
    },
    "executionInfo": {
     "elapsed": 519,
     "status": "ok",
     "timestamp": 1685086579765,
     "user": {
      "displayName": "Hrutik Nawade",
      "userId": "03506609053451396862"
     },
     "user_tz": -330
    },
    "id": "oS-WbDJ36aav",
    "outputId": "100a087f-03ed-48bc-b5da-1e0944053f1e"
   },
   "outputs": [
    {
     "data": {
      "text/plain": [
       "'this is the content'"
      ]
     },
     "execution_count": 2,
     "metadata": {},
     "output_type": "execute_result"
    }
   ],
   "source": [
    "line = '         this is the content         '\n",
    "line.strip()"
   ]
  },
  {
   "cell_type": "markdown",
   "metadata": {
    "id": "IVSl5mwx9i7w"
   },
   "source": [
    "\n",
    "\n",
    "#### rstrip( )"
   ]
  },
  {
   "cell_type": "code",
   "execution_count": 3,
   "metadata": {
    "colab": {
     "base_uri": "https://localhost:8080/",
     "height": 35
    },
    "executionInfo": {
     "elapsed": 8,
     "status": "ok",
     "timestamp": 1680170962232,
     "user": {
      "displayName": "Hrutik Nawade",
      "userId": "03506609053451396862"
     },
     "user_tz": -330
    },
    "id": "GSKydEKg_eL0",
    "outputId": "fa91eb87-140a-4cbb-ec78-df8be5ad348a"
   },
   "outputs": [
    {
     "data": {
      "text/plain": [
       "'         this is the content'"
      ]
     },
     "execution_count": 3,
     "metadata": {},
     "output_type": "execute_result"
    }
   ],
   "source": [
    "line = '         this is the content         '\n",
    "line.rstrip()"
   ]
  },
  {
   "cell_type": "markdown",
   "metadata": {
    "id": "FxU23a-K6Zqw"
   },
   "source": [
    "#### lstrip( )"
   ]
  },
  {
   "cell_type": "code",
   "execution_count": 5,
   "metadata": {
    "colab": {
     "base_uri": "https://localhost:8080/",
     "height": 35
    },
    "executionInfo": {
     "elapsed": 10,
     "status": "ok",
     "timestamp": 1680171071029,
     "user": {
      "displayName": "Hrutik Nawade",
      "userId": "03506609053451396862"
     },
     "user_tz": -330
    },
    "id": "UCUhkbr5qRU6",
    "outputId": "c0a27de7-2a1a-4a90-cbbb-ee2a6d26a090"
   },
   "outputs": [
    {
     "data": {
      "text/plain": [
       "'this is the content         '"
      ]
     },
     "execution_count": 5,
     "metadata": {},
     "output_type": "execute_result"
    }
   ],
   "source": [
    "line = '         this is the content         '\n",
    "line.lstrip()"
   ]
  },
  {
   "cell_type": "markdown",
   "metadata": {
    "id": "RQ3KJU0-EK9e"
   },
   "source": [
    "All removing extra characters metnhd at once"
   ]
  },
  {
   "cell_type": "code",
   "execution_count": null,
   "metadata": {
    "colab": {
     "base_uri": "https://localhost:8080/"
    },
    "executionInfo": {
     "elapsed": 1110,
     "status": "ok",
     "timestamp": 1685087921192,
     "user": {
      "displayName": "Hrutik Nawade",
      "userId": "03506609053451396862"
     },
     "user_tz": -330
    },
    "id": "iXcH0_TNAw5u",
    "outputId": "8ad8c83c-be1e-487d-f6c4-1bf6b43d4398"
   },
   "outputs": [
    {
     "name": "stdout",
     "output_type": "stream",
     "text": [
      "this is the content\n",
      "         this is the content\n",
      "this is the content         \n"
     ]
    }
   ],
   "source": [
    "line = '         this is the content         '\n",
    "print(line.strip())\n",
    "print(line.rstrip())\n",
    "print(line.lstrip())"
   ]
  },
  {
   "cell_type": "markdown",
   "metadata": {
    "id": "l_C04hAICIZV"
   },
   "source": [
    "### Adding spaces"
   ]
  },
  {
   "cell_type": "markdown",
   "metadata": {
    "id": "G3TZhP-iBNQV"
   },
   "source": [
    "#### center( )"
   ]
  },
  {
   "cell_type": "code",
   "execution_count": 7,
   "metadata": {
    "colab": {
     "base_uri": "https://localhost:8080/",
     "height": 35
    },
    "executionInfo": {
     "elapsed": 724,
     "status": "ok",
     "timestamp": 1680171286904,
     "user": {
      "displayName": "Hrutik Nawade",
      "userId": "03506609053451396862"
     },
     "user_tz": -330
    },
    "id": "cqQflSCoAw8V",
    "outputId": "7ad977ec-a822-483b-c213-c0931e9140c2"
   },
   "outputs": [
    {
     "data": {
      "text/plain": [
       "'     this is the content      '"
      ]
     },
     "execution_count": 7,
     "metadata": {},
     "output_type": "execute_result"
    }
   ],
   "source": [
    "line = \"this is the content\"\n",
    "line.center(30)"
   ]
  },
  {
   "cell_type": "code",
   "execution_count": 8,
   "metadata": {
    "colab": {
     "base_uri": "https://localhost:8080/",
     "height": 35
    },
    "executionInfo": {
     "elapsed": 693,
     "status": "ok",
     "timestamp": 1680171978022,
     "user": {
      "displayName": "Hrutik Nawade",
      "userId": "03506609053451396862"
     },
     "user_tz": -330
    },
    "id": "KjhpWJf9DaXP",
    "outputId": "283dd253-1c2f-48f0-de57-cc058ad42d49"
   },
   "outputs": [
    {
     "data": {
      "text/plain": [
       "'this is the content'"
      ]
     },
     "execution_count": 8,
     "metadata": {},
     "output_type": "execute_result"
    }
   ],
   "source": [
    "line = \"this is the content\"\n",
    "line.center(10)               # if index is less than length of the string then it returns the string itself."
   ]
  },
  {
   "cell_type": "code",
   "execution_count": 9,
   "metadata": {
    "colab": {
     "base_uri": "https://localhost:8080/",
     "height": 35
    },
    "executionInfo": {
     "elapsed": 494,
     "status": "ok",
     "timestamp": 1680172247617,
     "user": {
      "displayName": "Hrutik Nawade",
      "userId": "03506609053451396862"
     },
     "user_tz": -330
    },
    "id": "5997x1owDaOD",
    "outputId": "6c5af94a-4e73-4abc-e556-472ca168e9eb"
   },
   "outputs": [
    {
     "data": {
      "text/plain": [
       "'*****this is the content******'"
      ]
     },
     "execution_count": 9,
     "metadata": {},
     "output_type": "execute_result"
    }
   ],
   "source": [
    "line = \"this is the content\"\n",
    "line.center(30, '*')"
   ]
  },
  {
   "cell_type": "code",
   "execution_count": 12,
   "metadata": {
    "colab": {
     "base_uri": "https://localhost:8080/",
     "height": 36
    },
    "executionInfo": {
     "elapsed": 8,
     "status": "ok",
     "timestamp": 1685088208354,
     "user": {
      "displayName": "Hrutik Nawade",
      "userId": "03506609053451396862"
     },
     "user_tz": -330
    },
    "id": "Wv8bihPEFIQq",
    "outputId": "8926ff85-61a9-4ce6-c56b-d090deaae942"
   },
   "outputs": [
    {
     "data": {
      "text/plain": [
       "'this is the content*'"
      ]
     },
     "execution_count": 12,
     "metadata": {},
     "output_type": "execute_result"
    }
   ],
   "source": [
    "line = \"this is the content\"\n",
    "line.center(20, '*')          # if it has single character greater than its length then it first adds to the end of the string"
   ]
  },
  {
   "cell_type": "markdown",
   "metadata": {
    "id": "Qw3MvE4vEDw5"
   },
   "source": [
    "####  ljust( )"
   ]
  },
  {
   "cell_type": "code",
   "execution_count": 13,
   "metadata": {
    "colab": {
     "base_uri": "https://localhost:8080/",
     "height": 35
    },
    "executionInfo": {
     "elapsed": 675,
     "status": "ok",
     "timestamp": 1680172158942,
     "user": {
      "displayName": "Hrutik Nawade",
      "userId": "03506609053451396862"
     },
     "user_tz": -330
    },
    "id": "LljvHsTJEDtJ",
    "outputId": "2423e095-2f17-4b92-cc48-5bd22d4a1a10"
   },
   "outputs": [
    {
     "data": {
      "text/plain": [
       "'this is the content           '"
      ]
     },
     "execution_count": 13,
     "metadata": {},
     "output_type": "execute_result"
    }
   ],
   "source": [
    "line = \"this is the content\"\n",
    "line.ljust(30)"
   ]
  },
  {
   "cell_type": "code",
   "execution_count": 14,
   "metadata": {
    "colab": {
     "base_uri": "https://localhost:8080/",
     "height": 36
    },
    "executionInfo": {
     "elapsed": 411,
     "status": "ok",
     "timestamp": 1685088100004,
     "user": {
      "displayName": "Hrutik Nawade",
      "userId": "03506609053451396862"
     },
     "user_tz": -330
    },
    "id": "rrIaeZIFEDqe",
    "outputId": "3b23562a-5495-4dd6-e2a3-adb56b037470"
   },
   "outputs": [
    {
     "data": {
      "text/plain": [
       "'this is the content'"
      ]
     },
     "execution_count": 14,
     "metadata": {},
     "output_type": "execute_result"
    }
   ],
   "source": [
    "line = \"this is the content\"\n",
    "line.ljust(10)"
   ]
  },
  {
   "cell_type": "code",
   "execution_count": 15,
   "metadata": {
    "colab": {
     "base_uri": "https://localhost:8080/",
     "height": 35
    },
    "executionInfo": {
     "elapsed": 9,
     "status": "ok",
     "timestamp": 1680172332605,
     "user": {
      "displayName": "Hrutik Nawade",
      "userId": "03506609053451396862"
     },
     "user_tz": -330
    },
    "id": "U7D3vcgy_9uu",
    "outputId": "5c5f9997-2347-4411-d48d-ee353a986623"
   },
   "outputs": [
    {
     "data": {
      "text/plain": [
       "'this is the content###########'"
      ]
     },
     "execution_count": 15,
     "metadata": {},
     "output_type": "execute_result"
    }
   ],
   "source": [
    "line = \"this is the content\"\n",
    "line.ljust(30, '#')"
   ]
  },
  {
   "cell_type": "markdown",
   "metadata": {
    "id": "QVXAxsBeD0KU"
   },
   "source": [
    "####  rjust( )"
   ]
  },
  {
   "cell_type": "code",
   "execution_count": 16,
   "metadata": {
    "colab": {
     "base_uri": "https://localhost:8080/",
     "height": 35
    },
    "executionInfo": {
     "elapsed": 9,
     "status": "ok",
     "timestamp": 1680172171540,
     "user": {
      "displayName": "Hrutik Nawade",
      "userId": "03506609053451396862"
     },
     "user_tz": -330
    },
    "id": "kyoFlFqz_9rZ",
    "outputId": "47f8666b-e0b5-40e5-e500-8ff52c8846ce"
   },
   "outputs": [
    {
     "data": {
      "text/plain": [
       "'           this is the content'"
      ]
     },
     "execution_count": 16,
     "metadata": {},
     "output_type": "execute_result"
    }
   ],
   "source": [
    "line = \"this is the content\"\n",
    "line.rjust(30)"
   ]
  },
  {
   "cell_type": "code",
   "execution_count": 17,
   "metadata": {
    "colab": {
     "base_uri": "https://localhost:8080/",
     "height": 35
    },
    "executionInfo": {
     "elapsed": 10,
     "status": "ok",
     "timestamp": 1680172198126,
     "user": {
      "displayName": "Hrutik Nawade",
      "userId": "03506609053451396862"
     },
     "user_tz": -330
    },
    "id": "aHPXJ87dDV5d",
    "outputId": "5a10bcd9-d19a-4398-b437-5275fe901802"
   },
   "outputs": [
    {
     "data": {
      "text/plain": [
       "'this is the content'"
      ]
     },
     "execution_count": 17,
     "metadata": {},
     "output_type": "execute_result"
    }
   ],
   "source": [
    "line = \"this is the content\"\n",
    "line.rjust(10)"
   ]
  },
  {
   "cell_type": "code",
   "execution_count": 18,
   "metadata": {
    "colab": {
     "base_uri": "https://localhost:8080/",
     "height": 35
    },
    "executionInfo": {
     "elapsed": 10,
     "status": "ok",
     "timestamp": 1680172349356,
     "user": {
      "displayName": "Hrutik Nawade",
      "userId": "03506609053451396862"
     },
     "user_tz": -330
    },
    "id": "QGHMjXEzDV1o",
    "outputId": "b45845e3-1646-4756-9f42-d7d47c7cd57a"
   },
   "outputs": [
    {
     "data": {
      "text/plain": [
       "'@@@@@@@@@@@this is the content'"
      ]
     },
     "execution_count": 18,
     "metadata": {},
     "output_type": "execute_result"
    }
   ],
   "source": [
    "line = \"this is the content\"\n",
    "line.rjust(30, '@')"
   ]
  },
  {
   "cell_type": "markdown",
   "metadata": {
    "id": "sQgShuMjH6yi"
   },
   "source": [
    "#### zfill( )\n",
    "same as rjust method"
   ]
  },
  {
   "cell_type": "code",
   "execution_count": 19,
   "metadata": {
    "colab": {
     "base_uri": "https://localhost:8080/",
     "height": 35
    },
    "executionInfo": {
     "elapsed": 5,
     "status": "ok",
     "timestamp": 1680173205513,
     "user": {
      "displayName": "Hrutik Nawade",
      "userId": "03506609053451396862"
     },
     "user_tz": -330
    },
    "id": "vxX-HorrH6dk",
    "outputId": "05164318-99e5-4ce4-afe9-441f757c50ea"
   },
   "outputs": [
    {
     "data": {
      "text/plain": [
       "'0000000435'"
      ]
     },
     "execution_count": 19,
     "metadata": {},
     "output_type": "execute_result"
    }
   ],
   "source": [
    "'435'.zfill(10)"
   ]
  },
  {
   "cell_type": "markdown",
   "metadata": {
    "id": "4KbBk7T8W5Cb"
   },
   "source": [
    "All adding spaces methods at one place"
   ]
  },
  {
   "cell_type": "code",
   "execution_count": 22,
   "metadata": {
    "colab": {
     "base_uri": "https://localhost:8080/"
    },
    "executionInfo": {
     "elapsed": 666,
     "status": "ok",
     "timestamp": 1685088031322,
     "user": {
      "displayName": "Hrutik Nawade",
      "userId": "03506609053451396862"
     },
     "user_tz": -330
    },
    "id": "FD44_pYiW4_E",
    "outputId": "8743b4d5-3950-4f23-f13a-7fbdcf6d9621"
   },
   "outputs": [
    {
     "name": "stdout",
     "output_type": "stream",
     "text": [
      "     this is the content      \n",
      "this is the content           \n",
      "           this is the content\n",
      "00000000000this is the content\n"
     ]
    }
   ],
   "source": [
    "line = \"this is the content\"\n",
    "print(line.center(30))\n",
    "print(line.ljust(30))\n",
    "print(line.rjust(30))\n",
    "print(line.zfill(30))"
   ]
  },
  {
   "cell_type": "markdown",
   "metadata": {
    "id": "eKr6Mag0GZ19"
   },
   "source": [
    "### Finding substring"
   ]
  },
  {
   "cell_type": "markdown",
   "metadata": {
    "id": "MIbQWznhDVwo"
   },
   "source": [
    "#### find( )"
   ]
  },
  {
   "cell_type": "code",
   "execution_count": 23,
   "metadata": {
    "colab": {
     "base_uri": "https://localhost:8080/"
    },
    "executionInfo": {
     "elapsed": 555,
     "status": "ok",
     "timestamp": 1680172625252,
     "user": {
      "displayName": "Hrutik Nawade",
      "userId": "03506609053451396862"
     },
     "user_tz": -330
    },
    "id": "mEDzENmFDVt9",
    "outputId": "5e6fde3b-fe74-4a8a-ab84-28bd2d674b27"
   },
   "outputs": [
    {
     "data": {
      "text/plain": [
       "7"
      ]
     },
     "execution_count": 23,
     "metadata": {},
     "output_type": "execute_result"
    }
   ],
   "source": [
    "line = \"i love data science because i'm going to work with data.\"\n",
    "line.find('data')"
   ]
  },
  {
   "cell_type": "code",
   "execution_count": 24,
   "metadata": {
    "colab": {
     "base_uri": "https://localhost:8080/"
    },
    "executionInfo": {
     "elapsed": 19,
     "status": "ok",
     "timestamp": 1680172489292,
     "user": {
      "displayName": "Hrutik Nawade",
      "userId": "03506609053451396862"
     },
     "user_tz": -330
    },
    "id": "2t58KV7FDVrO",
    "outputId": "299b7557-e909-4cd5-bd41-127e60ea38a9"
   },
   "outputs": [
    {
     "data": {
      "text/plain": [
       "-1"
      ]
     },
     "execution_count": 24,
     "metadata": {},
     "output_type": "execute_result"
    }
   ],
   "source": [
    "line = \"i love data science because i'm going to work with data.\"\n",
    "line.find('hii')"
   ]
  },
  {
   "cell_type": "code",
   "execution_count": 25,
   "metadata": {
    "colab": {
     "base_uri": "https://localhost:8080/"
    },
    "executionInfo": {
     "elapsed": 6,
     "status": "ok",
     "timestamp": 1680252223265,
     "user": {
      "displayName": "Hrutik Nawade",
      "userId": "03506609053451396862"
     },
     "user_tz": -330
    },
    "id": "8jcP9eRj1hvr",
    "outputId": "65b515bf-5f03-4092-fff6-8129ac47915e"
   },
   "outputs": [
    {
     "data": {
      "text/plain": [
       "29"
      ]
     },
     "execution_count": 25,
     "metadata": {},
     "output_type": "execute_result"
    }
   ],
   "source": [
    "line = \"i love science because i'm going to work with data.\"\n",
    "line.find('ing')"
   ]
  },
  {
   "cell_type": "markdown",
   "metadata": {
    "id": "pdQmoF1lDVmL"
   },
   "source": [
    "####  rfind( )"
   ]
  },
  {
   "cell_type": "code",
   "execution_count": 28,
   "metadata": {
    "colab": {
     "base_uri": "https://localhost:8080/"
    },
    "executionInfo": {
     "elapsed": 414,
     "status": "ok",
     "timestamp": 1685088623861,
     "user": {
      "displayName": "Hrutik Nawade",
      "userId": "03506609053451396862"
     },
     "user_tz": -330
    },
    "id": "hqwqKLjrDVjc",
    "outputId": "0192eaab-58b4-4a51-dd99-bec78a177037"
   },
   "outputs": [
    {
     "data": {
      "text/plain": [
       "51"
      ]
     },
     "execution_count": 28,
     "metadata": {},
     "output_type": "execute_result"
    }
   ],
   "source": [
    "line = \"i love data science because i'm going to work with data.\"\n",
    "line.rfind('data')"
   ]
  },
  {
   "cell_type": "code",
   "execution_count": 31,
   "metadata": {
    "colab": {
     "base_uri": "https://localhost:8080/"
    },
    "executionInfo": {
     "elapsed": 419,
     "status": "ok",
     "timestamp": 1685088630280,
     "user": {
      "displayName": "Hrutik Nawade",
      "userId": "03506609053451396862"
     },
     "user_tz": -330
    },
    "id": "feCdAAuzDVgv",
    "outputId": "673be579-a8d7-4e1f-d5f7-15493367dca2"
   },
   "outputs": [
    {
     "data": {
      "text/plain": [
       "56"
      ]
     },
     "execution_count": 31,
     "metadata": {},
     "output_type": "execute_result"
    }
   ],
   "source": [
    "len(line)"
   ]
  },
  {
   "cell_type": "code",
   "execution_count": 32,
   "metadata": {
    "colab": {
     "base_uri": "https://localhost:8080/"
    },
    "executionInfo": {
     "elapsed": 6,
     "status": "ok",
     "timestamp": 1685088631581,
     "user": {
      "displayName": "Hrutik Nawade",
      "userId": "03506609053451396862"
     },
     "user_tz": -330
    },
    "id": "XBhPpciXDVeH",
    "outputId": "39438f13-dc03-427e-a965-7bab538081db"
   },
   "outputs": [
    {
     "data": {
      "text/plain": [
       "-1"
      ]
     },
     "execution_count": 32,
     "metadata": {},
     "output_type": "execute_result"
    }
   ],
   "source": [
    "line = \"i love data science because i'm going to work with data.\"\n",
    "line.rfind('this')"
   ]
  },
  {
   "cell_type": "markdown",
   "metadata": {
    "id": "kgi3BCn5DVb6"
   },
   "source": [
    "\n",
    "\n",
    "#### index( )"
   ]
  },
  {
   "cell_type": "code",
   "execution_count": 30,
   "metadata": {
    "colab": {
     "base_uri": "https://localhost:8080/"
    },
    "executionInfo": {
     "elapsed": 5,
     "status": "ok",
     "timestamp": 1680172927136,
     "user": {
      "displayName": "Hrutik Nawade",
      "userId": "03506609053451396862"
     },
     "user_tz": -330
    },
    "id": "eOaY-vloDVZM",
    "outputId": "b737ec71-03cc-4ee3-e707-77ee97dd6158"
   },
   "outputs": [
    {
     "data": {
      "text/plain": [
       "7"
      ]
     },
     "execution_count": 30,
     "metadata": {},
     "output_type": "execute_result"
    }
   ],
   "source": [
    "line = \"i love data science because i'm going to work with data.\"\n",
    "line.index('data')"
   ]
  },
  {
   "cell_type": "code",
   "execution_count": 31,
   "metadata": {
    "colab": {
     "base_uri": "https://localhost:8080/",
     "height": 183
    },
    "executionInfo": {
     "elapsed": 15,
     "status": "error",
     "timestamp": 1680172966263,
     "user": {
      "displayName": "Hrutik Nawade",
      "userId": "03506609053451396862"
     },
     "user_tz": -330
    },
    "id": "rb8Amb3AHHqm",
    "outputId": "f9991a99-f4a4-444e-8f4f-13fee1dcf0f4",
    "scrolled": true
   },
   "outputs": [
    {
     "ename": "ValueError",
     "evalue": "substring not found",
     "output_type": "error",
     "traceback": [
      "\u001b[1;31m---------------------------------------------------------------------------\u001b[0m",
      "\u001b[1;31mValueError\u001b[0m                                Traceback (most recent call last)",
      "Cell \u001b[1;32mIn[31], line 2\u001b[0m\n\u001b[0;32m      1\u001b[0m line \u001b[38;5;241m=\u001b[39m \u001b[38;5;124m\"\u001b[39m\u001b[38;5;124mi love data science because i\u001b[39m\u001b[38;5;124m'\u001b[39m\u001b[38;5;124mm going to work with data.\u001b[39m\u001b[38;5;124m\"\u001b[39m\n\u001b[1;32m----> 2\u001b[0m line\u001b[38;5;241m.\u001b[39mindex(\u001b[38;5;124m'\u001b[39m\u001b[38;5;124mthis\u001b[39m\u001b[38;5;124m'\u001b[39m)\n",
      "\u001b[1;31mValueError\u001b[0m: substring not found"
     ]
    }
   ],
   "source": [
    "line = \"i love data science because i'm going to work with data.\" # this will raise error if substring not found in string\n",
    "line.index('this')"
   ]
  },
  {
   "cell_type": "markdown",
   "metadata": {
    "id": "wS66Lw-PHHnX"
   },
   "source": [
    "#### rindex( )"
   ]
  },
  {
   "cell_type": "code",
   "execution_count": 33,
   "metadata": {
    "colab": {
     "base_uri": "https://localhost:8080/"
    },
    "executionInfo": {
     "elapsed": 518,
     "status": "ok",
     "timestamp": 1680173062499,
     "user": {
      "displayName": "Hrutik Nawade",
      "userId": "03506609053451396862"
     },
     "user_tz": -330
    },
    "id": "bJ-5QZ94HHkG",
    "outputId": "a85e3251-6e88-4485-ed84-cfabfd55f434"
   },
   "outputs": [
    {
     "data": {
      "text/plain": [
       "51"
      ]
     },
     "execution_count": 33,
     "metadata": {},
     "output_type": "execute_result"
    }
   ],
   "source": [
    "line = \"i love data science because i'm going to work with data.\"\n",
    "line.rindex('data')"
   ]
  },
  {
   "cell_type": "code",
   "execution_count": 34,
   "metadata": {
    "colab": {
     "base_uri": "https://localhost:8080/",
     "height": 183
    },
    "executionInfo": {
     "elapsed": 9,
     "status": "error",
     "timestamp": 1680173073168,
     "user": {
      "displayName": "Hrutik Nawade",
      "userId": "03506609053451396862"
     },
     "user_tz": -330
    },
    "id": "RTG8WpKDHHfD",
    "outputId": "1dc7ddcb-99dc-45ea-ff44-ac8f7330d7a7"
   },
   "outputs": [
    {
     "data": {
      "text/plain": [
       "7"
      ]
     },
     "execution_count": 34,
     "metadata": {},
     "output_type": "execute_result"
    }
   ],
   "source": [
    "line = \"i love data science because i'm going to work with data.\"\n",
    "line.index('data')"
   ]
  },
  {
   "cell_type": "markdown",
   "metadata": {
    "id": "iDZyU9dyHHcG"
   },
   "source": [
    "#### endswith( )"
   ]
  },
  {
   "cell_type": "code",
   "execution_count": 35,
   "metadata": {
    "colab": {
     "base_uri": "https://localhost:8080/"
    },
    "executionInfo": {
     "elapsed": 4,
     "status": "ok",
     "timestamp": 1680173417329,
     "user": {
      "displayName": "Hrutik Nawade",
      "userId": "03506609053451396862"
     },
     "user_tz": -330
    },
    "id": "7MyugGN-I2fv",
    "outputId": "0a444b8e-c1c1-43ff-ac35-66fd2f278a5a"
   },
   "outputs": [
    {
     "data": {
      "text/plain": [
       "True"
      ]
     },
     "execution_count": 35,
     "metadata": {},
     "output_type": "execute_result"
    }
   ],
   "source": [
    "line = \"i love data science\"\n",
    "line.endswith('science')"
   ]
  },
  {
   "cell_type": "code",
   "execution_count": 36,
   "metadata": {
    "colab": {
     "base_uri": "https://localhost:8080/"
    },
    "executionInfo": {
     "elapsed": 616,
     "status": "ok",
     "timestamp": 1680173389474,
     "user": {
      "displayName": "Hrutik Nawade",
      "userId": "03506609053451396862"
     },
     "user_tz": -330
    },
    "id": "0y9gyeayHHaD",
    "outputId": "ba6f74f2-fc89-47fa-ad48-f356f1ed65b4"
   },
   "outputs": [
    {
     "data": {
      "text/plain": [
       "False"
      ]
     },
     "execution_count": 36,
     "metadata": {},
     "output_type": "execute_result"
    }
   ],
   "source": [
    "line = \"i love data science because i'm going to work with data.\"\n",
    "line.endswith('science')"
   ]
  },
  {
   "cell_type": "markdown",
   "metadata": {
    "id": "iM_S-2xeHHVU"
   },
   "source": [
    "####  startswith( )"
   ]
  },
  {
   "cell_type": "code",
   "execution_count": 37,
   "metadata": {
    "colab": {
     "base_uri": "https://localhost:8080/"
    },
    "executionInfo": {
     "elapsed": 435,
     "status": "ok",
     "timestamp": 1680173515959,
     "user": {
      "displayName": "Hrutik Nawade",
      "userId": "03506609053451396862"
     },
     "user_tz": -330
    },
    "id": "OJ3__uuzJQpE",
    "outputId": "ee6ba3a4-ae73-46c7-8aa1-dee5514b8a28"
   },
   "outputs": [
    {
     "data": {
      "text/plain": [
       "True"
      ]
     },
     "execution_count": 37,
     "metadata": {},
     "output_type": "execute_result"
    }
   ],
   "source": [
    "line = \"i love data science because i'm going to work with data.\"\n",
    "line.startswith('i love')"
   ]
  },
  {
   "cell_type": "code",
   "execution_count": 38,
   "metadata": {
    "colab": {
     "base_uri": "https://localhost:8080/"
    },
    "executionInfo": {
     "elapsed": 523,
     "status": "ok",
     "timestamp": 1680173500473,
     "user": {
      "displayName": "Hrutik Nawade",
      "userId": "03506609053451396862"
     },
     "user_tz": -330
    },
    "id": "qHVS894uHHS0",
    "outputId": "8dd46e44-e4e9-4a6a-e8cd-e8dcac3955ee"
   },
   "outputs": [
    {
     "data": {
      "text/plain": [
       "False"
      ]
     },
     "execution_count": 38,
     "metadata": {},
     "output_type": "execute_result"
    }
   ],
   "source": [
    "line = \"i love data science because i'm going to work with data.\"\n",
    "line.startswith('science')"
   ]
  },
  {
   "cell_type": "markdown",
   "metadata": {
    "id": "5QqvvtRYIDRU"
   },
   "source": [
    "### Replacing substring"
   ]
  },
  {
   "cell_type": "markdown",
   "metadata": {
    "id": "b7Y_pR4hJaqw"
   },
   "source": [
    "#### replace( )"
   ]
  },
  {
   "cell_type": "code",
   "execution_count": 40,
   "metadata": {
    "colab": {
     "base_uri": "https://localhost:8080/",
     "height": 36
    },
    "executionInfo": {
     "elapsed": 831,
     "status": "ok",
     "timestamp": 1685088930347,
     "user": {
      "displayName": "Hrutik Nawade",
      "userId": "03506609053451396862"
     },
     "user_tz": -330
    },
    "id": "0xZVWh5eJanL",
    "outputId": "b056e5ca-6f96-4924-d6c4-b85097a87712"
   },
   "outputs": [
    {
     "data": {
      "text/plain": [
       "\"i love adventures because i'm going to work with data.\""
      ]
     },
     "execution_count": 40,
     "metadata": {},
     "output_type": "execute_result"
    }
   ],
   "source": [
    "line = \"i love data science because i'm going to work with data.\"\n",
    "line.replace('data science', 'adventures')"
   ]
  },
  {
   "cell_type": "code",
   "execution_count": 43,
   "metadata": {
    "colab": {
     "base_uri": "https://localhost:8080/",
     "height": 35
    },
    "executionInfo": {
     "elapsed": 9,
     "status": "ok",
     "timestamp": 1680435964018,
     "user": {
      "displayName": "Hrutik Nawade",
      "userId": "03506609053451396862"
     },
     "user_tz": -330
    },
    "id": "4uHvK6eTJakT",
    "outputId": "8e8c6215-56a5-499a-8b31-8669142efdf6"
   },
   "outputs": [
    {
     "data": {
      "text/plain": [
       "\"i love d_t_ science because i'm going to work with data.\""
      ]
     },
     "execution_count": 43,
     "metadata": {},
     "output_type": "execute_result"
    }
   ],
   "source": [
    "line = \"i love data science because i'm going to work with data.\"\n",
    "line.replace('a', '_',2)  # this will replace a particular characters with specific characters for the given number of times"
   ]
  },
  {
   "cell_type": "code",
   "execution_count": 44,
   "metadata": {
    "colab": {
     "base_uri": "https://localhost:8080/",
     "height": 35
    },
    "executionInfo": {
     "elapsed": 13,
     "status": "ok",
     "timestamp": 1680173748718,
     "user": {
      "displayName": "Hrutik Nawade",
      "userId": "03506609053451396862"
     },
     "user_tz": -330
    },
    "id": "nZnJApDIJahl",
    "outputId": "649215c3-b5d0-4425-e2a5-6167aee19d91"
   },
   "outputs": [
    {
     "data": {
      "text/plain": [
       "\"i love data science because i'm going to work with data.\""
      ]
     },
     "execution_count": 44,
     "metadata": {},
     "output_type": "execute_result"
    }
   ],
   "source": [
    "line = \"i love data science because i'm going to work with data.\"\n",
    "line.replace('world', '_')    # if the substring is not present then it returns the string as it is"
   ]
  },
  {
   "cell_type": "markdown",
   "metadata": {
    "id": "3lrmXDVRI8sp"
   },
   "source": [
    "### Partitioning strings"
   ]
  },
  {
   "cell_type": "markdown",
   "metadata": {
    "id": "kEE7IphfJaTm"
   },
   "source": [
    "#### partition( )"
   ]
  },
  {
   "cell_type": "code",
   "execution_count": 46,
   "metadata": {
    "colab": {
     "base_uri": "https://localhost:8080/"
    },
    "executionInfo": {
     "elapsed": 1031,
     "status": "ok",
     "timestamp": 1680174043705,
     "user": {
      "displayName": "Hrutik Nawade",
      "userId": "03506609053451396862"
     },
     "user_tz": -330
    },
    "id": "4x-T3XVDJaQG",
    "outputId": "be41096b-4d88-4da6-ae2f-f38958d97387"
   },
   "outputs": [
    {
     "data": {
      "text/plain": [
       "('i love ',\n",
       " 'data',\n",
       " \" science because i'm going to work with data throughout this journey\")"
      ]
     },
     "execution_count": 46,
     "metadata": {},
     "output_type": "execute_result"
    }
   ],
   "source": [
    "line = \"i love data science because i'm going to work with data throughout this journey\"\n",
    "line.partition('data')"
   ]
  },
  {
   "cell_type": "code",
   "execution_count": 47,
   "metadata": {
    "colab": {
     "base_uri": "https://localhost:8080/"
    },
    "executionInfo": {
     "elapsed": 6,
     "status": "ok",
     "timestamp": 1680174081696,
     "user": {
      "displayName": "Hrutik Nawade",
      "userId": "03506609053451396862"
     },
     "user_tz": -330
    },
    "id": "yPpi9mPNLDLj",
    "outputId": "37dba91a-3658-42f2-b695-86ab4abb1bf9"
   },
   "outputs": [
    {
     "data": {
      "text/plain": [
       "(\"i love data science because i'm going to work with data throughout this journey\",\n",
       " '',\n",
       " '')"
      ]
     },
     "execution_count": 47,
     "metadata": {},
     "output_type": "execute_result"
    }
   ],
   "source": [
    "line = \"i love data science because i'm going to work with data throughout this journey\"\n",
    "line.partition('that')    # if the substring is not present in the string then it returns the string and two empty strings"
   ]
  },
  {
   "cell_type": "code",
   "execution_count": 48,
   "metadata": {
    "colab": {
     "base_uri": "https://localhost:8080/"
    },
    "executionInfo": {
     "elapsed": 5,
     "status": "ok",
     "timestamp": 1680174281743,
     "user": {
      "displayName": "Hrutik Nawade",
      "userId": "03506609053451396862"
     },
     "user_tz": -330
    },
    "id": "ali13gkOMKgp",
    "outputId": "ce268d79-cf55-45bd-94c0-f7142a6c1922"
   },
   "outputs": [
    {
     "data": {
      "text/plain": [
       "(\"i love data science because i'm going to work with data throughout this \",\n",
       " 'journey',\n",
       " '')"
      ]
     },
     "execution_count": 48,
     "metadata": {},
     "output_type": "execute_result"
    }
   ],
   "source": [
    "line = \"i love data science because i'm going to work with data throughout this journey\"\n",
    "line.partition('journey')"
   ]
  },
  {
   "cell_type": "code",
   "execution_count": 49,
   "metadata": {
    "colab": {
     "base_uri": "https://localhost:8080/"
    },
    "executionInfo": {
     "elapsed": 6,
     "status": "ok",
     "timestamp": 1680174611518,
     "user": {
      "displayName": "Hrutik Nawade",
      "userId": "03506609053451396862"
     },
     "user_tz": -330
    },
    "id": "K6ltwFuBNeEk",
    "outputId": "83df3f49-3c15-486e-8536-d436c0f66212"
   },
   "outputs": [
    {
     "data": {
      "text/plain": [
       "('',\n",
       " 'i',\n",
       " \" love data science because i'm going to work with data throughout this journey\")"
      ]
     },
     "execution_count": 49,
     "metadata": {},
     "output_type": "execute_result"
    }
   ],
   "source": [
    "line = \"i love data science because i'm going to work with data throughout this journey\"\n",
    "line.partition('i')"
   ]
  },
  {
   "cell_type": "code",
   "execution_count": 51,
   "metadata": {
    "colab": {
     "base_uri": "https://localhost:8080/"
    },
    "executionInfo": {
     "elapsed": 699,
     "status": "ok",
     "timestamp": 1680174705964,
     "user": {
      "displayName": "Hrutik Nawade",
      "userId": "03506609053451396862"
     },
     "user_tz": -330
    },
    "id": "Myfn0e0RNzVa",
    "outputId": "a1effc16-789f-4d66-9164-cb61351b2b72"
   },
   "outputs": [
    {
     "data": {
      "text/plain": [
       "(\"i love data science because i'm going to \",\n",
       " 'w',\n",
       " 'ork with data throughout this journey')"
      ]
     },
     "execution_count": 51,
     "metadata": {},
     "output_type": "execute_result"
    }
   ],
   "source": [
    "line = \"i love data science because i'm going to work with data throughout this journey\"\n",
    "line.partition('w')"
   ]
  },
  {
   "cell_type": "code",
   "execution_count": 52,
   "metadata": {
    "colab": {
     "base_uri": "https://localhost:8080/"
    },
    "executionInfo": {
     "elapsed": 6,
     "status": "ok",
     "timestamp": 1680174204204,
     "user": {
      "displayName": "Hrutik Nawade",
      "userId": "03506609053451396862"
     },
     "user_tz": -330
    },
    "id": "bsSVTx6oLDIk",
    "outputId": "f2d98c73-5cb1-4d3a-e7f8-d5cfff377023"
   },
   "outputs": [
    {
     "data": {
      "text/plain": [
       "tuple"
      ]
     },
     "execution_count": 52,
     "metadata": {},
     "output_type": "execute_result"
    }
   ],
   "source": [
    "line = \"i love data science because i'm going to work with data throughout this journey\"\n",
    "type(line.partition('data'))"
   ]
  },
  {
   "cell_type": "code",
   "execution_count": 53,
   "metadata": {
    "colab": {
     "base_uri": "https://localhost:8080/"
    },
    "executionInfo": {
     "elapsed": 401,
     "status": "ok",
     "timestamp": 1685089284529,
     "user": {
      "displayName": "Hrutik Nawade",
      "userId": "03506609053451396862"
     },
     "user_tz": -330
    },
    "id": "UF53DE7uLDEo",
    "outputId": "85b24819-d439-4e0b-cc2b-06715ed90683"
   },
   "outputs": [
    {
     "name": "stdout",
     "output_type": "stream",
     "text": [
      "hrutik\n"
     ]
    },
    {
     "data": {
      "text/plain": [
       "NoneType"
      ]
     },
     "execution_count": 53,
     "metadata": {},
     "output_type": "execute_result"
    }
   ],
   "source": [
    "type(print('hrutik'))  # the print function NoneType object"
   ]
  },
  {
   "cell_type": "code",
   "execution_count": 56,
   "metadata": {},
   "outputs": [
    {
     "data": {
      "text/plain": [
       "type"
      ]
     },
     "execution_count": 56,
     "metadata": {},
     "output_type": "execute_result"
    }
   ],
   "source": [
    "type(type(1))   # type function returns type object"
   ]
  },
  {
   "cell_type": "markdown",
   "metadata": {
    "id": "SUNLai9OLDB4"
   },
   "source": [
    "####  rpartition( )"
   ]
  },
  {
   "cell_type": "code",
   "execution_count": 57,
   "metadata": {
    "colab": {
     "base_uri": "https://localhost:8080/"
    },
    "executionInfo": {
     "elapsed": 7,
     "status": "ok",
     "timestamp": 1680174345677,
     "user": {
      "displayName": "Hrutik Nawade",
      "userId": "03506609053451396862"
     },
     "user_tz": -330
    },
    "id": "dpPD2--7MDnf",
    "outputId": "d9d50dfe-3d15-4900-db66-70e9f1a04d6b"
   },
   "outputs": [
    {
     "data": {
      "text/plain": [
       "(\"i love data science because i'm going to work with \",\n",
       " 'data',\n",
       " ' throughout this journey')"
      ]
     },
     "execution_count": 57,
     "metadata": {},
     "output_type": "execute_result"
    }
   ],
   "source": [
    "line = \"i love data science because i'm going to work with data throughout this journey\"\n",
    "line.rpartition('data')"
   ]
  },
  {
   "cell_type": "code",
   "execution_count": 58,
   "metadata": {
    "colab": {
     "base_uri": "https://localhost:8080/"
    },
    "executionInfo": {
     "elapsed": 700,
     "status": "ok",
     "timestamp": 1680174395867,
     "user": {
      "displayName": "Hrutik Nawade",
      "userId": "03506609053451396862"
     },
     "user_tz": -330
    },
    "id": "qnFrrmAeMDjt",
    "outputId": "a6b533ab-8e83-4297-d2cd-3929ef5f3d85"
   },
   "outputs": [
    {
     "data": {
      "text/plain": [
       "(\"i love data science because i'm going to work with data throughout this \",\n",
       " 'journey',\n",
       " '')"
      ]
     },
     "execution_count": 58,
     "metadata": {},
     "output_type": "execute_result"
    }
   ],
   "source": [
    "line = \"i love data science because i'm going to work with data throughout this journey\"\n",
    "line.rpartition('journey')"
   ]
  },
  {
   "cell_type": "code",
   "execution_count": 59,
   "metadata": {
    "colab": {
     "base_uri": "https://localhost:8080/"
    },
    "executionInfo": {
     "elapsed": 6,
     "status": "ok",
     "timestamp": 1680174518644,
     "user": {
      "displayName": "Hrutik Nawade",
      "userId": "03506609053451396862"
     },
     "user_tz": -330
    },
    "id": "0qoCmIBWM_Bu",
    "outputId": "05902e12-8783-40cf-8309-0a37a9f3b630"
   },
   "outputs": [
    {
     "data": {
      "text/plain": [
       "('i love data science because going to work with data throughout th',\n",
       " 'i',\n",
       " 's journey')"
      ]
     },
     "execution_count": 59,
     "metadata": {},
     "output_type": "execute_result"
    }
   ],
   "source": [
    "line = \"i love data science because going to work with data throughout this journey\"\n",
    "line.rpartition('i')"
   ]
  },
  {
   "cell_type": "code",
   "execution_count": 60,
   "metadata": {
    "colab": {
     "base_uri": "https://localhost:8080/"
    },
    "executionInfo": {
     "elapsed": 529,
     "status": "ok",
     "timestamp": 1680174421678,
     "user": {
      "displayName": "Hrutik Nawade",
      "userId": "03506609053451396862"
     },
     "user_tz": -330
    },
    "id": "Xpc7GDTlMDg-",
    "outputId": "1e9c97bd-b9c8-406c-f5d6-0dd674247d66"
   },
   "outputs": [
    {
     "data": {
      "text/plain": [
       "('',\n",
       " '',\n",
       " \"i love data science because i'm going to work with data throughout this journey\")"
      ]
     },
     "execution_count": 60,
     "metadata": {},
     "output_type": "execute_result"
    }
   ],
   "source": [
    "line = \"i love data science because i'm going to work with data throughout this journey\"\n",
    "line.rpartition('ths')"
   ]
  },
  {
   "cell_type": "markdown",
   "metadata": {
    "id": "S3rTNItINFLY"
   },
   "source": [
    "### Spliting strings"
   ]
  },
  {
   "cell_type": "markdown",
   "metadata": {
    "id": "Fr8jFxMkMDcU"
   },
   "source": [
    "#### split( )\n",
    "splits the items in the string by considering the **space** as seperator unless specific given "
   ]
  },
  {
   "cell_type": "code",
   "execution_count": 63,
   "metadata": {
    "colab": {
     "base_uri": "https://localhost:8080/"
    },
    "executionInfo": {
     "elapsed": 8,
     "status": "ok",
     "timestamp": 1680174813633,
     "user": {
      "displayName": "Hrutik Nawade",
      "userId": "03506609053451396862"
     },
     "user_tz": -330
    },
    "id": "6FJHE0wBMDZa",
    "outputId": "7592c77b-c5f4-448c-c230-670d9704dd57"
   },
   "outputs": [
    {
     "data": {
      "text/plain": [
       "['this', 'is', 'the', 'content']"
      ]
     },
     "execution_count": 63,
     "metadata": {},
     "output_type": "execute_result"
    }
   ],
   "source": [
    "line = \"this is the content\" \n",
    "line.split()"
   ]
  },
  {
   "cell_type": "code",
   "execution_count": 64,
   "metadata": {
    "colab": {
     "base_uri": "https://localhost:8080/"
    },
    "executionInfo": {
     "elapsed": 537,
     "status": "ok",
     "timestamp": 1680174840827,
     "user": {
      "displayName": "Hrutik Nawade",
      "userId": "03506609053451396862"
     },
     "user_tz": -330
    },
    "id": "4J5iGfcEMDXD",
    "outputId": "4809744a-8a88-40af-9247-a5546561c20b"
   },
   "outputs": [
    {
     "data": {
      "text/plain": [
       "[]"
      ]
     },
     "execution_count": 64,
     "metadata": {},
     "output_type": "execute_result"
    }
   ],
   "source": [
    "line = \"\"\n",
    "line.split()"
   ]
  },
  {
   "cell_type": "code",
   "execution_count": 65,
   "metadata": {
    "colab": {
     "base_uri": "https://localhost:8080/"
    },
    "executionInfo": {
     "elapsed": 6,
     "status": "ok",
     "timestamp": 1680175084565,
     "user": {
      "displayName": "Hrutik Nawade",
      "userId": "03506609053451396862"
     },
     "user_tz": -330
    },
    "id": "-Q1HTnYFLC_o",
    "outputId": "9b8740ea-e444-4582-ff04-00c56b0fc970"
   },
   "outputs": [
    {
     "data": {
      "text/plain": [
       "['th', 's ', 's the content']"
      ]
     },
     "execution_count": 65,
     "metadata": {},
     "output_type": "execute_result"
    }
   ],
   "source": [
    "line = \"this is the content\"   # specific seperator given\n",
    "line.split(sep='i')"
   ]
  },
  {
   "cell_type": "code",
   "execution_count": 67,
   "metadata": {
    "colab": {
     "base_uri": "https://localhost:8080/"
    },
    "executionInfo": {
     "elapsed": 1209,
     "status": "ok",
     "timestamp": 1680175148585,
     "user": {
      "displayName": "Hrutik Nawade",
      "userId": "03506609053451396862"
     },
     "user_tz": -330
    },
    "id": "o6peWf6tPdQz",
    "outputId": "b7672b50-cc85-44b4-ad25-a56407304001"
   },
   "outputs": [
    {
     "data": {
      "text/plain": [
       "['th', 's is the content']"
      ]
     },
     "execution_count": 67,
     "metadata": {},
     "output_type": "execute_result"
    }
   ],
   "source": [
    "line = \"this is the content\"   # controls maximum splits for a string\n",
    "line.split(sep='i', maxsplit=1)"
   ]
  },
  {
   "cell_type": "code",
   "execution_count": 68,
   "metadata": {
    "colab": {
     "base_uri": "https://localhost:8080/"
    },
    "executionInfo": {
     "elapsed": 454,
     "status": "ok",
     "timestamp": 1685090109186,
     "user": {
      "displayName": "Hrutik Nawade",
      "userId": "03506609053451396862"
     },
     "user_tz": -330
    },
    "id": "WLw2ivh2PdNb",
    "outputId": "d0a5a5be-1a1d-4443-c842-251a11125262"
   },
   "outputs": [
    {
     "data": {
      "text/plain": [
       "['th', 's ', 's the content']"
      ]
     },
     "execution_count": 68,
     "metadata": {},
     "output_type": "execute_result"
    }
   ],
   "source": [
    "line = \"this is the content\"\n",
    "line.split('i', )"
   ]
  },
  {
   "cell_type": "markdown",
   "metadata": {
    "id": "w5JG_PVrMC5D"
   },
   "source": [
    "#### splitlines( )\n",
    "splits lines on the basis of its ends"
   ]
  },
  {
   "cell_type": "code",
   "execution_count": 75,
   "metadata": {
    "colab": {
     "base_uri": "https://localhost:8080/"
    },
    "executionInfo": {
     "elapsed": 516,
     "status": "ok",
     "timestamp": 1680174901198,
     "user": {
      "displayName": "Hrutik Nawade",
      "userId": "03506609053451396862"
     },
     "user_tz": -330
    },
    "id": "QANck2CSOi2g",
    "outputId": "1852dd89-0710-4298-ca0e-44876e6c4602"
   },
   "outputs": [
    {
     "data": {
      "text/plain": [
       "[\"Fear of failure is higher when you're not working on the problem. \",\n",
       " 'If you are taking action, you are less worried about failure, ',\n",
       " 'Because you realize you can influence the outcome.']"
      ]
     },
     "execution_count": 75,
     "metadata": {},
     "output_type": "execute_result"
    }
   ],
   "source": [
    "motivation = \"\"\"Fear of failure is higher when you're not working on the problem. \n",
    "If you are taking action, you are less worried about failure, \n",
    "Because you realize you can influence the outcome.\"\"\"\n",
    "\n",
    "motivation.splitlines()"
   ]
  },
  {
   "cell_type": "markdown",
   "metadata": {
    "id": "fi0OZ3CzN-Zk"
   },
   "source": [
    "### Joining string "
   ]
  },
  {
   "cell_type": "markdown",
   "metadata": {
    "id": "ELhwdSP2Oiwo"
   },
   "source": [
    "#### join( )\n",
    "joins the items in the given iterable based on joining string"
   ]
  },
  {
   "cell_type": "code",
   "execution_count": 76,
   "metadata": {
    "colab": {
     "base_uri": "https://localhost:8080/",
     "height": 70
    },
    "executionInfo": {
     "elapsed": 8,
     "status": "ok",
     "timestamp": 1680175726740,
     "user": {
      "displayName": "Hrutik Nawade",
      "userId": "03506609053451396862"
     },
     "user_tz": -330
    },
    "id": "LLW4WRzzP1ns",
    "outputId": "be403142-3e0d-4aae-d119-6b0f338cf581"
   },
   "outputs": [
    {
     "data": {
      "text/plain": [
       "\"Fear of failure is higher when you're not working on the problem. \\nIf you are taking action, you are less worried about failure, \\nBecause you realize you can influence the outcome.\""
      ]
     },
     "execution_count": 76,
     "metadata": {},
     "output_type": "execute_result"
    }
   ],
   "source": [
    "\"\\n\".join([\"Fear of failure is higher when you're not working on the problem. \",\n",
    "'If you are taking action, you are less worried about failure, ',\n",
    " 'Because you realize you can influence the outcome.'])\n",
    "\n",
    "# here we are not getting the results because colab don't understand the escape sequence it considered it as a string unless it is written indside python function."
   ]
  },
  {
   "cell_type": "code",
   "execution_count": 77,
   "metadata": {
    "colab": {
     "base_uri": "https://localhost:8080/"
    },
    "executionInfo": {
     "elapsed": 516,
     "status": "ok",
     "timestamp": 1680175501258,
     "user": {
      "displayName": "Hrutik Nawade",
      "userId": "03506609053451396862"
     },
     "user_tz": -330
    },
    "id": "osR5G46QP1aJ",
    "outputId": "4ff6b36f-951c-4317-8b4b-45972947348d"
   },
   "outputs": [
    {
     "name": "stdout",
     "output_type": "stream",
     "text": [
      "Fear of failure is higher when you're not working on the problem.\n",
      "If you are taking action, you are less worried about failure, \n",
      "Because you realize you can influence the outcome.\n"
     ]
    }
   ],
   "source": [
    "print(\"\\n\".join([\"Fear of failure is higher when you're not working on the problem.\", \n",
    "                 'If you are taking action, you are less worried about failure, ', \n",
    "                 'Because you realize you can influence the outcome.']))"
   ]
  },
  {
   "cell_type": "code",
   "execution_count": 79,
   "metadata": {
    "colab": {
     "base_uri": "https://localhost:8080/",
     "height": 398
    },
    "executionInfo": {
     "elapsed": 404110,
     "status": "error",
     "timestamp": 1680176316396,
     "user": {
      "displayName": "Hrutik Nawade",
      "userId": "03506609053451396862"
     },
     "user_tz": -330
    },
    "id": "Wlc75snZSZK8",
    "outputId": "b63dfc98-8cd9-4235-bb11-dd2f423f1164"
   },
   "outputs": [
    {
     "name": "stdin",
     "output_type": "stream",
     "text": [
      "Fear of failure is higher when you're not working on the problem.\n",
      "If you are taking action, you are less worried about failure, \n",
      "Because you realize you can influence the outcome. hh\n"
     ]
    },
    {
     "data": {
      "text/plain": [
       "'hh'"
      ]
     },
     "execution_count": 79,
     "metadata": {},
     "output_type": "execute_result"
    }
   ],
   "source": [
    "input(\"\\n\".join([\"Fear of failure is higher when you're not working on the problem.\", \n",
    "                 'If you are taking action, you are less worried about failure, ', \n",
    "                 'Because you realize you can influence the outcome.']))"
   ]
  },
  {
   "cell_type": "code",
   "execution_count": 80,
   "metadata": {
    "colab": {
     "base_uri": "https://localhost:8080/",
     "height": 35
    },
    "executionInfo": {
     "elapsed": 8,
     "status": "ok",
     "timestamp": 1680175015092,
     "user": {
      "displayName": "Hrutik Nawade",
      "userId": "03506609053451396862"
     },
     "user_tz": -330
    },
    "id": "2lAMSXShOit6",
    "outputId": "30f87dce-d286-462c-aae5-344dd6fa5cf4"
   },
   "outputs": [
    {
     "data": {
      "text/plain": [
       "'1--2--3'"
      ]
     },
     "execution_count": 80,
     "metadata": {},
     "output_type": "execute_result"
    }
   ],
   "source": [
    "'--'.join(['1', '2', '3'])"
   ]
  },
  {
   "cell_type": "code",
   "execution_count": 81,
   "metadata": {
    "colab": {
     "base_uri": "https://localhost:8080/",
     "height": 35
    },
    "executionInfo": {
     "elapsed": 10,
     "status": "ok",
     "timestamp": 1680175029030,
     "user": {
      "displayName": "Hrutik Nawade",
      "userId": "03506609053451396862"
     },
     "user_tz": -330
    },
    "id": "x3zU5TecOiru",
    "outputId": "fa2fc08e-881e-4e98-f866-820ef05766ad"
   },
   "outputs": [
    {
     "data": {
      "text/plain": [
       "'123'"
      ]
     },
     "execution_count": 81,
     "metadata": {},
     "output_type": "execute_result"
    }
   ],
   "source": [
    "''.join(['1', '2', '3'])"
   ]
  },
  {
   "cell_type": "markdown",
   "metadata": {
    "id": "S8as_AWWOX4B"
   },
   "source": [
    "### Formating strings"
   ]
  },
  {
   "cell_type": "markdown",
   "metadata": {
    "id": "VxxjSS5cREtL"
   },
   "source": [
    "#### format( )"
   ]
  },
  {
   "cell_type": "code",
   "execution_count": 82,
   "metadata": {
    "colab": {
     "base_uri": "https://localhost:8080/",
     "height": 36
    },
    "executionInfo": {
     "elapsed": 483,
     "status": "ok",
     "timestamp": 1685090780900,
     "user": {
      "displayName": "Hrutik Nawade",
      "userId": "03506609053451396862"
     },
     "user_tz": -330
    },
    "id": "am0vCfKSREpn",
    "outputId": "2c99c147-82fc-4ac0-aa38-08857cd52662"
   },
   "outputs": [
    {
     "data": {
      "text/plain": [
       "'3.14159'"
      ]
     },
     "execution_count": 82,
     "metadata": {},
     "output_type": "execute_result"
    }
   ],
   "source": [
    "pi = 3.14159\n",
    "char = ('a', 'b' , 'c', 'd')\n",
    "str(pi)"
   ]
  },
  {
   "cell_type": "code",
   "execution_count": 83,
   "metadata": {
    "colab": {
     "base_uri": "https://localhost:8080/",
     "height": 36
    },
    "executionInfo": {
     "elapsed": 5,
     "status": "ok",
     "timestamp": 1685090756428,
     "user": {
      "displayName": "Hrutik Nawade",
      "userId": "03506609053451396862"
     },
     "user_tz": -330
    },
    "id": "Lr99yx6MREly",
    "outputId": "a8c58ff7-6716-45d9-aebe-034e8867fe55"
   },
   "outputs": [
    {
     "data": {
      "text/plain": [
       "'The value of pi is 3.14159'"
      ]
     },
     "execution_count": 83,
     "metadata": {},
     "output_type": "execute_result"
    }
   ],
   "source": [
    "\"The value of pi is \" + str(pi)"
   ]
  },
  {
   "cell_type": "code",
   "execution_count": 84,
   "metadata": {
    "colab": {
     "base_uri": "https://localhost:8080/",
     "height": 36
    },
    "executionInfo": {
     "elapsed": 10,
     "status": "ok",
     "timestamp": 1685090757444,
     "user": {
      "displayName": "Hrutik Nawade",
      "userId": "03506609053451396862"
     },
     "user_tz": -330
    },
    "id": "bhR3TH1YREii",
    "outputId": "6f6514ed-312f-473f-c5e7-6ca8381a1fd9"
   },
   "outputs": [
    {
     "data": {
      "text/plain": [
       "'The value of pi is 3.14159'"
      ]
     },
     "execution_count": 84,
     "metadata": {},
     "output_type": "execute_result"
    }
   ],
   "source": [
    "\"The value of pi is {}\".format(pi)"
   ]
  },
  {
   "cell_type": "code",
   "execution_count": 87,
   "metadata": {
    "colab": {
     "base_uri": "https://localhost:8080/",
     "height": 36
    },
    "executionInfo": {
     "elapsed": 6,
     "status": "ok",
     "timestamp": 1685092235011,
     "user": {
      "displayName": "Hrutik Nawade",
      "userId": "03506609053451396862"
     },
     "user_tz": -330
    },
    "id": "Fy3bC0PbOqnT",
    "outputId": "8ba5e77d-3257-4f15-eb14-959ad30980f3"
   },
   "outputs": [
    {
     "data": {
      "text/plain": [
       "\"The value ('a', 'b', 'c', 'd') of pi is\""
      ]
     },
     "execution_count": 87,
     "metadata": {},
     "output_type": "execute_result"
    }
   ],
   "source": [
    "\"The value {} of pi is\".format(char)"
   ]
  },
  {
   "cell_type": "code",
   "execution_count": 88,
   "metadata": {
    "colab": {
     "base_uri": "https://localhost:8080/",
     "height": 165
    },
    "executionInfo": {
     "elapsed": 1111,
     "status": "error",
     "timestamp": 1685092260253,
     "user": {
      "displayName": "Hrutik Nawade",
      "userId": "03506609053451396862"
     },
     "user_tz": -330
    },
    "id": "uM8D6ZYVUzl4",
    "outputId": "2ef69e75-77a8-4ee5-c2d8-aff7a296a273"
   },
   "outputs": [
    {
     "ename": "IndexError",
     "evalue": "Replacement index 1 out of range for positional args tuple",
     "output_type": "error",
     "traceback": [
      "\u001b[1;31m---------------------------------------------------------------------------\u001b[0m",
      "\u001b[1;31mIndexError\u001b[0m                                Traceback (most recent call last)",
      "Cell \u001b[1;32mIn[88], line 1\u001b[0m\n\u001b[1;32m----> 1\u001b[0m \u001b[38;5;124m\"\u001b[39m\u001b[38;5;124mThe value \u001b[39m\u001b[38;5;132;01m{}\u001b[39;00m\u001b[38;5;124m of pi is\u001b[39m\u001b[38;5;132;01m{}\u001b[39;00m\u001b[38;5;124m\"\u001b[39m\u001b[38;5;241m.\u001b[39mformat(char)\n",
      "\u001b[1;31mIndexError\u001b[0m: Replacement index 1 out of range for positional args tuple"
     ]
    }
   ],
   "source": [
    "\"The value {} of pi is{}\".format(char)"
   ]
  },
  {
   "cell_type": "code",
   "execution_count": 92,
   "metadata": {
    "colab": {
     "base_uri": "https://localhost:8080/",
     "height": 36
    },
    "executionInfo": {
     "elapsed": 7,
     "status": "ok",
     "timestamp": 1685092199437,
     "user": {
      "displayName": "Hrutik Nawade",
      "userId": "03506609053451396862"
     },
     "user_tz": -330
    },
    "id": "7kkKeYTtPP73",
    "outputId": "ae273cb8-ceaa-4cea-b850-eddb973f1cf6"
   },
   "outputs": [
    {
     "data": {
      "text/plain": [
       "'The value a of pi is b'"
      ]
     },
     "execution_count": 92,
     "metadata": {},
     "output_type": "execute_result"
    }
   ],
   "source": [
    "\"The value {} of pi is {}\".format(*char)  # we can use formatting in some advance ways"
   ]
  },
  {
   "cell_type": "code",
   "execution_count": 93,
   "metadata": {
    "colab": {
     "base_uri": "https://localhost:8080/",
     "height": 36
    },
    "executionInfo": {
     "elapsed": 12,
     "status": "ok",
     "timestamp": 1685092199952,
     "user": {
      "displayName": "Hrutik Nawade",
      "userId": "03506609053451396862"
     },
     "user_tz": -330
    },
    "id": "TYj-ye61PyjI",
    "outputId": "82400a89-24f7-4b18-b0c2-21f8f9eb7f49"
   },
   "outputs": [
    {
     "data": {
      "text/plain": [
       "'The value c of pi is d'"
      ]
     },
     "execution_count": 93,
     "metadata": {},
     "output_type": "execute_result"
    }
   ],
   "source": [
    "\"The value {2} of pi is {3}\".format(*char)"
   ]
  },
  {
   "cell_type": "code",
   "execution_count": 94,
   "metadata": {
    "colab": {
     "base_uri": "https://localhost:8080/",
     "height": 36
    },
    "executionInfo": {
     "elapsed": 7,
     "status": "ok",
     "timestamp": 1685092200970,
     "user": {
      "displayName": "Hrutik Nawade",
      "userId": "03506609053451396862"
     },
     "user_tz": -330
    },
    "id": "Pmk3oCa8REgL",
    "outputId": "7e78c1ae-ea63-45e8-c73d-8b4f7a19997c"
   },
   "outputs": [
    {
     "data": {
      "text/plain": [
       "'First letter: A. Last letter: Z.'"
      ]
     },
     "execution_count": 94,
     "metadata": {},
     "output_type": "execute_result"
    }
   ],
   "source": [
    "\"\"\"First letter: {0}. Last letter: {1}.\"\"\".format('A', 'Z')"
   ]
  },
  {
   "cell_type": "code",
   "execution_count": 95,
   "metadata": {
    "colab": {
     "base_uri": "https://localhost:8080/",
     "height": 35
    },
    "executionInfo": {
     "elapsed": 9,
     "status": "ok",
     "timestamp": 1680176424289,
     "user": {
      "displayName": "Hrutik Nawade",
      "userId": "03506609053451396862"
     },
     "user_tz": -330
    },
    "id": "SbJ4IZrGSrc7",
    "outputId": "39bed365-59a0-4c84-9dbc-4703900e73a2"
   },
   "outputs": [
    {
     "data": {
      "text/plain": [
       "'First letter: A. Last letter: Z.'"
      ]
     },
     "execution_count": 95,
     "metadata": {},
     "output_type": "execute_result"
    }
   ],
   "source": [
    "\"\"\"First letter: {first}. Last letter: {last}.\"\"\".format(last='Z', first='A')"
   ]
  }
 ],
 "metadata": {
  "colab": {
   "authorship_tag": "ABX9TyNo76KRYUhxRJeqP2I8KJXH",
   "provenance": []
  },
  "kernelspec": {
   "display_name": "Python 3 (ipykernel)",
   "language": "python",
   "name": "python3"
  },
  "language_info": {
   "codemirror_mode": {
    "name": "ipython",
    "version": 3
   },
   "file_extension": ".py",
   "mimetype": "text/x-python",
   "name": "python",
   "nbconvert_exporter": "python",
   "pygments_lexer": "ipython3",
   "version": "3.11.7"
  }
 },
 "nbformat": 4,
 "nbformat_minor": 4
}
